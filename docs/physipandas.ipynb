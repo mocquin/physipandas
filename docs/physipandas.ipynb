{
 "cells": [
  {
   "cell_type": "code",
   "execution_count": 1,
   "metadata": {},
   "outputs": [],
   "source": [
    "import numpy as np\n",
    "import pandas as pd\n",
    "\n",
    "from physipy import m, s, DimensionError\n",
    "\n",
    "from physipandas import QuantityDtype, QuantityArray"
   ]
  },
  {
   "cell_type": "markdown",
   "metadata": {},
   "source": [
    "# Creation of series"
   ]
  },
  {
   "cell_type": "code",
   "execution_count": 2,
   "metadata": {},
   "outputs": [
    {
     "name": "stdout",
     "output_type": "stream",
     "text": [
      "CONSTRUCTING a\n",
      "ENTERING QARRAY with [0 1 2 3 4 5 6 7 8 9] m None False\n",
      "QARRAY : init with [0 1 2 3 4 5 6 7 8 9] m of type <class 'physipy.quantity.quantity.Quantity'>\n",
      "data is set to [0 1 2 3 4 5 6 7 8 9] m with len 10 10\n",
      "len values 10\n",
      "QDTYPE : new with 1 m of type <class 'physipy.quantity.quantity.Quantity'>\n",
      "returning  physipy[m] with .unit 1 m\n",
      "dtype is then set to  physipy[m]\n",
      "Length of QuantityArray 10\n",
      "Length of QuantityArray 10\n",
      "RangeIndex(start=0, stop=10, step=1) <class 'physipandas.extension.QuantityArray'> <class 'physipy.quantity.quantity.Quantity'> 10\n",
      "ENTERING QARRAY with [0 1 2 3 4 5 6 7 8 9] m None False\n",
      "QARRAY : init with [0 1 2 3 4 5 6 7 8 9] m of type <class 'physipy.quantity.quantity.Quantity'>\n",
      "data is set to [0 1 2 3 4 5 6 7 8 9] m with len 10 10\n",
      "len values 10\n",
      "QDTYPE : new with 1 m of type <class 'physipy.quantity.quantity.Quantity'>\n",
      "returning  physipy[m] with .unit 1 m\n",
      "dtype is then set to  physipy[m]\n",
      "QDTYPE : construct_from_string with physipy[m]\n",
      "QDTYPE : construct_from_string, actual unit found 1 m . Returning QuantityDtype(1 m)\n",
      "QDTYPE : new with 1 m of type <class 'physipy.quantity.quantity.Quantity'>\n",
      "returning  physipy[m] with .unit 1 m\n",
      "Length of QuantityArray 10\n",
      "in astype physipy[m]\n",
      "Length of QuantityArray 10\n",
      "RangeIndex(start=0, stop=10, step=1) <class 'physipandas.extension.QuantityArray'> <class 'physipy.quantity.quantity.Quantity'> 10\n",
      "ENTERING QARRAY with [0 1 2 3 4 5 6 7 8 9] m None False\n",
      "QARRAY : init with [0 1 2 3 4 5 6 7 8 9] m of type <class 'physipy.quantity.quantity.Quantity'>\n",
      "data is set to [0 1 2 3 4 5 6 7 8 9] m with len 10 10\n",
      "len values 10\n",
      "QDTYPE : new with 1 m of type <class 'physipy.quantity.quantity.Quantity'>\n",
      "returning  physipy[m] with .unit 1 m\n",
      "dtype is then set to  physipy[m]\n",
      "QDTYPE : new with 1 m of type <class 'physipy.quantity.quantity.Quantity'>\n",
      "returning  physipy[m] with .unit 1 m\n",
      "Length of QuantityArray 10\n",
      "in astype physipy[m]\n",
      "Length of QuantityArray 10\n",
      "RangeIndex(start=0, stop=10, step=1) <class 'physipandas.extension.QuantityArray'> <class 'physipy.quantity.quantity.Quantity'> 10\n",
      "\n",
      "CONSTRUCTING b\n",
      "QDTYPE : construct_from_string with physipy[m]\n",
      "QDTYPE : construct_from_string, actual unit found 1 m . Returning QuantityDtype(1 m)\n",
      "QDTYPE : new with 1 m of type <class 'physipy.quantity.quantity.Quantity'>\n",
      "returning  physipy[m] with .unit 1 m\n",
      "trying from sequence  [<Quantity : [0 1 2 3 4 5 6 7 8 9] m>] 10\n",
      "ENTERING QARRAY with [0 1 2 3 4 5 6 7 8 9] m physipy[m] False\n",
      "QARRAY : init with [0 1 2 3 4 5 6 7 8 9] m of type <class 'physipy.quantity.quantity.Quantity'>\n",
      "data is set to [0 1 2 3 4 5 6 7 8 9] m with len 10 10\n",
      "len values 10\n",
      "QDTYPE : new with 1 m of type <class 'physipy.quantity.quantity.Quantity'>\n",
      "returning  physipy[m] with .unit 1 m\n",
      "dtype is then set to  physipy[m]\n",
      "Length of QuantityArray 10\n",
      "Length of QuantityArray 10\n",
      "Length of QuantityArray 10\n",
      "RangeIndex(start=0, stop=1, step=1) <class 'physipandas.extension.QuantityArray'> <class 'physipy.quantity.quantity.Quantity'> 10\n",
      "\n",
      "physipy[m] physipy[m] True\n",
      "Length of QuantityArray 10\n",
      "[ True  True  True  True  True  True  True  True  True  True]\n",
      "True\n",
      "True\n",
      "10 1\n",
      "QDTYPE : new with 1 s of type <class 'physipy.quantity.quantity.Quantity'>\n",
      "returning  physipy[s] with .unit 1 s\n",
      "trying from sequence  [<Quantity : [0 1 2 3 4 5 6 7 8 9] m>] 10\n",
      "ENTERING QARRAY with [0 1 2 3 4 5 6 7 8 9] m physipy[s] False\n",
      "QARRAY : init with [0 1 2 3 4 5 6 7 8 9] m of type <class 'physipy.quantity.quantity.Quantity'>\n",
      "data is set to [0 1 2 3 4 5 6 7 8 9] m with len 10 10\n",
      "len values 10\n",
      "OK Dimension error : dimensions of operands are T and L, and are differents.\n",
      "QDTYPE : new with 1 m of type <class 'physipy.quantity.quantity.Quantity'>\n",
      "returning  physipy[m] with .unit 1 m\n",
      "OK object of type 'numpy.int64' has no len()\n",
      "QDTYPE : new with 1 of type <class 'int'>\n",
      "OK \n"
     ]
    }
   ],
   "source": [
    "print(\"CONSTRUCTING a\")\n",
    "a = pd.Series(QuantityArray(np.arange(10)*m))\n",
    "print(a.index, type(a.values), type(a.values[0]), len(a.values))\n",
    "\n",
    "a = pd.Series(QuantityArray(np.arange(10)*m), dtype=\"physipy[m]\")\n",
    "print(a.index, type(a.values), type(a.values[0]), len(a.values))\n",
    "\n",
    "a = pd.Series(QuantityArray(np.arange(10)*m), dtype=QuantityDtype(m))\n",
    "print(a.index, type(a.values), type(a.values[0]), len(a.values))\n",
    "\n",
    "\n",
    "print()\n",
    "print(\"CONSTRUCTING b\")\n",
    "b = pd.Series(np.arange(10)*m, \n",
    "              dtype=\"physipy[m]\")\n",
    "print(b.index, type(b.values), type(b.values[0]), len(b.values))\n",
    "\n",
    "#print()\n",
    "#print(\"CONSTRUCTING c\")\n",
    "#c = pd.Series(np.arange(10)*m, \n",
    "#              dtype=QuantityDtype(m))\n",
    "\n",
    "print()\n",
    "print(a.dtype, b.dtype, a.dtype == b.dtype)\n",
    "print(a.values == b.values)\n",
    "#print(a.values == c.values)\n",
    "print(type(a) == type(b))\n",
    "#print(type(a) == type(c))\n",
    "print(type(a.values) == type(b.values))\n",
    "#print(type(a.values) == type(c.values))\n",
    "print(len(a), len(b))\n",
    "#print(len(a), len(c))\n",
    "\n",
    "\n",
    "try:\n",
    "    d = pd.Series(np.arange(10)*m,\n",
    "              dtype=QuantityDtype(s))\n",
    "except Exception as e:\n",
    "    print('OK', str(e))\n",
    "    \n",
    "try:\n",
    "    f = pd.Series(np.arange(10), dtype=QuantityDtype(m))\n",
    "except Exception as e:\n",
    "    print('OK', str(e))\n",
    "    \n",
    "try:\n",
    "    f = pd.Series(np.arange(10)*m, dtype=QuantityDtype(1))\n",
    "except Exception as e:\n",
    "    print('OK', str(e))\n"
   ]
  },
  {
   "cell_type": "code",
   "execution_count": null,
   "metadata": {},
   "outputs": [],
   "source": []
  },
  {
   "cell_type": "markdown",
   "metadata": {},
   "source": [
    "## Creation of QArray"
   ]
  },
  {
   "cell_type": "code",
   "execution_count": 14,
   "metadata": {},
   "outputs": [
    {
     "name": "stdout",
     "output_type": "stream",
     "text": [
      "QARRAY : init with [0 1 2 3 4 5 6 7 8 9] m of type <class 'physipy.quantity.quantity.Quantity'>\n",
      "QARRAY : init quantified values  [0 1 2 3 4 5 6 7 8 9] m with len 10\n",
      "QDTYPE : new with 1 m of type <class 'physipy.quantity.quantity.Quantity'>\n",
      "returning  physipy[m] with .unit 1 m\n"
     ]
    },
    {
     "data": {
      "text/plain": [
       "<QuantityArray>\n",
       "[0 m, 1 m, 2 m, 3 m, 4 m, 5 m, 6 m, 7 m, 8 m, 9 m]\n",
       "Length: 10, dtype: physipy[m]"
      ]
     },
     "execution_count": 14,
     "metadata": {},
     "output_type": "execute_result"
    }
   ],
   "source": [
    "qarr = np.arange(10)*m\n",
    "\n",
    "pdqarr = QuantityArray(qarr)\n",
    "e = pd.Series(QuantityArray.from_1darray_quantity(np.arange(10)*m))"
   ]
  },
  {
   "cell_type": "markdown",
   "metadata": {},
   "source": [
    "# This works"
   ]
  },
  {
   "cell_type": "markdown",
   "metadata": {},
   "source": [
    "# Checking the QuantityArray constructions"
   ]
  },
  {
   "cell_type": "code",
   "execution_count": 14,
   "metadata": {},
   "outputs": [
    {
     "name": "stdout",
     "output_type": "stream",
     "text": [
      "QARRAY : init with [0 1 2 3 4 5 6 7 8 9] m of type <class 'physipy.quantity.quantity.Quantity'>\n",
      "QARRAY : init quantified values  [0 1 2 3 4 5 6 7 8 9] m with len 10\n",
      "QDTYPE : new with 1 m of type <class 'physipy.quantity.quantity.Quantity'>\n",
      "returning  physipy[m] with .unit 1 m\n",
      "QARRAY : init with [0 1 2 3 4 5 6 7 8 9] m of type <class 'physipy.quantity.quantity.Quantity'>\n",
      "QARRAY : init quantified values  [0 1 2 3 4 5 6 7 8 9] m with len 10\n",
      "QDTYPE : new with 1 m of type <class 'physipy.quantity.quantity.Quantity'>\n",
      "returning  physipy[m] with .unit 1 m\n",
      "QARRAY : init with [0 1 2 3 4 5 6 7 8 9] s of type <class 'physipy.quantity.quantity.Quantity'>\n",
      "QARRAY : init quantified values  [0 1 2 3 4 5 6 7 8 9] s with len 10\n",
      "QDTYPE : new with 1 s of type <class 'physipy.quantity.quantity.Quantity'>\n",
      "returning  physipy[s] with .unit 1 s\n",
      "0   0\n",
      "1   1\n",
      "2   2\n",
      "3   3\n",
      "4   4\n",
      "5   5\n",
      "6   6\n",
      "7   7\n",
      "8   8\n",
      "9   9\n",
      "dtype: physipy[m] 0   0\n",
      "1   1\n",
      "2   2\n",
      "3   3\n",
      "4   4\n",
      "5   5\n",
      "6   6\n",
      "7   7\n",
      "8   8\n",
      "9   9\n",
      "dtype: physipy[m] 0   0\n",
      "1   1\n",
      "2   2\n",
      "3   3\n",
      "4   4\n",
      "5   5\n",
      "6   6\n",
      "7   7\n",
      "8   8\n",
      "9   9\n",
      "dtype: physipy[s]\n",
      "10 10 10\n",
      "(10,) (10,) (10,)\n",
      "<class 'pandas.core.series.Series'>\n",
      "physipy[m]\n",
      "<class 'physipy.quantity.quantity.Quantity'>\n",
      "int64\n"
     ]
    }
   ],
   "source": [
    "import physipy\n",
    "from physipy import m, s, DimensionError\n",
    "\n",
    "import numpy as np\n",
    "import pandas as pd\n",
    "\n",
    "from physipandas import QuantityDtype, QuantityArray\n",
    "\n",
    "a = pd.Series(QuantityArray(np.arange(10)*m))\n",
    "b = pd.Series(QuantityArray(np.arange(10)*m))\n",
    "c = pd.Series(QuantityArray(np.arange(10)*s))\n",
    "\n",
    "print(a, b, c)\n",
    "\n",
    "print(len(a), len(b), len(c))\n",
    "print(a.shape, b.shape, c.shape)\n",
    "print(type(a))\n",
    "print(a.dtype)\n",
    "print(type(a[0]))\n",
    "print(a[0].dtype)"
   ]
  },
  {
   "cell_type": "code",
   "execution_count": 15,
   "metadata": {},
   "outputs": [
    {
     "name": "stdout",
     "output_type": "stream",
     "text": [
      "OK\n",
      "QARRAY : init with [ 1  2  3  4  5  6  7  8  9 10] m of type <class 'physipy.quantity.quantity.Quantity'>\n",
      "QARRAY : init quantified values  [ 1  2  3  4  5  6  7  8  9 10] m with len 10\n",
      "QDTYPE : new with 1 m of type <class 'physipy.quantity.quantity.Quantity'>\n",
      "returning  physipy[m] with .unit 1 m\n",
      "0    1\n",
      "1    2\n",
      "2    3\n",
      "3    4\n",
      "4    5\n",
      "5    6\n",
      "6    7\n",
      "7    8\n",
      "8    9\n",
      "9   10\n",
      "dtype: physipy[m]\n",
      "QARRAY : init with [ 0  2  4  6  8 10 12 14 16 18] m of type <class 'physipy.quantity.quantity.Quantity'>\n",
      "QARRAY : init quantified values  [ 0  2  4  6  8 10 12 14 16 18] m with len 10\n",
      "QDTYPE : new with 1 m of type <class 'physipy.quantity.quantity.Quantity'>\n",
      "returning  physipy[m] with .unit 1 m\n",
      "0    0\n",
      "1    2\n",
      "2    4\n",
      "3    6\n",
      "4    8\n",
      "5   10\n",
      "6   12\n",
      "7   14\n",
      "8   16\n",
      "9   18\n",
      "dtype: physipy[m]\n",
      "QARRAY : init with [ 0  2  4  6  8 10 12 14 16 18] m of type <class 'physipy.quantity.quantity.Quantity'>\n",
      "QARRAY : init quantified values  [ 0  2  4  6  8 10 12 14 16 18] m with len 10\n",
      "QDTYPE : new with 1 m of type <class 'physipy.quantity.quantity.Quantity'>\n",
      "returning  physipy[m] with .unit 1 m\n",
      "0    0\n",
      "1    2\n",
      "2    4\n",
      "3    6\n",
      "4    8\n",
      "5   10\n",
      "6   12\n",
      "7   14\n",
      "8   16\n",
      "9   18\n",
      "dtype: physipy[m]\n",
      "QARRAY : init with [ 0  2  4  6  8 10 12 14 16 18] m of type <class 'physipy.quantity.quantity.Quantity'>\n",
      "QARRAY : init quantified values  [ 0  2  4  6  8 10 12 14 16 18] m with len 10\n",
      "QDTYPE : new with 1 m of type <class 'physipy.quantity.quantity.Quantity'>\n",
      "returning  physipy[m] with .unit 1 m\n",
      "0    0\n",
      "1    2\n",
      "2    4\n",
      "3    6\n",
      "4    8\n",
      "5   10\n",
      "6   12\n",
      "7   14\n",
      "8   16\n",
      "9   18\n",
      "dtype: physipy[m]\n",
      "QARRAY : init with [ 0  2  4  6  8 10 12 14 16 18] m of type <class 'physipy.quantity.quantity.Quantity'>\n",
      "QARRAY : init quantified values  [ 0  2  4  6  8 10 12 14 16 18] m with len 10\n",
      "QDTYPE : new with 1 m of type <class 'physipy.quantity.quantity.Quantity'>\n",
      "returning  physipy[m] with .unit 1 m\n",
      "0    0\n",
      "1    2\n",
      "2    4\n",
      "3    6\n",
      "4    8\n",
      "5   10\n",
      "6   12\n",
      "7   14\n",
      "8   16\n",
      "9   18\n",
      "dtype: physipy[m]\n",
      "QARRAY : init with [ 0  1  4  9 16 25 36 49 64 81] m**2 of type <class 'physipy.quantity.quantity.Quantity'>\n",
      "QARRAY : init quantified values  [ 0  1  4  9 16 25 36 49 64 81] m**2 with len 10\n",
      "QDTYPE : new with 1 m**2 of type <class 'physipy.quantity.quantity.Quantity'>\n",
      "returning  physipy[m**2] with .unit 1 m**2\n",
      "0    0\n",
      "1    1\n",
      "2    4\n",
      "3    9\n",
      "4   16\n",
      "5   25\n",
      "6   36\n",
      "7   49\n",
      "8   64\n",
      "9   81\n",
      "dtype: physipy[m**2]\n",
      "0 m\n",
      "QARRAY : init with [0 1] m of type <class 'physipy.quantity.quantity.Quantity'>\n",
      "QARRAY : init quantified values  [0 1] m with len 2\n",
      "QDTYPE : new with 1 m of type <class 'physipy.quantity.quantity.Quantity'>\n",
      "returning  physipy[m] with .unit 1 m\n",
      "0   0\n",
      "1   1\n",
      "dtype: physipy[m]\n",
      "QARRAY : init with [0 1 2] m of type <class 'physipy.quantity.quantity.Quantity'>\n",
      "QARRAY : init quantified values  [0 1 2] m with len 3\n",
      "QDTYPE : new with 1 m of type <class 'physipy.quantity.quantity.Quantity'>\n",
      "returning  physipy[m] with .unit 1 m\n",
      "0   0\n",
      "1   1\n",
      "2   2\n",
      "dtype: physipy[m]\n"
     ]
    }
   ],
   "source": [
    "try:\n",
    "    a+1\n",
    "except DimensionError:\n",
    "    print(\"OK\")\n",
    "\n",
    "print(a+1*m)\n",
    "print(a+np.arange(10)*m)\n",
    "print(a+a)\n",
    "print(2*a)\n",
    "print(a*2)\n",
    "print(a**2)\n",
    "print(a[0])\n",
    "print(a[0:2])\n",
    "print(a.iloc[0:3])"
   ]
  },
  {
   "cell_type": "markdown",
   "metadata": {},
   "source": [
    "# Dataframes"
   ]
  },
  {
   "cell_type": "code",
   "execution_count": 16,
   "metadata": {},
   "outputs": [
    {
     "name": "stdout",
     "output_type": "stream",
     "text": [
      "QARRAY : init with [ 0  2  4  6  8 10 12 14 16 18] m of type <class 'physipy.quantity.quantity.Quantity'>\n",
      "QARRAY : init quantified values  [ 0  2  4  6  8 10 12 14 16 18] m with len 10\n",
      "QDTYPE : new with 1 m of type <class 'physipy.quantity.quantity.Quantity'>\n",
      "returning  physipy[m] with .unit 1 m\n",
      "into copy\n",
      "data is  [ 0  2  4  6  8 10 12 14 16 18] m\n",
      "dtype is physipy[m]\n",
      "QARRAY : init with [ 0  2  4  6  8 10 12 14 16 18] m of type <class 'physipy.quantity.quantity.Quantity'>\n",
      "QARRAY : init quantified values  [ 0  2  4  6  8 10 12 14 16 18] m with len 10\n",
      "QDTYPE : new with 1 m of type <class 'physipy.quantity.quantity.Quantity'>\n",
      "returning  physipy[m] with .unit 1 m\n",
      "QARRAY : init with [ 0  4  8 12 16 20 24 28 32 36] m of type <class 'physipy.quantity.quantity.Quantity'>\n",
      "QARRAY : init quantified values  [ 0  4  8 12 16 20 24 28 32 36] m with len 10\n",
      "QDTYPE : new with 1 m of type <class 'physipy.quantity.quantity.Quantity'>\n",
      "returning  physipy[m] with .unit 1 m\n",
      "into copy\n",
      "data is  [ 0  4  8 12 16 20 24 28 32 36] m\n",
      "dtype is physipy[m]\n",
      "QARRAY : init with [ 0  4  8 12 16 20 24 28 32 36] m of type <class 'physipy.quantity.quantity.Quantity'>\n",
      "QARRAY : init quantified values  [ 0  4  8 12 16 20 24 28 32 36] m with len 10\n",
      "QDTYPE : new with 1 m of type <class 'physipy.quantity.quantity.Quantity'>\n",
      "returning  physipy[m] with .unit 1 m\n",
      "QARRAY : init with [  0   4  16  36  64 100 144 196 256 324] m**2 of type <class 'physipy.quantity.quantity.Quantity'>\n",
      "QARRAY : init quantified values  [  0   4  16  36  64 100 144 196 256 324] m**2 with len 10\n",
      "QDTYPE : new with 1 m**2 of type <class 'physipy.quantity.quantity.Quantity'>\n",
      "returning  physipy[m**2] with .unit 1 m**2\n",
      "QARRAY : init with [ 0  1  4  9 16 25 36 49 64 81] s**2 of type <class 'physipy.quantity.quantity.Quantity'>\n",
      "QARRAY : init quantified values  [ 0  1  4  9 16 25 36 49 64 81] s**2 with len 10\n",
      "QDTYPE : new with 1 s**2 of type <class 'physipy.quantity.quantity.Quantity'>\n",
      "returning  physipy[s**2] with .unit 1 s**2\n",
      "QARRAY : init with [nan  4.  4.  4.  4.  4.  4.  4.  4.  4.] m**2/s**2 of type <class 'physipy.quantity.quantity.Quantity'>\n",
      "QARRAY : init quantified values  [nan  4.  4.  4.  4.  4.  4.  4.  4.  4.] m**2/s**2 with len 10\n",
      "QDTYPE : new with 1 m**2/s**2 of type <class 'physipy.quantity.quantity.Quantity'>\n",
      "returning  physipy[m**2/s**2] with .unit 1 m**2/s**2\n",
      "into copy\n",
      "data is  [nan  4.  4.  4.  4.  4.  4.  4.  4.  4.] m**2/s**2\n",
      "dtype is physipy[m**2/s**2]\n",
      "QARRAY : init with [nan  4.  4.  4.  4.  4.  4.  4.  4.  4.] m**2/s**2 of type <class 'physipy.quantity.quantity.Quantity'>\n",
      "QARRAY : init quantified values  [nan  4.  4.  4.  4.  4.  4.  4.  4.  4.] m**2/s**2 with len 10\n",
      "QDTYPE : new with 1 m**2/s**2 of type <class 'physipy.quantity.quantity.Quantity'>\n",
      "returning  physipy[m**2/s**2] with .unit 1 m**2/s**2\n"
     ]
    },
    {
     "name": "stderr",
     "output_type": "stream",
     "text": [
      "/Users/mocquin/MYLIB10/MODULES/physipy/physipy/quantity/quantity.py:189: RuntimeWarning: invalid value encountered in true_divide\n",
      "  return type(self)(self.value / y.value,\n"
     ]
    }
   ],
   "source": [
    "df = pd.DataFrame({\"a\":a, \"b\":b, \"c\":c})\n",
    "\n",
    "res = 2*df[\"a\"]\n",
    "df[\"d\"] = res\n",
    "\n",
    "df[\"e\"] = df[\"d\"]*2\n",
    "df[\"g\"] = df[\"e\"]*df[\"a\"]/df[\"c\"]**2"
   ]
  },
  {
   "cell_type": "code",
   "execution_count": 23,
   "metadata": {},
   "outputs": [
    {
     "name": "stdout",
     "output_type": "stream",
     "text": [
      "L**2/T**2\n"
     ]
    },
    {
     "data": {
      "text/latex": [
       "$1.0\\,Gy$"
      ],
      "text/plain": [
       "<Quantity : 1 m**2/s**2, symbol=m**2/s**2>"
      ]
     },
     "execution_count": 23,
     "metadata": {},
     "output_type": "execute_result"
    }
   ],
   "source": [
    "print(df[\"g\"].physipy.dimension)\n",
    "df[\"g\"].physipy._SI_unitary_quantity"
   ]
  },
  {
   "cell_type": "code",
   "execution_count": 19,
   "metadata": {},
   "outputs": [
    {
     "ename": "AttributeError",
     "evalue": "'PhysipySeriesAccessor' object has no attribute 'to_base_units'",
     "output_type": "error",
     "traceback": [
      "\u001b[0;31m---------------------------------------------------------------------------\u001b[0m",
      "\u001b[0;31mAttributeError\u001b[0m                            Traceback (most recent call last)",
      "\u001b[0;32m<ipython-input-19-dc47dcac0b63>\u001b[0m in \u001b[0;36m<module>\u001b[0;34m\u001b[0m\n\u001b[0;32m----> 1\u001b[0;31m \u001b[0mdf\u001b[0m\u001b[0;34m.\u001b[0m\u001b[0mphysipy\u001b[0m\u001b[0;34m.\u001b[0m\u001b[0mto_base_units\u001b[0m\u001b[0;34m(\u001b[0m\u001b[0;34m)\u001b[0m\u001b[0;34m\u001b[0m\u001b[0;34m\u001b[0m\u001b[0m\n\u001b[0m",
      "\u001b[0;32m~/Documents/CLE/Optique/Python/JUPYTER/MYLIB10/MODULES/physipandas/physipandas.py\u001b[0m in \u001b[0;36mto_base_units\u001b[0;34m(self)\u001b[0m\n\u001b[1;32m    542\u001b[0m         \u001b[0;31m# name = object.__getattribute__(obj, '_name')\u001b[0m\u001b[0;34m\u001b[0m\u001b[0;34m\u001b[0m\u001b[0;34m\u001b[0m\u001b[0m\n\u001b[1;32m    543\u001b[0m         return DataFrame(\n\u001b[0;32m--> 544\u001b[0;31m             \u001b[0;34m{\u001b[0m\u001b[0mcol\u001b[0m\u001b[0;34m:\u001b[0m \u001b[0mdf\u001b[0m\u001b[0;34m[\u001b[0m\u001b[0mcol\u001b[0m\u001b[0;34m]\u001b[0m\u001b[0;34m.\u001b[0m\u001b[0mphysipy\u001b[0m\u001b[0;34m.\u001b[0m\u001b[0mto_base_units\u001b[0m\u001b[0;34m(\u001b[0m\u001b[0;34m)\u001b[0m \u001b[0;32mfor\u001b[0m \u001b[0mcol\u001b[0m \u001b[0;32min\u001b[0m \u001b[0mdf\u001b[0m\u001b[0;34m.\u001b[0m\u001b[0mcolumns\u001b[0m\u001b[0;34m}\u001b[0m\u001b[0;34m,\u001b[0m \u001b[0mindex\u001b[0m\u001b[0;34m=\u001b[0m\u001b[0mindex\u001b[0m\u001b[0;34m\u001b[0m\u001b[0;34m\u001b[0m\u001b[0m\n\u001b[0m\u001b[1;32m    545\u001b[0m         )\n\u001b[1;32m    546\u001b[0m \u001b[0;34m\u001b[0m\u001b[0m\n",
      "\u001b[0;32m~/Documents/CLE/Optique/Python/JUPYTER/MYLIB10/MODULES/physipandas/physipandas.py\u001b[0m in \u001b[0;36m<dictcomp>\u001b[0;34m(.0)\u001b[0m\n\u001b[1;32m    542\u001b[0m         \u001b[0;31m# name = object.__getattribute__(obj, '_name')\u001b[0m\u001b[0;34m\u001b[0m\u001b[0;34m\u001b[0m\u001b[0;34m\u001b[0m\u001b[0m\n\u001b[1;32m    543\u001b[0m         return DataFrame(\n\u001b[0;32m--> 544\u001b[0;31m             \u001b[0;34m{\u001b[0m\u001b[0mcol\u001b[0m\u001b[0;34m:\u001b[0m \u001b[0mdf\u001b[0m\u001b[0;34m[\u001b[0m\u001b[0mcol\u001b[0m\u001b[0;34m]\u001b[0m\u001b[0;34m.\u001b[0m\u001b[0mphysipy\u001b[0m\u001b[0;34m.\u001b[0m\u001b[0mto_base_units\u001b[0m\u001b[0;34m(\u001b[0m\u001b[0;34m)\u001b[0m \u001b[0;32mfor\u001b[0m \u001b[0mcol\u001b[0m \u001b[0;32min\u001b[0m \u001b[0mdf\u001b[0m\u001b[0;34m.\u001b[0m\u001b[0mcolumns\u001b[0m\u001b[0;34m}\u001b[0m\u001b[0;34m,\u001b[0m \u001b[0mindex\u001b[0m\u001b[0;34m=\u001b[0m\u001b[0mindex\u001b[0m\u001b[0;34m\u001b[0m\u001b[0;34m\u001b[0m\u001b[0m\n\u001b[0m\u001b[1;32m    545\u001b[0m         )\n\u001b[1;32m    546\u001b[0m \u001b[0;34m\u001b[0m\u001b[0m\n",
      "\u001b[0;31mAttributeError\u001b[0m: 'PhysipySeriesAccessor' object has no attribute 'to_base_units'"
     ]
    }
   ],
   "source": [
    "df.physipy.to_base_units()"
   ]
  },
  {
   "cell_type": "code",
   "execution_count": null,
   "metadata": {},
   "outputs": [],
   "source": []
  },
  {
   "cell_type": "code",
   "execution_count": null,
   "metadata": {},
   "outputs": [],
   "source": []
  },
  {
   "cell_type": "markdown",
   "metadata": {},
   "source": [
    "# This works : should fail and does"
   ]
  },
  {
   "cell_type": "code",
   "execution_count": 9,
   "metadata": {},
   "outputs": [
    {
     "name": "stdout",
     "output_type": "stream",
     "text": [
      "New dtype with :1 s\n",
      "unit is 1 s <class 'physipy.quantity.quantity.Quantity'>\n",
      "Constructing QuantityArray with  [<Quantity : [0 1 2 3 4 5 6 7 8 9] m>] dtype= physipy[s]\n",
      "New dtype with :1 \n",
      "unit is 1 <class 'physipy.quantity.quantity.Quantity'>\n",
      "--\n",
      "in getitiem\n",
      "<class 'physipy.quantity.quantity.Quantity'>\n",
      "in getitiem\n",
      "[0 1 2 3 4 5 6 7 8 9]\n"
     ]
    }
   ],
   "source": [
    "try:\n",
    "    a=pd.Series(np.arange(10)*m,\n",
    "            dtype=QuantityDtype(s))\n",
    "    print(\"--\")\n",
    "    print(type(a[0]))\n",
    "    print((a[0]))\n",
    "except DimensionError as e:\n",
    "    print(e)\n",
    "    print(\"OK : trying to set second to m\")"
   ]
  },
  {
   "cell_type": "markdown",
   "metadata": {},
   "source": [
    "# This fails : should be 0 m"
   ]
  },
  {
   "cell_type": "code",
   "execution_count": 10,
   "metadata": {},
   "outputs": [
    {
     "name": "stdout",
     "output_type": "stream",
     "text": [
      "New dtype with :None\n",
      "unit is 1 <class 'physipy.quantity.quantity.Quantity'>\n",
      "Constructing QuantityArray with  [<Quantity : [0 1 2 3 4 5 6 7 8 9] m>] dtype= physipy[]\n",
      "New dtype with :1 \n",
      "unit is 1 <class 'physipy.quantity.quantity.Quantity'>\n",
      "in getitiem\n",
      "[0 1 2 3 4 5 6 7 8 9]\n"
     ]
    }
   ],
   "source": [
    "a = pd.Series(np.arange(10)*m,\n",
    "            dtype=QuantityDtype())\n",
    "print(a[0])"
   ]
  },
  {
   "cell_type": "markdown",
   "metadata": {},
   "source": [
    "# Should this work ?"
   ]
  },
  {
   "cell_type": "code",
   "execution_count": 11,
   "metadata": {},
   "outputs": [
    {
     "name": "stdout",
     "output_type": "stream",
     "text": [
      "New dtype with :1 s\n",
      "unit is 1 s <class 'physipy.quantity.quantity.Quantity'>\n",
      "Constructing QuantityArray with  [0 1 2 3 4 5 6 7 8 9] dtype= physipy[s]\n",
      "New dtype with :1 \n",
      "unit is 1 <class 'physipy.quantity.quantity.Quantity'>\n",
      "in getitiem\n",
      "<class 'physipy.quantity.quantity.Quantity'>\n",
      "in getitiem\n",
      "0\n",
      "no-dimension\n"
     ]
    }
   ],
   "source": [
    "a=pd.Series(np.arange(10), \n",
    "            dtype=QuantityDtype(s))\n",
    "print(type(a[0]))\n",
    "print(a[0])\n",
    "print(a.values.dimension)"
   ]
  },
  {
   "cell_type": "code",
   "execution_count": 12,
   "metadata": {},
   "outputs": [
    {
     "name": "stdout",
     "output_type": "stream",
     "text": [
      "<class 'physipy.quantity.quantity.Quantity'>\n",
      "[0 1 2 3 4 5 6 7 8 9] m\n",
      "0    [0 m, 1 m, 2 m, 3 m, 4 m, 5 m, 6 m, 7 m, 8 m, ...\n",
      "dtype: object\n"
     ]
    }
   ],
   "source": [
    "a=pd.Series(np.arange(10)*m)\n",
    "print(type(a[0]))\n",
    "print((a[0]))\n",
    "print(a)"
   ]
  },
  {
   "cell_type": "code",
   "execution_count": null,
   "metadata": {},
   "outputs": [],
   "source": []
  },
  {
   "cell_type": "code",
   "execution_count": null,
   "metadata": {},
   "outputs": [],
   "source": []
  },
  {
   "cell_type": "code",
   "execution_count": null,
   "metadata": {},
   "outputs": [],
   "source": []
  },
  {
   "cell_type": "code",
   "execution_count": 13,
   "metadata": {},
   "outputs": [
    {
     "data": {
      "text/plain": [
       "0    a\n",
       "1    b\n",
       "2    c\n",
       "3    a\n",
       "dtype: category\n",
       "Categories (3, object): ['a', 'b', 'c']"
      ]
     },
     "execution_count": 13,
     "metadata": {},
     "output_type": "execute_result"
    }
   ],
   "source": [
    "s = pd.Series([\"a\", \"b\", \"c\", \"a\"], dtype=\"category\")\n",
    "s"
   ]
  },
  {
   "cell_type": "code",
   "execution_count": 16,
   "metadata": {},
   "outputs": [
    {
     "data": {
      "text/plain": [
       "0    a\n",
       "1    b\n",
       "2    c\n",
       "3    a\n",
       "dtype: object"
      ]
     },
     "execution_count": 16,
     "metadata": {},
     "output_type": "execute_result"
    }
   ],
   "source": [
    "pd.Series([\"a\", \"b\", \"c\", \"a\"])"
   ]
  },
  {
   "cell_type": "code",
   "execution_count": null,
   "metadata": {},
   "outputs": [],
   "source": []
  },
  {
   "cell_type": "code",
   "execution_count": 11,
   "metadata": {},
   "outputs": [
    {
     "data": {
      "text/plain": [
       "\u001b[0;31mSignature:\u001b[0m \u001b[0mregister_extension_dtype\u001b[0m\u001b[0;34m(\u001b[0m\u001b[0mcls\u001b[0m\u001b[0;34m:\u001b[0m \u001b[0mType\u001b[0m\u001b[0;34m[\u001b[0m\u001b[0mpandas\u001b[0m\u001b[0;34m.\u001b[0m\u001b[0mcore\u001b[0m\u001b[0;34m.\u001b[0m\u001b[0mdtypes\u001b[0m\u001b[0;34m.\u001b[0m\u001b[0mbase\u001b[0m\u001b[0;34m.\u001b[0m\u001b[0mExtensionDtype\u001b[0m\u001b[0;34m]\u001b[0m\u001b[0;34m)\u001b[0m \u001b[0;34m->\u001b[0m \u001b[0mType\u001b[0m\u001b[0;34m[\u001b[0m\u001b[0mpandas\u001b[0m\u001b[0;34m.\u001b[0m\u001b[0mcore\u001b[0m\u001b[0;34m.\u001b[0m\u001b[0mdtypes\u001b[0m\u001b[0;34m.\u001b[0m\u001b[0mbase\u001b[0m\u001b[0;34m.\u001b[0m\u001b[0mExtensionDtype\u001b[0m\u001b[0;34m]\u001b[0m\u001b[0;34m\u001b[0m\u001b[0;34m\u001b[0m\u001b[0m\n",
       "\u001b[0;31mDocstring:\u001b[0m\n",
       "Register an ExtensionType with pandas as class decorator.\n",
       "\n",
       ".. versionadded:: 0.24.0\n",
       "\n",
       "This enables operations like ``.astype(name)`` for the name\n",
       "of the ExtensionDtype.\n",
       "\n",
       "Returns\n",
       "-------\n",
       "callable\n",
       "    A class decorator.\n",
       "\n",
       "Examples\n",
       "--------\n",
       ">>> from pandas.api.extensions import register_extension_dtype\n",
       ">>> from pandas.api.extensions import ExtensionDtype\n",
       ">>> @register_extension_dtype\n",
       "... class MyExtensionDtype(ExtensionDtype):\n",
       "...     name = \"myextension\"\n",
       "\u001b[0;31mFile:\u001b[0m      /opt/anaconda3/lib/python3.8/site-packages/pandas/core/dtypes/base.py\n",
       "\u001b[0;31mType:\u001b[0m      function\n"
      ]
     },
     "metadata": {},
     "output_type": "display_data"
    }
   ],
   "source": [
    "from pandas.api.extensions import register_extension_dtype\n",
    "\n",
    "register_extension_dtype?"
   ]
  },
  {
   "cell_type": "code",
   "execution_count": null,
   "metadata": {},
   "outputs": [],
   "source": []
  }
 ],
 "metadata": {
  "kernelspec": {
   "display_name": "Python 3",
   "language": "python",
   "name": "python3"
  },
  "language_info": {
   "codemirror_mode": {
    "name": "ipython",
    "version": 3
   },
   "file_extension": ".py",
   "mimetype": "text/x-python",
   "name": "python",
   "nbconvert_exporter": "python",
   "pygments_lexer": "ipython3",
   "version": "3.8.5"
  }
 },
 "nbformat": 4,
 "nbformat_minor": 4
}
