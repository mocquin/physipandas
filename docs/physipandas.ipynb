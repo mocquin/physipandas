{
 "cells": [
  {
   "cell_type": "code",
   "execution_count": 30,
   "metadata": {},
   "outputs": [
    {
     "data": {
      "text/html": [
       "<div>\n",
       "<style scoped>\n",
       "    .dataframe tbody tr th:only-of-type {\n",
       "        vertical-align: middle;\n",
       "    }\n",
       "\n",
       "    .dataframe tbody tr th {\n",
       "        vertical-align: top;\n",
       "    }\n",
       "\n",
       "    .dataframe thead th {\n",
       "        text-align: right;\n",
       "    }\n",
       "</style>\n",
       "<table border=\"1\" class=\"dataframe\">\n",
       "  <thead>\n",
       "    <tr style=\"text-align: right;\">\n",
       "      <th></th>\n",
       "      <th>A</th>\n",
       "    </tr>\n",
       "  </thead>\n",
       "  <tbody>\n",
       "    <tr>\n",
       "      <th>0</th>\n",
       "      <td>260.000000</td>\n",
       "    </tr>\n",
       "    <tr>\n",
       "      <th>1</th>\n",
       "      <td>262.857143</td>\n",
       "    </tr>\n",
       "    <tr>\n",
       "      <th>2</th>\n",
       "      <td>265.714286</td>\n",
       "    </tr>\n",
       "    <tr>\n",
       "      <th>3</th>\n",
       "      <td>268.571429</td>\n",
       "    </tr>\n",
       "    <tr>\n",
       "      <th>4</th>\n",
       "      <td>271.428571</td>\n",
       "    </tr>\n",
       "    <tr>\n",
       "      <th>5</th>\n",
       "      <td>274.285714</td>\n",
       "    </tr>\n",
       "    <tr>\n",
       "      <th>6</th>\n",
       "      <td>277.142857</td>\n",
       "    </tr>\n",
       "    <tr>\n",
       "      <th>7</th>\n",
       "      <td>280.000000</td>\n",
       "    </tr>\n",
       "    <tr>\n",
       "      <th>8</th>\n",
       "      <td>282.857143</td>\n",
       "    </tr>\n",
       "    <tr>\n",
       "      <th>9</th>\n",
       "      <td>285.714286</td>\n",
       "    </tr>\n",
       "    <tr>\n",
       "      <th>10</th>\n",
       "      <td>288.571429</td>\n",
       "    </tr>\n",
       "    <tr>\n",
       "      <th>11</th>\n",
       "      <td>291.428571</td>\n",
       "    </tr>\n",
       "    <tr>\n",
       "      <th>12</th>\n",
       "      <td>294.285714</td>\n",
       "    </tr>\n",
       "    <tr>\n",
       "      <th>13</th>\n",
       "      <td>297.142857</td>\n",
       "    </tr>\n",
       "    <tr>\n",
       "      <th>14</th>\n",
       "      <td>300.000000</td>\n",
       "    </tr>\n",
       "    <tr>\n",
       "      <th>15</th>\n",
       "      <td>302.857143</td>\n",
       "    </tr>\n",
       "    <tr>\n",
       "      <th>16</th>\n",
       "      <td>305.714286</td>\n",
       "    </tr>\n",
       "    <tr>\n",
       "      <th>17</th>\n",
       "      <td>308.571429</td>\n",
       "    </tr>\n",
       "    <tr>\n",
       "      <th>18</th>\n",
       "      <td>311.428571</td>\n",
       "    </tr>\n",
       "    <tr>\n",
       "      <th>19</th>\n",
       "      <td>314.285714</td>\n",
       "    </tr>\n",
       "    <tr>\n",
       "      <th>20</th>\n",
       "      <td>317.142857</td>\n",
       "    </tr>\n",
       "    <tr>\n",
       "      <th>21</th>\n",
       "      <td>320.000000</td>\n",
       "    </tr>\n",
       "    <tr>\n",
       "      <th>22</th>\n",
       "      <td>322.857143</td>\n",
       "    </tr>\n",
       "    <tr>\n",
       "      <th>23</th>\n",
       "      <td>325.714286</td>\n",
       "    </tr>\n",
       "    <tr>\n",
       "      <th>24</th>\n",
       "      <td>328.571429</td>\n",
       "    </tr>\n",
       "    <tr>\n",
       "      <th>25</th>\n",
       "      <td>331.428571</td>\n",
       "    </tr>\n",
       "    <tr>\n",
       "      <th>26</th>\n",
       "      <td>334.285714</td>\n",
       "    </tr>\n",
       "    <tr>\n",
       "      <th>27</th>\n",
       "      <td>337.142857</td>\n",
       "    </tr>\n",
       "    <tr>\n",
       "      <th>28</th>\n",
       "      <td>340.000000</td>\n",
       "    </tr>\n",
       "    <tr>\n",
       "      <th>29</th>\n",
       "      <td>342.857143</td>\n",
       "    </tr>\n",
       "    <tr>\n",
       "      <th>30</th>\n",
       "      <td>345.714286</td>\n",
       "    </tr>\n",
       "    <tr>\n",
       "      <th>31</th>\n",
       "      <td>348.571429</td>\n",
       "    </tr>\n",
       "    <tr>\n",
       "      <th>32</th>\n",
       "      <td>351.428571</td>\n",
       "    </tr>\n",
       "    <tr>\n",
       "      <th>33</th>\n",
       "      <td>354.285714</td>\n",
       "    </tr>\n",
       "    <tr>\n",
       "      <th>34</th>\n",
       "      <td>357.142857</td>\n",
       "    </tr>\n",
       "    <tr>\n",
       "      <th>35</th>\n",
       "      <td>360.000000</td>\n",
       "    </tr>\n",
       "    <tr>\n",
       "      <th>36</th>\n",
       "      <td>362.857143</td>\n",
       "    </tr>\n",
       "    <tr>\n",
       "      <th>37</th>\n",
       "      <td>365.714286</td>\n",
       "    </tr>\n",
       "    <tr>\n",
       "      <th>38</th>\n",
       "      <td>368.571429</td>\n",
       "    </tr>\n",
       "    <tr>\n",
       "      <th>39</th>\n",
       "      <td>371.428571</td>\n",
       "    </tr>\n",
       "    <tr>\n",
       "      <th>40</th>\n",
       "      <td>374.285714</td>\n",
       "    </tr>\n",
       "    <tr>\n",
       "      <th>41</th>\n",
       "      <td>377.142857</td>\n",
       "    </tr>\n",
       "    <tr>\n",
       "      <th>42</th>\n",
       "      <td>380.000000</td>\n",
       "    </tr>\n",
       "    <tr>\n",
       "      <th>43</th>\n",
       "      <td>382.857143</td>\n",
       "    </tr>\n",
       "    <tr>\n",
       "      <th>44</th>\n",
       "      <td>385.714286</td>\n",
       "    </tr>\n",
       "    <tr>\n",
       "      <th>45</th>\n",
       "      <td>388.571429</td>\n",
       "    </tr>\n",
       "    <tr>\n",
       "      <th>46</th>\n",
       "      <td>391.428571</td>\n",
       "    </tr>\n",
       "    <tr>\n",
       "      <th>47</th>\n",
       "      <td>394.285714</td>\n",
       "    </tr>\n",
       "    <tr>\n",
       "      <th>48</th>\n",
       "      <td>397.142857</td>\n",
       "    </tr>\n",
       "    <tr>\n",
       "      <th>49</th>\n",
       "      <td>400.000000</td>\n",
       "    </tr>\n",
       "  </tbody>\n",
       "</table>\n",
       "</div>"
      ],
      "text/plain": [
       "             A\n",
       "0   260.000000\n",
       "1   262.857143\n",
       "2   265.714286\n",
       "3   268.571429\n",
       "4   271.428571\n",
       "5   274.285714\n",
       "6   277.142857\n",
       "7   280.000000\n",
       "8   282.857143\n",
       "9   285.714286\n",
       "10  288.571429\n",
       "11  291.428571\n",
       "12  294.285714\n",
       "13  297.142857\n",
       "14  300.000000\n",
       "15  302.857143\n",
       "16  305.714286\n",
       "17  308.571429\n",
       "18  311.428571\n",
       "19  314.285714\n",
       "20  317.142857\n",
       "21  320.000000\n",
       "22  322.857143\n",
       "23  325.714286\n",
       "24  328.571429\n",
       "25  331.428571\n",
       "26  334.285714\n",
       "27  337.142857\n",
       "28  340.000000\n",
       "29  342.857143\n",
       "30  345.714286\n",
       "31  348.571429\n",
       "32  351.428571\n",
       "33  354.285714\n",
       "34  357.142857\n",
       "35  360.000000\n",
       "36  362.857143\n",
       "37  365.714286\n",
       "38  368.571429\n",
       "39  371.428571\n",
       "40  374.285714\n",
       "41  377.142857\n",
       "42  380.000000\n",
       "43  382.857143\n",
       "44  385.714286\n",
       "45  388.571429\n",
       "46  391.428571\n",
       "47  394.285714\n",
       "48  397.142857\n",
       "49  400.000000"
      ]
     },
     "execution_count": 30,
     "metadata": {},
     "output_type": "execute_result"
    }
   ],
   "source": [
    "import numpy as np\n",
    "import pandas as pd\n",
    "\n",
    "from physipy import m, s, DimensionError, K\n",
    "\n",
    "from physipandas import QuantityDtype, QuantityArray\n",
    "\n",
    "arr = np.linspace(260, 400)\n",
    "\n",
    "df = pd.DataFrame({\n",
    "    \"A\":arr,\n",
    "})\n",
    "\n",
    "# https://github.com/pandas-dev/pandas/blob/196b28a899b2469fef34dc4ee61342053c7b6916/pandas/core/internals/construction.py#L586\n",
    "\n",
    "#df = pd.DataFrame({\n",
    "#    \"TCN\":arr*K\n",
    "#})\n",
    "df"
   ]
  },
  {
   "cell_type": "code",
   "execution_count": 22,
   "metadata": {},
   "outputs": [],
   "source": [
    "\n",
    "from pandas.core.dtypes.generic import (\n",
    "    ABCDataFrame,\n",
    "    ABCSeries,\n",
    ")\n",
    "from pandas.core.dtypes.common import (\n",
    "#    is_1d_only_ea_dtype,\n",
    "    is_datetime64tz_dtype,\n",
    "    is_datetime_or_timedelta_dtype,\n",
    "    is_dtype_equal,\n",
    "    is_extension_array_dtype,\n",
    "    is_integer_dtype,\n",
    "    is_list_like,\n",
    "    is_named_tuple,\n",
    "    is_object_dtype,\n",
    ")\n",
    "def _extract_index(data):\n",
    "    \"\"\"\n",
    "    Try to infer an Index from the passed data, raise ValueError on failure.\n",
    "    \"\"\"\n",
    "    index = None\n",
    "    print(\"len(data)\", len(data))\n",
    "    if len(data) == 0:\n",
    "        index = Index([])\n",
    "    elif len(data) > 0:\n",
    "        raw_lengths = []\n",
    "        indexes: list[list[Hashable] | Index] = []\n",
    "\n",
    "        have_raw_arrays = False\n",
    "        have_series = False\n",
    "        have_dicts = False\n",
    "\n",
    "        for val in data:\n",
    "            print(\"val:\", val)\n",
    "            if isinstance(val, ABCSeries):\n",
    "                print(\"val isinstance ABCSeries\")\n",
    "                have_series = True\n",
    "                indexes.append(val.index)\n",
    "            elif isinstance(val, dict):\n",
    "                print(\"val isinstance dict\")\n",
    "                have_dicts = True\n",
    "                indexes.append(list(val.keys()))\n",
    "            elif is_list_like(val) and getattr(val, \"ndim\", 1) == 1:\n",
    "                print(\"val islistlike\")\n",
    "                have_raw_arrays = True\n",
    "                raw_lengths.append(len(val))\n",
    "\n",
    "        if not indexes and not raw_lengths:\n",
    "            raise ValueError(\"If using all scalar values, you must pass an index\")\n",
    "\n",
    "        if have_series:\n",
    "            index = union_indexes(indexes)\n",
    "        elif have_dicts:\n",
    "            index = union_indexes(indexes, sort=False)\n",
    "\n",
    "        if have_raw_arrays:\n",
    "            lengths = list(set(raw_lengths))\n",
    "            if len(lengths) > 1:\n",
    "                raise ValueError(\"All arrays must be of the same length\")\n",
    "\n",
    "            if have_dicts:\n",
    "                raise ValueError(\n",
    "                    \"Mixing dicts with non-Series may lead to ambiguous ordering.\"\n",
    "                )\n",
    "\n",
    "            if have_series:\n",
    "                assert index is not None  # for mypy\n",
    "                if lengths[0] != len(index):\n",
    "                    msg = (\n",
    "                        f\"array length {lengths[0]} does not match index \"\n",
    "                        f\"length {len(index)}\"\n",
    "                    )\n",
    "                    raise ValueError(msg)\n",
    "            else:\n",
    "                index = ibase.default_index(lengths[0])\n",
    "\n",
    "    # error: Argument 1 to \"ensure_index\" has incompatible type \"Optional[Index]\";\n",
    "    # expected \"Union[Union[Union[ExtensionArray, ndarray], Index, Series],\n",
    "    # Sequence[Any]]\"\n",
    "    return ensure_index(index)  # type: ignore[arg-type]"
   ]
  },
  {
   "cell_type": "code",
   "execution_count": 28,
   "metadata": {},
   "outputs": [
    {
     "data": {
      "text/plain": [
       "\u001b[0;31mDocstring:\u001b[0m\n",
       "Check if the object is list-like.\n",
       "\n",
       "Objects that are considered list-like are for example Python\n",
       "lists, tuples, sets, NumPy arrays, and Pandas Series.\n",
       "\n",
       "Strings and datetime objects, however, are not considered list-like.\n",
       "\n",
       "Parameters\n",
       "----------\n",
       "obj : object\n",
       "    Object to check.\n",
       "allow_sets : bool, default True\n",
       "    If this parameter is False, sets will not be considered list-like.\n",
       "\n",
       "    .. versionadded:: 0.24.0\n",
       "\n",
       "Returns\n",
       "-------\n",
       "bool\n",
       "    Whether `obj` has list-like properties.\n",
       "\n",
       "Examples\n",
       "--------\n",
       ">>> is_list_like([1, 2, 3])\n",
       "True\n",
       ">>> is_list_like({1, 2, 3})\n",
       "True\n",
       ">>> is_list_like(datetime(2017, 1, 1))\n",
       "False\n",
       ">>> is_list_like(\"foo\")\n",
       "False\n",
       ">>> is_list_like(1)\n",
       "False\n",
       ">>> is_list_like(np.array([2]))\n",
       "True\n",
       ">>> is_list_like(np.array(2))\n",
       "False\n",
       "\u001b[0;31mType:\u001b[0m      builtin_function_or_method\n"
      ]
     },
     "metadata": {},
     "output_type": "display_data"
    }
   ],
   "source": [
    "pd.core.dtypes.common.is_list_like?"
   ]
  },
  {
   "cell_type": "markdown",
   "metadata": {},
   "source": [
    "# Creation of series"
   ]
  },
  {
   "cell_type": "code",
   "execution_count": 10,
   "metadata": {},
   "outputs": [
    {
     "name": "stdout",
     "output_type": "stream",
     "text": [
      "CONSTRUCTING a\n",
      "ENTERING QARRAY with [0 1 2 3 4 5 6 7 8 9] m None False\n",
      "QARRAY : init with [0 1 2 3 4 5 6 7 8 9] m of type <class 'physipy.quantity.quantity.Quantity'>\n",
      "data is set to [0 1 2 3 4 5 6 7 8 9] m with len 10 10 <class 'physipy.quantity.quantity.Quantity'>\n",
      "len values 10\n",
      "QDTYPE : new with 1 m of type <class 'physipy.quantity.quantity.Quantity'>\n",
      "returning  physipy[m] with .unit 1 m\n",
      "dtype is then set to  physipy[m]\n",
      "Length of QuantityArray 10\n",
      "Length of QuantityArray 10\n",
      "Length of QuantityArray 10\n",
      "RangeIndex(start=0, stop=10, step=1) <class 'physipandas.extension.QuantityArray'> (10,) <class 'physipy.quantity.quantity.Quantity'> 10\n",
      "ENTERING QARRAY with [0 1 2 3 4 5 6 7 8 9] m None False\n",
      "QARRAY : init with [0 1 2 3 4 5 6 7 8 9] m of type <class 'physipy.quantity.quantity.Quantity'>\n",
      "data is set to [0 1 2 3 4 5 6 7 8 9] m with len 10 10 <class 'physipy.quantity.quantity.Quantity'>\n",
      "len values 10\n",
      "QDTYPE : new with 1 m of type <class 'physipy.quantity.quantity.Quantity'>\n",
      "returning  physipy[m] with .unit 1 m\n",
      "dtype is then set to  physipy[m]\n",
      "QDTYPE : construct_from_string with physipy[m]\n",
      "QDTYPE : construct_from_string, actual unit found 1 m . Returning QuantityDtype(1 m)\n",
      "QDTYPE : new with 1 m of type <class 'physipy.quantity.quantity.Quantity'>\n",
      "returning  physipy[m] with .unit 1 m\n",
      "Length of QuantityArray 10\n",
      "in astype physipy[m]\n",
      "Length of QuantityArray 10\n",
      "Length of QuantityArray 10\n",
      "RangeIndex(start=0, stop=10, step=1) <class 'physipandas.extension.QuantityArray'> (10,) <class 'physipy.quantity.quantity.Quantity'> 10\n",
      "ENTERING QARRAY with [0 1 2 3 4 5 6 7 8 9] m None False\n",
      "QARRAY : init with [0 1 2 3 4 5 6 7 8 9] m of type <class 'physipy.quantity.quantity.Quantity'>\n",
      "data is set to [0 1 2 3 4 5 6 7 8 9] m with len 10 10 <class 'physipy.quantity.quantity.Quantity'>\n",
      "len values 10\n",
      "QDTYPE : new with 1 m of type <class 'physipy.quantity.quantity.Quantity'>\n",
      "returning  physipy[m] with .unit 1 m\n",
      "dtype is then set to  physipy[m]\n",
      "QDTYPE : new with 1 m of type <class 'physipy.quantity.quantity.Quantity'>\n",
      "returning  physipy[m] with .unit 1 m\n",
      "Length of QuantityArray 10\n",
      "in astype physipy[m]\n",
      "Length of QuantityArray 10\n",
      "Length of QuantityArray 10\n",
      "RangeIndex(start=0, stop=10, step=1) <class 'physipandas.extension.QuantityArray'> (10,) <class 'physipy.quantity.quantity.Quantity'> 10\n",
      "\n",
      "ENTERING QARRAY with [0 1 2 3 4 5 6 7 8 9] m None False\n",
      "QARRAY : init with [0 1 2 3 4 5 6 7 8 9] m of type <class 'physipy.quantity.quantity.Quantity'>\n",
      "data is set to [0 1 2 3 4 5 6 7 8 9] m with len 10 10 <class 'physipy.quantity.quantity.Quantity'>\n",
      "len values 10\n",
      "QDTYPE : new with 1 m of type <class 'physipy.quantity.quantity.Quantity'>\n",
      "returning  physipy[m] with .unit 1 m\n",
      "dtype is then set to  physipy[m]\n",
      "Length of QuantityArray 10\n",
      "10\n",
      "10\n",
      "CONSTRUCTING b\n",
      "QDTYPE : construct_from_string with physipy[m]\n",
      "QDTYPE : construct_from_string, actual unit found 1 m . Returning QuantityDtype(1 m)\n",
      "QDTYPE : new with 1 m of type <class 'physipy.quantity.quantity.Quantity'>\n",
      "returning  physipy[m] with .unit 1 m\n",
      "calling qARRY with ()\n",
      "trying from sequence  [<Quantity : [0 1 2 3 4 5 6 7 8 9] m>] 10\n",
      "ENTERING QARRAY with [0 1 2 3 4 5 6 7 8 9] m None False\n",
      "QARRAY : init with [0 1 2 3 4 5 6 7 8 9] m of type <class 'physipy.quantity.quantity.Quantity'>\n",
      "data is set to [0 1 2 3 4 5 6 7 8 9] m with len 10 10 <class 'physipy.quantity.quantity.Quantity'>\n",
      "len values 10\n",
      "QDTYPE : new with 1 m of type <class 'physipy.quantity.quantity.Quantity'>\n",
      "returning  physipy[m] with .unit 1 m\n",
      "dtype is then set to  physipy[m]\n",
      "Length of QuantityArray 10\n",
      "Length of QuantityArray 10\n",
      "Length of QuantityArray 10\n",
      "Length of QuantityArray 10\n",
      "RangeIndex(start=0, stop=1, step=1) <class 'physipandas.extension.QuantityArray'> (10,) <class 'physipy.quantity.quantity.Quantity'> 10\n",
      "\n",
      "physipy[m] physipy[m] True\n",
      "Length of QuantityArray 10\n",
      "[ True  True  True  True  True  True  True  True  True  True]\n",
      "True\n",
      "True\n",
      "10 1\n"
     ]
    }
   ],
   "source": [
    "print(\"CONSTRUCTING a\")\n",
    "a = pd.Series(QuantityArray(np.arange(10)*m))\n",
    "print(a.index, type(a.values), a.values.shape, type(a.values[0]), len(a.values))\n",
    "\n",
    "a = pd.Series(QuantityArray(np.arange(10)*m), dtype=\"physipy[m]\")\n",
    "print(a.index, type(a.values), a.values.shape, type(a.values[0]), len(a.values))\n",
    "\n",
    "a = pd.Series(QuantityArray(np.arange(10)*m), dtype=QuantityDtype(m))\n",
    "print(a.index, type(a.values), a.values.shape, type(a.values[0]), len(a.values))\n",
    "\n",
    "\n",
    "\n",
    "\n",
    "print()\n",
    "print((QuantityArray(np.arange(10)*m)).size)\n",
    "print((np.arange(10)*m).size)\n",
    "\n",
    "print(\"CONSTRUCTING b\")\n",
    "b = pd.Series(np.arange(10)*m, dtype=\"physipy[m]\")\n",
    "print(b.index, type(b.values), b.values.shape, type(b.values[0]), len(b.values))\n",
    "\n",
    "\n",
    "#bb = b.reset_index()\n",
    "#print()\n",
    "#print(\"CONSTRUCTING c\")\n",
    "#c = pd.Series(np.arange(10)*m, \n",
    "#              dtype=QuantityDtype(m))\n",
    "\n",
    "print()\n",
    "print(a.dtype, b.dtype, a.dtype == b.dtype)\n",
    "print(a.values == b.values)\n",
    "#print(a.values == c.values)\n",
    "print(type(a) == type(b))\n",
    "#print(type(a) == type(c))\n",
    "print(type(a.values) == type(b.values))\n",
    "#print(type(a.values) == type(c.values))\n",
    "print(len(a), len(b))\n",
    "#print(len(a), len(c))\n",
    "\n"
   ]
  },
  {
   "cell_type": "code",
   "execution_count": 3,
   "metadata": {},
   "outputs": [
    {
     "name": "stdout",
     "output_type": "stream",
     "text": [
      "QDTYPE : construct_from_string with physipy[m]\n",
      "QDTYPE : construct_from_string, actual unit found 1 m . Returning QuantityDtype(1 m)\n",
      "QDTYPE : new with 1 m of type <class 'physipy.quantity.quantity.Quantity'>\n",
      "returning  physipy[m] with .unit 1 m\n",
      "calling qARRY with ()\n",
      "trying from sequence  [<Quantity : [1 2 3] m, symbol=UndefinedSymbol*m>] 1 physipy[m]\n",
      "ENTERING QARRAY with [[1 2 3]] m physipy[m] False\n",
      "QARRAY : init with [[1 2 3]] m of type <class 'physipy.quantity.quantity.Quantity'>\n",
      "data is set to [[1 2 3]] m with len 1 3 <class 'physipy.quantity.quantity.Quantity'>\n",
      "len values 1\n",
      "QDTYPE : new with 1 m of type <class 'physipy.quantity.quantity.Quantity'>\n",
      "returning  physipy[m] with .unit 1 m\n",
      "dtype is then set to  physipy[m]\n",
      "Length of QuantityArray 1\n",
      "in array None\n",
      "0   [1 2 3]\n",
      "dtype: physipy[m]\n",
      "Length of QuantityArray 1\n",
      "Length of QuantityArray 1\n",
      "<QuantityArray>\n",
      "[[1 2 3] m]\n",
      "Length: 1, dtype: physipy[m]\n"
     ]
    }
   ],
   "source": [
    "a = pd.Series([1, 2, 3]*m, dtype='physipy[m]')\n",
    "print(a)\n",
    "print(a.values)"
   ]
  },
  {
   "cell_type": "code",
   "execution_count": 7,
   "metadata": {},
   "outputs": [
    {
     "data": {
      "text/plain": [
       "array([1, 2, 3])"
      ]
     },
     "execution_count": 7,
     "metadata": {},
     "output_type": "execute_result"
    }
   ],
   "source": [
    "([1, 2, 3]*m).value"
   ]
  },
  {
   "cell_type": "code",
   "execution_count": 5,
   "metadata": {},
   "outputs": [
    {
     "ename": "AttributeError",
     "evalue": "module 'numpy' has no attribute 'values'",
     "output_type": "error",
     "traceback": [
      "\u001b[0;31m---------------------------------------------------------------------------\u001b[0m",
      "\u001b[0;31mAttributeError\u001b[0m                            Traceback (most recent call last)",
      "\u001b[0;32m<ipython-input-5-4b791bb0f807>\u001b[0m in \u001b[0;36m<module>\u001b[0;34m\u001b[0m\n\u001b[0;32m----> 1\u001b[0;31m \u001b[0mnp\u001b[0m\u001b[0;34m.\u001b[0m\u001b[0mvalues\u001b[0m\u001b[0;34m\u001b[0m\u001b[0;34m\u001b[0m\u001b[0m\n\u001b[0m",
      "\u001b[0;32m/opt/anaconda3/lib/python3.8/site-packages/numpy/__init__.py\u001b[0m in \u001b[0;36m__getattr__\u001b[0;34m(attr)\u001b[0m\n\u001b[1;32m    311\u001b[0m                 \u001b[0;32mreturn\u001b[0m \u001b[0mTester\u001b[0m\u001b[0;34m\u001b[0m\u001b[0;34m\u001b[0m\u001b[0m\n\u001b[1;32m    312\u001b[0m \u001b[0;34m\u001b[0m\u001b[0m\n\u001b[0;32m--> 313\u001b[0;31m             raise AttributeError(\"module {!r} has no attribute \"\n\u001b[0m\u001b[1;32m    314\u001b[0m                                  \"{!r}\".format(__name__, attr))\n\u001b[1;32m    315\u001b[0m \u001b[0;34m\u001b[0m\u001b[0m\n",
      "\u001b[0;31mAttributeError\u001b[0m: module 'numpy' has no attribute 'values'"
     ]
    }
   ],
   "source": []
  },
  {
   "cell_type": "code",
   "execution_count": 3,
   "metadata": {},
   "outputs": [
    {
     "name": "stdout",
     "output_type": "stream",
     "text": [
      "QDTYPE : new with 1 s of type <class 'physipy.quantity.quantity.Quantity'>\n",
      "returning  physipy[s] with .unit 1 s\n",
      "trying from sequence  [<Quantity : [0 1 2 3 4 5 6 7 8 9] m>] 10\n",
      "ENTERING QARRAY with [0 1 2 3 4 5 6 7 8 9] m physipy[s] False\n",
      "QARRAY : init with [0 1 2 3 4 5 6 7 8 9] m of type <class 'physipy.quantity.quantity.Quantity'>\n",
      "data is set to [0 1 2 3 4 5 6 7 8 9] m with len 10 10\n",
      "len values 10\n",
      "OK Dimension error : dimensions of operands are T and L, and are differents.\n",
      "QDTYPE : new with 1 m of type <class 'physipy.quantity.quantity.Quantity'>\n",
      "returning  physipy[m] with .unit 1 m\n",
      "OK object of type 'numpy.int64' has no len()\n",
      "QDTYPE : new with 1 of type <class 'int'>\n",
      "OK \n"
     ]
    }
   ],
   "source": [
    "\n",
    "try:\n",
    "    d = pd.Series(np.arange(10)*m,\n",
    "              dtype=QuantityDtype(s))\n",
    "except Exception as e:\n",
    "    print('OK', str(e))\n",
    "    \n",
    "try:\n",
    "    f = pd.Series(np.arange(10), dtype=QuantityDtype(m))\n",
    "except Exception as e:\n",
    "    print('OK', str(e))\n",
    "    \n",
    "try:\n",
    "    f = pd.Series(np.arange(10)*m, dtype=QuantityDtype(1))\n",
    "except Exception as e:\n",
    "    print('OK', str(e))\n"
   ]
  },
  {
   "cell_type": "markdown",
   "metadata": {},
   "source": [
    "## Creation of QArray"
   ]
  },
  {
   "cell_type": "code",
   "execution_count": 14,
   "metadata": {},
   "outputs": [
    {
     "name": "stdout",
     "output_type": "stream",
     "text": [
      "QARRAY : init with [0 1 2 3 4 5 6 7 8 9] m of type <class 'physipy.quantity.quantity.Quantity'>\n",
      "QARRAY : init quantified values  [0 1 2 3 4 5 6 7 8 9] m with len 10\n",
      "QDTYPE : new with 1 m of type <class 'physipy.quantity.quantity.Quantity'>\n",
      "returning  physipy[m] with .unit 1 m\n"
     ]
    },
    {
     "data": {
      "text/plain": [
       "<QuantityArray>\n",
       "[0 m, 1 m, 2 m, 3 m, 4 m, 5 m, 6 m, 7 m, 8 m, 9 m]\n",
       "Length: 10, dtype: physipy[m]"
      ]
     },
     "execution_count": 14,
     "metadata": {},
     "output_type": "execute_result"
    }
   ],
   "source": [
    "qarr = np.arange(10)*m\n",
    "\n",
    "pdqarr = QuantityArray(qarr)\n",
    "e = pd.Series(QuantityArray.from_1darray_quantity(np.arange(10)*m))"
   ]
  },
  {
   "cell_type": "markdown",
   "metadata": {},
   "source": [
    "# This works"
   ]
  },
  {
   "cell_type": "markdown",
   "metadata": {},
   "source": [
    "# Checking the QuantityArray constructions"
   ]
  },
  {
   "cell_type": "code",
   "execution_count": 14,
   "metadata": {},
   "outputs": [
    {
     "name": "stdout",
     "output_type": "stream",
     "text": [
      "QARRAY : init with [0 1 2 3 4 5 6 7 8 9] m of type <class 'physipy.quantity.quantity.Quantity'>\n",
      "QARRAY : init quantified values  [0 1 2 3 4 5 6 7 8 9] m with len 10\n",
      "QDTYPE : new with 1 m of type <class 'physipy.quantity.quantity.Quantity'>\n",
      "returning  physipy[m] with .unit 1 m\n",
      "QARRAY : init with [0 1 2 3 4 5 6 7 8 9] m of type <class 'physipy.quantity.quantity.Quantity'>\n",
      "QARRAY : init quantified values  [0 1 2 3 4 5 6 7 8 9] m with len 10\n",
      "QDTYPE : new with 1 m of type <class 'physipy.quantity.quantity.Quantity'>\n",
      "returning  physipy[m] with .unit 1 m\n",
      "QARRAY : init with [0 1 2 3 4 5 6 7 8 9] s of type <class 'physipy.quantity.quantity.Quantity'>\n",
      "QARRAY : init quantified values  [0 1 2 3 4 5 6 7 8 9] s with len 10\n",
      "QDTYPE : new with 1 s of type <class 'physipy.quantity.quantity.Quantity'>\n",
      "returning  physipy[s] with .unit 1 s\n",
      "0   0\n",
      "1   1\n",
      "2   2\n",
      "3   3\n",
      "4   4\n",
      "5   5\n",
      "6   6\n",
      "7   7\n",
      "8   8\n",
      "9   9\n",
      "dtype: physipy[m] 0   0\n",
      "1   1\n",
      "2   2\n",
      "3   3\n",
      "4   4\n",
      "5   5\n",
      "6   6\n",
      "7   7\n",
      "8   8\n",
      "9   9\n",
      "dtype: physipy[m] 0   0\n",
      "1   1\n",
      "2   2\n",
      "3   3\n",
      "4   4\n",
      "5   5\n",
      "6   6\n",
      "7   7\n",
      "8   8\n",
      "9   9\n",
      "dtype: physipy[s]\n",
      "10 10 10\n",
      "(10,) (10,) (10,)\n",
      "<class 'pandas.core.series.Series'>\n",
      "physipy[m]\n",
      "<class 'physipy.quantity.quantity.Quantity'>\n",
      "int64\n"
     ]
    }
   ],
   "source": [
    "import physipy\n",
    "from physipy import m, s, DimensionError\n",
    "\n",
    "import numpy as np\n",
    "import pandas as pd\n",
    "\n",
    "from physipandas import QuantityDtype, QuantityArray\n",
    "\n",
    "a = pd.Series(QuantityArray(np.arange(10)*m))\n",
    "b = pd.Series(QuantityArray(np.arange(10)*m))\n",
    "c = pd.Series(QuantityArray(np.arange(10)*s))\n",
    "\n",
    "print(a, b, c)\n",
    "\n",
    "print(len(a), len(b), len(c))\n",
    "print(a.shape, b.shape, c.shape)\n",
    "print(type(a))\n",
    "print(a.dtype)\n",
    "print(type(a[0]))\n",
    "print(a[0].dtype)"
   ]
  },
  {
   "cell_type": "code",
   "execution_count": 15,
   "metadata": {},
   "outputs": [
    {
     "name": "stdout",
     "output_type": "stream",
     "text": [
      "OK\n",
      "QARRAY : init with [ 1  2  3  4  5  6  7  8  9 10] m of type <class 'physipy.quantity.quantity.Quantity'>\n",
      "QARRAY : init quantified values  [ 1  2  3  4  5  6  7  8  9 10] m with len 10\n",
      "QDTYPE : new with 1 m of type <class 'physipy.quantity.quantity.Quantity'>\n",
      "returning  physipy[m] with .unit 1 m\n",
      "0    1\n",
      "1    2\n",
      "2    3\n",
      "3    4\n",
      "4    5\n",
      "5    6\n",
      "6    7\n",
      "7    8\n",
      "8    9\n",
      "9   10\n",
      "dtype: physipy[m]\n",
      "QARRAY : init with [ 0  2  4  6  8 10 12 14 16 18] m of type <class 'physipy.quantity.quantity.Quantity'>\n",
      "QARRAY : init quantified values  [ 0  2  4  6  8 10 12 14 16 18] m with len 10\n",
      "QDTYPE : new with 1 m of type <class 'physipy.quantity.quantity.Quantity'>\n",
      "returning  physipy[m] with .unit 1 m\n",
      "0    0\n",
      "1    2\n",
      "2    4\n",
      "3    6\n",
      "4    8\n",
      "5   10\n",
      "6   12\n",
      "7   14\n",
      "8   16\n",
      "9   18\n",
      "dtype: physipy[m]\n",
      "QARRAY : init with [ 0  2  4  6  8 10 12 14 16 18] m of type <class 'physipy.quantity.quantity.Quantity'>\n",
      "QARRAY : init quantified values  [ 0  2  4  6  8 10 12 14 16 18] m with len 10\n",
      "QDTYPE : new with 1 m of type <class 'physipy.quantity.quantity.Quantity'>\n",
      "returning  physipy[m] with .unit 1 m\n",
      "0    0\n",
      "1    2\n",
      "2    4\n",
      "3    6\n",
      "4    8\n",
      "5   10\n",
      "6   12\n",
      "7   14\n",
      "8   16\n",
      "9   18\n",
      "dtype: physipy[m]\n",
      "QARRAY : init with [ 0  2  4  6  8 10 12 14 16 18] m of type <class 'physipy.quantity.quantity.Quantity'>\n",
      "QARRAY : init quantified values  [ 0  2  4  6  8 10 12 14 16 18] m with len 10\n",
      "QDTYPE : new with 1 m of type <class 'physipy.quantity.quantity.Quantity'>\n",
      "returning  physipy[m] with .unit 1 m\n",
      "0    0\n",
      "1    2\n",
      "2    4\n",
      "3    6\n",
      "4    8\n",
      "5   10\n",
      "6   12\n",
      "7   14\n",
      "8   16\n",
      "9   18\n",
      "dtype: physipy[m]\n",
      "QARRAY : init with [ 0  2  4  6  8 10 12 14 16 18] m of type <class 'physipy.quantity.quantity.Quantity'>\n",
      "QARRAY : init quantified values  [ 0  2  4  6  8 10 12 14 16 18] m with len 10\n",
      "QDTYPE : new with 1 m of type <class 'physipy.quantity.quantity.Quantity'>\n",
      "returning  physipy[m] with .unit 1 m\n",
      "0    0\n",
      "1    2\n",
      "2    4\n",
      "3    6\n",
      "4    8\n",
      "5   10\n",
      "6   12\n",
      "7   14\n",
      "8   16\n",
      "9   18\n",
      "dtype: physipy[m]\n",
      "QARRAY : init with [ 0  1  4  9 16 25 36 49 64 81] m**2 of type <class 'physipy.quantity.quantity.Quantity'>\n",
      "QARRAY : init quantified values  [ 0  1  4  9 16 25 36 49 64 81] m**2 with len 10\n",
      "QDTYPE : new with 1 m**2 of type <class 'physipy.quantity.quantity.Quantity'>\n",
      "returning  physipy[m**2] with .unit 1 m**2\n",
      "0    0\n",
      "1    1\n",
      "2    4\n",
      "3    9\n",
      "4   16\n",
      "5   25\n",
      "6   36\n",
      "7   49\n",
      "8   64\n",
      "9   81\n",
      "dtype: physipy[m**2]\n",
      "0 m\n",
      "QARRAY : init with [0 1] m of type <class 'physipy.quantity.quantity.Quantity'>\n",
      "QARRAY : init quantified values  [0 1] m with len 2\n",
      "QDTYPE : new with 1 m of type <class 'physipy.quantity.quantity.Quantity'>\n",
      "returning  physipy[m] with .unit 1 m\n",
      "0   0\n",
      "1   1\n",
      "dtype: physipy[m]\n",
      "QARRAY : init with [0 1 2] m of type <class 'physipy.quantity.quantity.Quantity'>\n",
      "QARRAY : init quantified values  [0 1 2] m with len 3\n",
      "QDTYPE : new with 1 m of type <class 'physipy.quantity.quantity.Quantity'>\n",
      "returning  physipy[m] with .unit 1 m\n",
      "0   0\n",
      "1   1\n",
      "2   2\n",
      "dtype: physipy[m]\n"
     ]
    }
   ],
   "source": [
    "try:\n",
    "    a+1\n",
    "except DimensionError:\n",
    "    print(\"OK\")\n",
    "\n",
    "print(a+1*m)\n",
    "print(a+np.arange(10)*m)\n",
    "print(a+a)\n",
    "print(2*a)\n",
    "print(a*2)\n",
    "print(a**2)\n",
    "print(a[0])\n",
    "print(a[0:2])\n",
    "print(a.iloc[0:3])"
   ]
  },
  {
   "cell_type": "markdown",
   "metadata": {},
   "source": [
    "# Dataframes"
   ]
  },
  {
   "cell_type": "code",
   "execution_count": 16,
   "metadata": {},
   "outputs": [
    {
     "name": "stdout",
     "output_type": "stream",
     "text": [
      "QARRAY : init with [ 0  2  4  6  8 10 12 14 16 18] m of type <class 'physipy.quantity.quantity.Quantity'>\n",
      "QARRAY : init quantified values  [ 0  2  4  6  8 10 12 14 16 18] m with len 10\n",
      "QDTYPE : new with 1 m of type <class 'physipy.quantity.quantity.Quantity'>\n",
      "returning  physipy[m] with .unit 1 m\n",
      "into copy\n",
      "data is  [ 0  2  4  6  8 10 12 14 16 18] m\n",
      "dtype is physipy[m]\n",
      "QARRAY : init with [ 0  2  4  6  8 10 12 14 16 18] m of type <class 'physipy.quantity.quantity.Quantity'>\n",
      "QARRAY : init quantified values  [ 0  2  4  6  8 10 12 14 16 18] m with len 10\n",
      "QDTYPE : new with 1 m of type <class 'physipy.quantity.quantity.Quantity'>\n",
      "returning  physipy[m] with .unit 1 m\n",
      "QARRAY : init with [ 0  4  8 12 16 20 24 28 32 36] m of type <class 'physipy.quantity.quantity.Quantity'>\n",
      "QARRAY : init quantified values  [ 0  4  8 12 16 20 24 28 32 36] m with len 10\n",
      "QDTYPE : new with 1 m of type <class 'physipy.quantity.quantity.Quantity'>\n",
      "returning  physipy[m] with .unit 1 m\n",
      "into copy\n",
      "data is  [ 0  4  8 12 16 20 24 28 32 36] m\n",
      "dtype is physipy[m]\n",
      "QARRAY : init with [ 0  4  8 12 16 20 24 28 32 36] m of type <class 'physipy.quantity.quantity.Quantity'>\n",
      "QARRAY : init quantified values  [ 0  4  8 12 16 20 24 28 32 36] m with len 10\n",
      "QDTYPE : new with 1 m of type <class 'physipy.quantity.quantity.Quantity'>\n",
      "returning  physipy[m] with .unit 1 m\n",
      "QARRAY : init with [  0   4  16  36  64 100 144 196 256 324] m**2 of type <class 'physipy.quantity.quantity.Quantity'>\n",
      "QARRAY : init quantified values  [  0   4  16  36  64 100 144 196 256 324] m**2 with len 10\n",
      "QDTYPE : new with 1 m**2 of type <class 'physipy.quantity.quantity.Quantity'>\n",
      "returning  physipy[m**2] with .unit 1 m**2\n",
      "QARRAY : init with [ 0  1  4  9 16 25 36 49 64 81] s**2 of type <class 'physipy.quantity.quantity.Quantity'>\n",
      "QARRAY : init quantified values  [ 0  1  4  9 16 25 36 49 64 81] s**2 with len 10\n",
      "QDTYPE : new with 1 s**2 of type <class 'physipy.quantity.quantity.Quantity'>\n",
      "returning  physipy[s**2] with .unit 1 s**2\n",
      "QARRAY : init with [nan  4.  4.  4.  4.  4.  4.  4.  4.  4.] m**2/s**2 of type <class 'physipy.quantity.quantity.Quantity'>\n",
      "QARRAY : init quantified values  [nan  4.  4.  4.  4.  4.  4.  4.  4.  4.] m**2/s**2 with len 10\n",
      "QDTYPE : new with 1 m**2/s**2 of type <class 'physipy.quantity.quantity.Quantity'>\n",
      "returning  physipy[m**2/s**2] with .unit 1 m**2/s**2\n",
      "into copy\n",
      "data is  [nan  4.  4.  4.  4.  4.  4.  4.  4.  4.] m**2/s**2\n",
      "dtype is physipy[m**2/s**2]\n",
      "QARRAY : init with [nan  4.  4.  4.  4.  4.  4.  4.  4.  4.] m**2/s**2 of type <class 'physipy.quantity.quantity.Quantity'>\n",
      "QARRAY : init quantified values  [nan  4.  4.  4.  4.  4.  4.  4.  4.  4.] m**2/s**2 with len 10\n",
      "QDTYPE : new with 1 m**2/s**2 of type <class 'physipy.quantity.quantity.Quantity'>\n",
      "returning  physipy[m**2/s**2] with .unit 1 m**2/s**2\n"
     ]
    },
    {
     "name": "stderr",
     "output_type": "stream",
     "text": [
      "/Users/mocquin/MYLIB10/MODULES/physipy/physipy/quantity/quantity.py:189: RuntimeWarning: invalid value encountered in true_divide\n",
      "  return type(self)(self.value / y.value,\n"
     ]
    }
   ],
   "source": [
    "df = pd.DataFrame({\"a\":a, \"b\":b, \"c\":c})\n",
    "\n",
    "res = 2*df[\"a\"]\n",
    "df[\"d\"] = res\n",
    "\n",
    "df[\"e\"] = df[\"d\"]*2\n",
    "df[\"g\"] = df[\"e\"]*df[\"a\"]/df[\"c\"]**2"
   ]
  },
  {
   "cell_type": "code",
   "execution_count": 23,
   "metadata": {},
   "outputs": [
    {
     "name": "stdout",
     "output_type": "stream",
     "text": [
      "L**2/T**2\n"
     ]
    },
    {
     "data": {
      "text/latex": [
       "$1.0\\,Gy$"
      ],
      "text/plain": [
       "<Quantity : 1 m**2/s**2, symbol=m**2/s**2>"
      ]
     },
     "execution_count": 23,
     "metadata": {},
     "output_type": "execute_result"
    }
   ],
   "source": [
    "print(df[\"g\"].physipy.dimension)\n",
    "df[\"g\"].physipy._SI_unitary_quantity"
   ]
  },
  {
   "cell_type": "code",
   "execution_count": 19,
   "metadata": {},
   "outputs": [
    {
     "ename": "AttributeError",
     "evalue": "'PhysipySeriesAccessor' object has no attribute 'to_base_units'",
     "output_type": "error",
     "traceback": [
      "\u001b[0;31m---------------------------------------------------------------------------\u001b[0m",
      "\u001b[0;31mAttributeError\u001b[0m                            Traceback (most recent call last)",
      "\u001b[0;32m<ipython-input-19-dc47dcac0b63>\u001b[0m in \u001b[0;36m<module>\u001b[0;34m\u001b[0m\n\u001b[0;32m----> 1\u001b[0;31m \u001b[0mdf\u001b[0m\u001b[0;34m.\u001b[0m\u001b[0mphysipy\u001b[0m\u001b[0;34m.\u001b[0m\u001b[0mto_base_units\u001b[0m\u001b[0;34m(\u001b[0m\u001b[0;34m)\u001b[0m\u001b[0;34m\u001b[0m\u001b[0;34m\u001b[0m\u001b[0m\n\u001b[0m",
      "\u001b[0;32m~/Documents/CLE/Optique/Python/JUPYTER/MYLIB10/MODULES/physipandas/physipandas.py\u001b[0m in \u001b[0;36mto_base_units\u001b[0;34m(self)\u001b[0m\n\u001b[1;32m    542\u001b[0m         \u001b[0;31m# name = object.__getattribute__(obj, '_name')\u001b[0m\u001b[0;34m\u001b[0m\u001b[0;34m\u001b[0m\u001b[0;34m\u001b[0m\u001b[0m\n\u001b[1;32m    543\u001b[0m         return DataFrame(\n\u001b[0;32m--> 544\u001b[0;31m             \u001b[0;34m{\u001b[0m\u001b[0mcol\u001b[0m\u001b[0;34m:\u001b[0m \u001b[0mdf\u001b[0m\u001b[0;34m[\u001b[0m\u001b[0mcol\u001b[0m\u001b[0;34m]\u001b[0m\u001b[0;34m.\u001b[0m\u001b[0mphysipy\u001b[0m\u001b[0;34m.\u001b[0m\u001b[0mto_base_units\u001b[0m\u001b[0;34m(\u001b[0m\u001b[0;34m)\u001b[0m \u001b[0;32mfor\u001b[0m \u001b[0mcol\u001b[0m \u001b[0;32min\u001b[0m \u001b[0mdf\u001b[0m\u001b[0;34m.\u001b[0m\u001b[0mcolumns\u001b[0m\u001b[0;34m}\u001b[0m\u001b[0;34m,\u001b[0m \u001b[0mindex\u001b[0m\u001b[0;34m=\u001b[0m\u001b[0mindex\u001b[0m\u001b[0;34m\u001b[0m\u001b[0;34m\u001b[0m\u001b[0m\n\u001b[0m\u001b[1;32m    545\u001b[0m         )\n\u001b[1;32m    546\u001b[0m \u001b[0;34m\u001b[0m\u001b[0m\n",
      "\u001b[0;32m~/Documents/CLE/Optique/Python/JUPYTER/MYLIB10/MODULES/physipandas/physipandas.py\u001b[0m in \u001b[0;36m<dictcomp>\u001b[0;34m(.0)\u001b[0m\n\u001b[1;32m    542\u001b[0m         \u001b[0;31m# name = object.__getattribute__(obj, '_name')\u001b[0m\u001b[0;34m\u001b[0m\u001b[0;34m\u001b[0m\u001b[0;34m\u001b[0m\u001b[0m\n\u001b[1;32m    543\u001b[0m         return DataFrame(\n\u001b[0;32m--> 544\u001b[0;31m             \u001b[0;34m{\u001b[0m\u001b[0mcol\u001b[0m\u001b[0;34m:\u001b[0m \u001b[0mdf\u001b[0m\u001b[0;34m[\u001b[0m\u001b[0mcol\u001b[0m\u001b[0;34m]\u001b[0m\u001b[0;34m.\u001b[0m\u001b[0mphysipy\u001b[0m\u001b[0;34m.\u001b[0m\u001b[0mto_base_units\u001b[0m\u001b[0;34m(\u001b[0m\u001b[0;34m)\u001b[0m \u001b[0;32mfor\u001b[0m \u001b[0mcol\u001b[0m \u001b[0;32min\u001b[0m \u001b[0mdf\u001b[0m\u001b[0;34m.\u001b[0m\u001b[0mcolumns\u001b[0m\u001b[0;34m}\u001b[0m\u001b[0;34m,\u001b[0m \u001b[0mindex\u001b[0m\u001b[0;34m=\u001b[0m\u001b[0mindex\u001b[0m\u001b[0;34m\u001b[0m\u001b[0;34m\u001b[0m\u001b[0m\n\u001b[0m\u001b[1;32m    545\u001b[0m         )\n\u001b[1;32m    546\u001b[0m \u001b[0;34m\u001b[0m\u001b[0m\n",
      "\u001b[0;31mAttributeError\u001b[0m: 'PhysipySeriesAccessor' object has no attribute 'to_base_units'"
     ]
    }
   ],
   "source": [
    "df.physipy.to_base_units()"
   ]
  },
  {
   "cell_type": "code",
   "execution_count": null,
   "metadata": {},
   "outputs": [],
   "source": []
  },
  {
   "cell_type": "code",
   "execution_count": null,
   "metadata": {},
   "outputs": [],
   "source": []
  },
  {
   "cell_type": "markdown",
   "metadata": {},
   "source": [
    "# This works : should fail and does"
   ]
  },
  {
   "cell_type": "code",
   "execution_count": 9,
   "metadata": {},
   "outputs": [
    {
     "name": "stdout",
     "output_type": "stream",
     "text": [
      "New dtype with :1 s\n",
      "unit is 1 s <class 'physipy.quantity.quantity.Quantity'>\n",
      "Constructing QuantityArray with  [<Quantity : [0 1 2 3 4 5 6 7 8 9] m>] dtype= physipy[s]\n",
      "New dtype with :1 \n",
      "unit is 1 <class 'physipy.quantity.quantity.Quantity'>\n",
      "--\n",
      "in getitiem\n",
      "<class 'physipy.quantity.quantity.Quantity'>\n",
      "in getitiem\n",
      "[0 1 2 3 4 5 6 7 8 9]\n"
     ]
    }
   ],
   "source": [
    "try:\n",
    "    a=pd.Series(np.arange(10)*m,\n",
    "            dtype=QuantityDtype(s))\n",
    "    print(\"--\")\n",
    "    print(type(a[0]))\n",
    "    print((a[0]))\n",
    "except DimensionError as e:\n",
    "    print(e)\n",
    "    print(\"OK : trying to set second to m\")"
   ]
  },
  {
   "cell_type": "markdown",
   "metadata": {},
   "source": [
    "# This fails : should be 0 m"
   ]
  },
  {
   "cell_type": "code",
   "execution_count": 10,
   "metadata": {},
   "outputs": [
    {
     "name": "stdout",
     "output_type": "stream",
     "text": [
      "New dtype with :None\n",
      "unit is 1 <class 'physipy.quantity.quantity.Quantity'>\n",
      "Constructing QuantityArray with  [<Quantity : [0 1 2 3 4 5 6 7 8 9] m>] dtype= physipy[]\n",
      "New dtype with :1 \n",
      "unit is 1 <class 'physipy.quantity.quantity.Quantity'>\n",
      "in getitiem\n",
      "[0 1 2 3 4 5 6 7 8 9]\n"
     ]
    }
   ],
   "source": [
    "a = pd.Series(np.arange(10)*m,\n",
    "            dtype=QuantityDtype())\n",
    "print(a[0])"
   ]
  },
  {
   "cell_type": "markdown",
   "metadata": {},
   "source": [
    "# Should this work ?"
   ]
  },
  {
   "cell_type": "code",
   "execution_count": 11,
   "metadata": {},
   "outputs": [
    {
     "name": "stdout",
     "output_type": "stream",
     "text": [
      "New dtype with :1 s\n",
      "unit is 1 s <class 'physipy.quantity.quantity.Quantity'>\n",
      "Constructing QuantityArray with  [0 1 2 3 4 5 6 7 8 9] dtype= physipy[s]\n",
      "New dtype with :1 \n",
      "unit is 1 <class 'physipy.quantity.quantity.Quantity'>\n",
      "in getitiem\n",
      "<class 'physipy.quantity.quantity.Quantity'>\n",
      "in getitiem\n",
      "0\n",
      "no-dimension\n"
     ]
    }
   ],
   "source": [
    "a=pd.Series(np.arange(10), \n",
    "            dtype=QuantityDtype(s))\n",
    "print(type(a[0]))\n",
    "print(a[0])\n",
    "print(a.values.dimension)"
   ]
  },
  {
   "cell_type": "code",
   "execution_count": 12,
   "metadata": {},
   "outputs": [
    {
     "name": "stdout",
     "output_type": "stream",
     "text": [
      "<class 'physipy.quantity.quantity.Quantity'>\n",
      "[0 1 2 3 4 5 6 7 8 9] m\n",
      "0    [0 m, 1 m, 2 m, 3 m, 4 m, 5 m, 6 m, 7 m, 8 m, ...\n",
      "dtype: object\n"
     ]
    }
   ],
   "source": [
    "a=pd.Series(np.arange(10)*m)\n",
    "print(type(a[0]))\n",
    "print((a[0]))\n",
    "print(a)"
   ]
  },
  {
   "cell_type": "code",
   "execution_count": null,
   "metadata": {},
   "outputs": [],
   "source": []
  },
  {
   "cell_type": "code",
   "execution_count": null,
   "metadata": {},
   "outputs": [],
   "source": []
  },
  {
   "cell_type": "code",
   "execution_count": null,
   "metadata": {},
   "outputs": [],
   "source": []
  },
  {
   "cell_type": "code",
   "execution_count": 13,
   "metadata": {},
   "outputs": [
    {
     "data": {
      "text/plain": [
       "0    a\n",
       "1    b\n",
       "2    c\n",
       "3    a\n",
       "dtype: category\n",
       "Categories (3, object): ['a', 'b', 'c']"
      ]
     },
     "execution_count": 13,
     "metadata": {},
     "output_type": "execute_result"
    }
   ],
   "source": [
    "s = pd.Series([\"a\", \"b\", \"c\", \"a\"], dtype=\"category\")\n",
    "s"
   ]
  },
  {
   "cell_type": "code",
   "execution_count": 16,
   "metadata": {},
   "outputs": [
    {
     "data": {
      "text/plain": [
       "0    a\n",
       "1    b\n",
       "2    c\n",
       "3    a\n",
       "dtype: object"
      ]
     },
     "execution_count": 16,
     "metadata": {},
     "output_type": "execute_result"
    }
   ],
   "source": [
    "pd.Series([\"a\", \"b\", \"c\", \"a\"])"
   ]
  },
  {
   "cell_type": "code",
   "execution_count": null,
   "metadata": {},
   "outputs": [],
   "source": []
  },
  {
   "cell_type": "code",
   "execution_count": 11,
   "metadata": {},
   "outputs": [
    {
     "data": {
      "text/plain": [
       "\u001b[0;31mSignature:\u001b[0m \u001b[0mregister_extension_dtype\u001b[0m\u001b[0;34m(\u001b[0m\u001b[0mcls\u001b[0m\u001b[0;34m:\u001b[0m \u001b[0mType\u001b[0m\u001b[0;34m[\u001b[0m\u001b[0mpandas\u001b[0m\u001b[0;34m.\u001b[0m\u001b[0mcore\u001b[0m\u001b[0;34m.\u001b[0m\u001b[0mdtypes\u001b[0m\u001b[0;34m.\u001b[0m\u001b[0mbase\u001b[0m\u001b[0;34m.\u001b[0m\u001b[0mExtensionDtype\u001b[0m\u001b[0;34m]\u001b[0m\u001b[0;34m)\u001b[0m \u001b[0;34m->\u001b[0m \u001b[0mType\u001b[0m\u001b[0;34m[\u001b[0m\u001b[0mpandas\u001b[0m\u001b[0;34m.\u001b[0m\u001b[0mcore\u001b[0m\u001b[0;34m.\u001b[0m\u001b[0mdtypes\u001b[0m\u001b[0;34m.\u001b[0m\u001b[0mbase\u001b[0m\u001b[0;34m.\u001b[0m\u001b[0mExtensionDtype\u001b[0m\u001b[0;34m]\u001b[0m\u001b[0;34m\u001b[0m\u001b[0;34m\u001b[0m\u001b[0m\n",
       "\u001b[0;31mDocstring:\u001b[0m\n",
       "Register an ExtensionType with pandas as class decorator.\n",
       "\n",
       ".. versionadded:: 0.24.0\n",
       "\n",
       "This enables operations like ``.astype(name)`` for the name\n",
       "of the ExtensionDtype.\n",
       "\n",
       "Returns\n",
       "-------\n",
       "callable\n",
       "    A class decorator.\n",
       "\n",
       "Examples\n",
       "--------\n",
       ">>> from pandas.api.extensions import register_extension_dtype\n",
       ">>> from pandas.api.extensions import ExtensionDtype\n",
       ">>> @register_extension_dtype\n",
       "... class MyExtensionDtype(ExtensionDtype):\n",
       "...     name = \"myextension\"\n",
       "\u001b[0;31mFile:\u001b[0m      /opt/anaconda3/lib/python3.8/site-packages/pandas/core/dtypes/base.py\n",
       "\u001b[0;31mType:\u001b[0m      function\n"
      ]
     },
     "metadata": {},
     "output_type": "display_data"
    }
   ],
   "source": [
    "from pandas.api.extensions import register_extension_dtype\n",
    "\n",
    "register_extension_dtype?"
   ]
  },
  {
   "cell_type": "code",
   "execution_count": null,
   "metadata": {},
   "outputs": [],
   "source": []
  }
 ],
 "metadata": {
  "kernelspec": {
   "display_name": "Python 3",
   "language": "python",
   "name": "python3"
  },
  "language_info": {
   "codemirror_mode": {
    "name": "ipython",
    "version": 3
   },
   "file_extension": ".py",
   "mimetype": "text/x-python",
   "name": "python",
   "nbconvert_exporter": "python",
   "pygments_lexer": "ipython3",
   "version": "3.8.5"
  }
 },
 "nbformat": 4,
 "nbformat_minor": 4
}
