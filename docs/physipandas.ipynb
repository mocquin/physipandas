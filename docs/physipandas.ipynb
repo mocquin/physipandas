{
 "cells": [
  {
   "cell_type": "code",
   "execution_count": 1,
   "metadata": {},
   "outputs": [
    {
     "name": "stdout",
     "output_type": "stream",
     "text": [
      "1.3.0 1.21.0 0.2.2 0.0.1\n"
     ]
    }
   ],
   "source": [
    "import numpy as np\n",
    "import pandas as pd\n",
    "import physipy\n",
    "from physipy import m, s, DimensionError, K\n",
    "\n",
    "import physipandas\n",
    "from physipandas import QuantityDtype, QuantityArray\n",
    "\n",
    "print(pd.__version__, \n",
    "      np.__version__, \n",
    "      physipy.__version__,\n",
    "     physipandas.__version__,\n",
    "     )"
   ]
  },
  {
   "cell_type": "markdown",
   "metadata": {},
   "source": [
    "# Creation of series"
   ]
  },
  {
   "cell_type": "code",
   "execution_count": 3,
   "metadata": {},
   "outputs": [
    {
     "name": "stdout",
     "output_type": "stream",
     "text": [
      "pd.Series(QuantityArray(np.arange(10)*m))\n",
      "pd.Series(QuantityArray(np.arange(10)*m), dtype='physipy[m]')\n",
      "pd.Series(QuantityArray(np.arange(10)*m), dtype=QuantityDtype(m))\n",
      "pd.Series(np.arange(10)*m, dtype='physipy[m]')\n",
      "a 1 (10,) None 10 RangeIndex(start=0, stop=10, step=1) 10 physipy[m] physipy[m] 0 m 1 m 0 m 0 m\n",
      "b 1 (10,) None 10 RangeIndex(start=0, stop=10, step=1) 10 physipy[m] physipy[m] 0 m 1 m 0 m 0 m\n",
      "c 1 (10,) None 10 RangeIndex(start=0, stop=10, step=1) 10 physipy[m] physipy[m] 0 m 1 m 0 m 0 m\n",
      "d 1 (10,) None 10 RangeIndex(start=0, stop=10, step=1) 10 physipy[m] physipy[m] 0 m 1 m 0 m 0 m\n"
     ]
    }
   ],
   "source": [
    "\n",
    "CREATION_DICT = {\n",
    "    \"a\":(\"pd.Series(QuantityArray(np.arange(10)*m))\", \n",
    "          pd.Series(QuantityArray(np.arange(10)*m))),\n",
    "    \"b\":(\"pd.Series(QuantityArray(np.arange(10)*m), dtype='physipy[m]')\",\n",
    "          pd.Series(QuantityArray(np.arange(10)*m), dtype=\"physipy[m]\")),\n",
    "    \"c\":(\"pd.Series(QuantityArray(np.arange(10)*m), dtype=QuantityDtype(m))\",\n",
    "          pd.Series(QuantityArray(np.arange(10)*m), dtype=QuantityDtype(m))),\n",
    "    \"d\":(\"pd.Series(np.arange(10)*m, dtype='physipy[m]')\",\n",
    "          pd.Series(np.arange(10)*m, dtype=\"physipy[m]\")),\n",
    "}\n",
    "\n",
    "for k, v in CREATION_DICT.items():\n",
    "    print(v[0])\n",
    "\n",
    "for k, v in CREATION_DICT.items():\n",
    "    s = v[1]\n",
    "    print(k, \n",
    "          s.ndim, \n",
    "          s.shape,\n",
    "          s.name,\n",
    "          s.size, \n",
    "          #s.nbytes,\n",
    "          s.index, len(s),\n",
    "          s.dtype,\n",
    "          s.dtypes,\n",
    "          s[0],\n",
    "          s.iat[1],\n",
    "          s.loc[0],\n",
    "          s.iloc[0],\n",
    "         )\n",
    "\n"
   ]
  },
  {
   "cell_type": "markdown",
   "metadata": {},
   "source": [
    "# Operations"
   ]
  },
  {
   "cell_type": "code",
   "execution_count": 6,
   "metadata": {},
   "outputs": [],
   "source": [
    "a = pd.Series(np.arange(10)*m, dtype=\"physipy[m]\")"
   ]
  },
  {
   "cell_type": "code",
   "execution_count": 11,
   "metadata": {},
   "outputs": [
    {
     "name": "stdout",
     "output_type": "stream",
     "text": [
      "OK\n",
      "0    1\n",
      "1    2\n",
      "2    3\n",
      "3    4\n",
      "4    5\n",
      "5    6\n",
      "6    7\n",
      "7    8\n",
      "8    9\n",
      "9   10\n",
      "dtype: physipy[m]\n",
      "0    0\n",
      "1    2\n",
      "2    4\n",
      "3    6\n",
      "4    8\n",
      "5   10\n",
      "6   12\n",
      "7   14\n",
      "8   16\n",
      "9   18\n",
      "dtype: physipy[m]\n",
      "0    0\n",
      "1    2\n",
      "2    4\n",
      "3    6\n",
      "4    8\n",
      "5   10\n",
      "6   12\n",
      "7   14\n",
      "8   16\n",
      "9   18\n",
      "dtype: physipy[m]\n",
      "0    0\n",
      "1    2\n",
      "2    4\n",
      "3    6\n",
      "4    8\n",
      "5   10\n",
      "6   12\n",
      "7   14\n",
      "8   16\n",
      "9   18\n",
      "dtype: physipy[m]\n",
      "0    0\n",
      "1    2\n",
      "2    4\n",
      "3    6\n",
      "4    8\n",
      "5   10\n",
      "6   12\n",
      "7   14\n",
      "8   16\n",
      "9   18\n",
      "dtype: physipy[m]\n",
      "0    0\n",
      "1    1\n",
      "2    4\n",
      "3    9\n",
      "4   16\n",
      "5   25\n",
      "6   36\n",
      "7   49\n",
      "8   64\n",
      "9   81\n",
      "dtype: physipy[m**2]\n",
      "0   0.0\n",
      "1   0.5\n",
      "2   1.0\n",
      "3   1.5\n",
      "4   2.0\n",
      "5   2.5\n",
      "6   3.0\n",
      "7   3.5\n",
      "8   4.0\n",
      "9   4.5\n",
      "dtype: physipy[m]\n",
      "0                  inf\n",
      "1                  2.0\n",
      "2                  1.0\n",
      "3   0.6666666666666666\n",
      "4                  0.5\n",
      "5                  0.4\n",
      "6   0.3333333333333333\n",
      "7   0.2857142857142857\n",
      "8                 0.25\n",
      "9   0.2222222222222222\n",
      "dtype: physipy[1/m]\n",
      "0                  0.0\n",
      "1                  1.0\n",
      "2   1.4142135623730951\n",
      "3   1.7320508075688772\n",
      "4                  2.0\n",
      "5     2.23606797749979\n",
      "6    2.449489742783178\n",
      "7   2.6457513110645907\n",
      "8   2.8284271247461903\n",
      "9                  3.0\n",
      "dtype: physipy[m**0.5]\n",
      "0 m\n",
      "0   0\n",
      "1   1\n",
      "dtype: physipy[m]\n",
      "0   0\n",
      "1   1\n",
      "2   2\n",
      "dtype: physipy[m]\n"
     ]
    }
   ],
   "source": [
    "try:\n",
    "    a+1\n",
    "except DimensionError:\n",
    "    print(\"OK\")\n",
    "\n",
    "print(a+1*m)\n",
    "print(a+np.arange(10)*m)\n",
    "print(a+a)\n",
    "print(2*a)\n",
    "print(a*2)\n",
    "print(a**2)\n",
    "print(a/2)\n",
    "print(2/a)\n",
    "print(a**0.5)\n",
    "print(a[0])\n",
    "print(a[0:2])\n",
    "print(a.iloc[0:3])"
   ]
  },
  {
   "cell_type": "markdown",
   "metadata": {},
   "source": [
    "# Numpy ufuncs"
   ]
  },
  {
   "cell_type": "code",
   "execution_count": 18,
   "metadata": {},
   "outputs": [
    {
     "data": {
      "text/plain": [
       "0    0.000000\n",
       "1    1.000000\n",
       "2    1.414214\n",
       "3    1.732051\n",
       "4    2.000000\n",
       "5    2.236068\n",
       "6    2.449490\n",
       "7    2.645751\n",
       "8    2.828427\n",
       "9    3.000000\n",
       "dtype: float64"
      ]
     },
     "execution_count": 18,
     "metadata": {},
     "output_type": "execute_result"
    }
   ],
   "source": [
    "np.sqrt(a)"
   ]
  },
  {
   "cell_type": "markdown",
   "metadata": {},
   "source": [
    "# Dataframes"
   ]
  },
  {
   "cell_type": "code",
   "execution_count": 24,
   "metadata": {},
   "outputs": [
    {
     "name": "stdout",
     "output_type": "stream",
     "text": [
      "a       physipy[m]\n",
      "b       physipy[m]\n",
      "c     physipy[1/m]\n",
      "d       physipy[m]\n",
      "e     physipy[1/m]\n",
      "g    physipy[m**2]\n",
      "dtype: object\n"
     ]
    },
    {
     "data": {
      "text/html": [
       "<div>\n",
       "<style scoped>\n",
       "    .dataframe tbody tr th:only-of-type {\n",
       "        vertical-align: middle;\n",
       "    }\n",
       "\n",
       "    .dataframe tbody tr th {\n",
       "        vertical-align: top;\n",
       "    }\n",
       "\n",
       "    .dataframe thead th {\n",
       "        text-align: right;\n",
       "    }\n",
       "</style>\n",
       "<table border=\"1\" class=\"dataframe\">\n",
       "  <thead>\n",
       "    <tr style=\"text-align: right;\">\n",
       "      <th></th>\n",
       "      <th>a</th>\n",
       "      <th>b</th>\n",
       "      <th>c</th>\n",
       "      <th>d</th>\n",
       "      <th>e</th>\n",
       "      <th>g</th>\n",
       "    </tr>\n",
       "  </thead>\n",
       "  <tbody>\n",
       "    <tr>\n",
       "      <th>0</th>\n",
       "      <td>0</td>\n",
       "      <td>0</td>\n",
       "      <td>inf</td>\n",
       "      <td>0</td>\n",
       "      <td>inf</td>\n",
       "      <td>NaN</td>\n",
       "    </tr>\n",
       "    <tr>\n",
       "      <th>1</th>\n",
       "      <td>1</td>\n",
       "      <td>2</td>\n",
       "      <td>1.0</td>\n",
       "      <td>2</td>\n",
       "      <td>1.0</td>\n",
       "      <td>1.0</td>\n",
       "    </tr>\n",
       "    <tr>\n",
       "      <th>2</th>\n",
       "      <td>2</td>\n",
       "      <td>4</td>\n",
       "      <td>0.5</td>\n",
       "      <td>4</td>\n",
       "      <td>0.5</td>\n",
       "      <td>4.0</td>\n",
       "    </tr>\n",
       "    <tr>\n",
       "      <th>3</th>\n",
       "      <td>3</td>\n",
       "      <td>6</td>\n",
       "      <td>0.3333333333333333</td>\n",
       "      <td>6</td>\n",
       "      <td>0.3333333333333333</td>\n",
       "      <td>9.0</td>\n",
       "    </tr>\n",
       "    <tr>\n",
       "      <th>4</th>\n",
       "      <td>4</td>\n",
       "      <td>8</td>\n",
       "      <td>0.25</td>\n",
       "      <td>8</td>\n",
       "      <td>0.25</td>\n",
       "      <td>16.0</td>\n",
       "    </tr>\n",
       "    <tr>\n",
       "      <th>5</th>\n",
       "      <td>5</td>\n",
       "      <td>10</td>\n",
       "      <td>0.2</td>\n",
       "      <td>10</td>\n",
       "      <td>0.2</td>\n",
       "      <td>24.999999999999996</td>\n",
       "    </tr>\n",
       "    <tr>\n",
       "      <th>6</th>\n",
       "      <td>6</td>\n",
       "      <td>12</td>\n",
       "      <td>0.16666666666666666</td>\n",
       "      <td>12</td>\n",
       "      <td>0.16666666666666666</td>\n",
       "      <td>36.0</td>\n",
       "    </tr>\n",
       "    <tr>\n",
       "      <th>7</th>\n",
       "      <td>7</td>\n",
       "      <td>14</td>\n",
       "      <td>0.14285714285714285</td>\n",
       "      <td>14</td>\n",
       "      <td>0.14285714285714285</td>\n",
       "      <td>49.00000000000001</td>\n",
       "    </tr>\n",
       "    <tr>\n",
       "      <th>8</th>\n",
       "      <td>8</td>\n",
       "      <td>16</td>\n",
       "      <td>0.125</td>\n",
       "      <td>16</td>\n",
       "      <td>0.125</td>\n",
       "      <td>64.0</td>\n",
       "    </tr>\n",
       "    <tr>\n",
       "      <th>9</th>\n",
       "      <td>9</td>\n",
       "      <td>18</td>\n",
       "      <td>0.1111111111111111</td>\n",
       "      <td>18</td>\n",
       "      <td>0.1111111111111111</td>\n",
       "      <td>81.0</td>\n",
       "    </tr>\n",
       "  </tbody>\n",
       "</table>\n",
       "</div>"
      ],
      "text/plain": [
       "  a  b                   c  d                   e                  g\n",
       "0 0  0                 inf  0                 inf                NaN\n",
       "1 1  2                 1.0  2                 1.0                1.0\n",
       "2 2  4                 0.5  4                 0.5                4.0\n",
       "3 3  6  0.3333333333333333  6  0.3333333333333333                9.0\n",
       "4 4  8                0.25  8                0.25               16.0\n",
       "5 5 10                 0.2 10                 0.2 24.999999999999996\n",
       "6 6 12 0.16666666666666666 12 0.16666666666666666               36.0\n",
       "7 7 14 0.14285714285714285 14 0.14285714285714285  49.00000000000001\n",
       "8 8 16               0.125 16               0.125               64.0\n",
       "9 9 18  0.1111111111111111 18  0.1111111111111111               81.0"
      ]
     },
     "execution_count": 24,
     "metadata": {},
     "output_type": "execute_result"
    }
   ],
   "source": [
    "df = pd.DataFrame({\"a\":a, \"b\":2*a, \"c\":1/a})\n",
    "\n",
    "df[\"d\"] = 2*df[\"a\"]\n",
    "df[\"e\"] = 2/df[\"d\"]\n",
    "df[\"g\"] = df[\"e\"]*df[\"a\"]/df[\"c\"]**2\n",
    "print(df.dtypes)\n",
    "df"
   ]
  },
  {
   "cell_type": "code",
   "execution_count": 21,
   "metadata": {},
   "outputs": [
    {
     "data": {
      "text/plain": [
       "0   0\n",
       "1   1\n",
       "2   2\n",
       "3   3\n",
       "4   4\n",
       "5   5\n",
       "6   6\n",
       "7   7\n",
       "8   8\n",
       "9   9\n",
       "dtype: physipy[m]"
      ]
     },
     "execution_count": 21,
     "metadata": {},
     "output_type": "execute_result"
    }
   ],
   "source": [
    "a"
   ]
  },
  {
   "cell_type": "code",
   "execution_count": 17,
   "metadata": {},
   "outputs": [
    {
     "name": "stdout",
     "output_type": "stream",
     "text": [
      "L**4\n"
     ]
    },
    {
     "data": {
      "text/latex": [
       "$1.0\\,m^{4}$"
      ],
      "text/plain": [
       "<Quantity : 1 m**4, symbol=m**4>"
      ]
     },
     "execution_count": 17,
     "metadata": {},
     "output_type": "execute_result"
    }
   ],
   "source": [
    "print(df[\"g\"].physipy.dimension)\n",
    "df[\"g\"].physipy._SI_unitary_quantity"
   ]
  }
 ],
 "metadata": {
  "kernelspec": {
   "display_name": "Python 3 (ipykernel)",
   "language": "python",
   "name": "python3"
  },
  "language_info": {
   "codemirror_mode": {
    "name": "ipython",
    "version": 3
   },
   "file_extension": ".py",
   "mimetype": "text/x-python",
   "name": "python",
   "nbconvert_exporter": "python",
   "pygments_lexer": "ipython3",
   "version": "3.8.5"
  },
  "toc-autonumbering": true
 },
 "nbformat": 4,
 "nbformat_minor": 4
}
