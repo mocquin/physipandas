{
 "cells": [
  {
   "cell_type": "code",
   "execution_count": 1,
   "metadata": {},
   "outputs": [
    {
     "name": "stderr",
     "output_type": "stream",
     "text": [
      "/Users/mocquin/MYLIB10/MODULES/physipy/physipy/quantity/quantity.py:669: UserWarning: The unit of the quantity is stripped.\n",
      "  warnings.warn(\"The unit of the quantity is stripped.\")\n"
     ]
    }
   ],
   "source": [
    "import numpy as np\n",
    "import pandas as pd\n",
    "\n",
    "from physipy import m, s, DimensionError, K\n",
    "\n",
    "from physipandas import QuantityDtype, QuantityArray\n",
    "\n",
    "arr = np.linspace(260, 400)*K\n",
    "barr = arr * 2\n",
    "\n",
    "#import pdb; pdb.set_trace()\n",
    "df = pd.DataFrame({\n",
    "    \"A\":arr,\n",
    "    \"B\":barr,\n",
    "})\n",
    "#print(df[\"A\"]*2)"
   ]
  },
  {
   "cell_type": "markdown",
   "metadata": {},
   "source": [
    "# Creation of series"
   ]
  },
  {
   "cell_type": "code",
   "execution_count": 2,
   "metadata": {},
   "outputs": [
    {
     "data": {
      "text/plain": [
       "'1.3.0'"
      ]
     },
     "execution_count": 2,
     "metadata": {},
     "output_type": "execute_result"
    }
   ],
   "source": [
    "pd.__version__"
   ]
  },
  {
   "cell_type": "code",
   "execution_count": 3,
   "metadata": {},
   "outputs": [
    {
     "name": "stdout",
     "output_type": "stream",
     "text": [
      "[1, 1, 1, 1, 1, 1, 1, 1, 1, 1]\n"
     ]
    }
   ],
   "source": [
    "data_list = (np.arange(10)*m).tolist()\n",
    "index = list(set(np.arange(10)*m))\n",
    "print([data_list.count(item) for item in index])"
   ]
  },
  {
   "cell_type": "code",
   "execution_count": 3,
   "metadata": {},
   "outputs": [
    {
     "name": "stdout",
     "output_type": "stream",
     "text": [
      "count    10.00000\n",
      "mean      4.50000\n",
      "std       3.02765\n",
      "min       0.00000\n",
      "25%       2.25000\n",
      "50%       4.50000\n",
      "75%       6.75000\n",
      "max       9.00000\n",
      "dtype: float64\n"
     ]
    }
   ],
   "source": [
    "ser = pd.Series(np.arange(10))\n",
    "print(ser.describe())"
   ]
  },
  {
   "cell_type": "code",
   "execution_count": 4,
   "metadata": {},
   "outputs": [
    {
     "name": "stdout",
     "output_type": "stream",
     "text": [
      "[<Quantity : 0 m>, <Quantity : 1 m>, <Quantity : 2 m>, <Quantity : 3 m>, <Quantity : 4 m>, <Quantity : 5 m>, <Quantity : 6 m>, <Quantity : 7 m>, <Quantity : 8 m>, <Quantity : 9 m>]\n"
     ]
    },
    {
     "ename": "TypeError",
     "evalue": "describe_ndframe() takes 0 positional arguments but 1 was given",
     "output_type": "error",
     "traceback": [
      "\u001b[0;31m---------------------------------------------------------------------------\u001b[0m",
      "\u001b[0;31mTypeError\u001b[0m                                 Traceback (most recent call last)",
      "\u001b[0;32m<ipython-input-4-33fc223d078b>\u001b[0m in \u001b[0;36m<module>\u001b[0;34m\u001b[0m\n\u001b[1;32m      2\u001b[0m \u001b[0mprint\u001b[0m\u001b[0;34m(\u001b[0m\u001b[0mqarr\u001b[0m\u001b[0;34m.\u001b[0m\u001b[0m_data\u001b[0m\u001b[0;34m.\u001b[0m\u001b[0mtolist\u001b[0m\u001b[0;34m(\u001b[0m\u001b[0;34m)\u001b[0m\u001b[0;34m)\u001b[0m\u001b[0;34m\u001b[0m\u001b[0;34m\u001b[0m\u001b[0m\n\u001b[1;32m      3\u001b[0m \u001b[0ma\u001b[0m \u001b[0;34m=\u001b[0m \u001b[0mpd\u001b[0m\u001b[0;34m.\u001b[0m\u001b[0mSeries\u001b[0m\u001b[0;34m(\u001b[0m\u001b[0mqarr\u001b[0m\u001b[0;34m)\u001b[0m\u001b[0;34m\u001b[0m\u001b[0;34m\u001b[0m\u001b[0m\n\u001b[0;32m----> 4\u001b[0;31m \u001b[0mprint\u001b[0m\u001b[0;34m(\u001b[0m\u001b[0ma\u001b[0m\u001b[0;34m.\u001b[0m\u001b[0mdescribe\u001b[0m\u001b[0;34m(\u001b[0m\u001b[0;34m)\u001b[0m\u001b[0;34m)\u001b[0m\u001b[0;34m\u001b[0m\u001b[0;34m\u001b[0m\u001b[0m\n\u001b[0m",
      "\u001b[0;32m/opt/anaconda3/lib/python3.8/site-packages/pandas/core/generic.py\u001b[0m in \u001b[0;36mdescribe\u001b[0;34m(self, percentiles, include, exclude, datetime_is_numeric)\u001b[0m\n\u001b[1;32m  10013\u001b[0m         \u001b[0mmax\u001b[0m            \u001b[0mNaN\u001b[0m      \u001b[0;36m3.0\u001b[0m\u001b[0;34m\u001b[0m\u001b[0;34m\u001b[0m\u001b[0m\n\u001b[1;32m  10014\u001b[0m         \"\"\"\n\u001b[0;32m> 10015\u001b[0;31m         return describe_ndframe(\n\u001b[0m\u001b[1;32m  10016\u001b[0m             \u001b[0mobj\u001b[0m\u001b[0;34m=\u001b[0m\u001b[0mself\u001b[0m\u001b[0;34m,\u001b[0m\u001b[0;34m\u001b[0m\u001b[0;34m\u001b[0m\u001b[0m\n\u001b[1;32m  10017\u001b[0m             \u001b[0minclude\u001b[0m\u001b[0;34m=\u001b[0m\u001b[0minclude\u001b[0m\u001b[0;34m,\u001b[0m\u001b[0;34m\u001b[0m\u001b[0;34m\u001b[0m\u001b[0m\n",
      "\u001b[0;32m/opt/anaconda3/lib/python3.8/site-packages/pandas/core/describe.py\u001b[0m in \u001b[0;36mdescribe_ndframe\u001b[0;34m(obj, include, exclude, datetime_is_numeric, percentiles)\u001b[0m\n\u001b[1;32m     93\u001b[0m         )\n\u001b[1;32m     94\u001b[0m \u001b[0;34m\u001b[0m\u001b[0m\n\u001b[0;32m---> 95\u001b[0;31m     \u001b[0mresult\u001b[0m \u001b[0;34m=\u001b[0m \u001b[0mdescriber\u001b[0m\u001b[0;34m.\u001b[0m\u001b[0mdescribe\u001b[0m\u001b[0;34m(\u001b[0m\u001b[0mpercentiles\u001b[0m\u001b[0;34m=\u001b[0m\u001b[0mpercentiles\u001b[0m\u001b[0;34m)\u001b[0m\u001b[0;34m\u001b[0m\u001b[0;34m\u001b[0m\u001b[0m\n\u001b[0m\u001b[1;32m     96\u001b[0m     \u001b[0;32mreturn\u001b[0m \u001b[0mcast\u001b[0m\u001b[0;34m(\u001b[0m\u001b[0mFrameOrSeries\u001b[0m\u001b[0;34m,\u001b[0m \u001b[0mresult\u001b[0m\u001b[0;34m)\u001b[0m\u001b[0;34m\u001b[0m\u001b[0;34m\u001b[0m\u001b[0m\n\u001b[1;32m     97\u001b[0m \u001b[0;34m\u001b[0m\u001b[0m\n",
      "\u001b[0;32m/opt/anaconda3/lib/python3.8/site-packages/pandas/core/describe.py\u001b[0m in \u001b[0;36mdescribe\u001b[0;34m(self, percentiles)\u001b[0m\n\u001b[1;32m    133\u001b[0m             \u001b[0mself\u001b[0m\u001b[0;34m.\u001b[0m\u001b[0mdatetime_is_numeric\u001b[0m\u001b[0;34m,\u001b[0m\u001b[0;34m\u001b[0m\u001b[0;34m\u001b[0m\u001b[0m\n\u001b[1;32m    134\u001b[0m         )\n\u001b[0;32m--> 135\u001b[0;31m         \u001b[0;32mreturn\u001b[0m \u001b[0mdescribe_func\u001b[0m\u001b[0;34m(\u001b[0m\u001b[0mself\u001b[0m\u001b[0;34m.\u001b[0m\u001b[0mobj\u001b[0m\u001b[0;34m,\u001b[0m \u001b[0mpercentiles\u001b[0m\u001b[0;34m)\u001b[0m\u001b[0;34m\u001b[0m\u001b[0;34m\u001b[0m\u001b[0m\n\u001b[0m\u001b[1;32m    136\u001b[0m \u001b[0;34m\u001b[0m\u001b[0m\n\u001b[1;32m    137\u001b[0m \u001b[0;34m\u001b[0m\u001b[0m\n",
      "\u001b[0;32m/opt/anaconda3/lib/python3.8/site-packages/pandas/core/describe.py\u001b[0m in \u001b[0;36mdescribe_categorical_1d\u001b[0;34m(data, percentiles_ignored)\u001b[0m\n\u001b[1;32m    260\u001b[0m     \"\"\"\n\u001b[1;32m    261\u001b[0m     \u001b[0mnames\u001b[0m \u001b[0;34m=\u001b[0m \u001b[0;34m[\u001b[0m\u001b[0;34m\"count\"\u001b[0m\u001b[0;34m,\u001b[0m \u001b[0;34m\"unique\"\u001b[0m\u001b[0;34m,\u001b[0m \u001b[0;34m\"top\"\u001b[0m\u001b[0;34m,\u001b[0m \u001b[0;34m\"freq\"\u001b[0m\u001b[0;34m]\u001b[0m\u001b[0;34m\u001b[0m\u001b[0;34m\u001b[0m\u001b[0m\n\u001b[0;32m--> 262\u001b[0;31m     \u001b[0mobjcounts\u001b[0m \u001b[0;34m=\u001b[0m \u001b[0mdata\u001b[0m\u001b[0;34m.\u001b[0m\u001b[0mvalue_counts\u001b[0m\u001b[0;34m(\u001b[0m\u001b[0;34m)\u001b[0m\u001b[0;34m\u001b[0m\u001b[0;34m\u001b[0m\u001b[0m\n\u001b[0m\u001b[1;32m    263\u001b[0m     \u001b[0mcount_unique\u001b[0m \u001b[0;34m=\u001b[0m \u001b[0mlen\u001b[0m\u001b[0;34m(\u001b[0m\u001b[0mobjcounts\u001b[0m\u001b[0;34m[\u001b[0m\u001b[0mobjcounts\u001b[0m \u001b[0;34m!=\u001b[0m \u001b[0;36m0\u001b[0m\u001b[0;34m]\u001b[0m\u001b[0;34m)\u001b[0m\u001b[0;34m\u001b[0m\u001b[0;34m\u001b[0m\u001b[0m\n\u001b[1;32m    264\u001b[0m     \u001b[0;32mif\u001b[0m \u001b[0mcount_unique\u001b[0m \u001b[0;34m>\u001b[0m \u001b[0;36m0\u001b[0m\u001b[0;34m:\u001b[0m\u001b[0;34m\u001b[0m\u001b[0;34m\u001b[0m\u001b[0m\n",
      "\u001b[0;32m/opt/anaconda3/lib/python3.8/site-packages/pandas/core/base.py\u001b[0m in \u001b[0;36mvalue_counts\u001b[0;34m(self, normalize, sort, ascending, bins, dropna)\u001b[0m\n\u001b[1;32m    958\u001b[0m         \u001b[0mdtype\u001b[0m\u001b[0;34m:\u001b[0m \u001b[0mint64\u001b[0m\u001b[0;34m\u001b[0m\u001b[0;34m\u001b[0m\u001b[0m\n\u001b[1;32m    959\u001b[0m         \"\"\"\n\u001b[0;32m--> 960\u001b[0;31m         return value_counts(\n\u001b[0m\u001b[1;32m    961\u001b[0m             \u001b[0mself\u001b[0m\u001b[0;34m,\u001b[0m\u001b[0;34m\u001b[0m\u001b[0;34m\u001b[0m\u001b[0m\n\u001b[1;32m    962\u001b[0m             \u001b[0msort\u001b[0m\u001b[0;34m=\u001b[0m\u001b[0msort\u001b[0m\u001b[0;34m,\u001b[0m\u001b[0;34m\u001b[0m\u001b[0;34m\u001b[0m\u001b[0m\n",
      "\u001b[0;32m/opt/anaconda3/lib/python3.8/site-packages/pandas/core/algorithms.py\u001b[0m in \u001b[0;36mvalue_counts\u001b[0;34m(values, sort, ascending, normalize, bins, dropna)\u001b[0m\n\u001b[1;32m    854\u001b[0m \u001b[0;34m\u001b[0m\u001b[0m\n\u001b[1;32m    855\u001b[0m             \u001b[0;31m# handle Categorical and sparse,\u001b[0m\u001b[0;34m\u001b[0m\u001b[0;34m\u001b[0m\u001b[0;34m\u001b[0m\u001b[0m\n\u001b[0;32m--> 856\u001b[0;31m             \u001b[0mresult\u001b[0m \u001b[0;34m=\u001b[0m \u001b[0mSeries\u001b[0m\u001b[0;34m(\u001b[0m\u001b[0mvalues\u001b[0m\u001b[0;34m)\u001b[0m\u001b[0;34m.\u001b[0m\u001b[0m_values\u001b[0m\u001b[0;34m.\u001b[0m\u001b[0mvalue_counts\u001b[0m\u001b[0;34m(\u001b[0m\u001b[0mdropna\u001b[0m\u001b[0;34m=\u001b[0m\u001b[0mdropna\u001b[0m\u001b[0;34m)\u001b[0m\u001b[0;34m\u001b[0m\u001b[0;34m\u001b[0m\u001b[0m\n\u001b[0m\u001b[1;32m    857\u001b[0m             \u001b[0mresult\u001b[0m\u001b[0;34m.\u001b[0m\u001b[0mname\u001b[0m \u001b[0;34m=\u001b[0m \u001b[0mname\u001b[0m\u001b[0;34m\u001b[0m\u001b[0;34m\u001b[0m\u001b[0m\n\u001b[1;32m    858\u001b[0m             \u001b[0mcounts\u001b[0m \u001b[0;34m=\u001b[0m \u001b[0mresult\u001b[0m\u001b[0;34m.\u001b[0m\u001b[0m_values\u001b[0m\u001b[0;34m\u001b[0m\u001b[0;34m\u001b[0m\u001b[0m\n",
      "\u001b[0;32m~/MYLIB10/MODULES/physipandas/physipandas/extension.py\u001b[0m in \u001b[0;36mvalue_counts\u001b[0;34m(self, dropna)\u001b[0m\n\u001b[1;32m    313\u001b[0m         \u001b[0;31m#array = [data_list.count(item) for item in index]\u001b[0m\u001b[0;34m\u001b[0m\u001b[0;34m\u001b[0m\u001b[0;34m\u001b[0m\u001b[0m\n\u001b[1;32m    314\u001b[0m \u001b[0;31m#\u001b[0m\u001b[0;34m\u001b[0m\u001b[0;34m\u001b[0m\u001b[0;34m\u001b[0m\u001b[0m\n\u001b[0;32m--> 315\u001b[0;31m         \u001b[0mraw_res\u001b[0m \u001b[0;34m=\u001b[0m \u001b[0mdescribe_ndframe\u001b[0m\u001b[0;34m(\u001b[0m\u001b[0mself\u001b[0m\u001b[0;34m.\u001b[0m\u001b[0m_data\u001b[0m\u001b[0;34m)\u001b[0m\u001b[0;34m\u001b[0m\u001b[0;34m\u001b[0m\u001b[0m\n\u001b[0m\u001b[1;32m    316\u001b[0m         \u001b[0;32mreturn\u001b[0m \u001b[0mraw_res\u001b[0m\u001b[0;31m#pd.Series(array, index=index)\u001b[0m\u001b[0;34m\u001b[0m\u001b[0;34m\u001b[0m\u001b[0m\n\u001b[1;32m    317\u001b[0m \u001b[0;34m\u001b[0m\u001b[0m\n",
      "\u001b[0;31mTypeError\u001b[0m: describe_ndframe() takes 0 positional arguments but 1 was given"
     ]
    }
   ],
   "source": [
    "qarr = QuantityArray(np.arange(10)*m)\n",
    "print(qarr._data.tolist())\n",
    "a = pd.Series(qarr)\n",
    "print(a.describe())"
   ]
  },
  {
   "cell_type": "code",
   "execution_count": 5,
   "metadata": {},
   "outputs": [
    {
     "data": {
      "text/plain": [
       "[0, 1, 2, 3, 4, 5, 6, 7, 8, 9]"
      ]
     },
     "execution_count": 5,
     "metadata": {},
     "output_type": "execute_result"
    }
   ],
   "source": [
    "np.arange(10).tolist()"
   ]
  },
  {
   "cell_type": "code",
   "execution_count": 4,
   "metadata": {},
   "outputs": [
    {
     "name": "stdout",
     "output_type": "stream",
     "text": [
      "CONSTRUCTING a\n",
      "pd.Series(QuantityArray(np.arange(10)*m))\n",
      "pd.Series(QuantityArray(np.arange(10)*m), dtype='physipy[m]')\n",
      "pd.Series(QuantityArray(np.arange(10)*m), dtype=QuantityDtype(m))\n",
      "pd.Series(np.arange(10)*m, dtype='physipy[m]')\n",
      "pd.Series(np.arange(10)*m)\n",
      "a 1 (10,) None 10 RangeIndex(start=0, stop=10, step=1) 10 physipy[m] physipy[m] 0 m 1 m 0 m 0 m count      10\n",
      "unique      0\n",
      "top       NaN\n",
      "freq      NaN\n",
      "dtype: object\n",
      "b 1 (10,) None 10 RangeIndex(start=0, stop=10, step=1) 10 physipy[m] physipy[m] 0 m 1 m 0 m 0 m count      10\n",
      "unique      0\n",
      "top       NaN\n",
      "freq      NaN\n",
      "dtype: object\n",
      "c 1 (10,) None 10 RangeIndex(start=0, stop=10, step=1) 10 physipy[m] physipy[m] 0 m 1 m 0 m 0 m count      10\n",
      "unique      0\n",
      "top       NaN\n",
      "freq      NaN\n",
      "dtype: object\n",
      "d 1 (10,) None 10 RangeIndex(start=0, stop=10, step=1) 10 physipy[m] physipy[m] 0 m 1 m 0 m 0 m count      10\n",
      "unique      0\n",
      "top       NaN\n",
      "freq      NaN\n",
      "dtype: object\n",
      "e 1 (10,) None 10 RangeIndex(start=0, stop=10, step=1) 10 object object 0 m 1 m 0 m 0 m count      10\n",
      "unique     10\n",
      "top       0 m\n",
      "freq        1\n",
      "dtype: object\n",
      "a 0   0\n",
      "1   1\n",
      "2   2\n",
      "3   3\n",
      "4   4\n",
      "5   5\n",
      "6   6\n",
      "7   7\n",
      "8   8\n",
      "9   9\n",
      "dtype: physipy[m]\n",
      "b 0   0\n",
      "1   1\n",
      "2   2\n",
      "3   3\n",
      "4   4\n",
      "5   5\n",
      "6   6\n",
      "7   7\n",
      "8   8\n",
      "9   9\n",
      "dtype: physipy[m]\n",
      "c 0   0\n",
      "1   1\n",
      "2   2\n",
      "3   3\n",
      "4   4\n",
      "5   5\n",
      "6   6\n",
      "7   7\n",
      "8   8\n",
      "9   9\n",
      "dtype: physipy[m]\n",
      "d 0   0\n",
      "1   1\n",
      "2   2\n",
      "3   3\n",
      "4   4\n",
      "5   5\n",
      "6   6\n",
      "7   7\n",
      "8   8\n",
      "9   9\n",
      "dtype: physipy[m]\n",
      "e 0    0 m\n",
      "1    1 m\n",
      "2    2 m\n",
      "3    3 m\n",
      "4    4 m\n",
      "5    5 m\n",
      "6    6 m\n",
      "7    7 m\n",
      "8    8 m\n",
      "9    9 m\n",
      "dtype: object\n",
      "a <class 'physipandas.extension.QuantityArray'>\n",
      "b <class 'physipandas.extension.QuantityArray'>\n",
      "c <class 'physipandas.extension.QuantityArray'>\n",
      "d <class 'physipandas.extension.QuantityArray'>\n",
      "e <class 'numpy.ndarray'>\n",
      "a <QuantityArray>\n",
      "[0 m, 1 m, 2 m, 3 m, 4 m, 5 m, 6 m, 7 m, 8 m, 9 m]\n",
      "Length: 10, dtype: physipy[m]\n",
      "b <QuantityArray>\n",
      "[0 m, 1 m, 2 m, 3 m, 4 m, 5 m, 6 m, 7 m, 8 m, 9 m]\n",
      "Length: 10, dtype: physipy[m]\n",
      "c <QuantityArray>\n",
      "[0 m, 1 m, 2 m, 3 m, 4 m, 5 m, 6 m, 7 m, 8 m, 9 m]\n",
      "Length: 10, dtype: physipy[m]\n",
      "d <QuantityArray>\n",
      "[0 m, 1 m, 2 m, 3 m, 4 m, 5 m, 6 m, 7 m, 8 m, 9 m]\n",
      "Length: 10, dtype: physipy[m]\n",
      "e <PandasArray>\n",
      "[<Quantity : 0 m>, <Quantity : 1 m>, <Quantity : 2 m>, <Quantity : 3 m>,\n",
      " <Quantity : 4 m>, <Quantity : 5 m>, <Quantity : 6 m>, <Quantity : 7 m>,\n",
      " <Quantity : 8 m>, <Quantity : 9 m>]\n",
      "Length: 10, dtype: object\n",
      "a 0    0\n",
      "1    3\n",
      "2    6\n",
      "3    9\n",
      "4   12\n",
      "5   15\n",
      "6   18\n",
      "7   21\n",
      "8   24\n",
      "9   27\n",
      "dtype: physipy[m]\n",
      "b 0    0\n",
      "1    3\n",
      "2    6\n",
      "3    9\n",
      "4   12\n",
      "5   15\n",
      "6   18\n",
      "7   21\n",
      "8   24\n",
      "9   27\n",
      "dtype: physipy[m]\n",
      "c 0    0\n",
      "1    3\n",
      "2    6\n",
      "3    9\n",
      "4   12\n",
      "5   15\n",
      "6   18\n",
      "7   21\n",
      "8   24\n",
      "9   27\n",
      "dtype: physipy[m]\n",
      "d 0    0\n",
      "1    3\n",
      "2    6\n",
      "3    9\n",
      "4   12\n",
      "5   15\n",
      "6   18\n",
      "7   21\n",
      "8   24\n",
      "9   27\n",
      "dtype: physipy[m]\n",
      "e 0     0 m\n",
      "1     3 m\n",
      "2     6 m\n",
      "3     9 m\n",
      "4    12 m\n",
      "5    15 m\n",
      "6    18 m\n",
      "7    21 m\n",
      "8    24 m\n",
      "9    27 m\n",
      "dtype: object\n",
      "a <class 'physipandas.extension.QuantityArray'>\n",
      "b <class 'physipandas.extension.QuantityArray'>\n",
      "c <class 'physipandas.extension.QuantityArray'>\n",
      "d <class 'physipandas.extension.QuantityArray'>\n",
      "e <class 'numpy.ndarray'>\n",
      "a 0    0\n",
      "1    1\n",
      "2    4\n",
      "3    9\n",
      "4   16\n",
      "5   25\n",
      "6   36\n",
      "7   49\n",
      "8   64\n",
      "9   81\n",
      "dtype: physipy[m**2]\n",
      "b 0    0\n",
      "1    1\n",
      "2    4\n",
      "3    9\n",
      "4   16\n",
      "5   25\n",
      "6   36\n",
      "7   49\n",
      "8   64\n",
      "9   81\n",
      "dtype: physipy[m**2]\n",
      "c 0    0\n",
      "1    1\n",
      "2    4\n",
      "3    9\n",
      "4   16\n",
      "5   25\n",
      "6   36\n",
      "7   49\n",
      "8   64\n",
      "9   81\n",
      "dtype: physipy[m**2]\n",
      "d 0    0\n",
      "1    1\n",
      "2    4\n",
      "3    9\n",
      "4   16\n",
      "5   25\n",
      "6   36\n",
      "7   49\n",
      "8   64\n",
      "9   81\n",
      "dtype: physipy[m**2]\n",
      "e 0     0 m**2\n",
      "1     1 m**2\n",
      "2     4 m**2\n",
      "3     9 m**2\n",
      "4    16 m**2\n",
      "5    25 m**2\n",
      "6    36 m**2\n",
      "7    49 m**2\n",
      "8    64 m**2\n",
      "9    81 m**2\n",
      "dtype: object\n"
     ]
    }
   ],
   "source": [
    "print(\"CONSTRUCTING a\")\n",
    "\n",
    "CREATION_DICT = {\n",
    "    \"a\":(\"pd.Series(QuantityArray(np.arange(10)*m))\", \n",
    "        pd.Series(QuantityArray(np.arange(10)*m))),\n",
    "    \"b\":(\"pd.Series(QuantityArray(np.arange(10)*m), dtype='physipy[m]')\",\n",
    "        pd.Series(QuantityArray(np.arange(10)*m), dtype=\"physipy[m]\")),\n",
    "    \"c\":(\"pd.Series(QuantityArray(np.arange(10)*m), dtype=QuantityDtype(m))\",\n",
    "        pd.Series(QuantityArray(np.arange(10)*m), dtype=QuantityDtype(m))),\n",
    "    \"d\":(\"pd.Series(np.arange(10)*m, dtype='physipy[m]')\",\n",
    "        pd.Series(np.arange(10)*m, dtype=\"physipy[m]\")),\n",
    "    \"e\":(\"pd.Series(np.arange(10)*m)\",\n",
    "        pd.Series(np.arange(10)*m)),\n",
    "}\n",
    "\n",
    "\n",
    "# attributes\n",
    "\n",
    "for k, v in CREATION_DICT.items():\n",
    "    print(v[0])\n",
    "\n",
    "for k, v in CREATION_DICT.items():\n",
    "    s = v[1]\n",
    "    print(k, \n",
    "          s.ndim, \n",
    "          s.shape,\n",
    "          s.name,\n",
    "          s.size, \n",
    "          #s.nbytes,\n",
    "          s.index, len(s),\n",
    "          s.dtype,\n",
    "          s.dtypes,\n",
    "          s[0],\n",
    "          s.iat[1],\n",
    "          s.loc[0],\n",
    "          s.iloc[0],\n",
    "         )\n",
    "\n",
    "for k, v in CREATION_DICT.items():\n",
    "    s = v[1]\n",
    "    print(k, s.T)\n",
    "    \n",
    "    \n",
    "for k, v in CREATION_DICT.items():\n",
    "    s = v[1]\n",
    "    print(k, type(s.values))\n",
    "for k, v in CREATION_DICT.items():\n",
    "    s = v[1]\n",
    "    print(k, s.array)\n",
    "\n",
    "for k, v in CREATION_DICT.items():\n",
    "    s = v[1]\n",
    "    print(k, 2*s+s)\n",
    "for k, v in CREATION_DICT.items():\n",
    "    s = v[1]\n",
    "    print(k, type((2*s+s).values))\n",
    "for k, v in CREATION_DICT.items():\n",
    "    s = v[1]\n",
    "    print(k, (s**2))\n",
    "\n"
   ]
  },
  {
   "cell_type": "code",
   "execution_count": 18,
   "metadata": {},
   "outputs": [
    {
     "name": "stdout",
     "output_type": "stream",
     "text": [
      "QDTYPE : construct_from_string with physipy[m]\n",
      "QDTYPE : construct_from_string, actual unit found 1 m . Returning QuantityDtype(1 m)\n",
      "QDTYPE : new with 1 m of type <class 'physipy.quantity.quantity.Quantity'>\n",
      "returning  physipy[m] with .unit 1 m\n",
      "calling qARRY with ()\n",
      "trying from sequence  [<Quantity : 1 m>, <Quantity : 2 m>, <Quantity : 3 m>] 3 physipy[m]\n",
      "ENTERING QARRAY with [1 2 3] m physipy[m] False\n",
      "QARRAY : init with [1 2 3] m of type <class 'physipy.quantity.quantity.Quantity'>\n",
      "data is set to [1 2 3] m with len 3 3 <class 'physipy.quantity.quantity.Quantity'>\n",
      "len values 3\n",
      "QDTYPE : new with 1 m of type <class 'physipy.quantity.quantity.Quantity'>\n",
      "returning  physipy[m] with .unit 1 m\n",
      "dtype is then set to  physipy[m]\n",
      "Length of QuantityArray 3\n",
      "in array None\n",
      "0   1\n",
      "1   2\n",
      "2   3\n",
      "dtype: physipy[m]\n",
      "Length of QuantityArray 3\n",
      "Length of QuantityArray 3\n",
      "Length of QuantityArray 3\n",
      "<QuantityArray>\n",
      "[1 m, 2 m, 3 m]\n",
      "Length: 3, dtype: physipy[m]\n"
     ]
    }
   ],
   "source": [
    "a = pd.Series([1, 2, 3]*m, dtype='physipy[m]')\n",
    "print(a)\n",
    "print(a.values)"
   ]
  },
  {
   "cell_type": "code",
   "execution_count": 19,
   "metadata": {},
   "outputs": [
    {
     "data": {
      "text/plain": [
       "array([1, 2, 3])"
      ]
     },
     "execution_count": 19,
     "metadata": {},
     "output_type": "execute_result"
    }
   ],
   "source": [
    "([1, 2, 3]*m).value"
   ]
  },
  {
   "cell_type": "code",
   "execution_count": null,
   "metadata": {},
   "outputs": [],
   "source": []
  },
  {
   "cell_type": "code",
   "execution_count": 20,
   "metadata": {},
   "outputs": [
    {
     "name": "stdout",
     "output_type": "stream",
     "text": [
      "QDTYPE : new with 1 s of type <class 'physipy.quantity.quantity.Quantity'>\n",
      "returning  physipy[s] with .unit 1 s\n",
      "calling qARRY with ()\n",
      "trying from sequence  [<Quantity : 0 m>, <Quantity : 1 m>, <Quantity : 2 m>, <Quantity : 3 m>, <Quantity : 4 m>, <Quantity : 5 m>, <Quantity : 6 m>, <Quantity : 7 m>, <Quantity : 8 m>, <Quantity : 9 m>] 10 physipy[s]\n",
      "ENTERING QARRAY with [0 1 2 3 4 5 6 7 8 9] m physipy[s] False\n",
      "QARRAY : init with [0 1 2 3 4 5 6 7 8 9] m of type <class 'physipy.quantity.quantity.Quantity'>\n",
      "data is set to [0 1 2 3 4 5 6 7 8 9] m with len 10 10 <class 'physipy.quantity.quantity.Quantity'>\n",
      "len values 10\n",
      "OK Dimension error : dimensions of operands are T and L, and are differents.\n",
      "QDTYPE : new with 1 m of type <class 'physipy.quantity.quantity.Quantity'>\n",
      "returning  physipy[m] with .unit 1 m\n",
      "calling qARRY with ()\n",
      "trying from sequence  [0 1 2 3 4 5 6 7 8 9] 10 physipy[m]\n",
      "ENTERING QARRAY with [0 1 2 3 4 5 6 7 8 9] physipy[m] False\n",
      "QARRAY : init with [0 1 2 3 4 5 6 7 8 9] of type <class 'physipy.quantity.quantity.Quantity'>\n",
      "data is set to [0 1 2 3 4 5 6 7 8 9] with len 10 10 <class 'physipy.quantity.quantity.Quantity'>\n",
      "len values 10\n",
      "OK Dimension error : dimensions of operands are L and no-dimension, and are differents.\n",
      "QDTYPE : new with 1 of type <class 'int'>\n",
      "OK \n"
     ]
    }
   ],
   "source": [
    "\n",
    "try:\n",
    "    d = pd.Series(np.arange(10)*m,\n",
    "              dtype=QuantityDtype(s))\n",
    "except Exception as e:\n",
    "    print('OK', str(e))\n",
    "    \n",
    "try:\n",
    "    f = pd.Series(np.arange(10), dtype=QuantityDtype(m))\n",
    "except Exception as e:\n",
    "    print('OK', str(e))\n",
    "    \n",
    "try:\n",
    "    f = pd.Series(np.arange(10)*m, dtype=QuantityDtype(1))\n",
    "except Exception as e:\n",
    "    print('OK', str(e))\n"
   ]
  },
  {
   "cell_type": "markdown",
   "metadata": {},
   "source": [
    "## Creation of QArray"
   ]
  },
  {
   "cell_type": "code",
   "execution_count": 21,
   "metadata": {},
   "outputs": [
    {
     "name": "stdout",
     "output_type": "stream",
     "text": [
      "ENTERING QARRAY with [0 1 2 3 4 5 6 7 8 9] m None False\n",
      "QARRAY : init with [0 1 2 3 4 5 6 7 8 9] m of type <class 'physipy.quantity.quantity.Quantity'>\n",
      "data is set to [0 1 2 3 4 5 6 7 8 9] m with len 10 10 <class 'physipy.quantity.quantity.Quantity'>\n",
      "len values 10\n",
      "QDTYPE : new with 1 m of type <class 'physipy.quantity.quantity.Quantity'>\n",
      "returning  physipy[m] with .unit 1 m\n",
      "dtype is then set to  physipy[m]\n",
      "from 1darray [0 1 2 3 4 5 6 7 8 9] m\n",
      "ENTERING QARRAY with [0 1 2 3 4 5 6 7 8 9] m None False\n",
      "QARRAY : init with [0 1 2 3 4 5 6 7 8 9] m of type <class 'physipy.quantity.quantity.Quantity'>\n",
      "data is set to [0 1 2 3 4 5 6 7 8 9] m with len 10 10 <class 'physipy.quantity.quantity.Quantity'>\n",
      "len values 10\n",
      "QDTYPE : new with 1 m of type <class 'physipy.quantity.quantity.Quantity'>\n",
      "returning  physipy[m] with .unit 1 m\n",
      "dtype is then set to  physipy[m]\n",
      "Length of QuantityArray 10\n"
     ]
    }
   ],
   "source": [
    "qarr = np.arange(10)*m\n",
    "\n",
    "pdqarr = QuantityArray(qarr)\n",
    "e = pd.Series(QuantityArray.from_1darray_quantity(np.arange(10)*m))"
   ]
  },
  {
   "cell_type": "markdown",
   "metadata": {},
   "source": [
    "# This works"
   ]
  },
  {
   "cell_type": "markdown",
   "metadata": {},
   "source": [
    "# Checking the QuantityArray constructions"
   ]
  },
  {
   "cell_type": "code",
   "execution_count": 22,
   "metadata": {},
   "outputs": [
    {
     "name": "stdout",
     "output_type": "stream",
     "text": [
      "ENTERING QARRAY with [0 1 2 3 4 5 6 7 8 9] m None False\n",
      "QARRAY : init with [0 1 2 3 4 5 6 7 8 9] m of type <class 'physipy.quantity.quantity.Quantity'>\n",
      "data is set to [0 1 2 3 4 5 6 7 8 9] m with len 10 10 <class 'physipy.quantity.quantity.Quantity'>\n",
      "len values 10\n",
      "QDTYPE : new with 1 m of type <class 'physipy.quantity.quantity.Quantity'>\n",
      "returning  physipy[m] with .unit 1 m\n",
      "dtype is then set to  physipy[m]\n",
      "Length of QuantityArray 10\n",
      "ENTERING QARRAY with [0 1 2 3 4 5 6 7 8 9] m None False\n",
      "QARRAY : init with [0 1 2 3 4 5 6 7 8 9] m of type <class 'physipy.quantity.quantity.Quantity'>\n",
      "data is set to [0 1 2 3 4 5 6 7 8 9] m with len 10 10 <class 'physipy.quantity.quantity.Quantity'>\n",
      "len values 10\n",
      "QDTYPE : new with 1 m of type <class 'physipy.quantity.quantity.Quantity'>\n",
      "returning  physipy[m] with .unit 1 m\n",
      "dtype is then set to  physipy[m]\n",
      "Length of QuantityArray 10\n",
      "ENTERING QARRAY with [0 1 2 3 4 5 6 7 8 9] s None False\n",
      "QARRAY : init with [0 1 2 3 4 5 6 7 8 9] s of type <class 'physipy.quantity.quantity.Quantity'>\n",
      "data is set to [0 1 2 3 4 5 6 7 8 9] s with len 10 10 <class 'physipy.quantity.quantity.Quantity'>\n",
      "len values 10\n",
      "QDTYPE : new with 1 s of type <class 'physipy.quantity.quantity.Quantity'>\n",
      "returning  physipy[s] with .unit 1 s\n",
      "dtype is then set to  physipy[s]\n",
      "Length of QuantityArray 10\n",
      "in array None\n",
      "0   0\n",
      "1   1\n",
      "2   2\n",
      "3   3\n",
      "4   4\n",
      "5   5\n",
      "6   6\n",
      "7   7\n",
      "8   8\n",
      "9   9\n",
      "dtype: physipy[m] in array None\n",
      "0   0\n",
      "1   1\n",
      "2   2\n",
      "3   3\n",
      "4   4\n",
      "5   5\n",
      "6   6\n",
      "7   7\n",
      "8   8\n",
      "9   9\n",
      "dtype: physipy[m] in array None\n",
      "0   0\n",
      "1   1\n",
      "2   2\n",
      "3   3\n",
      "4   4\n",
      "5   5\n",
      "6   6\n",
      "7   7\n",
      "8   8\n",
      "9   9\n",
      "dtype: physipy[s]\n",
      "10 10 10\n",
      "Length of QuantityArray 10\n",
      "Length of QuantityArray 10\n",
      "Length of QuantityArray 10\n",
      "(10,) (10,) (10,)\n",
      "<class 'pandas.core.series.Series'>\n",
      "physipy[m]\n",
      "<class 'physipy.quantity.quantity.Quantity'>\n",
      "int64\n"
     ]
    }
   ],
   "source": [
    "import physipy\n",
    "from physipy import m, s, DimensionError\n",
    "\n",
    "import numpy as np\n",
    "import pandas as pd\n",
    "\n",
    "from physipandas import QuantityDtype, QuantityArray\n",
    "\n",
    "a = pd.Series(QuantityArray(np.arange(10)*m))\n",
    "b = pd.Series(QuantityArray(np.arange(10)*m))\n",
    "c = pd.Series(QuantityArray(np.arange(10)*s))\n",
    "\n",
    "print(a, b, c)\n",
    "\n",
    "print(len(a), len(b), len(c))\n",
    "print(a.shape, b.shape, c.shape)\n",
    "print(type(a))\n",
    "print(a.dtype)\n",
    "print(type(a[0]))\n",
    "print(a[0].dtype)"
   ]
  },
  {
   "cell_type": "code",
   "execution_count": 23,
   "metadata": {},
   "outputs": [
    {
     "name": "stdout",
     "output_type": "stream",
     "text": [
      "Length of QuantityArray 10\n",
      "OK\n",
      "Length of QuantityArray 10\n",
      "from 1darray [ 1  2  3  4  5  6  7  8  9 10] m\n",
      "ENTERING QARRAY with [ 1  2  3  4  5  6  7  8  9 10] m None False\n",
      "QARRAY : init with [ 1  2  3  4  5  6  7  8  9 10] m of type <class 'physipy.quantity.quantity.Quantity'>\n",
      "data is set to [ 1  2  3  4  5  6  7  8  9 10] m with len 10 10 <class 'physipy.quantity.quantity.Quantity'>\n",
      "len values 10\n",
      "QDTYPE : new with 1 m of type <class 'physipy.quantity.quantity.Quantity'>\n",
      "returning  physipy[m] with .unit 1 m\n",
      "dtype is then set to  physipy[m]\n",
      "Length of QuantityArray 10\n",
      "in array None\n",
      "0    1\n",
      "1    2\n",
      "2    3\n",
      "3    4\n",
      "4    5\n",
      "5    6\n",
      "6    7\n",
      "7    8\n",
      "8    9\n",
      "9   10\n",
      "dtype: physipy[m]\n",
      "Length of QuantityArray 10\n",
      "from 1darray [ 0  2  4  6  8 10 12 14 16 18] m\n",
      "ENTERING QARRAY with [ 0  2  4  6  8 10 12 14 16 18] m None False\n",
      "QARRAY : init with [ 0  2  4  6  8 10 12 14 16 18] m of type <class 'physipy.quantity.quantity.Quantity'>\n",
      "data is set to [ 0  2  4  6  8 10 12 14 16 18] m with len 10 10 <class 'physipy.quantity.quantity.Quantity'>\n",
      "len values 10\n",
      "QDTYPE : new with 1 m of type <class 'physipy.quantity.quantity.Quantity'>\n",
      "returning  physipy[m] with .unit 1 m\n",
      "dtype is then set to  physipy[m]\n",
      "Length of QuantityArray 10\n",
      "in array None\n",
      "0    0\n",
      "1    2\n",
      "2    4\n",
      "3    6\n",
      "4    8\n",
      "5   10\n",
      "6   12\n",
      "7   14\n",
      "8   16\n",
      "9   18\n",
      "dtype: physipy[m]\n",
      "Length of QuantityArray 10\n",
      "Length of QuantityArray 10\n",
      "from 1darray [ 0  2  4  6  8 10 12 14 16 18] m\n",
      "ENTERING QARRAY with [ 0  2  4  6  8 10 12 14 16 18] m None False\n",
      "QARRAY : init with [ 0  2  4  6  8 10 12 14 16 18] m of type <class 'physipy.quantity.quantity.Quantity'>\n",
      "data is set to [ 0  2  4  6  8 10 12 14 16 18] m with len 10 10 <class 'physipy.quantity.quantity.Quantity'>\n",
      "len values 10\n",
      "QDTYPE : new with 1 m of type <class 'physipy.quantity.quantity.Quantity'>\n",
      "returning  physipy[m] with .unit 1 m\n",
      "dtype is then set to  physipy[m]\n",
      "Length of QuantityArray 10\n",
      "in array None\n",
      "0    0\n",
      "1    2\n",
      "2    4\n",
      "3    6\n",
      "4    8\n",
      "5   10\n",
      "6   12\n",
      "7   14\n",
      "8   16\n",
      "9   18\n",
      "dtype: physipy[m]\n",
      "Length of QuantityArray 10\n",
      "from 1darray [ 0  2  4  6  8 10 12 14 16 18] m\n",
      "ENTERING QARRAY with [ 0  2  4  6  8 10 12 14 16 18] m None False\n",
      "QARRAY : init with [ 0  2  4  6  8 10 12 14 16 18] m of type <class 'physipy.quantity.quantity.Quantity'>\n",
      "data is set to [ 0  2  4  6  8 10 12 14 16 18] m with len 10 10 <class 'physipy.quantity.quantity.Quantity'>\n",
      "len values 10\n",
      "QDTYPE : new with 1 m of type <class 'physipy.quantity.quantity.Quantity'>\n",
      "returning  physipy[m] with .unit 1 m\n",
      "dtype is then set to  physipy[m]\n",
      "Length of QuantityArray 10\n",
      "in array None\n",
      "0    0\n",
      "1    2\n",
      "2    4\n",
      "3    6\n",
      "4    8\n",
      "5   10\n",
      "6   12\n",
      "7   14\n",
      "8   16\n",
      "9   18\n",
      "dtype: physipy[m]\n",
      "Length of QuantityArray 10\n",
      "from 1darray [ 0  2  4  6  8 10 12 14 16 18] m\n",
      "ENTERING QARRAY with [ 0  2  4  6  8 10 12 14 16 18] m None False\n",
      "QARRAY : init with [ 0  2  4  6  8 10 12 14 16 18] m of type <class 'physipy.quantity.quantity.Quantity'>\n",
      "data is set to [ 0  2  4  6  8 10 12 14 16 18] m with len 10 10 <class 'physipy.quantity.quantity.Quantity'>\n",
      "len values 10\n",
      "QDTYPE : new with 1 m of type <class 'physipy.quantity.quantity.Quantity'>\n",
      "returning  physipy[m] with .unit 1 m\n",
      "dtype is then set to  physipy[m]\n",
      "Length of QuantityArray 10\n",
      "in array None\n",
      "0    0\n",
      "1    2\n",
      "2    4\n",
      "3    6\n",
      "4    8\n",
      "5   10\n",
      "6   12\n",
      "7   14\n",
      "8   16\n",
      "9   18\n",
      "dtype: physipy[m]\n",
      "Length of QuantityArray 10\n",
      "from 1darray [ 0  1  4  9 16 25 36 49 64 81] m**2\n",
      "ENTERING QARRAY with [ 0  1  4  9 16 25 36 49 64 81] m**2 None False\n",
      "QARRAY : init with [ 0  1  4  9 16 25 36 49 64 81] m**2 of type <class 'physipy.quantity.quantity.Quantity'>\n",
      "data is set to [ 0  1  4  9 16 25 36 49 64 81] m**2 with len 10 10 <class 'physipy.quantity.quantity.Quantity'>\n",
      "len values 10\n",
      "QDTYPE : new with 1 m**2 of type <class 'physipy.quantity.quantity.Quantity'>\n",
      "returning  physipy[m**2] with .unit 1 m**2\n",
      "dtype is then set to  physipy[m**2]\n",
      "Length of QuantityArray 10\n",
      "in array None\n",
      "0    0\n",
      "1    1\n",
      "2    4\n",
      "3    9\n",
      "4   16\n",
      "5   25\n",
      "6   36\n",
      "7   49\n",
      "8   64\n",
      "9   81\n",
      "dtype: physipy[m**2]\n",
      "0 m\n",
      "ENTERING QARRAY with [0 1] m physipy[m] False\n",
      "QARRAY : init with [0 1] m of type <class 'physipy.quantity.quantity.Quantity'>\n",
      "data is set to [0 1] m with len 2 2 <class 'physipy.quantity.quantity.Quantity'>\n",
      "len values 2\n",
      "QDTYPE : new with 1 m of type <class 'physipy.quantity.quantity.Quantity'>\n",
      "returning  physipy[m] with .unit 1 m\n",
      "dtype is then set to  physipy[m]\n",
      "Length of QuantityArray 2\n",
      "in array None\n",
      "0   0\n",
      "1   1\n",
      "dtype: physipy[m]\n",
      "ENTERING QARRAY with [0 1 2] m physipy[m] False\n",
      "QARRAY : init with [0 1 2] m of type <class 'physipy.quantity.quantity.Quantity'>\n",
      "data is set to [0 1 2] m with len 3 3 <class 'physipy.quantity.quantity.Quantity'>\n",
      "len values 3\n",
      "QDTYPE : new with 1 m of type <class 'physipy.quantity.quantity.Quantity'>\n",
      "returning  physipy[m] with .unit 1 m\n",
      "dtype is then set to  physipy[m]\n",
      "Length of QuantityArray 3\n",
      "in array None\n",
      "0   0\n",
      "1   1\n",
      "2   2\n",
      "dtype: physipy[m]\n"
     ]
    }
   ],
   "source": [
    "try:\n",
    "    a+1\n",
    "except DimensionError:\n",
    "    print(\"OK\")\n",
    "\n",
    "print(a+1*m)\n",
    "print(a+np.arange(10)*m)\n",
    "print(a+a)\n",
    "print(2*a)\n",
    "print(a*2)\n",
    "print(a**2)\n",
    "print(a[0])\n",
    "print(a[0:2])\n",
    "print(a.iloc[0:3])"
   ]
  },
  {
   "cell_type": "markdown",
   "metadata": {},
   "source": [
    "# Dataframes"
   ]
  },
  {
   "cell_type": "code",
   "execution_count": 24,
   "metadata": {},
   "outputs": [
    {
     "name": "stdout",
     "output_type": "stream",
     "text": [
      "into copy\n",
      "data is  [0 1 2 3 4 5 6 7 8 9] m\n",
      "dtype is physipy[m]\n",
      "ENTERING QARRAY with [0 1 2 3 4 5 6 7 8 9] m physipy[m] False\n",
      "QARRAY : init with [0 1 2 3 4 5 6 7 8 9] m of type <class 'physipy.quantity.quantity.Quantity'>\n",
      "data is set to [0 1 2 3 4 5 6 7 8 9] m with len 10 10 <class 'physipy.quantity.quantity.Quantity'>\n",
      "len values 10\n",
      "QDTYPE : new with 1 m of type <class 'physipy.quantity.quantity.Quantity'>\n",
      "returning  physipy[m] with .unit 1 m\n",
      "dtype is then set to  physipy[m]\n",
      "into copy\n",
      "data is  [0 1 2 3 4 5 6 7 8 9] m\n",
      "dtype is physipy[m]\n",
      "ENTERING QARRAY with [0 1 2 3 4 5 6 7 8 9] m physipy[m] False\n",
      "QARRAY : init with [0 1 2 3 4 5 6 7 8 9] m of type <class 'physipy.quantity.quantity.Quantity'>\n",
      "data is set to [0 1 2 3 4 5 6 7 8 9] m with len 10 10 <class 'physipy.quantity.quantity.Quantity'>\n",
      "len values 10\n",
      "QDTYPE : new with 1 m of type <class 'physipy.quantity.quantity.Quantity'>\n",
      "returning  physipy[m] with .unit 1 m\n",
      "dtype is then set to  physipy[m]\n",
      "into copy\n",
      "data is  [0 1 2 3 4 5 6 7 8 9] s\n",
      "dtype is physipy[s]\n",
      "ENTERING QARRAY with [0 1 2 3 4 5 6 7 8 9] s physipy[s] False\n",
      "QARRAY : init with [0 1 2 3 4 5 6 7 8 9] s of type <class 'physipy.quantity.quantity.Quantity'>\n",
      "data is set to [0 1 2 3 4 5 6 7 8 9] s with len 10 10 <class 'physipy.quantity.quantity.Quantity'>\n",
      "len values 10\n",
      "QDTYPE : new with 1 s of type <class 'physipy.quantity.quantity.Quantity'>\n",
      "returning  physipy[s] with .unit 1 s\n",
      "dtype is then set to  physipy[s]\n",
      "Length of QuantityArray 10\n",
      "Length of QuantityArray 10\n",
      "Length of QuantityArray 10\n",
      "Length of QuantityArray 10\n",
      "Length of QuantityArray 10\n",
      "from 1darray [ 0  2  4  6  8 10 12 14 16 18] m\n",
      "ENTERING QARRAY with [ 0  2  4  6  8 10 12 14 16 18] m None False\n",
      "QARRAY : init with [ 0  2  4  6  8 10 12 14 16 18] m of type <class 'physipy.quantity.quantity.Quantity'>\n",
      "data is set to [ 0  2  4  6  8 10 12 14 16 18] m with len 10 10 <class 'physipy.quantity.quantity.Quantity'>\n",
      "len values 10\n",
      "QDTYPE : new with 1 m of type <class 'physipy.quantity.quantity.Quantity'>\n",
      "returning  physipy[m] with .unit 1 m\n",
      "dtype is then set to  physipy[m]\n",
      "Length of QuantityArray 10\n",
      "into copy\n",
      "data is  [ 0  2  4  6  8 10 12 14 16 18] m\n",
      "dtype is physipy[m]\n",
      "ENTERING QARRAY with [ 0  2  4  6  8 10 12 14 16 18] m physipy[m] False\n",
      "QARRAY : init with [ 0  2  4  6  8 10 12 14 16 18] m of type <class 'physipy.quantity.quantity.Quantity'>\n",
      "data is set to [ 0  2  4  6  8 10 12 14 16 18] m with len 10 10 <class 'physipy.quantity.quantity.Quantity'>\n",
      "len values 10\n",
      "QDTYPE : new with 1 m of type <class 'physipy.quantity.quantity.Quantity'>\n",
      "returning  physipy[m] with .unit 1 m\n",
      "dtype is then set to  physipy[m]\n",
      "Length of QuantityArray 10\n",
      "Length of QuantityArray 10\n",
      "from 1darray [ 0  4  8 12 16 20 24 28 32 36] m\n",
      "ENTERING QARRAY with [ 0  4  8 12 16 20 24 28 32 36] m None False\n",
      "QARRAY : init with [ 0  4  8 12 16 20 24 28 32 36] m of type <class 'physipy.quantity.quantity.Quantity'>\n",
      "data is set to [ 0  4  8 12 16 20 24 28 32 36] m with len 10 10 <class 'physipy.quantity.quantity.Quantity'>\n",
      "len values 10\n",
      "QDTYPE : new with 1 m of type <class 'physipy.quantity.quantity.Quantity'>\n",
      "returning  physipy[m] with .unit 1 m\n",
      "dtype is then set to  physipy[m]\n",
      "Length of QuantityArray 10\n",
      "into copy\n",
      "data is  [ 0  4  8 12 16 20 24 28 32 36] m\n",
      "dtype is physipy[m]\n",
      "ENTERING QARRAY with [ 0  4  8 12 16 20 24 28 32 36] m physipy[m] False\n",
      "QARRAY : init with [ 0  4  8 12 16 20 24 28 32 36] m of type <class 'physipy.quantity.quantity.Quantity'>\n",
      "data is set to [ 0  4  8 12 16 20 24 28 32 36] m with len 10 10 <class 'physipy.quantity.quantity.Quantity'>\n",
      "len values 10\n",
      "QDTYPE : new with 1 m of type <class 'physipy.quantity.quantity.Quantity'>\n",
      "returning  physipy[m] with .unit 1 m\n",
      "dtype is then set to  physipy[m]\n",
      "Length of QuantityArray 10\n",
      "Length of QuantityArray 10\n",
      "Length of QuantityArray 10\n",
      "from 1darray [  0   4  16  36  64 100 144 196 256 324] m**2\n",
      "ENTERING QARRAY with [  0   4  16  36  64 100 144 196 256 324] m**2 None False\n",
      "QARRAY : init with [  0   4  16  36  64 100 144 196 256 324] m**2 of type <class 'physipy.quantity.quantity.Quantity'>\n",
      "data is set to [  0   4  16  36  64 100 144 196 256 324] m**2 with len 10 10 <class 'physipy.quantity.quantity.Quantity'>\n",
      "len values 10\n",
      "QDTYPE : new with 1 m**2 of type <class 'physipy.quantity.quantity.Quantity'>\n",
      "returning  physipy[m**2] with .unit 1 m**2\n",
      "dtype is then set to  physipy[m**2]\n",
      "Length of QuantityArray 10\n",
      "Length of QuantityArray 10\n",
      "Length of QuantityArray 10\n",
      "from 1darray [ 0  1  4  9 16 25 36 49 64 81] s**2\n",
      "ENTERING QARRAY with [ 0  1  4  9 16 25 36 49 64 81] s**2 None False\n",
      "QARRAY : init with [ 0  1  4  9 16 25 36 49 64 81] s**2 of type <class 'physipy.quantity.quantity.Quantity'>\n",
      "data is set to [ 0  1  4  9 16 25 36 49 64 81] s**2 with len 10 10 <class 'physipy.quantity.quantity.Quantity'>\n",
      "len values 10\n",
      "QDTYPE : new with 1 s**2 of type <class 'physipy.quantity.quantity.Quantity'>\n",
      "returning  physipy[s**2] with .unit 1 s**2\n",
      "dtype is then set to  physipy[s**2]\n",
      "Length of QuantityArray 10\n",
      "Length of QuantityArray 10\n",
      "Length of QuantityArray 10\n",
      "from 1darray [nan  4.  4.  4.  4.  4.  4.  4.  4.  4.] m**2/s**2\n",
      "ENTERING QARRAY with [nan  4.  4.  4.  4.  4.  4.  4.  4.  4.] m**2/s**2 None False\n",
      "QARRAY : init with [nan  4.  4.  4.  4.  4.  4.  4.  4.  4.] m**2/s**2 of type <class 'physipy.quantity.quantity.Quantity'>\n",
      "data is set to [nan  4.  4.  4.  4.  4.  4.  4.  4.  4.] m**2/s**2 with len 10 10 <class 'physipy.quantity.quantity.Quantity'>\n",
      "len values 10\n",
      "QDTYPE : new with 1 m**2/s**2 of type <class 'physipy.quantity.quantity.Quantity'>\n",
      "returning  physipy[m**2/s**2] with .unit 1 m**2/s**2\n",
      "dtype is then set to  physipy[m**2/s**2]\n",
      "Length of QuantityArray 10\n",
      "into copy\n",
      "data is  [nan  4.  4.  4.  4.  4.  4.  4.  4.  4.] m**2/s**2\n",
      "dtype is physipy[m**2/s**2]\n",
      "ENTERING QARRAY with [nan  4.  4.  4.  4.  4.  4.  4.  4.  4.] m**2/s**2 physipy[m**2/s**2] False\n",
      "QARRAY : init with [nan  4.  4.  4.  4.  4.  4.  4.  4.  4.] m**2/s**2 of type <class 'physipy.quantity.quantity.Quantity'>\n",
      "data is set to [nan  4.  4.  4.  4.  4.  4.  4.  4.  4.] m**2/s**2 with len 10 10 <class 'physipy.quantity.quantity.Quantity'>\n",
      "len values 10\n",
      "QDTYPE : new with 1 m**2/s**2 of type <class 'physipy.quantity.quantity.Quantity'>\n",
      "returning  physipy[m**2/s**2] with .unit 1 m**2/s**2\n",
      "dtype is then set to  physipy[m**2/s**2]\n"
     ]
    }
   ],
   "source": [
    "df = pd.DataFrame({\"a\":a, \"b\":b, \"c\":c})\n",
    "\n",
    "res = 2*df[\"a\"]\n",
    "df[\"d\"] = res\n",
    "\n",
    "df[\"e\"] = df[\"d\"]*2\n",
    "df[\"g\"] = df[\"e\"]*df[\"a\"]/df[\"c\"]**2"
   ]
  },
  {
   "cell_type": "code",
   "execution_count": 25,
   "metadata": {},
   "outputs": [
    {
     "name": "stdout",
     "output_type": "stream",
     "text": [
      "Length of QuantityArray 10\n",
      "L**2/T**2\n"
     ]
    },
    {
     "data": {
      "text/latex": [
       "$1.0\\,Gy$"
      ],
      "text/plain": [
       "<Quantity : 1 m**2/s**2, symbol=m**2/s**2>"
      ]
     },
     "execution_count": 25,
     "metadata": {},
     "output_type": "execute_result"
    }
   ],
   "source": [
    "print(df[\"g\"].physipy.dimension)\n",
    "df[\"g\"].physipy._SI_unitary_quantity"
   ]
  },
  {
   "cell_type": "code",
   "execution_count": 26,
   "metadata": {},
   "outputs": [
    {
     "ename": "AttributeError",
     "evalue": "'PhysipySeriesAccessor' object has no attribute 'to_base_units'",
     "output_type": "error",
     "traceback": [
      "\u001b[0;31m---------------------------------------------------------------------------\u001b[0m",
      "\u001b[0;31mAttributeError\u001b[0m                            Traceback (most recent call last)",
      "\u001b[0;32m<ipython-input-26-dc47dcac0b63>\u001b[0m in \u001b[0;36m<module>\u001b[0;34m\u001b[0m\n\u001b[0;32m----> 1\u001b[0;31m \u001b[0mdf\u001b[0m\u001b[0;34m.\u001b[0m\u001b[0mphysipy\u001b[0m\u001b[0;34m.\u001b[0m\u001b[0mto_base_units\u001b[0m\u001b[0;34m(\u001b[0m\u001b[0;34m)\u001b[0m\u001b[0;34m\u001b[0m\u001b[0;34m\u001b[0m\u001b[0m\n\u001b[0m",
      "\u001b[0;32m~/MYLIB10/MODULES/physipandas/physipandas/dataframe.py\u001b[0m in \u001b[0;36mto_base_units\u001b[0;34m(self)\u001b[0m\n\u001b[1;32m     61\u001b[0m         \u001b[0;31m# name = object.__getattribute__(obj, '_name')\u001b[0m\u001b[0;34m\u001b[0m\u001b[0;34m\u001b[0m\u001b[0;34m\u001b[0m\u001b[0m\n\u001b[1;32m     62\u001b[0m         return DataFrame(\n\u001b[0;32m---> 63\u001b[0;31m             \u001b[0;34m{\u001b[0m\u001b[0mcol\u001b[0m\u001b[0;34m:\u001b[0m \u001b[0mdf\u001b[0m\u001b[0;34m[\u001b[0m\u001b[0mcol\u001b[0m\u001b[0;34m]\u001b[0m\u001b[0;34m.\u001b[0m\u001b[0mphysipy\u001b[0m\u001b[0;34m.\u001b[0m\u001b[0mto_base_units\u001b[0m\u001b[0;34m(\u001b[0m\u001b[0;34m)\u001b[0m \u001b[0;32mfor\u001b[0m \u001b[0mcol\u001b[0m \u001b[0;32min\u001b[0m \u001b[0mdf\u001b[0m\u001b[0;34m.\u001b[0m\u001b[0mcolumns\u001b[0m\u001b[0;34m}\u001b[0m\u001b[0;34m,\u001b[0m \u001b[0mindex\u001b[0m\u001b[0;34m=\u001b[0m\u001b[0mindex\u001b[0m\u001b[0;34m\u001b[0m\u001b[0;34m\u001b[0m\u001b[0m\n\u001b[0m\u001b[1;32m     64\u001b[0m         )\n",
      "\u001b[0;32m~/MYLIB10/MODULES/physipandas/physipandas/dataframe.py\u001b[0m in \u001b[0;36m<dictcomp>\u001b[0;34m(.0)\u001b[0m\n\u001b[1;32m     61\u001b[0m         \u001b[0;31m# name = object.__getattribute__(obj, '_name')\u001b[0m\u001b[0;34m\u001b[0m\u001b[0;34m\u001b[0m\u001b[0;34m\u001b[0m\u001b[0m\n\u001b[1;32m     62\u001b[0m         return DataFrame(\n\u001b[0;32m---> 63\u001b[0;31m             \u001b[0;34m{\u001b[0m\u001b[0mcol\u001b[0m\u001b[0;34m:\u001b[0m \u001b[0mdf\u001b[0m\u001b[0;34m[\u001b[0m\u001b[0mcol\u001b[0m\u001b[0;34m]\u001b[0m\u001b[0;34m.\u001b[0m\u001b[0mphysipy\u001b[0m\u001b[0;34m.\u001b[0m\u001b[0mto_base_units\u001b[0m\u001b[0;34m(\u001b[0m\u001b[0;34m)\u001b[0m \u001b[0;32mfor\u001b[0m \u001b[0mcol\u001b[0m \u001b[0;32min\u001b[0m \u001b[0mdf\u001b[0m\u001b[0;34m.\u001b[0m\u001b[0mcolumns\u001b[0m\u001b[0;34m}\u001b[0m\u001b[0;34m,\u001b[0m \u001b[0mindex\u001b[0m\u001b[0;34m=\u001b[0m\u001b[0mindex\u001b[0m\u001b[0;34m\u001b[0m\u001b[0;34m\u001b[0m\u001b[0m\n\u001b[0m\u001b[1;32m     64\u001b[0m         )\n",
      "\u001b[0;31mAttributeError\u001b[0m: 'PhysipySeriesAccessor' object has no attribute 'to_base_units'"
     ]
    }
   ],
   "source": [
    "df.physipy.to_base_units()"
   ]
  },
  {
   "cell_type": "code",
   "execution_count": null,
   "metadata": {},
   "outputs": [],
   "source": []
  },
  {
   "cell_type": "code",
   "execution_count": null,
   "metadata": {},
   "outputs": [],
   "source": []
  },
  {
   "cell_type": "markdown",
   "metadata": {},
   "source": [
    "# This works : should fail and does"
   ]
  },
  {
   "cell_type": "code",
   "execution_count": 27,
   "metadata": {},
   "outputs": [
    {
     "name": "stdout",
     "output_type": "stream",
     "text": [
      "QDTYPE : new with 1 s of type <class 'physipy.quantity.quantity.Quantity'>\n",
      "returning  physipy[s] with .unit 1 s\n",
      "calling qARRY with ()\n",
      "trying from sequence  [<Quantity : 0 m>, <Quantity : 1 m>, <Quantity : 2 m>, <Quantity : 3 m>, <Quantity : 4 m>, <Quantity : 5 m>, <Quantity : 6 m>, <Quantity : 7 m>, <Quantity : 8 m>, <Quantity : 9 m>] 10 physipy[s]\n",
      "ENTERING QARRAY with [0 1 2 3 4 5 6 7 8 9] m physipy[s] False\n",
      "QARRAY : init with [0 1 2 3 4 5 6 7 8 9] m of type <class 'physipy.quantity.quantity.Quantity'>\n",
      "data is set to [0 1 2 3 4 5 6 7 8 9] m with len 10 10 <class 'physipy.quantity.quantity.Quantity'>\n",
      "len values 10\n",
      "Dimension error : dimensions of operands are T and L, and are differents.\n",
      "OK : trying to set second to m\n"
     ]
    }
   ],
   "source": [
    "try:\n",
    "    a=pd.Series(np.arange(10)*m,\n",
    "            dtype=QuantityDtype(s))\n",
    "    print(\"--\")\n",
    "    print(type(a[0]))\n",
    "    print((a[0]))\n",
    "except DimensionError as e:\n",
    "    print(e)\n",
    "    print(\"OK : trying to set second to m\")"
   ]
  },
  {
   "cell_type": "markdown",
   "metadata": {},
   "source": [
    "# This fails : should be 0 m"
   ]
  },
  {
   "cell_type": "code",
   "execution_count": 28,
   "metadata": {},
   "outputs": [
    {
     "name": "stdout",
     "output_type": "stream",
     "text": [
      "QDTYPE : new with None of type <class 'NoneType'>\n",
      "QDTYPE : new is None, using quantify(1)\n",
      "returning  physipy[] with .unit 1\n",
      "calling qARRY with ()\n",
      "trying from sequence  [<Quantity : 0 m>, <Quantity : 1 m>, <Quantity : 2 m>, <Quantity : 3 m>, <Quantity : 4 m>, <Quantity : 5 m>, <Quantity : 6 m>, <Quantity : 7 m>, <Quantity : 8 m>, <Quantity : 9 m>] 10 physipy[]\n",
      "ENTERING QARRAY with [0 1 2 3 4 5 6 7 8 9] m physipy[] False\n",
      "QARRAY : init with [0 1 2 3 4 5 6 7 8 9] m of type <class 'physipy.quantity.quantity.Quantity'>\n",
      "data is set to [0 1 2 3 4 5 6 7 8 9] m with len 10 10 <class 'physipy.quantity.quantity.Quantity'>\n",
      "len values 10\n"
     ]
    },
    {
     "ename": "DimensionError",
     "evalue": "Dimension error : dimensions of operands are no-dimension and L, and are differents.",
     "output_type": "error",
     "traceback": [
      "\u001b[0;31m---------------------------------------------------------------------------\u001b[0m",
      "\u001b[0;31mDimensionError\u001b[0m                            Traceback (most recent call last)",
      "\u001b[0;32m<ipython-input-28-becfbe18ff4b>\u001b[0m in \u001b[0;36m<module>\u001b[0;34m\u001b[0m\n\u001b[0;32m----> 1\u001b[0;31m a = pd.Series(np.arange(10)*m,\n\u001b[0m\u001b[1;32m      2\u001b[0m             dtype=QuantityDtype())\n\u001b[1;32m      3\u001b[0m \u001b[0mprint\u001b[0m\u001b[0;34m(\u001b[0m\u001b[0ma\u001b[0m\u001b[0;34m[\u001b[0m\u001b[0;36m0\u001b[0m\u001b[0;34m]\u001b[0m\u001b[0;34m)\u001b[0m\u001b[0;34m\u001b[0m\u001b[0;34m\u001b[0m\u001b[0m\n",
      "\u001b[0;32m/opt/anaconda3/lib/python3.8/site-packages/pandas/core/series.py\u001b[0m in \u001b[0;36m__init__\u001b[0;34m(self, data, index, dtype, name, copy, fastpath)\u001b[0m\n\u001b[1;32m    437\u001b[0m                     \u001b[0mdata\u001b[0m \u001b[0;34m=\u001b[0m \u001b[0mdata\u001b[0m\u001b[0;34m.\u001b[0m\u001b[0mcopy\u001b[0m\u001b[0;34m(\u001b[0m\u001b[0;34m)\u001b[0m\u001b[0;34m\u001b[0m\u001b[0;34m\u001b[0m\u001b[0m\n\u001b[1;32m    438\u001b[0m             \u001b[0;32melse\u001b[0m\u001b[0;34m:\u001b[0m\u001b[0;34m\u001b[0m\u001b[0;34m\u001b[0m\u001b[0m\n\u001b[0;32m--> 439\u001b[0;31m                 \u001b[0mdata\u001b[0m \u001b[0;34m=\u001b[0m \u001b[0msanitize_array\u001b[0m\u001b[0;34m(\u001b[0m\u001b[0mdata\u001b[0m\u001b[0;34m,\u001b[0m \u001b[0mindex\u001b[0m\u001b[0;34m,\u001b[0m \u001b[0mdtype\u001b[0m\u001b[0;34m,\u001b[0m \u001b[0mcopy\u001b[0m\u001b[0;34m)\u001b[0m\u001b[0;34m\u001b[0m\u001b[0;34m\u001b[0m\u001b[0m\n\u001b[0m\u001b[1;32m    440\u001b[0m \u001b[0;34m\u001b[0m\u001b[0m\n\u001b[1;32m    441\u001b[0m                 \u001b[0mmanager\u001b[0m \u001b[0;34m=\u001b[0m \u001b[0mget_option\u001b[0m\u001b[0;34m(\u001b[0m\u001b[0;34m\"mode.data_manager\"\u001b[0m\u001b[0;34m)\u001b[0m\u001b[0;34m\u001b[0m\u001b[0;34m\u001b[0m\u001b[0m\n",
      "\u001b[0;32m/opt/anaconda3/lib/python3.8/site-packages/pandas/core/construction.py\u001b[0m in \u001b[0;36msanitize_array\u001b[0;34m(data, index, dtype, copy, raise_cast_failure, allow_2d)\u001b[0m\n\u001b[1;32m    565\u001b[0m \u001b[0;34m\u001b[0m\u001b[0m\n\u001b[1;32m    566\u001b[0m         \u001b[0;32mif\u001b[0m \u001b[0mdtype\u001b[0m \u001b[0;32mis\u001b[0m \u001b[0;32mnot\u001b[0m \u001b[0;32mNone\u001b[0m \u001b[0;32mor\u001b[0m \u001b[0mlen\u001b[0m\u001b[0;34m(\u001b[0m\u001b[0mdata\u001b[0m\u001b[0;34m)\u001b[0m \u001b[0;34m==\u001b[0m \u001b[0;36m0\u001b[0m\u001b[0;34m:\u001b[0m\u001b[0;34m\u001b[0m\u001b[0;34m\u001b[0m\u001b[0m\n\u001b[0;32m--> 567\u001b[0;31m             \u001b[0msubarr\u001b[0m \u001b[0;34m=\u001b[0m \u001b[0m_try_cast\u001b[0m\u001b[0;34m(\u001b[0m\u001b[0mdata\u001b[0m\u001b[0;34m,\u001b[0m \u001b[0mdtype\u001b[0m\u001b[0;34m,\u001b[0m \u001b[0mcopy\u001b[0m\u001b[0;34m,\u001b[0m \u001b[0mraise_cast_failure\u001b[0m\u001b[0;34m)\u001b[0m\u001b[0;34m\u001b[0m\u001b[0;34m\u001b[0m\u001b[0m\n\u001b[0m\u001b[1;32m    568\u001b[0m         \u001b[0;32melse\u001b[0m\u001b[0;34m:\u001b[0m\u001b[0;34m\u001b[0m\u001b[0;34m\u001b[0m\u001b[0m\n\u001b[1;32m    569\u001b[0m             \u001b[0msubarr\u001b[0m \u001b[0;34m=\u001b[0m \u001b[0mmaybe_convert_platform\u001b[0m\u001b[0;34m(\u001b[0m\u001b[0mdata\u001b[0m\u001b[0;34m)\u001b[0m\u001b[0;34m\u001b[0m\u001b[0;34m\u001b[0m\u001b[0m\n",
      "\u001b[0;32m/opt/anaconda3/lib/python3.8/site-packages/pandas/core/construction.py\u001b[0m in \u001b[0;36m_try_cast\u001b[0;34m(arr, dtype, copy, raise_cast_failure)\u001b[0m\n\u001b[1;32m    728\u001b[0m \u001b[0;34m\u001b[0m\u001b[0m\n\u001b[1;32m    729\u001b[0m         \u001b[0marray_type\u001b[0m \u001b[0;34m=\u001b[0m \u001b[0mdtype\u001b[0m\u001b[0;34m.\u001b[0m\u001b[0mconstruct_array_type\u001b[0m\u001b[0;34m(\u001b[0m\u001b[0;34m)\u001b[0m\u001b[0;34m.\u001b[0m\u001b[0m_from_sequence\u001b[0m\u001b[0;34m\u001b[0m\u001b[0;34m\u001b[0m\u001b[0m\n\u001b[0;32m--> 730\u001b[0;31m         \u001b[0msubarr\u001b[0m \u001b[0;34m=\u001b[0m \u001b[0marray_type\u001b[0m\u001b[0;34m(\u001b[0m\u001b[0marr\u001b[0m\u001b[0;34m,\u001b[0m \u001b[0mdtype\u001b[0m\u001b[0;34m=\u001b[0m\u001b[0mdtype\u001b[0m\u001b[0;34m,\u001b[0m \u001b[0mcopy\u001b[0m\u001b[0;34m=\u001b[0m\u001b[0mcopy\u001b[0m\u001b[0;34m)\u001b[0m\u001b[0;34m\u001b[0m\u001b[0;34m\u001b[0m\u001b[0m\n\u001b[0m\u001b[1;32m    731\u001b[0m         \u001b[0;32mreturn\u001b[0m \u001b[0msubarr\u001b[0m\u001b[0;34m\u001b[0m\u001b[0;34m\u001b[0m\u001b[0m\n\u001b[1;32m    732\u001b[0m \u001b[0;34m\u001b[0m\u001b[0m\n",
      "\u001b[0;32m~/MYLIB10/MODULES/physipandas/physipandas/extension.py\u001b[0m in \u001b[0;36m_from_sequence\u001b[0;34m(cls, scalars, dtype, copy)\u001b[0m\n\u001b[1;32m    227\u001b[0m         \u001b[0;31m#values = asqarray(scalars)\u001b[0m\u001b[0;34m\u001b[0m\u001b[0;34m\u001b[0m\u001b[0;34m\u001b[0m\u001b[0m\n\u001b[1;32m    228\u001b[0m \u001b[0;34m\u001b[0m\u001b[0m\n\u001b[0;32m--> 229\u001b[0;31m         \u001b[0;32mreturn\u001b[0m \u001b[0mcls\u001b[0m\u001b[0;34m(\u001b[0m\u001b[0mvalues\u001b[0m\u001b[0;34m,\u001b[0m \u001b[0mdtype\u001b[0m\u001b[0;34m=\u001b[0m\u001b[0mdtype\u001b[0m\u001b[0;34m)\u001b[0m\u001b[0;34m\u001b[0m\u001b[0;34m\u001b[0m\u001b[0m\n\u001b[0m\u001b[1;32m    230\u001b[0m \u001b[0;34m\u001b[0m\u001b[0m\n\u001b[1;32m    231\u001b[0m     \u001b[0;31m#@classmethod\u001b[0m\u001b[0;34m\u001b[0m\u001b[0;34m\u001b[0m\u001b[0;34m\u001b[0m\u001b[0m\n",
      "\u001b[0;32m~/MYLIB10/MODULES/physipandas/physipandas/extension.py\u001b[0m in \u001b[0;36m__init__\u001b[0;34m(self, values, dtype, copy)\u001b[0m\n\u001b[1;32m    210\u001b[0m             \u001b[0;32mif\u001b[0m \u001b[0misinstance\u001b[0m\u001b[0;34m(\u001b[0m\u001b[0mdtype\u001b[0m\u001b[0;34m,\u001b[0m \u001b[0mQuantityDtype\u001b[0m\u001b[0;34m)\u001b[0m \u001b[0;32mor\u001b[0m \u001b[0misinstance\u001b[0m\u001b[0;34m(\u001b[0m\u001b[0mdtype\u001b[0m\u001b[0;34m,\u001b[0m \u001b[0mQuantity\u001b[0m\u001b[0;34m)\u001b[0m\u001b[0;34m:\u001b[0m\u001b[0;34m\u001b[0m\u001b[0;34m\u001b[0m\u001b[0m\n\u001b[1;32m    211\u001b[0m                 \u001b[0;32mif\u001b[0m \u001b[0mdtype\u001b[0m\u001b[0;34m.\u001b[0m\u001b[0mdimension\u001b[0m \u001b[0;34m!=\u001b[0m \u001b[0mvalues\u001b[0m\u001b[0;34m.\u001b[0m\u001b[0mdimension\u001b[0m\u001b[0;34m:\u001b[0m\u001b[0;34m\u001b[0m\u001b[0;34m\u001b[0m\u001b[0m\n\u001b[0;32m--> 212\u001b[0;31m                     \u001b[0;32mraise\u001b[0m \u001b[0mDimensionError\u001b[0m\u001b[0;34m(\u001b[0m\u001b[0mdtype\u001b[0m\u001b[0;34m.\u001b[0m\u001b[0mdimension\u001b[0m\u001b[0;34m,\u001b[0m \u001b[0mvalues\u001b[0m\u001b[0;34m.\u001b[0m\u001b[0mdimension\u001b[0m\u001b[0;34m)\u001b[0m\u001b[0;34m\u001b[0m\u001b[0;34m\u001b[0m\u001b[0m\n\u001b[0m\u001b[1;32m    213\u001b[0m             \u001b[0mdtype\u001b[0m \u001b[0;34m=\u001b[0m \u001b[0mQuantityDtype\u001b[0m\u001b[0;34m(\u001b[0m\u001b[0mvalues\u001b[0m\u001b[0;34m.\u001b[0m\u001b[0m_SI_unitary_quantity\u001b[0m\u001b[0;34m)\u001b[0m\u001b[0;34m\u001b[0m\u001b[0;34m\u001b[0m\u001b[0m\n\u001b[1;32m    214\u001b[0m         \u001b[0mprint\u001b[0m\u001b[0;34m(\u001b[0m\u001b[0;34m\"dtype is then set to \"\u001b[0m\u001b[0;34m,\u001b[0m \u001b[0mdtype\u001b[0m\u001b[0;34m)\u001b[0m\u001b[0;34m\u001b[0m\u001b[0;34m\u001b[0m\u001b[0m\n",
      "\u001b[0;31mDimensionError\u001b[0m: Dimension error : dimensions of operands are no-dimension and L, and are differents."
     ]
    }
   ],
   "source": [
    "a = pd.Series(np.arange(10)*m,\n",
    "            dtype=QuantityDtype())\n",
    "print(a[0])"
   ]
  },
  {
   "cell_type": "markdown",
   "metadata": {},
   "source": [
    "# Should this work ?"
   ]
  },
  {
   "cell_type": "code",
   "execution_count": 29,
   "metadata": {},
   "outputs": [
    {
     "name": "stdout",
     "output_type": "stream",
     "text": [
      "QDTYPE : new with 1 s of type <class 'physipy.quantity.quantity.Quantity'>\n",
      "returning  physipy[s] with .unit 1 s\n",
      "calling qARRY with ()\n",
      "trying from sequence  [0 1 2 3 4 5 6 7 8 9] 10 physipy[s]\n",
      "ENTERING QARRAY with [0 1 2 3 4 5 6 7 8 9] physipy[s] False\n",
      "QARRAY : init with [0 1 2 3 4 5 6 7 8 9] of type <class 'physipy.quantity.quantity.Quantity'>\n",
      "data is set to [0 1 2 3 4 5 6 7 8 9] with len 10 10 <class 'physipy.quantity.quantity.Quantity'>\n",
      "len values 10\n"
     ]
    },
    {
     "ename": "DimensionError",
     "evalue": "Dimension error : dimensions of operands are T and no-dimension, and are differents.",
     "output_type": "error",
     "traceback": [
      "\u001b[0;31m---------------------------------------------------------------------------\u001b[0m",
      "\u001b[0;31mDimensionError\u001b[0m                            Traceback (most recent call last)",
      "\u001b[0;32m<ipython-input-29-66a728e1f66a>\u001b[0m in \u001b[0;36m<module>\u001b[0;34m\u001b[0m\n\u001b[0;32m----> 1\u001b[0;31m a=pd.Series(np.arange(10), \n\u001b[0m\u001b[1;32m      2\u001b[0m             dtype=QuantityDtype(s))\n\u001b[1;32m      3\u001b[0m \u001b[0mprint\u001b[0m\u001b[0;34m(\u001b[0m\u001b[0mtype\u001b[0m\u001b[0;34m(\u001b[0m\u001b[0ma\u001b[0m\u001b[0;34m[\u001b[0m\u001b[0;36m0\u001b[0m\u001b[0;34m]\u001b[0m\u001b[0;34m)\u001b[0m\u001b[0;34m)\u001b[0m\u001b[0;34m\u001b[0m\u001b[0;34m\u001b[0m\u001b[0m\n\u001b[1;32m      4\u001b[0m \u001b[0mprint\u001b[0m\u001b[0;34m(\u001b[0m\u001b[0ma\u001b[0m\u001b[0;34m[\u001b[0m\u001b[0;36m0\u001b[0m\u001b[0;34m]\u001b[0m\u001b[0;34m)\u001b[0m\u001b[0;34m\u001b[0m\u001b[0;34m\u001b[0m\u001b[0m\n\u001b[1;32m      5\u001b[0m \u001b[0mprint\u001b[0m\u001b[0;34m(\u001b[0m\u001b[0ma\u001b[0m\u001b[0;34m.\u001b[0m\u001b[0mvalues\u001b[0m\u001b[0;34m.\u001b[0m\u001b[0mdimension\u001b[0m\u001b[0;34m)\u001b[0m\u001b[0;34m\u001b[0m\u001b[0;34m\u001b[0m\u001b[0m\n",
      "\u001b[0;32m/opt/anaconda3/lib/python3.8/site-packages/pandas/core/series.py\u001b[0m in \u001b[0;36m__init__\u001b[0;34m(self, data, index, dtype, name, copy, fastpath)\u001b[0m\n\u001b[1;32m    437\u001b[0m                     \u001b[0mdata\u001b[0m \u001b[0;34m=\u001b[0m \u001b[0mdata\u001b[0m\u001b[0;34m.\u001b[0m\u001b[0mcopy\u001b[0m\u001b[0;34m(\u001b[0m\u001b[0;34m)\u001b[0m\u001b[0;34m\u001b[0m\u001b[0;34m\u001b[0m\u001b[0m\n\u001b[1;32m    438\u001b[0m             \u001b[0;32melse\u001b[0m\u001b[0;34m:\u001b[0m\u001b[0;34m\u001b[0m\u001b[0;34m\u001b[0m\u001b[0m\n\u001b[0;32m--> 439\u001b[0;31m                 \u001b[0mdata\u001b[0m \u001b[0;34m=\u001b[0m \u001b[0msanitize_array\u001b[0m\u001b[0;34m(\u001b[0m\u001b[0mdata\u001b[0m\u001b[0;34m,\u001b[0m \u001b[0mindex\u001b[0m\u001b[0;34m,\u001b[0m \u001b[0mdtype\u001b[0m\u001b[0;34m,\u001b[0m \u001b[0mcopy\u001b[0m\u001b[0;34m)\u001b[0m\u001b[0;34m\u001b[0m\u001b[0;34m\u001b[0m\u001b[0m\n\u001b[0m\u001b[1;32m    440\u001b[0m \u001b[0;34m\u001b[0m\u001b[0m\n\u001b[1;32m    441\u001b[0m                 \u001b[0mmanager\u001b[0m \u001b[0;34m=\u001b[0m \u001b[0mget_option\u001b[0m\u001b[0;34m(\u001b[0m\u001b[0;34m\"mode.data_manager\"\u001b[0m\u001b[0;34m)\u001b[0m\u001b[0;34m\u001b[0m\u001b[0;34m\u001b[0m\u001b[0m\n",
      "\u001b[0;32m/opt/anaconda3/lib/python3.8/site-packages/pandas/core/construction.py\u001b[0m in \u001b[0;36msanitize_array\u001b[0;34m(data, index, dtype, copy, raise_cast_failure, allow_2d)\u001b[0m\n\u001b[1;32m    543\u001b[0m         \u001b[0;32melse\u001b[0m\u001b[0;34m:\u001b[0m\u001b[0;34m\u001b[0m\u001b[0;34m\u001b[0m\u001b[0m\n\u001b[1;32m    544\u001b[0m             \u001b[0;31m# we will try to copy by-definition here\u001b[0m\u001b[0;34m\u001b[0m\u001b[0;34m\u001b[0m\u001b[0;34m\u001b[0m\u001b[0m\n\u001b[0;32m--> 545\u001b[0;31m             \u001b[0msubarr\u001b[0m \u001b[0;34m=\u001b[0m \u001b[0m_try_cast\u001b[0m\u001b[0;34m(\u001b[0m\u001b[0mdata\u001b[0m\u001b[0;34m,\u001b[0m \u001b[0mdtype\u001b[0m\u001b[0;34m,\u001b[0m \u001b[0mcopy\u001b[0m\u001b[0;34m,\u001b[0m \u001b[0mraise_cast_failure\u001b[0m\u001b[0;34m)\u001b[0m\u001b[0;34m\u001b[0m\u001b[0;34m\u001b[0m\u001b[0m\n\u001b[0m\u001b[1;32m    546\u001b[0m \u001b[0;34m\u001b[0m\u001b[0m\n\u001b[1;32m    547\u001b[0m     \u001b[0;32melif\u001b[0m \u001b[0misinstance\u001b[0m\u001b[0;34m(\u001b[0m\u001b[0mdata\u001b[0m\u001b[0;34m,\u001b[0m \u001b[0mABCExtensionArray\u001b[0m\u001b[0;34m)\u001b[0m\u001b[0;34m:\u001b[0m\u001b[0;34m\u001b[0m\u001b[0;34m\u001b[0m\u001b[0m\n",
      "\u001b[0;32m/opt/anaconda3/lib/python3.8/site-packages/pandas/core/construction.py\u001b[0m in \u001b[0;36m_try_cast\u001b[0;34m(arr, dtype, copy, raise_cast_failure)\u001b[0m\n\u001b[1;32m    728\u001b[0m \u001b[0;34m\u001b[0m\u001b[0m\n\u001b[1;32m    729\u001b[0m         \u001b[0marray_type\u001b[0m \u001b[0;34m=\u001b[0m \u001b[0mdtype\u001b[0m\u001b[0;34m.\u001b[0m\u001b[0mconstruct_array_type\u001b[0m\u001b[0;34m(\u001b[0m\u001b[0;34m)\u001b[0m\u001b[0;34m.\u001b[0m\u001b[0m_from_sequence\u001b[0m\u001b[0;34m\u001b[0m\u001b[0;34m\u001b[0m\u001b[0m\n\u001b[0;32m--> 730\u001b[0;31m         \u001b[0msubarr\u001b[0m \u001b[0;34m=\u001b[0m \u001b[0marray_type\u001b[0m\u001b[0;34m(\u001b[0m\u001b[0marr\u001b[0m\u001b[0;34m,\u001b[0m \u001b[0mdtype\u001b[0m\u001b[0;34m=\u001b[0m\u001b[0mdtype\u001b[0m\u001b[0;34m,\u001b[0m \u001b[0mcopy\u001b[0m\u001b[0;34m=\u001b[0m\u001b[0mcopy\u001b[0m\u001b[0;34m)\u001b[0m\u001b[0;34m\u001b[0m\u001b[0;34m\u001b[0m\u001b[0m\n\u001b[0m\u001b[1;32m    731\u001b[0m         \u001b[0;32mreturn\u001b[0m \u001b[0msubarr\u001b[0m\u001b[0;34m\u001b[0m\u001b[0;34m\u001b[0m\u001b[0m\n\u001b[1;32m    732\u001b[0m \u001b[0;34m\u001b[0m\u001b[0m\n",
      "\u001b[0;32m~/MYLIB10/MODULES/physipandas/physipandas/extension.py\u001b[0m in \u001b[0;36m_from_sequence\u001b[0;34m(cls, scalars, dtype, copy)\u001b[0m\n\u001b[1;32m    227\u001b[0m         \u001b[0;31m#values = asqarray(scalars)\u001b[0m\u001b[0;34m\u001b[0m\u001b[0;34m\u001b[0m\u001b[0;34m\u001b[0m\u001b[0m\n\u001b[1;32m    228\u001b[0m \u001b[0;34m\u001b[0m\u001b[0m\n\u001b[0;32m--> 229\u001b[0;31m         \u001b[0;32mreturn\u001b[0m \u001b[0mcls\u001b[0m\u001b[0;34m(\u001b[0m\u001b[0mvalues\u001b[0m\u001b[0;34m,\u001b[0m \u001b[0mdtype\u001b[0m\u001b[0;34m=\u001b[0m\u001b[0mdtype\u001b[0m\u001b[0;34m)\u001b[0m\u001b[0;34m\u001b[0m\u001b[0;34m\u001b[0m\u001b[0m\n\u001b[0m\u001b[1;32m    230\u001b[0m \u001b[0;34m\u001b[0m\u001b[0m\n\u001b[1;32m    231\u001b[0m     \u001b[0;31m#@classmethod\u001b[0m\u001b[0;34m\u001b[0m\u001b[0;34m\u001b[0m\u001b[0;34m\u001b[0m\u001b[0m\n",
      "\u001b[0;32m~/MYLIB10/MODULES/physipandas/physipandas/extension.py\u001b[0m in \u001b[0;36m__init__\u001b[0;34m(self, values, dtype, copy)\u001b[0m\n\u001b[1;32m    210\u001b[0m             \u001b[0;32mif\u001b[0m \u001b[0misinstance\u001b[0m\u001b[0;34m(\u001b[0m\u001b[0mdtype\u001b[0m\u001b[0;34m,\u001b[0m \u001b[0mQuantityDtype\u001b[0m\u001b[0;34m)\u001b[0m \u001b[0;32mor\u001b[0m \u001b[0misinstance\u001b[0m\u001b[0;34m(\u001b[0m\u001b[0mdtype\u001b[0m\u001b[0;34m,\u001b[0m \u001b[0mQuantity\u001b[0m\u001b[0;34m)\u001b[0m\u001b[0;34m:\u001b[0m\u001b[0;34m\u001b[0m\u001b[0;34m\u001b[0m\u001b[0m\n\u001b[1;32m    211\u001b[0m                 \u001b[0;32mif\u001b[0m \u001b[0mdtype\u001b[0m\u001b[0;34m.\u001b[0m\u001b[0mdimension\u001b[0m \u001b[0;34m!=\u001b[0m \u001b[0mvalues\u001b[0m\u001b[0;34m.\u001b[0m\u001b[0mdimension\u001b[0m\u001b[0;34m:\u001b[0m\u001b[0;34m\u001b[0m\u001b[0;34m\u001b[0m\u001b[0m\n\u001b[0;32m--> 212\u001b[0;31m                     \u001b[0;32mraise\u001b[0m \u001b[0mDimensionError\u001b[0m\u001b[0;34m(\u001b[0m\u001b[0mdtype\u001b[0m\u001b[0;34m.\u001b[0m\u001b[0mdimension\u001b[0m\u001b[0;34m,\u001b[0m \u001b[0mvalues\u001b[0m\u001b[0;34m.\u001b[0m\u001b[0mdimension\u001b[0m\u001b[0;34m)\u001b[0m\u001b[0;34m\u001b[0m\u001b[0;34m\u001b[0m\u001b[0m\n\u001b[0m\u001b[1;32m    213\u001b[0m             \u001b[0mdtype\u001b[0m \u001b[0;34m=\u001b[0m \u001b[0mQuantityDtype\u001b[0m\u001b[0;34m(\u001b[0m\u001b[0mvalues\u001b[0m\u001b[0;34m.\u001b[0m\u001b[0m_SI_unitary_quantity\u001b[0m\u001b[0;34m)\u001b[0m\u001b[0;34m\u001b[0m\u001b[0;34m\u001b[0m\u001b[0m\n\u001b[1;32m    214\u001b[0m         \u001b[0mprint\u001b[0m\u001b[0;34m(\u001b[0m\u001b[0;34m\"dtype is then set to \"\u001b[0m\u001b[0;34m,\u001b[0m \u001b[0mdtype\u001b[0m\u001b[0;34m)\u001b[0m\u001b[0;34m\u001b[0m\u001b[0;34m\u001b[0m\u001b[0m\n",
      "\u001b[0;31mDimensionError\u001b[0m: Dimension error : dimensions of operands are T and no-dimension, and are differents."
     ]
    }
   ],
   "source": [
    "a=pd.Series(np.arange(10), \n",
    "            dtype=QuantityDtype(s))\n",
    "print(type(a[0]))\n",
    "print(a[0])\n",
    "print(a.values.dimension)"
   ]
  },
  {
   "cell_type": "code",
   "execution_count": 31,
   "metadata": {},
   "outputs": [
    {
     "name": "stdout",
     "output_type": "stream",
     "text": [
      "<class 'physipy.quantity.quantity.Quantity'>\n",
      "0 m\n",
      "0    0 m\n",
      "1    1 m\n",
      "2    2 m\n",
      "3    3 m\n",
      "4    4 m\n",
      "5    5 m\n",
      "6    6 m\n",
      "7    7 m\n",
      "8    8 m\n",
      "9    9 m\n",
      "dtype: object\n"
     ]
    }
   ],
   "source": [
    "a=pd.Series(np.arange(10)*m)\n",
    "print(type(a[0]))\n",
    "print((a[0]))\n",
    "print(a)"
   ]
  },
  {
   "cell_type": "code",
   "execution_count": null,
   "metadata": {},
   "outputs": [],
   "source": []
  },
  {
   "cell_type": "code",
   "execution_count": null,
   "metadata": {},
   "outputs": [],
   "source": []
  },
  {
   "cell_type": "code",
   "execution_count": null,
   "metadata": {},
   "outputs": [],
   "source": []
  },
  {
   "cell_type": "code",
   "execution_count": 32,
   "metadata": {},
   "outputs": [
    {
     "data": {
      "text/plain": [
       "0    a\n",
       "1    b\n",
       "2    c\n",
       "3    a\n",
       "dtype: category\n",
       "Categories (3, object): ['a', 'b', 'c']"
      ]
     },
     "execution_count": 32,
     "metadata": {},
     "output_type": "execute_result"
    }
   ],
   "source": [
    "s = pd.Series([\"a\", \"b\", \"c\", \"a\"], dtype=\"category\")\n",
    "s"
   ]
  },
  {
   "cell_type": "code",
   "execution_count": 33,
   "metadata": {},
   "outputs": [
    {
     "data": {
      "text/plain": [
       "0    a\n",
       "1    b\n",
       "2    c\n",
       "3    a\n",
       "dtype: object"
      ]
     },
     "execution_count": 33,
     "metadata": {},
     "output_type": "execute_result"
    }
   ],
   "source": [
    "pd.Series([\"a\", \"b\", \"c\", \"a\"])"
   ]
  },
  {
   "cell_type": "code",
   "execution_count": null,
   "metadata": {},
   "outputs": [],
   "source": []
  },
  {
   "cell_type": "code",
   "execution_count": 34,
   "metadata": {},
   "outputs": [
    {
     "data": {
      "text/plain": [
       "\u001b[0;31mSignature:\u001b[0m \u001b[0mregister_extension_dtype\u001b[0m\u001b[0;34m(\u001b[0m\u001b[0mcls\u001b[0m\u001b[0;34m:\u001b[0m \u001b[0;34m'type[E]'\u001b[0m\u001b[0;34m)\u001b[0m \u001b[0;34m->\u001b[0m \u001b[0;34m'type[E]'\u001b[0m\u001b[0;34m\u001b[0m\u001b[0;34m\u001b[0m\u001b[0m\n",
       "\u001b[0;31mDocstring:\u001b[0m\n",
       "Register an ExtensionType with pandas as class decorator.\n",
       "\n",
       "This enables operations like ``.astype(name)`` for the name\n",
       "of the ExtensionDtype.\n",
       "\n",
       "Returns\n",
       "-------\n",
       "callable\n",
       "    A class decorator.\n",
       "\n",
       "Examples\n",
       "--------\n",
       ">>> from pandas.api.extensions import register_extension_dtype\n",
       ">>> from pandas.api.extensions import ExtensionDtype\n",
       ">>> @register_extension_dtype\n",
       "... class MyExtensionDtype(ExtensionDtype):\n",
       "...     name = \"myextension\"\n",
       "\u001b[0;31mFile:\u001b[0m      /opt/anaconda3/lib/python3.8/site-packages/pandas/core/dtypes/base.py\n",
       "\u001b[0;31mType:\u001b[0m      function\n"
      ]
     },
     "metadata": {},
     "output_type": "display_data"
    }
   ],
   "source": [
    "from pandas.api.extensions import register_extension_dtype\n",
    "\n",
    "register_extension_dtype?"
   ]
  },
  {
   "cell_type": "code",
   "execution_count": null,
   "metadata": {},
   "outputs": [],
   "source": []
  }
 ],
 "metadata": {
  "kernelspec": {
   "display_name": "Python 3 (ipykernel)",
   "language": "python",
   "name": "python3"
  },
  "language_info": {
   "codemirror_mode": {
    "name": "ipython",
    "version": 3
   },
   "file_extension": ".py",
   "mimetype": "text/x-python",
   "name": "python",
   "nbconvert_exporter": "python",
   "pygments_lexer": "ipython3",
   "version": "3.8.5"
  }
 },
 "nbformat": 4,
 "nbformat_minor": 4
}
