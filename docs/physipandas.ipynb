{
 "cells": [
  {
   "cell_type": "code",
   "execution_count": 5,
   "metadata": {},
   "outputs": [
    {
     "name": "stdout",
     "output_type": "stream",
     "text": [
      "1.4.1 1.21.4 0.2.3 0.0.1\n"
     ]
    }
   ],
   "source": [
    "import sys\n",
    "sys.path.append(r\"/Users/t0160971/Documents/MODULES/physipandas\")\n",
    "import numpy as np\n",
    "import pandas as pd\n",
    "import physipy\n",
    "from physipy import m, s, DimensionError, K, Dimension, units\n",
    "\n",
    "import physipandas\n",
    "from physipandas import QuantityDtype, QuantityArray\n",
    "\n",
    "print(pd.__version__, \n",
    "      np.__version__, \n",
    "      physipy.__version__,\n",
    "     physipandas.__version__,\n",
    "     )"
   ]
  },
  {
   "cell_type": "markdown",
   "metadata": {},
   "source": [
    "# Creation of series"
   ]
  },
  {
   "cell_type": "code",
   "execution_count": 6,
   "metadata": {},
   "outputs": [
    {
     "name": "stdout",
     "output_type": "stream",
     "text": [
      "pd.Series(QuantityArray(np.arange(10)*m))\n",
      "pd.Series(QuantityArray(np.arange(10)*m), dtype='physipy[m]')\n",
      "pd.Series(QuantityArray(np.arange(10)*m), dtype=QuantityDtype(m))\n",
      "a 1 (10,) None 10 RangeIndex(start=0, stop=10, step=1) 10 physipy[m] physipy[m] 0 m 1 m 0 m 0 m\n",
      "b 1 (10,) None 10 RangeIndex(start=0, stop=10, step=1) 10 physipy[m] physipy[m] 0 m 1 m 0 m 0 m\n",
      "c 1 (10,) None 10 RangeIndex(start=0, stop=10, step=1) 10 physipy[m] physipy[m] 0 m 1 m 0 m 0 m\n"
     ]
    }
   ],
   "source": [
    "\n",
    "CREATION_DICT = {\n",
    "    \"a\":(\"pd.Series(QuantityArray(np.arange(10)*m))\", \n",
    "          pd.Series(QuantityArray(np.arange(10)*m))),\n",
    "    \"b\":(\"pd.Series(QuantityArray(np.arange(10)*m), dtype='physipy[m]')\",\n",
    "          pd.Series(QuantityArray(np.arange(10)*m), dtype=\"physipy[m]\")),\n",
    "    \"c\":(\"pd.Series(QuantityArray(np.arange(10)*m), dtype=QuantityDtype(m))\",\n",
    "          pd.Series(QuantityArray(np.arange(10)*m), dtype=QuantityDtype(m))),\n",
    "    #\"d\":(\"pd.Series(np.arange(10)*m, dtype='physipy[m]')\",\n",
    "    #      pd.Series(np.arange(10)*m, dtype=\"physipy[m]\")),\n",
    "}\n",
    "\n",
    "for k, v in CREATION_DICT.items():\n",
    "    print(v[0])\n",
    "\n",
    "for k, v in CREATION_DICT.items():\n",
    "    s = v[1]\n",
    "    print(k, \n",
    "          s.ndim, \n",
    "          s.shape,\n",
    "          s.name,\n",
    "          s.size, \n",
    "          #s.nbytes,\n",
    "          s.index, len(s),\n",
    "          s.dtype,\n",
    "          s.dtypes,\n",
    "          s[0],\n",
    "          s.iat[1],\n",
    "          s.loc[0],\n",
    "          s.iloc[0],\n",
    "         )\n",
    "\n"
   ]
  },
  {
   "cell_type": "markdown",
   "metadata": {},
   "source": [
    "# Operations"
   ]
  },
  {
   "cell_type": "code",
   "execution_count": 7,
   "metadata": {},
   "outputs": [
    {
     "ename": "DimensionError",
     "evalue": "Dimension error : dimensions of operands are L and no-dimension, and are differents (length vs dimensionless).",
     "output_type": "error",
     "traceback": [
      "\u001b[0;31m---------------------------------------------------------------------------\u001b[0m",
      "\u001b[0;31mDimensionError\u001b[0m                            Traceback (most recent call last)",
      "\u001b[0;32m/var/folders/5k/bf4syt7x1zjbhc6b28srzzym0000gn/T/ipykernel_47465/3242817931.py\u001b[0m in \u001b[0;36m<module>\u001b[0;34m\u001b[0m\n\u001b[0;32m----> 1\u001b[0;31m \u001b[0ma\u001b[0m \u001b[0;34m=\u001b[0m \u001b[0mpd\u001b[0m\u001b[0;34m.\u001b[0m\u001b[0mSeries\u001b[0m\u001b[0;34m(\u001b[0m\u001b[0mnp\u001b[0m\u001b[0;34m.\u001b[0m\u001b[0marange\u001b[0m\u001b[0;34m(\u001b[0m\u001b[0;36m10\u001b[0m\u001b[0;34m)\u001b[0m\u001b[0;34m*\u001b[0m\u001b[0mm\u001b[0m\u001b[0;34m,\u001b[0m \u001b[0mdtype\u001b[0m\u001b[0;34m=\u001b[0m\u001b[0;34m\"physipy[m]\"\u001b[0m\u001b[0;34m)\u001b[0m\u001b[0;34m\u001b[0m\u001b[0;34m\u001b[0m\u001b[0m\n\u001b[0m",
      "\u001b[0;32m/opt/anaconda3/lib/python3.9/site-packages/pandas/core/series.py\u001b[0m in \u001b[0;36m__init__\u001b[0;34m(self, data, index, dtype, name, copy, fastpath)\u001b[0m\n\u001b[1;32m    449\u001b[0m                     \u001b[0mdata\u001b[0m \u001b[0;34m=\u001b[0m \u001b[0mdata\u001b[0m\u001b[0;34m.\u001b[0m\u001b[0mcopy\u001b[0m\u001b[0;34m(\u001b[0m\u001b[0;34m)\u001b[0m\u001b[0;34m\u001b[0m\u001b[0;34m\u001b[0m\u001b[0m\n\u001b[1;32m    450\u001b[0m             \u001b[0;32melse\u001b[0m\u001b[0;34m:\u001b[0m\u001b[0;34m\u001b[0m\u001b[0;34m\u001b[0m\u001b[0m\n\u001b[0;32m--> 451\u001b[0;31m                 \u001b[0mdata\u001b[0m \u001b[0;34m=\u001b[0m \u001b[0msanitize_array\u001b[0m\u001b[0;34m(\u001b[0m\u001b[0mdata\u001b[0m\u001b[0;34m,\u001b[0m \u001b[0mindex\u001b[0m\u001b[0;34m,\u001b[0m \u001b[0mdtype\u001b[0m\u001b[0;34m,\u001b[0m \u001b[0mcopy\u001b[0m\u001b[0;34m)\u001b[0m\u001b[0;34m\u001b[0m\u001b[0;34m\u001b[0m\u001b[0m\n\u001b[0m\u001b[1;32m    452\u001b[0m \u001b[0;34m\u001b[0m\u001b[0m\n\u001b[1;32m    453\u001b[0m                 \u001b[0mmanager\u001b[0m \u001b[0;34m=\u001b[0m \u001b[0mget_option\u001b[0m\u001b[0;34m(\u001b[0m\u001b[0;34m\"mode.data_manager\"\u001b[0m\u001b[0;34m)\u001b[0m\u001b[0;34m\u001b[0m\u001b[0;34m\u001b[0m\u001b[0m\n",
      "\u001b[0;32m/opt/anaconda3/lib/python3.9/site-packages/pandas/core/construction.py\u001b[0m in \u001b[0;36msanitize_array\u001b[0;34m(data, index, dtype, copy, raise_cast_failure, allow_2d)\u001b[0m\n\u001b[1;32m    589\u001b[0m \u001b[0;34m\u001b[0m\u001b[0m\n\u001b[1;32m    590\u001b[0m         \u001b[0;32mif\u001b[0m \u001b[0mdtype\u001b[0m \u001b[0;32mis\u001b[0m \u001b[0;32mnot\u001b[0m \u001b[0;32mNone\u001b[0m \u001b[0;32mor\u001b[0m \u001b[0mlen\u001b[0m\u001b[0;34m(\u001b[0m\u001b[0mdata\u001b[0m\u001b[0;34m)\u001b[0m \u001b[0;34m==\u001b[0m \u001b[0;36m0\u001b[0m\u001b[0;34m:\u001b[0m\u001b[0;34m\u001b[0m\u001b[0;34m\u001b[0m\u001b[0m\n\u001b[0;32m--> 591\u001b[0;31m             \u001b[0msubarr\u001b[0m \u001b[0;34m=\u001b[0m \u001b[0m_try_cast\u001b[0m\u001b[0;34m(\u001b[0m\u001b[0mdata\u001b[0m\u001b[0;34m,\u001b[0m \u001b[0mdtype\u001b[0m\u001b[0;34m,\u001b[0m \u001b[0mcopy\u001b[0m\u001b[0;34m,\u001b[0m \u001b[0mraise_cast_failure\u001b[0m\u001b[0;34m)\u001b[0m\u001b[0;34m\u001b[0m\u001b[0;34m\u001b[0m\u001b[0m\n\u001b[0m\u001b[1;32m    592\u001b[0m         \u001b[0;32melse\u001b[0m\u001b[0;34m:\u001b[0m\u001b[0;34m\u001b[0m\u001b[0;34m\u001b[0m\u001b[0m\n\u001b[1;32m    593\u001b[0m             \u001b[0msubarr\u001b[0m \u001b[0;34m=\u001b[0m \u001b[0mmaybe_convert_platform\u001b[0m\u001b[0;34m(\u001b[0m\u001b[0mdata\u001b[0m\u001b[0;34m)\u001b[0m\u001b[0;34m\u001b[0m\u001b[0;34m\u001b[0m\u001b[0m\n",
      "\u001b[0;32m/opt/anaconda3/lib/python3.9/site-packages/pandas/core/construction.py\u001b[0m in \u001b[0;36m_try_cast\u001b[0;34m(arr, dtype, copy, raise_cast_failure)\u001b[0m\n\u001b[1;32m    752\u001b[0m \u001b[0;34m\u001b[0m\u001b[0m\n\u001b[1;32m    753\u001b[0m         \u001b[0marray_type\u001b[0m \u001b[0;34m=\u001b[0m \u001b[0mdtype\u001b[0m\u001b[0;34m.\u001b[0m\u001b[0mconstruct_array_type\u001b[0m\u001b[0;34m(\u001b[0m\u001b[0;34m)\u001b[0m\u001b[0;34m.\u001b[0m\u001b[0m_from_sequence\u001b[0m\u001b[0;34m\u001b[0m\u001b[0;34m\u001b[0m\u001b[0m\n\u001b[0;32m--> 754\u001b[0;31m         \u001b[0msubarr\u001b[0m \u001b[0;34m=\u001b[0m \u001b[0marray_type\u001b[0m\u001b[0;34m(\u001b[0m\u001b[0marr\u001b[0m\u001b[0;34m,\u001b[0m \u001b[0mdtype\u001b[0m\u001b[0;34m=\u001b[0m\u001b[0mdtype\u001b[0m\u001b[0;34m,\u001b[0m \u001b[0mcopy\u001b[0m\u001b[0;34m=\u001b[0m\u001b[0mcopy\u001b[0m\u001b[0;34m)\u001b[0m\u001b[0;34m\u001b[0m\u001b[0;34m\u001b[0m\u001b[0m\n\u001b[0m\u001b[1;32m    755\u001b[0m         \u001b[0;32mreturn\u001b[0m \u001b[0msubarr\u001b[0m\u001b[0;34m\u001b[0m\u001b[0;34m\u001b[0m\u001b[0m\n\u001b[1;32m    756\u001b[0m \u001b[0;34m\u001b[0m\u001b[0m\n",
      "\u001b[0;32m~/MYLIB10/MODULES/physipandas/physipandas/extension.py\u001b[0m in \u001b[0;36m_from_sequence\u001b[0;34m(cls, scalars, dtype, copy)\u001b[0m\n\u001b[1;32m    389\u001b[0m         \u001b[0;31m#if dtype is None and isinstance(values, Quantity):\u001b[0m\u001b[0;34m\u001b[0m\u001b[0;34m\u001b[0m\u001b[0m\n\u001b[1;32m    390\u001b[0m         \u001b[0;31m#    dtype = QuantityDtype(values)\u001b[0m\u001b[0;34m\u001b[0m\u001b[0;34m\u001b[0m\u001b[0m\n\u001b[0;32m--> 391\u001b[0;31m         \u001b[0;32mreturn\u001b[0m \u001b[0mcls\u001b[0m\u001b[0;34m(\u001b[0m\u001b[0mvalues\u001b[0m\u001b[0;34m,\u001b[0m \u001b[0mdtype\u001b[0m\u001b[0;34m=\u001b[0m\u001b[0mdtype\u001b[0m\u001b[0;34m)\u001b[0m\u001b[0;34m\u001b[0m\u001b[0;34m\u001b[0m\u001b[0m\n\u001b[0m\u001b[1;32m    392\u001b[0m \u001b[0;34m\u001b[0m\u001b[0m\n\u001b[1;32m    393\u001b[0m \u001b[0;34m\u001b[0m\u001b[0m\n",
      "\u001b[0;32m~/MYLIB10/MODULES/physipandas/physipandas/extension.py\u001b[0m in \u001b[0;36m__init__\u001b[0;34m(self, values, dtype, copy)\u001b[0m\n\u001b[1;32m    290\u001b[0m             \u001b[0;32mif\u001b[0m \u001b[0misinstance\u001b[0m\u001b[0;34m(\u001b[0m\u001b[0mdtype\u001b[0m\u001b[0;34m,\u001b[0m \u001b[0mQuantityDtype\u001b[0m\u001b[0;34m)\u001b[0m \u001b[0;32mor\u001b[0m \u001b[0misinstance\u001b[0m\u001b[0;34m(\u001b[0m\u001b[0mdtype\u001b[0m\u001b[0;34m,\u001b[0m \u001b[0mQuantity\u001b[0m\u001b[0;34m)\u001b[0m\u001b[0;34m:\u001b[0m\u001b[0;34m\u001b[0m\u001b[0;34m\u001b[0m\u001b[0m\n\u001b[1;32m    291\u001b[0m                 \u001b[0;32mif\u001b[0m \u001b[0mdtype\u001b[0m\u001b[0;34m.\u001b[0m\u001b[0mdimension\u001b[0m \u001b[0;34m!=\u001b[0m \u001b[0mvalues\u001b[0m\u001b[0;34m.\u001b[0m\u001b[0mdimension\u001b[0m\u001b[0;34m:\u001b[0m\u001b[0;34m\u001b[0m\u001b[0;34m\u001b[0m\u001b[0m\n\u001b[0;32m--> 292\u001b[0;31m                     \u001b[0;32mraise\u001b[0m \u001b[0mDimensionError\u001b[0m\u001b[0;34m(\u001b[0m\u001b[0mdtype\u001b[0m\u001b[0;34m.\u001b[0m\u001b[0mdimension\u001b[0m\u001b[0;34m,\u001b[0m \u001b[0mvalues\u001b[0m\u001b[0;34m.\u001b[0m\u001b[0mdimension\u001b[0m\u001b[0;34m)\u001b[0m\u001b[0;34m\u001b[0m\u001b[0;34m\u001b[0m\u001b[0m\n\u001b[0m\u001b[1;32m    293\u001b[0m             \u001b[0mdtype\u001b[0m \u001b[0;34m=\u001b[0m \u001b[0mQuantityDtype\u001b[0m\u001b[0;34m(\u001b[0m\u001b[0mvalues\u001b[0m\u001b[0;34m.\u001b[0m\u001b[0m_SI_unitary_quantity\u001b[0m\u001b[0;34m)\u001b[0m\u001b[0;34m\u001b[0m\u001b[0;34m\u001b[0m\u001b[0m\n\u001b[1;32m    294\u001b[0m         \u001b[0mself\u001b[0m\u001b[0;34m.\u001b[0m\u001b[0m_dtype\u001b[0m \u001b[0;34m=\u001b[0m \u001b[0mdtype\u001b[0m\u001b[0;34m\u001b[0m\u001b[0;34m\u001b[0m\u001b[0m\n",
      "\u001b[0;31mDimensionError\u001b[0m: Dimension error : dimensions of operands are L and no-dimension, and are differents (length vs dimensionless)."
     ]
    }
   ],
   "source": [
    "a = pd.Series(np.arange(10)*m, dtype=\"physipy[m]\")"
   ]
  },
  {
   "cell_type": "code",
   "execution_count": 8,
   "metadata": {},
   "outputs": [
    {
     "ename": "NameError",
     "evalue": "name 'a' is not defined",
     "output_type": "error",
     "traceback": [
      "\u001b[0;31m---------------------------------------------------------------------------\u001b[0m",
      "\u001b[0;31mNameError\u001b[0m                                 Traceback (most recent call last)",
      "\u001b[0;32m/var/folders/5k/bf4syt7x1zjbhc6b28srzzym0000gn/T/ipykernel_47465/2929935665.py\u001b[0m in \u001b[0;36m<module>\u001b[0;34m\u001b[0m\n\u001b[1;32m      1\u001b[0m \u001b[0;32mtry\u001b[0m\u001b[0;34m:\u001b[0m\u001b[0;34m\u001b[0m\u001b[0;34m\u001b[0m\u001b[0m\n\u001b[0;32m----> 2\u001b[0;31m     \u001b[0ma\u001b[0m\u001b[0;34m+\u001b[0m\u001b[0;36m1\u001b[0m\u001b[0;34m\u001b[0m\u001b[0;34m\u001b[0m\u001b[0m\n\u001b[0m\u001b[1;32m      3\u001b[0m \u001b[0;32mexcept\u001b[0m \u001b[0mDimensionError\u001b[0m\u001b[0;34m:\u001b[0m\u001b[0;34m\u001b[0m\u001b[0;34m\u001b[0m\u001b[0m\n\u001b[1;32m      4\u001b[0m     \u001b[0mprint\u001b[0m\u001b[0;34m(\u001b[0m\u001b[0;34m\"OK\"\u001b[0m\u001b[0;34m)\u001b[0m\u001b[0;34m\u001b[0m\u001b[0;34m\u001b[0m\u001b[0m\n\u001b[1;32m      5\u001b[0m \u001b[0;34m\u001b[0m\u001b[0m\n",
      "\u001b[0;31mNameError\u001b[0m: name 'a' is not defined"
     ]
    }
   ],
   "source": [
    "try:\n",
    "    a+1\n",
    "except DimensionError:\n",
    "    print(\"OK\")\n",
    "\n",
    "print(a+1*m)\n",
    "print(a+np.arange(10)*m)\n",
    "print(a+a)\n",
    "print(2*a)\n",
    "print(a*2)\n",
    "print(a**2)\n",
    "print(a/2)\n",
    "print(2/a)\n",
    "print(a**0.5)\n",
    "print(a[0])\n",
    "print(a[0:2])\n",
    "print(a.iloc[0:3])"
   ]
  },
  {
   "cell_type": "markdown",
   "metadata": {},
   "source": [
    "# Numpy ufuncs"
   ]
  },
  {
   "cell_type": "code",
   "execution_count": 9,
   "metadata": {},
   "outputs": [
    {
     "ename": "NameError",
     "evalue": "name 'a' is not defined",
     "output_type": "error",
     "traceback": [
      "\u001b[0;31m---------------------------------------------------------------------------\u001b[0m",
      "\u001b[0;31mNameError\u001b[0m                                 Traceback (most recent call last)",
      "\u001b[0;32m/var/folders/5k/bf4syt7x1zjbhc6b28srzzym0000gn/T/ipykernel_47465/1580928323.py\u001b[0m in \u001b[0;36m<module>\u001b[0;34m\u001b[0m\n\u001b[0;32m----> 1\u001b[0;31m \u001b[0mprint\u001b[0m\u001b[0;34m(\u001b[0m\u001b[0mnp\u001b[0m\u001b[0;34m.\u001b[0m\u001b[0msqrt\u001b[0m\u001b[0;34m(\u001b[0m\u001b[0ma\u001b[0m\u001b[0;34m)\u001b[0m\u001b[0;34m)\u001b[0m\u001b[0;34m\u001b[0m\u001b[0;34m\u001b[0m\u001b[0m\n\u001b[0m\u001b[1;32m      2\u001b[0m \u001b[0mprint\u001b[0m\u001b[0;34m(\u001b[0m\u001b[0mnp\u001b[0m\u001b[0;34m.\u001b[0m\u001b[0mabs\u001b[0m\u001b[0;34m(\u001b[0m\u001b[0ma\u001b[0m\u001b[0;34m)\u001b[0m\u001b[0;34m)\u001b[0m\u001b[0;34m\u001b[0m\u001b[0;34m\u001b[0m\u001b[0m\n\u001b[1;32m      3\u001b[0m \u001b[0mprint\u001b[0m\u001b[0;34m(\u001b[0m\u001b[0mnp\u001b[0m\u001b[0;34m.\u001b[0m\u001b[0mprod\u001b[0m\u001b[0;34m(\u001b[0m\u001b[0ma\u001b[0m\u001b[0;34m)\u001b[0m\u001b[0;34m)\u001b[0m\u001b[0;34m\u001b[0m\u001b[0;34m\u001b[0m\u001b[0m\n\u001b[1;32m      4\u001b[0m \u001b[0mprint\u001b[0m\u001b[0;34m(\u001b[0m\u001b[0mnp\u001b[0m\u001b[0;34m.\u001b[0m\u001b[0mhypot\u001b[0m\u001b[0;34m(\u001b[0m\u001b[0ma\u001b[0m\u001b[0;34m,\u001b[0m \u001b[0ma\u001b[0m\u001b[0;34m)\u001b[0m\u001b[0;34m)\u001b[0m\u001b[0;34m\u001b[0m\u001b[0;34m\u001b[0m\u001b[0m\n\u001b[1;32m      5\u001b[0m \u001b[0mprint\u001b[0m\u001b[0;34m(\u001b[0m\u001b[0mnp\u001b[0m\u001b[0;34m.\u001b[0m\u001b[0mtrapz\u001b[0m\u001b[0;34m(\u001b[0m\u001b[0ma\u001b[0m\u001b[0;34m)\u001b[0m\u001b[0;34m)\u001b[0m\u001b[0;34m\u001b[0m\u001b[0;34m\u001b[0m\u001b[0m\n",
      "\u001b[0;31mNameError\u001b[0m: name 'a' is not defined"
     ]
    }
   ],
   "source": [
    "print(np.sqrt(a))\n",
    "print(np.abs(a))\n",
    "print(np.prod(a))\n",
    "print(np.hypot(a, a))\n",
    "print(np.trapz(a))\n",
    "print(np.mean(a))\n",
    "print(np.sort(a))"
   ]
  },
  {
   "cell_type": "code",
   "execution_count": 10,
   "metadata": {},
   "outputs": [
    {
     "ename": "NameError",
     "evalue": "name 'a' is not defined",
     "output_type": "error",
     "traceback": [
      "\u001b[0;31m---------------------------------------------------------------------------\u001b[0m",
      "\u001b[0;31mNameError\u001b[0m                                 Traceback (most recent call last)",
      "\u001b[0;32m/var/folders/5k/bf4syt7x1zjbhc6b28srzzym0000gn/T/ipykernel_47465/4185443963.py\u001b[0m in \u001b[0;36m<module>\u001b[0;34m\u001b[0m\n\u001b[0;32m----> 1\u001b[0;31m \u001b[0mprint\u001b[0m\u001b[0;34m(\u001b[0m\u001b[0many\u001b[0m\u001b[0;34m(\u001b[0m\u001b[0ma\u001b[0m\u001b[0;34m)\u001b[0m\u001b[0;34m)\u001b[0m\u001b[0;34m\u001b[0m\u001b[0;34m\u001b[0m\u001b[0m\n\u001b[0m\u001b[1;32m      2\u001b[0m \u001b[0mprint\u001b[0m\u001b[0;34m(\u001b[0m\u001b[0mall\u001b[0m\u001b[0;34m(\u001b[0m\u001b[0ma\u001b[0m\u001b[0;34m)\u001b[0m\u001b[0;34m)\u001b[0m\u001b[0;34m\u001b[0m\u001b[0;34m\u001b[0m\u001b[0m\n\u001b[1;32m      3\u001b[0m \u001b[0;31m# print(sum(a)) # start init value dimension error\u001b[0m\u001b[0;34m\u001b[0m\u001b[0;34m\u001b[0m\u001b[0m\n",
      "\u001b[0;31mNameError\u001b[0m: name 'a' is not defined"
     ]
    }
   ],
   "source": [
    "print(any(a))\n",
    "print(all(a))\n",
    "# print(sum(a)) # start init value dimension error"
   ]
  },
  {
   "cell_type": "markdown",
   "metadata": {},
   "source": [
    "df = pd.DataFrame({\"a\": pd.Series([1, 2.1, 2., 3.]*m, dtype=\"physipy[m]\")})\n",
    "print(df[\"a\"])\n",
    "df.unstack()"
   ]
  },
  {
   "cell_type": "markdown",
   "metadata": {},
   "source": [
    "# Dataframes"
   ]
  },
  {
   "cell_type": "code",
   "execution_count": 11,
   "metadata": {},
   "outputs": [],
   "source": [
    "import warnings\n",
    "warnings.simplefilter(\"ignore\")"
   ]
  },
  {
   "cell_type": "code",
   "execution_count": 12,
   "metadata": {},
   "outputs": [
    {
     "ename": "DimensionError",
     "evalue": "Dimension error : dimensions of operands are L and no-dimension, and are differents (length vs dimensionless).",
     "output_type": "error",
     "traceback": [
      "\u001b[0;31m---------------------------------------------------------------------------\u001b[0m",
      "\u001b[0;31mDimensionError\u001b[0m                            Traceback (most recent call last)",
      "\u001b[0;32m/var/folders/5k/bf4syt7x1zjbhc6b28srzzym0000gn/T/ipykernel_47465/955258681.py\u001b[0m in \u001b[0;36m<module>\u001b[0;34m\u001b[0m\n\u001b[1;32m      1\u001b[0m df = pd.DataFrame({\n\u001b[1;32m      2\u001b[0m     \u001b[0;34m\"np_arr\"\u001b[0m\u001b[0;34m:\u001b[0m\u001b[0mnp\u001b[0m\u001b[0;34m.\u001b[0m\u001b[0marange\u001b[0m\u001b[0;34m(\u001b[0m\u001b[0;36m10\u001b[0m\u001b[0;34m)\u001b[0m\u001b[0;34m,\u001b[0m         \u001b[0;31m# numpy array\u001b[0m\u001b[0;34m\u001b[0m\u001b[0;34m\u001b[0m\u001b[0m\n\u001b[0;32m----> 3\u001b[0;31m     \u001b[0;34m\"physipy_arr\"\u001b[0m\u001b[0;34m:\u001b[0m\u001b[0mpd\u001b[0m\u001b[0;34m.\u001b[0m\u001b[0mSeries\u001b[0m\u001b[0;34m(\u001b[0m\u001b[0mnp\u001b[0m\u001b[0;34m.\u001b[0m\u001b[0marange\u001b[0m\u001b[0;34m(\u001b[0m\u001b[0;36m10\u001b[0m\u001b[0;34m)\u001b[0m\u001b[0;34m*\u001b[0m\u001b[0mm\u001b[0m\u001b[0;34m,\u001b[0m \u001b[0mdtype\u001b[0m\u001b[0;34m=\u001b[0m\u001b[0;34m\"physipy[m]\"\u001b[0m\u001b[0;34m)\u001b[0m\u001b[0;34m,\u001b[0m\u001b[0;34m\u001b[0m\u001b[0;34m\u001b[0m\u001b[0m\n\u001b[0m\u001b[1;32m      4\u001b[0m \u001b[0;34m\u001b[0m\u001b[0m\n\u001b[1;32m      5\u001b[0m \u001b[0;34m\u001b[0m\u001b[0m\n",
      "\u001b[0;32m/opt/anaconda3/lib/python3.9/site-packages/pandas/core/series.py\u001b[0m in \u001b[0;36m__init__\u001b[0;34m(self, data, index, dtype, name, copy, fastpath)\u001b[0m\n\u001b[1;32m    449\u001b[0m                     \u001b[0mdata\u001b[0m \u001b[0;34m=\u001b[0m \u001b[0mdata\u001b[0m\u001b[0;34m.\u001b[0m\u001b[0mcopy\u001b[0m\u001b[0;34m(\u001b[0m\u001b[0;34m)\u001b[0m\u001b[0;34m\u001b[0m\u001b[0;34m\u001b[0m\u001b[0m\n\u001b[1;32m    450\u001b[0m             \u001b[0;32melse\u001b[0m\u001b[0;34m:\u001b[0m\u001b[0;34m\u001b[0m\u001b[0;34m\u001b[0m\u001b[0m\n\u001b[0;32m--> 451\u001b[0;31m                 \u001b[0mdata\u001b[0m \u001b[0;34m=\u001b[0m \u001b[0msanitize_array\u001b[0m\u001b[0;34m(\u001b[0m\u001b[0mdata\u001b[0m\u001b[0;34m,\u001b[0m \u001b[0mindex\u001b[0m\u001b[0;34m,\u001b[0m \u001b[0mdtype\u001b[0m\u001b[0;34m,\u001b[0m \u001b[0mcopy\u001b[0m\u001b[0;34m)\u001b[0m\u001b[0;34m\u001b[0m\u001b[0;34m\u001b[0m\u001b[0m\n\u001b[0m\u001b[1;32m    452\u001b[0m \u001b[0;34m\u001b[0m\u001b[0m\n\u001b[1;32m    453\u001b[0m                 \u001b[0mmanager\u001b[0m \u001b[0;34m=\u001b[0m \u001b[0mget_option\u001b[0m\u001b[0;34m(\u001b[0m\u001b[0;34m\"mode.data_manager\"\u001b[0m\u001b[0;34m)\u001b[0m\u001b[0;34m\u001b[0m\u001b[0;34m\u001b[0m\u001b[0m\n",
      "\u001b[0;32m/opt/anaconda3/lib/python3.9/site-packages/pandas/core/construction.py\u001b[0m in \u001b[0;36msanitize_array\u001b[0;34m(data, index, dtype, copy, raise_cast_failure, allow_2d)\u001b[0m\n\u001b[1;32m    589\u001b[0m \u001b[0;34m\u001b[0m\u001b[0m\n\u001b[1;32m    590\u001b[0m         \u001b[0;32mif\u001b[0m \u001b[0mdtype\u001b[0m \u001b[0;32mis\u001b[0m \u001b[0;32mnot\u001b[0m \u001b[0;32mNone\u001b[0m \u001b[0;32mor\u001b[0m \u001b[0mlen\u001b[0m\u001b[0;34m(\u001b[0m\u001b[0mdata\u001b[0m\u001b[0;34m)\u001b[0m \u001b[0;34m==\u001b[0m \u001b[0;36m0\u001b[0m\u001b[0;34m:\u001b[0m\u001b[0;34m\u001b[0m\u001b[0;34m\u001b[0m\u001b[0m\n\u001b[0;32m--> 591\u001b[0;31m             \u001b[0msubarr\u001b[0m \u001b[0;34m=\u001b[0m \u001b[0m_try_cast\u001b[0m\u001b[0;34m(\u001b[0m\u001b[0mdata\u001b[0m\u001b[0;34m,\u001b[0m \u001b[0mdtype\u001b[0m\u001b[0;34m,\u001b[0m \u001b[0mcopy\u001b[0m\u001b[0;34m,\u001b[0m \u001b[0mraise_cast_failure\u001b[0m\u001b[0;34m)\u001b[0m\u001b[0;34m\u001b[0m\u001b[0;34m\u001b[0m\u001b[0m\n\u001b[0m\u001b[1;32m    592\u001b[0m         \u001b[0;32melse\u001b[0m\u001b[0;34m:\u001b[0m\u001b[0;34m\u001b[0m\u001b[0;34m\u001b[0m\u001b[0m\n\u001b[1;32m    593\u001b[0m             \u001b[0msubarr\u001b[0m \u001b[0;34m=\u001b[0m \u001b[0mmaybe_convert_platform\u001b[0m\u001b[0;34m(\u001b[0m\u001b[0mdata\u001b[0m\u001b[0;34m)\u001b[0m\u001b[0;34m\u001b[0m\u001b[0;34m\u001b[0m\u001b[0m\n",
      "\u001b[0;32m/opt/anaconda3/lib/python3.9/site-packages/pandas/core/construction.py\u001b[0m in \u001b[0;36m_try_cast\u001b[0;34m(arr, dtype, copy, raise_cast_failure)\u001b[0m\n\u001b[1;32m    752\u001b[0m \u001b[0;34m\u001b[0m\u001b[0m\n\u001b[1;32m    753\u001b[0m         \u001b[0marray_type\u001b[0m \u001b[0;34m=\u001b[0m \u001b[0mdtype\u001b[0m\u001b[0;34m.\u001b[0m\u001b[0mconstruct_array_type\u001b[0m\u001b[0;34m(\u001b[0m\u001b[0;34m)\u001b[0m\u001b[0;34m.\u001b[0m\u001b[0m_from_sequence\u001b[0m\u001b[0;34m\u001b[0m\u001b[0;34m\u001b[0m\u001b[0m\n\u001b[0;32m--> 754\u001b[0;31m         \u001b[0msubarr\u001b[0m \u001b[0;34m=\u001b[0m \u001b[0marray_type\u001b[0m\u001b[0;34m(\u001b[0m\u001b[0marr\u001b[0m\u001b[0;34m,\u001b[0m \u001b[0mdtype\u001b[0m\u001b[0;34m=\u001b[0m\u001b[0mdtype\u001b[0m\u001b[0;34m,\u001b[0m \u001b[0mcopy\u001b[0m\u001b[0;34m=\u001b[0m\u001b[0mcopy\u001b[0m\u001b[0;34m)\u001b[0m\u001b[0;34m\u001b[0m\u001b[0;34m\u001b[0m\u001b[0m\n\u001b[0m\u001b[1;32m    755\u001b[0m         \u001b[0;32mreturn\u001b[0m \u001b[0msubarr\u001b[0m\u001b[0;34m\u001b[0m\u001b[0;34m\u001b[0m\u001b[0m\n\u001b[1;32m    756\u001b[0m \u001b[0;34m\u001b[0m\u001b[0m\n",
      "\u001b[0;32m~/MYLIB10/MODULES/physipandas/physipandas/extension.py\u001b[0m in \u001b[0;36m_from_sequence\u001b[0;34m(cls, scalars, dtype, copy)\u001b[0m\n\u001b[1;32m    389\u001b[0m         \u001b[0;31m#if dtype is None and isinstance(values, Quantity):\u001b[0m\u001b[0;34m\u001b[0m\u001b[0;34m\u001b[0m\u001b[0m\n\u001b[1;32m    390\u001b[0m         \u001b[0;31m#    dtype = QuantityDtype(values)\u001b[0m\u001b[0;34m\u001b[0m\u001b[0;34m\u001b[0m\u001b[0m\n\u001b[0;32m--> 391\u001b[0;31m         \u001b[0;32mreturn\u001b[0m \u001b[0mcls\u001b[0m\u001b[0;34m(\u001b[0m\u001b[0mvalues\u001b[0m\u001b[0;34m,\u001b[0m \u001b[0mdtype\u001b[0m\u001b[0;34m=\u001b[0m\u001b[0mdtype\u001b[0m\u001b[0;34m)\u001b[0m\u001b[0;34m\u001b[0m\u001b[0;34m\u001b[0m\u001b[0m\n\u001b[0m\u001b[1;32m    392\u001b[0m \u001b[0;34m\u001b[0m\u001b[0m\n\u001b[1;32m    393\u001b[0m \u001b[0;34m\u001b[0m\u001b[0m\n",
      "\u001b[0;32m~/MYLIB10/MODULES/physipandas/physipandas/extension.py\u001b[0m in \u001b[0;36m__init__\u001b[0;34m(self, values, dtype, copy)\u001b[0m\n\u001b[1;32m    290\u001b[0m             \u001b[0;32mif\u001b[0m \u001b[0misinstance\u001b[0m\u001b[0;34m(\u001b[0m\u001b[0mdtype\u001b[0m\u001b[0;34m,\u001b[0m \u001b[0mQuantityDtype\u001b[0m\u001b[0;34m)\u001b[0m \u001b[0;32mor\u001b[0m \u001b[0misinstance\u001b[0m\u001b[0;34m(\u001b[0m\u001b[0mdtype\u001b[0m\u001b[0;34m,\u001b[0m \u001b[0mQuantity\u001b[0m\u001b[0;34m)\u001b[0m\u001b[0;34m:\u001b[0m\u001b[0;34m\u001b[0m\u001b[0;34m\u001b[0m\u001b[0m\n\u001b[1;32m    291\u001b[0m                 \u001b[0;32mif\u001b[0m \u001b[0mdtype\u001b[0m\u001b[0;34m.\u001b[0m\u001b[0mdimension\u001b[0m \u001b[0;34m!=\u001b[0m \u001b[0mvalues\u001b[0m\u001b[0;34m.\u001b[0m\u001b[0mdimension\u001b[0m\u001b[0;34m:\u001b[0m\u001b[0;34m\u001b[0m\u001b[0;34m\u001b[0m\u001b[0m\n\u001b[0;32m--> 292\u001b[0;31m                     \u001b[0;32mraise\u001b[0m \u001b[0mDimensionError\u001b[0m\u001b[0;34m(\u001b[0m\u001b[0mdtype\u001b[0m\u001b[0;34m.\u001b[0m\u001b[0mdimension\u001b[0m\u001b[0;34m,\u001b[0m \u001b[0mvalues\u001b[0m\u001b[0;34m.\u001b[0m\u001b[0mdimension\u001b[0m\u001b[0;34m)\u001b[0m\u001b[0;34m\u001b[0m\u001b[0;34m\u001b[0m\u001b[0m\n\u001b[0m\u001b[1;32m    293\u001b[0m             \u001b[0mdtype\u001b[0m \u001b[0;34m=\u001b[0m \u001b[0mQuantityDtype\u001b[0m\u001b[0;34m(\u001b[0m\u001b[0mvalues\u001b[0m\u001b[0;34m.\u001b[0m\u001b[0m_SI_unitary_quantity\u001b[0m\u001b[0;34m)\u001b[0m\u001b[0;34m\u001b[0m\u001b[0;34m\u001b[0m\u001b[0m\n\u001b[1;32m    294\u001b[0m         \u001b[0mself\u001b[0m\u001b[0;34m.\u001b[0m\u001b[0m_dtype\u001b[0m \u001b[0;34m=\u001b[0m \u001b[0mdtype\u001b[0m\u001b[0;34m\u001b[0m\u001b[0;34m\u001b[0m\u001b[0m\n",
      "\u001b[0;31mDimensionError\u001b[0m: Dimension error : dimensions of operands are L and no-dimension, and are differents (length vs dimensionless)."
     ]
    }
   ],
   "source": [
    "df = pd.DataFrame({\n",
    "    \"np_arr\":np.arange(10),         # numpy array\n",
    "    \"physipy_arr\":pd.Series(np.arange(10)*m, dtype=\"physipy[m]\"),\n",
    "\n",
    "\n",
    "}) # quantity array \n",
    "df"
   ]
  },
  {
   "cell_type": "code",
   "execution_count": 13,
   "metadata": {},
   "outputs": [
    {
     "ename": "NameError",
     "evalue": "name 'df' is not defined",
     "output_type": "error",
     "traceback": [
      "\u001b[0;31m---------------------------------------------------------------------------\u001b[0m",
      "\u001b[0;31mNameError\u001b[0m                                 Traceback (most recent call last)",
      "\u001b[0;32m/var/folders/5k/bf4syt7x1zjbhc6b28srzzym0000gn/T/ipykernel_47465/2318649126.py\u001b[0m in \u001b[0;36m<module>\u001b[0;34m\u001b[0m\n\u001b[0;32m----> 1\u001b[0;31m \u001b[0mdf\u001b[0m\u001b[0;34m[\u001b[0m\u001b[0;34m\"physipy_arr\"\u001b[0m\u001b[0;34m]\u001b[0m\u001b[0;34m\u001b[0m\u001b[0;34m\u001b[0m\u001b[0m\n\u001b[0m",
      "\u001b[0;31mNameError\u001b[0m: name 'df' is not defined"
     ]
    }
   ],
   "source": [
    "df[\"physipy_arr\"]"
   ]
  },
  {
   "cell_type": "code",
   "execution_count": 14,
   "metadata": {},
   "outputs": [],
   "source": [
    "J = units[\"J\"]"
   ]
  },
  {
   "cell_type": "code",
   "execution_count": 15,
   "metadata": {},
   "outputs": [
    {
     "data": {
      "text/html": [
       "<div>\n",
       "<style scoped>\n",
       "    .dataframe tbody tr th:only-of-type {\n",
       "        vertical-align: middle;\n",
       "    }\n",
       "\n",
       "    .dataframe tbody tr th {\n",
       "        vertical-align: top;\n",
       "    }\n",
       "\n",
       "    .dataframe thead th {\n",
       "        text-align: right;\n",
       "    }\n",
       "</style>\n",
       "<table border=\"1\" class=\"dataframe\">\n",
       "  <thead>\n",
       "    <tr style=\"text-align: right;\">\n",
       "      <th></th>\n",
       "      <th>np_arr</th>\n",
       "      <th>physipy_arr</th>\n",
       "      <th>squared</th>\n",
       "      <th>power</th>\n",
       "    </tr>\n",
       "  </thead>\n",
       "  <tbody>\n",
       "    <tr>\n",
       "      <th>0</th>\n",
       "      <td>0</td>\n",
       "      <td>0</td>\n",
       "      <td>0</td>\n",
       "      <td>-0.806965</td>\n",
       "    </tr>\n",
       "    <tr>\n",
       "      <th>1</th>\n",
       "      <td>1</td>\n",
       "      <td>1</td>\n",
       "      <td>1</td>\n",
       "      <td>1.507298</td>\n",
       "    </tr>\n",
       "    <tr>\n",
       "      <th>2</th>\n",
       "      <td>2</td>\n",
       "      <td>2</td>\n",
       "      <td>2</td>\n",
       "      <td>-0.068822</td>\n",
       "    </tr>\n",
       "    <tr>\n",
       "      <th>3</th>\n",
       "      <td>3</td>\n",
       "      <td>3</td>\n",
       "      <td>3</td>\n",
       "      <td>-0.958946</td>\n",
       "    </tr>\n",
       "    <tr>\n",
       "      <th>4</th>\n",
       "      <td>4</td>\n",
       "      <td>4</td>\n",
       "      <td>4</td>\n",
       "      <td>1.280988</td>\n",
       "    </tr>\n",
       "    <tr>\n",
       "      <th>5</th>\n",
       "      <td>5</td>\n",
       "      <td>5</td>\n",
       "      <td>5</td>\n",
       "      <td>-0.193262</td>\n",
       "    </tr>\n",
       "    <tr>\n",
       "      <th>6</th>\n",
       "      <td>6</td>\n",
       "      <td>6</td>\n",
       "      <td>6</td>\n",
       "      <td>1.153687</td>\n",
       "    </tr>\n",
       "    <tr>\n",
       "      <th>7</th>\n",
       "      <td>7</td>\n",
       "      <td>7</td>\n",
       "      <td>7</td>\n",
       "      <td>0.170125</td>\n",
       "    </tr>\n",
       "    <tr>\n",
       "      <th>8</th>\n",
       "      <td>8</td>\n",
       "      <td>8</td>\n",
       "      <td>8</td>\n",
       "      <td>-0.123599</td>\n",
       "    </tr>\n",
       "    <tr>\n",
       "      <th>9</th>\n",
       "      <td>9</td>\n",
       "      <td>9</td>\n",
       "      <td>9</td>\n",
       "      <td>-1.726085</td>\n",
       "    </tr>\n",
       "    <tr>\n",
       "      <th>10</th>\n",
       "      <td>10</td>\n",
       "      <td>10</td>\n",
       "      <td>10</td>\n",
       "      <td>-1.303578</td>\n",
       "    </tr>\n",
       "    <tr>\n",
       "      <th>11</th>\n",
       "      <td>11</td>\n",
       "      <td>11</td>\n",
       "      <td>11</td>\n",
       "      <td>-0.319485</td>\n",
       "    </tr>\n",
       "    <tr>\n",
       "      <th>12</th>\n",
       "      <td>12</td>\n",
       "      <td>12</td>\n",
       "      <td>12</td>\n",
       "      <td>-0.054321</td>\n",
       "    </tr>\n",
       "    <tr>\n",
       "      <th>13</th>\n",
       "      <td>13</td>\n",
       "      <td>13</td>\n",
       "      <td>13</td>\n",
       "      <td>-0.415343</td>\n",
       "    </tr>\n",
       "    <tr>\n",
       "      <th>14</th>\n",
       "      <td>14</td>\n",
       "      <td>14</td>\n",
       "      <td>14</td>\n",
       "      <td>1.683382</td>\n",
       "    </tr>\n",
       "    <tr>\n",
       "      <th>15</th>\n",
       "      <td>15</td>\n",
       "      <td>15</td>\n",
       "      <td>15</td>\n",
       "      <td>0.104740</td>\n",
       "    </tr>\n",
       "    <tr>\n",
       "      <th>16</th>\n",
       "      <td>16</td>\n",
       "      <td>16</td>\n",
       "      <td>16</td>\n",
       "      <td>1.874675</td>\n",
       "    </tr>\n",
       "    <tr>\n",
       "      <th>17</th>\n",
       "      <td>17</td>\n",
       "      <td>17</td>\n",
       "      <td>17</td>\n",
       "      <td>0.516250</td>\n",
       "    </tr>\n",
       "    <tr>\n",
       "      <th>18</th>\n",
       "      <td>18</td>\n",
       "      <td>18</td>\n",
       "      <td>18</td>\n",
       "      <td>-1.327683</td>\n",
       "    </tr>\n",
       "    <tr>\n",
       "      <th>19</th>\n",
       "      <td>19</td>\n",
       "      <td>19</td>\n",
       "      <td>19</td>\n",
       "      <td>1.475236</td>\n",
       "    </tr>\n",
       "  </tbody>\n",
       "</table>\n",
       "</div>"
      ],
      "text/plain": [
       "    np_arr  physipy_arr  squared     power\n",
       "0        0            0        0 -0.806965\n",
       "1        1            1        1  1.507298\n",
       "2        2            2        2 -0.068822\n",
       "3        3            3        3 -0.958946\n",
       "4        4            4        4  1.280988\n",
       "5        5            5        5 -0.193262\n",
       "6        6            6        6  1.153687\n",
       "7        7            7        7  0.170125\n",
       "8        8            8        8 -0.123599\n",
       "9        9            9        9 -1.726085\n",
       "10      10           10       10 -1.303578\n",
       "11      11           11       11 -0.319485\n",
       "12      12           12       12 -0.054321\n",
       "13      13           13       13 -0.415343\n",
       "14      14           14       14  1.683382\n",
       "15      15           15       15  0.104740\n",
       "16      16           16       16  1.874675\n",
       "17      17           17       17  0.516250\n",
       "18      18           18       18 -1.327683\n",
       "19      19           19       19  1.475236"
      ]
     },
     "execution_count": 15,
     "metadata": {},
     "output_type": "execute_result"
    }
   ],
   "source": [
    "mm = units['mm']\n",
    "arr = np.arange(20)*m\n",
    "arr.favunit = mm\n",
    "df = pd.DataFrame({\n",
    "    \"np_arr\":np.arange(20),         # numpy array\n",
    "    \"physipy_arr\":arr,  # meter\n",
    "    \"squared\":np.arange(20)*m**2,   # squared meter\n",
    "    \"power\":np.random.normal(0, 1, 20)*J, # Joules\n",
    "})\n",
    "df"
   ]
  },
  {
   "cell_type": "code",
   "execution_count": 16,
   "metadata": {},
   "outputs": [
    {
     "name": "stdout",
     "output_type": "stream",
     "text": [
      "np_arr           int64\n",
      "physipy_arr      int64\n",
      "squared          int64\n",
      "power          float64\n",
      "dtype: object\n"
     ]
    }
   ],
   "source": [
    "print(df.dtypes)"
   ]
  },
  {
   "cell_type": "code",
   "execution_count": 12,
   "metadata": {},
   "outputs": [],
   "source": [
    "df = pd.DataFrame({\"a\":a, \"b\":2*a, \"c\":1/a, \"nparr\":np.arange(10)})\n"
   ]
  },
  {
   "cell_type": "code",
   "execution_count": 13,
   "metadata": {},
   "outputs": [
    {
     "name": "stdout",
     "output_type": "stream",
     "text": [
      "a               physipy[m]\n",
      "b               physipy[m]\n",
      "c             physipy[1/m]\n",
      "d               physipy[m]\n",
      "e             physipy[1/m]\n",
      "g            physipy[m**2]\n",
      "i                   object\n",
      "h    physipy[kg*m**2/s**3]\n",
      "dtype: object\n"
     ]
    },
    {
     "data": {
      "text/html": [
       "<div><div id=d316f2fb-fa29-43a0-8ff9-795590dbaa06 style=\"display:none; background-color:#9D6CFF; color:white; width:200px; height:30px; padding-left:5px; border-radius:4px; flex-direction:row; justify-content:space-around; align-items:center;\" onmouseover=\"this.style.backgroundColor='#BA9BF8'\" onmouseout=\"this.style.backgroundColor='#9D6CFF'\" onclick=\"window.commands?.execute('create-mitosheet-from-dataframe-output');\">See Full Dataframe in Mito</div> <script> if (window.commands.hasCommand('create-mitosheet-from-dataframe-output')) document.getElementById('d316f2fb-fa29-43a0-8ff9-795590dbaa06').style.display = 'flex' </script> <table border=\"1\" class=\"dataframe\">\n",
       "  <thead>\n",
       "    <tr style=\"text-align: right;\">\n",
       "      <th></th>\n",
       "      <th>a</th>\n",
       "      <th>b</th>\n",
       "      <th>c</th>\n",
       "      <th>d</th>\n",
       "      <th>e</th>\n",
       "      <th>g</th>\n",
       "      <th>i</th>\n",
       "      <th>h</th>\n",
       "    </tr>\n",
       "  </thead>\n",
       "  <tbody>\n",
       "    <tr>\n",
       "      <th>0</th>\n",
       "      <td>0</td>\n",
       "      <td>0</td>\n",
       "      <td>inf</td>\n",
       "      <td>0</td>\n",
       "      <td>inf</td>\n",
       "      <td>NaN</td>\n",
       "      <td>1.1408854627734115 kg*m**2/s**3</td>\n",
       "      <td>-1.2228184007219671</td>\n",
       "    </tr>\n",
       "    <tr>\n",
       "      <th>1</th>\n",
       "      <td>1</td>\n",
       "      <td>2</td>\n",
       "      <td>1.0</td>\n",
       "      <td>2</td>\n",
       "      <td>1.0</td>\n",
       "      <td>1.0</td>\n",
       "      <td>-1.0169578100610903 kg*m**2/s**3</td>\n",
       "      <td>-0.3263134357255318</td>\n",
       "    </tr>\n",
       "    <tr>\n",
       "      <th>2</th>\n",
       "      <td>2</td>\n",
       "      <td>4</td>\n",
       "      <td>0.5</td>\n",
       "      <td>4</td>\n",
       "      <td>0.5</td>\n",
       "      <td>4.0</td>\n",
       "      <td>-1.3773946495946152 kg*m**2/s**3</td>\n",
       "      <td>-1.5693247807978226</td>\n",
       "    </tr>\n",
       "    <tr>\n",
       "      <th>3</th>\n",
       "      <td>3</td>\n",
       "      <td>6</td>\n",
       "      <td>0.3333333333333333</td>\n",
       "      <td>6</td>\n",
       "      <td>0.3333333333333333</td>\n",
       "      <td>9.0</td>\n",
       "      <td>1.157080129391746 kg*m**2/s**3</td>\n",
       "      <td>1.3628227918372984</td>\n",
       "    </tr>\n",
       "    <tr>\n",
       "      <th>4</th>\n",
       "      <td>4</td>\n",
       "      <td>8</td>\n",
       "      <td>0.25</td>\n",
       "      <td>8</td>\n",
       "      <td>0.25</td>\n",
       "      <td>16.0</td>\n",
       "      <td>-0.19158506139148854 kg*m**2/s**3</td>\n",
       "      <td>-0.5648633163411004</td>\n",
       "    </tr>\n",
       "    <tr>\n",
       "      <th>5</th>\n",
       "      <td>5</td>\n",
       "      <td>10</td>\n",
       "      <td>0.2</td>\n",
       "      <td>10</td>\n",
       "      <td>0.2</td>\n",
       "      <td>24.999999999999996</td>\n",
       "      <td>1.0306862384931925 kg*m**2/s**3</td>\n",
       "      <td>-2.12900710363257</td>\n",
       "    </tr>\n",
       "    <tr>\n",
       "      <th>6</th>\n",
       "      <td>6</td>\n",
       "      <td>12</td>\n",
       "      <td>0.16666666666666666</td>\n",
       "      <td>12</td>\n",
       "      <td>0.16666666666666666</td>\n",
       "      <td>36.0</td>\n",
       "      <td>-0.6870953718534554 kg*m**2/s**3</td>\n",
       "      <td>0.5637992201682791</td>\n",
       "    </tr>\n",
       "    <tr>\n",
       "      <th>7</th>\n",
       "      <td>7</td>\n",
       "      <td>14</td>\n",
       "      <td>0.14285714285714285</td>\n",
       "      <td>14</td>\n",
       "      <td>0.14285714285714285</td>\n",
       "      <td>49.00000000000001</td>\n",
       "      <td>-1.1947018610060396 kg*m**2/s**3</td>\n",
       "      <td>-1.6932628341517628</td>\n",
       "    </tr>\n",
       "    <tr>\n",
       "      <th>8</th>\n",
       "      <td>8</td>\n",
       "      <td>16</td>\n",
       "      <td>0.125</td>\n",
       "      <td>16</td>\n",
       "      <td>0.125</td>\n",
       "      <td>64.0</td>\n",
       "      <td>0.6186747223450796 kg*m**2/s**3</td>\n",
       "      <td>-1.0989530778153496</td>\n",
       "    </tr>\n",
       "    <tr>\n",
       "      <th>9</th>\n",
       "      <td>9</td>\n",
       "      <td>18</td>\n",
       "      <td>0.1111111111111111</td>\n",
       "      <td>18</td>\n",
       "      <td>0.1111111111111111</td>\n",
       "      <td>81.0</td>\n",
       "      <td>-1.190051621496801 kg*m**2/s**3</td>\n",
       "      <td>-0.27003145697400655</td>\n",
       "    </tr>\n",
       "  </tbody>\n",
       "</table></div>"
      ],
      "text/plain": [
       "  a  b                   c  d                   e                  g  \\\n",
       "0 0  0                 inf  0                 inf                NaN   \n",
       "1 1  2                 1.0  2                 1.0                1.0   \n",
       "2 2  4                 0.5  4                 0.5                4.0   \n",
       "3 3  6  0.3333333333333333  6  0.3333333333333333                9.0   \n",
       "4 4  8                0.25  8                0.25               16.0   \n",
       "5 5 10                 0.2 10                 0.2 24.999999999999996   \n",
       "6 6 12 0.16666666666666666 12 0.16666666666666666               36.0   \n",
       "7 7 14 0.14285714285714285 14 0.14285714285714285  49.00000000000001   \n",
       "8 8 16               0.125 16               0.125               64.0   \n",
       "9 9 18  0.1111111111111111 18  0.1111111111111111               81.0   \n",
       "\n",
       "                                   i                    h  \n",
       "0    1.1408854627734115 kg*m**2/s**3  -1.2228184007219671  \n",
       "1   -1.0169578100610903 kg*m**2/s**3  -0.3263134357255318  \n",
       "2   -1.3773946495946152 kg*m**2/s**3  -1.5693247807978226  \n",
       "3     1.157080129391746 kg*m**2/s**3   1.3628227918372984  \n",
       "4  -0.19158506139148854 kg*m**2/s**3  -0.5648633163411004  \n",
       "5    1.0306862384931925 kg*m**2/s**3    -2.12900710363257  \n",
       "6   -0.6870953718534554 kg*m**2/s**3   0.5637992201682791  \n",
       "7   -1.1947018610060396 kg*m**2/s**3  -1.6932628341517628  \n",
       "8    0.6186747223450796 kg*m**2/s**3  -1.0989530778153496  \n",
       "9    -1.190051621496801 kg*m**2/s**3 -0.27003145697400655  "
      ]
     },
     "execution_count": 13,
     "metadata": {},
     "output_type": "execute_result"
    }
   ],
   "source": [
    "df = pd.DataFrame({\"a\":a, \"b\":2*a, \"c\":1/a,\n",
    "                  # \"nparr\":np.arange(10),\n",
    "                  })\n",
    "\n",
    "df[\"d\"] = 2*df[\"a\"]\n",
    "df[\"e\"] = 2/df[\"d\"]\n",
    "df[\"g\"] = df[\"e\"]*df[\"a\"]/df[\"c\"]**2\n",
    "df[\"i\"] = np.random.normal(0, 1, 10)*units[\"W\"]\n",
    "df[\"h\"] = QuantityArray(np.random.normal(0, 1, 10)*units[\"W\"])\n",
    "print(df.dtypes)\n",
    "df"
   ]
  },
  {
   "cell_type": "code",
   "execution_count": 14,
   "metadata": {},
   "outputs": [
    {
     "data": {
      "text/plain": [
       "0                   inf\n",
       "1                   1.0\n",
       "2                   0.5\n",
       "3    0.3333333333333333\n",
       "4                  0.25\n",
       "5                   0.2\n",
       "6   0.16666666666666666\n",
       "7   0.14285714285714285\n",
       "8                 0.125\n",
       "9    0.1111111111111111\n",
       "Name: e, dtype: physipy[1/m]"
      ]
     },
     "execution_count": 14,
     "metadata": {},
     "output_type": "execute_result"
    }
   ],
   "source": [
    "df[\"e\"]"
   ]
  },
  {
   "cell_type": "code",
   "execution_count": 15,
   "metadata": {},
   "outputs": [
    {
     "data": {
      "text/html": [
       "<div><div id=e7019c59-d3e7-4cf9-9e84-f67d9d89b88c style=\"display:none; background-color:#9D6CFF; color:white; width:200px; height:30px; padding-left:5px; border-radius:4px; flex-direction:row; justify-content:space-around; align-items:center;\" onmouseover=\"this.style.backgroundColor='#BA9BF8'\" onmouseout=\"this.style.backgroundColor='#9D6CFF'\" onclick=\"window.commands?.execute('create-mitosheet-from-dataframe-output');\">See Full Dataframe in Mito</div> <script> if (window.commands.hasCommand('create-mitosheet-from-dataframe-output')) document.getElementById('e7019c59-d3e7-4cf9-9e84-f67d9d89b88c').style.display = 'flex' </script> <table border=\"1\" class=\"dataframe\">\n",
       "  <thead>\n",
       "    <tr>\n",
       "      <th></th>\n",
       "      <th>a</th>\n",
       "      <th>b</th>\n",
       "      <th>c</th>\n",
       "      <th>d</th>\n",
       "      <th>e</th>\n",
       "      <th>g</th>\n",
       "      <th>i</th>\n",
       "      <th>h</th>\n",
       "    </tr>\n",
       "    <tr>\n",
       "      <th>unit</th>\n",
       "      <th>m</th>\n",
       "      <th>m</th>\n",
       "      <th>1/m</th>\n",
       "      <th>m</th>\n",
       "      <th>1/m</th>\n",
       "      <th>m**2</th>\n",
       "      <th>-</th>\n",
       "      <th>kg*m**2/s**3</th>\n",
       "    </tr>\n",
       "  </thead>\n",
       "  <tbody>\n",
       "    <tr>\n",
       "      <th>0</th>\n",
       "      <td>0</td>\n",
       "      <td>0</td>\n",
       "      <td>inf</td>\n",
       "      <td>0</td>\n",
       "      <td>inf</td>\n",
       "      <td>NaN</td>\n",
       "      <td>1.1408854627734115 kg*m**2/s**3</td>\n",
       "      <td>-1.2228184007219671</td>\n",
       "    </tr>\n",
       "    <tr>\n",
       "      <th>1</th>\n",
       "      <td>1</td>\n",
       "      <td>2</td>\n",
       "      <td>1.0</td>\n",
       "      <td>2</td>\n",
       "      <td>1.0</td>\n",
       "      <td>1.0</td>\n",
       "      <td>-1.0169578100610903 kg*m**2/s**3</td>\n",
       "      <td>-0.3263134357255318</td>\n",
       "    </tr>\n",
       "    <tr>\n",
       "      <th>2</th>\n",
       "      <td>2</td>\n",
       "      <td>4</td>\n",
       "      <td>0.5</td>\n",
       "      <td>4</td>\n",
       "      <td>0.5</td>\n",
       "      <td>4.0</td>\n",
       "      <td>-1.3773946495946152 kg*m**2/s**3</td>\n",
       "      <td>-1.5693247807978226</td>\n",
       "    </tr>\n",
       "    <tr>\n",
       "      <th>3</th>\n",
       "      <td>3</td>\n",
       "      <td>6</td>\n",
       "      <td>0.3333333333333333</td>\n",
       "      <td>6</td>\n",
       "      <td>0.3333333333333333</td>\n",
       "      <td>9.0</td>\n",
       "      <td>1.157080129391746 kg*m**2/s**3</td>\n",
       "      <td>1.3628227918372984</td>\n",
       "    </tr>\n",
       "    <tr>\n",
       "      <th>4</th>\n",
       "      <td>4</td>\n",
       "      <td>8</td>\n",
       "      <td>0.25</td>\n",
       "      <td>8</td>\n",
       "      <td>0.25</td>\n",
       "      <td>16.0</td>\n",
       "      <td>-0.19158506139148854 kg*m**2/s**3</td>\n",
       "      <td>-0.5648633163411004</td>\n",
       "    </tr>\n",
       "    <tr>\n",
       "      <th>5</th>\n",
       "      <td>5</td>\n",
       "      <td>10</td>\n",
       "      <td>0.2</td>\n",
       "      <td>10</td>\n",
       "      <td>0.2</td>\n",
       "      <td>24.999999999999996</td>\n",
       "      <td>1.0306862384931925 kg*m**2/s**3</td>\n",
       "      <td>-2.12900710363257</td>\n",
       "    </tr>\n",
       "    <tr>\n",
       "      <th>6</th>\n",
       "      <td>6</td>\n",
       "      <td>12</td>\n",
       "      <td>0.16666666666666666</td>\n",
       "      <td>12</td>\n",
       "      <td>0.16666666666666666</td>\n",
       "      <td>36.0</td>\n",
       "      <td>-0.6870953718534554 kg*m**2/s**3</td>\n",
       "      <td>0.5637992201682791</td>\n",
       "    </tr>\n",
       "    <tr>\n",
       "      <th>7</th>\n",
       "      <td>7</td>\n",
       "      <td>14</td>\n",
       "      <td>0.14285714285714285</td>\n",
       "      <td>14</td>\n",
       "      <td>0.14285714285714285</td>\n",
       "      <td>49.00000000000001</td>\n",
       "      <td>-1.1947018610060396 kg*m**2/s**3</td>\n",
       "      <td>-1.6932628341517628</td>\n",
       "    </tr>\n",
       "    <tr>\n",
       "      <th>8</th>\n",
       "      <td>8</td>\n",
       "      <td>16</td>\n",
       "      <td>0.125</td>\n",
       "      <td>16</td>\n",
       "      <td>0.125</td>\n",
       "      <td>64.0</td>\n",
       "      <td>0.6186747223450796 kg*m**2/s**3</td>\n",
       "      <td>-1.0989530778153496</td>\n",
       "    </tr>\n",
       "    <tr>\n",
       "      <th>9</th>\n",
       "      <td>9</td>\n",
       "      <td>18</td>\n",
       "      <td>0.1111111111111111</td>\n",
       "      <td>18</td>\n",
       "      <td>0.1111111111111111</td>\n",
       "      <td>81.0</td>\n",
       "      <td>-1.190051621496801 kg*m**2/s**3</td>\n",
       "      <td>-0.27003145697400655</td>\n",
       "    </tr>\n",
       "  </tbody>\n",
       "</table></div>"
      ],
      "text/plain": [
       "     a  b                   c  d                   e                  g  \\\n",
       "unit m  m                 1/m  m                 1/m               m**2   \n",
       "0    0  0                 inf  0                 inf                NaN   \n",
       "1    1  2                 1.0  2                 1.0                1.0   \n",
       "2    2  4                 0.5  4                 0.5                4.0   \n",
       "3    3  6  0.3333333333333333  6  0.3333333333333333                9.0   \n",
       "4    4  8                0.25  8                0.25               16.0   \n",
       "5    5 10                 0.2 10                 0.2 24.999999999999996   \n",
       "6    6 12 0.16666666666666666 12 0.16666666666666666               36.0   \n",
       "7    7 14 0.14285714285714285 14 0.14285714285714285  49.00000000000001   \n",
       "8    8 16               0.125 16               0.125               64.0   \n",
       "9    9 18  0.1111111111111111 18  0.1111111111111111               81.0   \n",
       "\n",
       "                                      i                    h  \n",
       "unit                                  -         kg*m**2/s**3  \n",
       "0       1.1408854627734115 kg*m**2/s**3  -1.2228184007219671  \n",
       "1      -1.0169578100610903 kg*m**2/s**3  -0.3263134357255318  \n",
       "2      -1.3773946495946152 kg*m**2/s**3  -1.5693247807978226  \n",
       "3        1.157080129391746 kg*m**2/s**3   1.3628227918372984  \n",
       "4     -0.19158506139148854 kg*m**2/s**3  -0.5648633163411004  \n",
       "5       1.0306862384931925 kg*m**2/s**3    -2.12900710363257  \n",
       "6      -0.6870953718534554 kg*m**2/s**3   0.5637992201682791  \n",
       "7      -1.1947018610060396 kg*m**2/s**3  -1.6932628341517628  \n",
       "8       0.6186747223450796 kg*m**2/s**3  -1.0989530778153496  \n",
       "9       -1.190051621496801 kg*m**2/s**3 -0.27003145697400655  "
      ]
     },
     "execution_count": 15,
     "metadata": {},
     "output_type": "execute_result"
    }
   ],
   "source": [
    "df.physipy.show()"
   ]
  },
  {
   "cell_type": "code",
   "execution_count": 16,
   "metadata": {},
   "outputs": [
    {
     "name": "stdout",
     "output_type": "stream",
     "text": [
      "L**2\n"
     ]
    },
    {
     "data": {
      "text/latex": [
       "$0.0001\\,ha$"
      ],
      "text/plain": [
       "<Quantity : 1 m**2>"
      ]
     },
     "execution_count": 16,
     "metadata": {},
     "output_type": "execute_result"
    }
   ],
   "source": [
    "print(df[\"g\"].physipy.dimension)\n",
    "df[\"g\"].physipy._SI_unitary_quantity"
   ]
  },
  {
   "cell_type": "code",
   "execution_count": null,
   "metadata": {},
   "outputs": [],
   "source": []
  },
  {
   "cell_type": "markdown",
   "metadata": {},
   "source": [
    "# Numpy performance"
   ]
  },
  {
   "cell_type": "code",
   "execution_count": 17,
   "metadata": {},
   "outputs": [],
   "source": [
    "arr = np.arange(10)\n",
    "arrq = arr * m\n",
    "arrqar = QuantityArray(arrq)\n",
    "arrnps = pd.Series(arr)\n",
    "arrs = pd.Series(arrq, dtype=\"physipy[m]\")"
   ]
  },
  {
   "cell_type": "code",
   "execution_count": 18,
   "metadata": {},
   "outputs": [
    {
     "name": "stdout",
     "output_type": "stream",
     "text": [
      "839 ns ± 5.83 ns per loop (mean ± std. dev. of 7 runs, 1000000 loops each)\n",
      "23.2 µs ± 748 ns per loop (mean ± std. dev. of 7 runs, 10000 loops each)\n",
      "455 µs ± 13.9 µs per loop (mean ± std. dev. of 7 runs, 1000 loops each)\n",
      "75 µs ± 2.82 µs per loop (mean ± std. dev. of 7 runs, 10000 loops each)\n",
      "555 µs ± 5.21 µs per loop (mean ± std. dev. of 7 runs, 1000 loops each)\n"
     ]
    }
   ],
   "source": [
    "%timeit np.sqrt(arr)\n",
    "%timeit np.sqrt(arrq)\n",
    "%timeit np.sqrt(arrqar)\n",
    "%timeit np.sqrt(arrnps)\n",
    "%timeit np.sqrt(arrs)"
   ]
  },
  {
   "cell_type": "code",
   "execution_count": 18,
   "metadata": {},
   "outputs": [
    {
     "name": "stdout",
     "output_type": "stream",
     "text": [
      " \n",
      "*** Profile stats marshalled to file 'prunsum_file'. \n"
     ]
    },
    {
     "data": {
      "text/plain": [
       "         313 function calls (308 primitive calls) in 0.001 seconds\n",
       "\n",
       "   Ordered by: name/file/line\n",
       "\n",
       "   ncalls  tottime  percall  cumtime  percall filename:lineno(function)\n",
       "        2    0.000    0.000    0.000    0.000 {built-in method __new__ of type object at 0x10538f808}\n",
       "        1    0.000    0.000    0.000    0.000 {built-in method _abc._abc_instancecheck}\n",
       "        3    0.000    0.000    0.000    0.000 {built-in method builtins.all}\n",
       "        1    0.000    0.000    0.000    0.000 {built-in method builtins.any}\n",
       "        1    0.000    0.000    0.001    0.001 {built-in method builtins.exec}\n",
       "       17    0.000    0.000    0.000    0.000 {built-in method builtins.getattr}\n",
       "        9    0.000    0.000    0.000    0.000 {built-in method builtins.hasattr}\n",
       "        3    0.000    0.000    0.000    0.000 {built-in method builtins.hash}\n",
       "       74    0.000    0.000    0.000    0.000 {built-in method builtins.isinstance}\n",
       "        1    0.000    0.000    0.000    0.000 {built-in method builtins.issubclass}\n",
       "     14/9    0.000    0.000    0.000    0.000 {built-in method builtins.len}\n",
       "        2    0.000    0.000    0.000    0.000 {built-in method builtins.sum}\n",
       "        1    0.000    0.000    0.000    0.000 dimension.py:178(<dictcomp>)\n",
       "        2    0.000    0.000    0.000    0.000 arraylike.py:185(<genexpr>)\n",
       "        2    0.000    0.000    0.000    0.000 arraylike.py:186(<genexpr>)\n",
       "        2    0.000    0.000    0.000    0.000 arraylike.py:279(<genexpr>)\n",
       "        2    0.000    0.000    0.000    0.000 arraylike.py:363(<genexpr>)\n",
       "        4    0.000    0.000    0.000    0.000 common.py:1737(<genexpr>)\n",
       "        3    0.000    0.000    0.000    0.000 inference.py:288(<genexpr>)\n",
       "        1    0.000    0.000    0.000    0.000 extension.py:1007(<lambda>)\n",
       "        1    0.000    0.000    0.000    0.000 extension.py:1013(<lambda>)\n",
       "        1    0.000    0.000    0.000    0.000 arraylike.py:280(<listcomp>)\n",
       "        1    0.000    0.000    0.000    0.000 arraylike.py:312(<listcomp>)\n",
       "        1    0.000    0.000    0.000    0.000 {method 'copy' of 'dict' objects}\n",
       "        1    0.000    0.000    0.000    0.000 {method 'disable' of '_lsprof.Profiler' objects}\n",
       "        2    0.000    0.000    0.000    0.000 {method 'get' of 'dict' objects}\n",
       "        1    0.000    0.000    0.000    0.000 {method 'issubset' of 'set' objects}\n",
       "        1    0.000    0.000    0.000    0.000 {method 'items' of 'dict' objects}\n",
       "        4    0.000    0.000    0.000    0.000 {method 'keys' of 'dict' objects}\n",
       "        1    0.000    0.000    0.000    0.000 {method 'split' of 'str' objects}\n",
       "        1    0.000    0.000    0.000    0.000 <string>:1(<module>)\n",
       "        3    0.000    0.000    0.000    0.000 {pandas._libs.lib.is_list_like}\n",
       "        1    0.000    0.000    0.000    0.000 {pandas._libs.lib.is_scalar}\n",
       "        1    0.000    0.000    0.000    0.000 {pandas._libs.ops_dispatch.maybe_dispatch_ufunc_to_dunder_op}\n",
       "        1    0.000    0.000    0.000    0.000 quantity.py:499(_SI_unitary_quantity)\n",
       "        1    0.000    0.000    0.000    0.000 extension.py:995(__array_ufunc__)\n",
       "        1    0.000    0.000    0.000    0.000 generic.py:2026(__array_ufunc__)\n",
       "        1    0.000    0.000    0.000    0.000 quantity.py:713(__array_ufunc__)\n",
       "        1    0.000    0.000    0.000    0.000 config.py:242(__call__)\n",
       "        2    0.000    0.000    0.000    0.000 quantity.py:325(__copy__)\n",
       "        1    0.000    0.000    0.000    0.000 dimension.py:184(__eq__)\n",
       "        1    0.000    0.000    0.000    0.000 generic.py:5426(__finalize__)\n",
       "        1    0.000    0.000    0.000    0.000 generic.py:5464(__getattr__)\n",
       "        1    0.000    0.000    0.000    0.000 dimension.py:85(__init__)\n",
       "        1    0.000    0.000    0.000    0.000 extension.py:274(__init__)\n",
       "        1    0.000    0.000    0.000    0.000 flags.py:47(__init__)\n",
       "        1    0.000    0.000    0.000    0.000 generic.py:230(__init__)\n",
       "        1    0.000    0.000    0.000    0.000 managers.py:1532(__init__)\n",
       "        4    0.000    0.000    0.000    0.000 quantity.py:92(__init__)\n",
       "        1    0.000    0.000    0.000    0.000 series.py:315(__init__)\n",
       "        1    0.000    0.000    0.000    0.000 abc.py:96(__instancecheck__)\n",
       "        1    0.000    0.000    0.000    0.000 extension.py:445(__len__)\n",
       "        2    0.000    0.000    0.000    0.000 quantity.py:245(__len__)\n",
       "        2    0.000    0.000    0.000    0.000 range.py:806(__len__)\n",
       "        2    0.000    0.000    0.000    0.000 extension.py:135(__new__)\n",
       "        2    0.000    0.000    0.000    0.000 symbol.py:261(__new__)\n",
       "        1    0.000    0.000    0.000    0.000 dimension.py:175(__pow__)\n",
       "        1    0.000    0.000    0.000    0.000 generic.py:5480(__setattr__)\n",
       "       24    0.000    0.000    0.000    0.000 quantity.py:100(__setattr__)\n",
       "        1    0.000    0.000    0.000    0.000 managers.py:1612(_block)\n",
       "       13    0.000    0.000    0.000    0.000 generic.py:43(_check)\n",
       "        1    0.000    0.000    0.000    0.000 series.py:507(_constructor)\n",
       "        2    0.000    0.000    0.000    0.000 config.py:579(_get_deprecated_option)\n",
       "        1    0.000    0.000    0.000    0.000 config.py:114(_get_option)\n",
       "        1    0.000    0.000    0.000    0.000 config.py:565(_get_root)\n",
       "        1    0.000    0.000    0.000    0.000 config.py:96(_get_single_key)\n",
       "        3    0.000    0.000    0.000    0.000 <frozen importlib._bootstrap>:1017(_handle_fromlist)\n",
       "        1    0.000    0.000    0.000    0.000 numeric.py:296(_is_all_dates)\n",
       "        1    0.000    0.000    0.000    0.000 arraylike.py:172(_maybe_fallback)\n",
       "        2    0.000    0.000    0.000    0.000 symbol.py:229(_sanitize)\n",
       "        1    0.000    0.000    0.000    0.000 config.py:547(_select_options)\n",
       "        1    0.000    0.000    0.000    0.000 series.py:528(_set_axis)\n",
       "        1    0.000    0.000    0.000    0.000 config.py:606(_translate_key)\n",
       "        1    0.000    0.000    0.000    0.000 quantity.py:776(_ufunc_call)\n",
       "        1    0.000    0.000    0.000    0.000 config.py:618(_warn_if_deprecated)\n",
       "        1    0.000    0.000    0.000    0.000 flags.py:51(allows_duplicate_labels)\n",
       "        1    0.000    0.000    0.000    0.000 flags.py:83(allows_duplicate_labels)\n",
       "        1    0.000    0.000    0.000    0.000 series.py:709(array)\n",
       "        1    0.000    0.000    0.000    0.000 arraylike.py:234(array_ufunc)\n",
       "        1    0.000    0.000    0.000    0.000 blocks.py:1348(array_values)\n",
       "        1    0.000    0.000    0.000    0.000 managers.py:1671(array_values)\n",
       "        1    0.000    0.000    0.000    0.000 generic.py:321(attrs)\n",
       "        1    0.000    0.000    0.000    0.000 series.py:870(axes)\n",
       "        1    0.000    0.000    0.000    0.000 typing.py:1149(cast)\n",
       "        1    0.000    0.000    0.000    0.000 blocks.py:1931(check_ndim)\n",
       "        1    0.000    0.000    0.000    0.000 extension.py:167(dimension)\n",
       "        3    0.000    0.000    0.000    0.000 extension.py:326(dtype)\n",
       "        1    0.000    0.000    0.000    0.000 base.py:6280(ensure_index)\n",
       "        3    0.000    0.000    0.000    0.000 construction.py:369(extract_array)\n",
       "        1    0.000    0.000    0.000    0.000 blocks.py:1973(extract_pandas_array)\n",
       "        2    0.000    0.000    0.000    0.000 generic.py:342(flags)\n",
       "        1    0.000    0.000    0.000    0.000 managers.py:1562(from_array)\n",
       "        2    0.000    0.000    0.000    0.000 logic.py:92(fuzzy_bool)\n",
       "        1    0.000    0.000    0.000    0.000 blocks.py:1875(get_block_type)\n",
       "        1    0.000    0.000    0.000    0.000 common.py:1409(is_1d_only_ea_dtype)\n",
       "        1    0.000    0.000    0.000    0.000 inference.py:262(is_dict_like)\n",
       "        1    0.000    0.000    0.000    0.000 construction.py:778(is_empty_data)\n",
       "        3    0.000    0.000    0.000    0.000 inference.py:321(is_hashable)\n",
       "        1    0.000    0.000    0.000    0.000 common.py:190(is_sparse)\n",
       "        1    0.000    0.000    0.000    0.000 numeric.py:1858(isscalar)\n",
       "        1    0.000    0.000    0.000    0.000 base.py:162(kind)\n",
       "        1    0.000    0.000    0.000    0.000 blocks.py:1843(maybe_coerce_values)\n",
       "        1    0.000    0.000    0.000    0.000 base.py:6382(maybe_extract_name)\n",
       "        4    0.000    0.000    0.000    0.000 series.py:577(name)\n",
       "        2    0.000    0.000    0.000    0.000 series.py:627(name)\n",
       "        4    0.000    0.000    0.000    0.000 base.py:308(ndim)\n",
       "        2    0.000    0.000    0.000    0.000 base.py:497(ndim)\n",
       "        1    0.000    0.000    0.000    0.000 blocks.py:1916(new_block)\n",
       "        1    0.000    0.000    0.000    0.000 common.py:1744(pandas_dtype)\n",
       "        2    0.000    0.000    0.000    0.000 quantity.py:1544(quantify)\n",
       "        1    0.000    0.000    0.000    0.000 extension.py:298(quantity)\n",
       "        1    0.000    0.000    0.000    0.000 arraylike.py:318(reconstruct)\n",
       "        1    0.000    0.000    0.000    0.000 common.py:522(require_length_match)\n",
       "        1    0.000    0.000    0.000    0.000 construction.py:463(sanitize_array)\n",
       "        2    0.000    0.000    0.000    0.000 common.py:1718(validate_all_hashable)\n",
       "        2    0.000    0.000    0.000    0.000 cache.py:69(wrapper)"
      ]
     },
     "metadata": {},
     "output_type": "display_data"
    }
   ],
   "source": [
    "%prun -D prunsum_file -s nfl a = np.sqrt(arrs)"
   ]
  },
  {
   "cell_type": "code",
   "execution_count": null,
   "metadata": {},
   "outputs": [],
   "source": [
    "!snakeviz prunsum_file\n",
    "!exit"
   ]
  },
  {
   "cell_type": "code",
   "execution_count": 42,
   "metadata": {},
   "outputs": [
    {
     "name": "stdout",
     "output_type": "stream",
     "text": [
      "         1240 function calls (1233 primitive calls) in 0.001 seconds\n",
      "\n",
      "   Ordered by: cumulative time\n",
      "   List reduced from 200 to 10 due to restriction <10>\n",
      "\n",
      "   ncalls  tottime  percall  cumtime  percall filename:lineno(function)\n",
      "        1    0.000    0.000    0.001    0.001 {built-in method builtins.exec}\n",
      "        1    0.000    0.000    0.001    0.001 <string>:1(<module>)\n",
      "        1    0.000    0.000    0.001    0.001 generic.py:2026(__array_ufunc__)\n",
      "        1    0.000    0.000    0.001    0.001 arraylike.py:234(array_ufunc)\n",
      "        1    0.000    0.000    0.001    0.001 extension.py:995(__array_ufunc__)\n",
      "        1    0.000    0.000    0.001    0.001 extension.py:274(__init__)\n",
      "        1    0.000    0.000    0.001    0.001 quantity.py:499(_SI_unitary_quantity)\n",
      "        1    0.000    0.000    0.001    0.001 dimension.py:202(str_SI_unit)\n",
      "        1    0.000    0.000    0.001    0.001 dimension.py:219(compute_str)\n",
      "        1    0.000    0.000    0.001    0.001 dimension.py:229(expand_dict_to_expr)\n"
     ]
    }
   ],
   "source": [
    "print(open('prun0', 'r').read())"
   ]
  },
  {
   "cell_type": "code",
   "execution_count": null,
   "metadata": {},
   "outputs": [],
   "source": []
  }
 ],
 "metadata": {
  "kernelspec": {
   "display_name": "Python 3 (ipykernel)",
   "language": "python",
   "name": "python3"
  },
  "language_info": {
   "codemirror_mode": {
    "name": "ipython",
    "version": 3
   },
   "file_extension": ".py",
   "mimetype": "text/x-python",
   "name": "python",
   "nbconvert_exporter": "python",
   "pygments_lexer": "ipython3",
   "version": "3.9.7"
  },
  "toc-autonumbering": true
 },
 "nbformat": 4,
 "nbformat_minor": 4
}
