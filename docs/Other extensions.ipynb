{
 "cells": [
  {
   "cell_type": "markdown",
   "id": "9f2c1e62-f4a5-4868-b98e-1079790a5dcc",
   "metadata": {},
   "source": [
    "# Pint"
   ]
  },
  {
   "cell_type": "markdown",
   "id": "30bf9652-cfe6-491c-b9d1-1ba39a13b5d1",
   "metadata": {},
   "source": [
    "https://github.com/hgrecco/pint-pandas/blob/master/pint_pandas/pint_array.py"
   ]
  },
  {
   "cell_type": "code",
   "execution_count": 4,
   "id": "fc188a47-ecf2-4687-a792-a1f3981dafb1",
   "metadata": {},
   "outputs": [],
   "source": [
    "import pandas as pd\n",
    "import pint\n",
    "import pint_pandas\n",
    "import numpy as np"
   ]
  },
  {
   "cell_type": "code",
   "execution_count": 5,
   "id": "025c6587-37ae-4ea0-8923-bf586f564e26",
   "metadata": {},
   "outputs": [],
   "source": [
    "PA_ = pint_pandas.PintArray\n",
    "from pint_pandas import PintType\n",
    "ureg = pint.UnitRegistry()\n",
    "Q_=ureg.Quantity\n",
    "m = ureg.m"
   ]
  },
  {
   "cell_type": "code",
   "execution_count": 6,
   "id": "d65c5dcd-bcf1-4b9d-b856-e9cd90f4f39b",
   "metadata": {},
   "outputs": [
    {
     "name": "stderr",
     "output_type": "stream",
     "text": [
      "/opt/anaconda3/lib/python3.9/site-packages/pint_pandas/pint_array.py:194: RuntimeWarning: pint-pandas does not support magnitudes of <class 'int'>. Converting magnitudes to float.\n",
      "  warnings.warn(\n",
      "/opt/anaconda3/lib/python3.9/site-packages/pint_pandas/pint_array.py:648: UnitStrippedWarning: The unit of the quantity is stripped when downcasting to ndarray.\n",
      "  return np.array(qtys, dtype=\"object\", copy=copy)\n"
     ]
    },
    {
     "data": {
      "text/plain": [
       "0    1.0\n",
       "1    2.0\n",
       "2    2.0\n",
       "3    3.0\n",
       "dtype: pint[foot * force_pound]"
      ]
     },
     "execution_count": 6,
     "metadata": {},
     "output_type": "execute_result"
    }
   ],
   "source": [
    "a = pd.Series([1, 2, 2, 3], dtype=\"pint[lbf ft]\")\n",
    "a"
   ]
  },
  {
   "cell_type": "code",
   "execution_count": 7,
   "id": "da282ed8-534b-4989-8b13-51c6c2259ecd",
   "metadata": {},
   "outputs": [
    {
     "ename": "TypeError",
     "evalue": "loop of ufunc does not support argument 0 of type Quantity which has no callable sqrt method",
     "output_type": "error",
     "traceback": [
      "\u001b[0;31m---------------------------------------------------------------------------\u001b[0m",
      "\u001b[0;31mAttributeError\u001b[0m                            Traceback (most recent call last)",
      "\u001b[0;32m/opt/anaconda3/lib/python3.9/site-packages/pint/quantity.py\u001b[0m in \u001b[0;36m__getattr__\u001b[0;34m(self, item)\u001b[0m\n\u001b[1;32m   1874\u001b[0m             \u001b[0;32mtry\u001b[0m\u001b[0;34m:\u001b[0m\u001b[0;34m\u001b[0m\u001b[0;34m\u001b[0m\u001b[0m\n\u001b[0;32m-> 1875\u001b[0;31m                 \u001b[0mattr\u001b[0m \u001b[0;34m=\u001b[0m \u001b[0mgetattr\u001b[0m\u001b[0;34m(\u001b[0m\u001b[0mmagnitude_as_duck_array\u001b[0m\u001b[0;34m,\u001b[0m \u001b[0mitem\u001b[0m\u001b[0;34m)\u001b[0m\u001b[0;34m\u001b[0m\u001b[0;34m\u001b[0m\u001b[0m\n\u001b[0m\u001b[1;32m   1876\u001b[0m                 \u001b[0;32mreturn\u001b[0m \u001b[0mfunctools\u001b[0m\u001b[0;34m.\u001b[0m\u001b[0mpartial\u001b[0m\u001b[0;34m(\u001b[0m\u001b[0mself\u001b[0m\u001b[0;34m.\u001b[0m\u001b[0m_numpy_method_wrap\u001b[0m\u001b[0;34m,\u001b[0m \u001b[0mattr\u001b[0m\u001b[0;34m)\u001b[0m\u001b[0;34m\u001b[0m\u001b[0;34m\u001b[0m\u001b[0m\n",
      "\u001b[0;31mAttributeError\u001b[0m: 'numpy.ndarray' object has no attribute 'sqrt'",
      "\nDuring handling of the above exception, another exception occurred:\n",
      "\u001b[0;31mAttributeError\u001b[0m                            Traceback (most recent call last)",
      "\u001b[0;32m/opt/anaconda3/lib/python3.9/site-packages/pint/quantity.py\u001b[0m in \u001b[0;36m__getattr__\u001b[0;34m(self, item)\u001b[0m\n\u001b[1;32m   1877\u001b[0m             \u001b[0;32mexcept\u001b[0m \u001b[0mAttributeError\u001b[0m\u001b[0;34m:\u001b[0m\u001b[0;34m\u001b[0m\u001b[0;34m\u001b[0m\u001b[0m\n\u001b[0;32m-> 1878\u001b[0;31m                 raise AttributeError(\n\u001b[0m\u001b[1;32m   1879\u001b[0m                     \u001b[0;34mf\"NumPy method {item} not available on {type(magnitude_as_duck_array)}\"\u001b[0m\u001b[0;34m\u001b[0m\u001b[0;34m\u001b[0m\u001b[0m\n",
      "\u001b[0;31mAttributeError\u001b[0m: NumPy method sqrt not available on <class 'numpy.ndarray'>",
      "\nThe above exception was the direct cause of the following exception:\n",
      "\u001b[0;31mTypeError\u001b[0m                                 Traceback (most recent call last)",
      "\u001b[0;32m/var/folders/5k/bf4syt7x1zjbhc6b28srzzym0000gn/T/ipykernel_46638/2835837605.py\u001b[0m in \u001b[0;36m<module>\u001b[0;34m\u001b[0m\n\u001b[0;32m----> 1\u001b[0;31m \u001b[0mnp\u001b[0m\u001b[0;34m.\u001b[0m\u001b[0msqrt\u001b[0m\u001b[0;34m(\u001b[0m\u001b[0ma\u001b[0m\u001b[0;34m)\u001b[0m\u001b[0;34m\u001b[0m\u001b[0;34m\u001b[0m\u001b[0m\n\u001b[0m",
      "\u001b[0;32m/opt/anaconda3/lib/python3.9/site-packages/pandas/core/generic.py\u001b[0m in \u001b[0;36m__array_ufunc__\u001b[0;34m(self, ufunc, method, *inputs, **kwargs)\u001b[0m\n\u001b[1;32m   2030\u001b[0m         \u001b[0mself\u001b[0m\u001b[0;34m,\u001b[0m \u001b[0mufunc\u001b[0m\u001b[0;34m:\u001b[0m \u001b[0mnp\u001b[0m\u001b[0;34m.\u001b[0m\u001b[0mufunc\u001b[0m\u001b[0;34m,\u001b[0m \u001b[0mmethod\u001b[0m\u001b[0;34m:\u001b[0m \u001b[0mstr\u001b[0m\u001b[0;34m,\u001b[0m \u001b[0;34m*\u001b[0m\u001b[0minputs\u001b[0m\u001b[0;34m:\u001b[0m \u001b[0mAny\u001b[0m\u001b[0;34m,\u001b[0m \u001b[0;34m**\u001b[0m\u001b[0mkwargs\u001b[0m\u001b[0;34m:\u001b[0m \u001b[0mAny\u001b[0m\u001b[0;34m\u001b[0m\u001b[0;34m\u001b[0m\u001b[0m\n\u001b[1;32m   2031\u001b[0m     ):\n\u001b[0;32m-> 2032\u001b[0;31m         \u001b[0;32mreturn\u001b[0m \u001b[0marraylike\u001b[0m\u001b[0;34m.\u001b[0m\u001b[0marray_ufunc\u001b[0m\u001b[0;34m(\u001b[0m\u001b[0mself\u001b[0m\u001b[0;34m,\u001b[0m \u001b[0mufunc\u001b[0m\u001b[0;34m,\u001b[0m \u001b[0mmethod\u001b[0m\u001b[0;34m,\u001b[0m \u001b[0;34m*\u001b[0m\u001b[0minputs\u001b[0m\u001b[0;34m,\u001b[0m \u001b[0;34m**\u001b[0m\u001b[0mkwargs\u001b[0m\u001b[0;34m)\u001b[0m\u001b[0;34m\u001b[0m\u001b[0;34m\u001b[0m\u001b[0m\n\u001b[0m\u001b[1;32m   2033\u001b[0m \u001b[0;34m\u001b[0m\u001b[0m\n\u001b[1;32m   2034\u001b[0m     \u001b[0;31m# ideally we would define this to avoid the getattr checks, but\u001b[0m\u001b[0;34m\u001b[0m\u001b[0;34m\u001b[0m\u001b[0m\n",
      "\u001b[0;32m/opt/anaconda3/lib/python3.9/site-packages/pandas/core/arraylike.py\u001b[0m in \u001b[0;36marray_ufunc\u001b[0;34m(self, ufunc, method, *inputs, **kwargs)\u001b[0m\n\u001b[1;32m    362\u001b[0m         \u001b[0;31m# ufunc(series, ...)\u001b[0m\u001b[0;34m\u001b[0m\u001b[0;34m\u001b[0m\u001b[0m\n\u001b[1;32m    363\u001b[0m         \u001b[0minputs\u001b[0m \u001b[0;34m=\u001b[0m \u001b[0mtuple\u001b[0m\u001b[0;34m(\u001b[0m\u001b[0mextract_array\u001b[0m\u001b[0;34m(\u001b[0m\u001b[0mx\u001b[0m\u001b[0;34m,\u001b[0m \u001b[0mextract_numpy\u001b[0m\u001b[0;34m=\u001b[0m\u001b[0;32mTrue\u001b[0m\u001b[0;34m)\u001b[0m \u001b[0;32mfor\u001b[0m \u001b[0mx\u001b[0m \u001b[0;32min\u001b[0m \u001b[0minputs\u001b[0m\u001b[0;34m)\u001b[0m\u001b[0;34m\u001b[0m\u001b[0;34m\u001b[0m\u001b[0m\n\u001b[0;32m--> 364\u001b[0;31m         \u001b[0mresult\u001b[0m \u001b[0;34m=\u001b[0m \u001b[0mgetattr\u001b[0m\u001b[0;34m(\u001b[0m\u001b[0mufunc\u001b[0m\u001b[0;34m,\u001b[0m \u001b[0mmethod\u001b[0m\u001b[0;34m)\u001b[0m\u001b[0;34m(\u001b[0m\u001b[0;34m*\u001b[0m\u001b[0minputs\u001b[0m\u001b[0;34m,\u001b[0m \u001b[0;34m**\u001b[0m\u001b[0mkwargs\u001b[0m\u001b[0;34m)\u001b[0m\u001b[0;34m\u001b[0m\u001b[0;34m\u001b[0m\u001b[0m\n\u001b[0m\u001b[1;32m    365\u001b[0m     \u001b[0;32melse\u001b[0m\u001b[0;34m:\u001b[0m\u001b[0;34m\u001b[0m\u001b[0;34m\u001b[0m\u001b[0m\n\u001b[1;32m    366\u001b[0m         \u001b[0;31m# ufunc(dataframe)\u001b[0m\u001b[0;34m\u001b[0m\u001b[0;34m\u001b[0m\u001b[0m\n",
      "\u001b[0;31mTypeError\u001b[0m: loop of ufunc does not support argument 0 of type Quantity which has no callable sqrt method"
     ]
    }
   ],
   "source": [
    "np.sqrt(a)"
   ]
  },
  {
   "cell_type": "code",
   "execution_count": 4,
   "id": "56c97d98-1ea6-4485-8bc3-7c1b15fe903f",
   "metadata": {},
   "outputs": [
    {
     "ename": "NotImplementedError",
     "evalue": "",
     "output_type": "error",
     "traceback": [
      "\u001b[0;31m---------------------------------------------------------------------------\u001b[0m",
      "\u001b[0;31mNotImplementedError\u001b[0m                       Traceback (most recent call last)",
      "\u001b[0;32m/var/folders/5k/bf4syt7x1zjbhc6b28srzzym0000gn/T/ipykernel_47748/1468231268.py\u001b[0m in \u001b[0;36m<module>\u001b[0;34m\u001b[0m\n\u001b[0;32m----> 1\u001b[0;31m \u001b[0mpd\u001b[0m\u001b[0;34m.\u001b[0m\u001b[0mSeries\u001b[0m\u001b[0;34m(\u001b[0m\u001b[0mPA_\u001b[0m\u001b[0;34m(\u001b[0m\u001b[0mnp\u001b[0m\u001b[0;34m.\u001b[0m\u001b[0marange\u001b[0m\u001b[0;34m(\u001b[0m\u001b[0;36m10\u001b[0m\u001b[0;34m)\u001b[0m\u001b[0;34m*\u001b[0m\u001b[0mm\u001b[0m\u001b[0;34m)\u001b[0m\u001b[0;34m)\u001b[0m\u001b[0;34m\u001b[0m\u001b[0;34m\u001b[0m\u001b[0m\n\u001b[0m",
      "\u001b[0;32m/opt/anaconda3/lib/python3.8/site-packages/pint_pandas/pint_array.py\u001b[0m in \u001b[0;36m__init__\u001b[0;34m(self, values, dtype, copy)\u001b[0m\n\u001b[1;32m    185\u001b[0m     \u001b[0;32mdef\u001b[0m \u001b[0m__init__\u001b[0m\u001b[0;34m(\u001b[0m\u001b[0mself\u001b[0m\u001b[0;34m,\u001b[0m \u001b[0mvalues\u001b[0m\u001b[0;34m,\u001b[0m \u001b[0mdtype\u001b[0m\u001b[0;34m=\u001b[0m\u001b[0;32mNone\u001b[0m\u001b[0;34m,\u001b[0m \u001b[0mcopy\u001b[0m\u001b[0;34m=\u001b[0m\u001b[0;32mFalse\u001b[0m\u001b[0;34m)\u001b[0m\u001b[0;34m:\u001b[0m\u001b[0;34m\u001b[0m\u001b[0;34m\u001b[0m\u001b[0m\n\u001b[1;32m    186\u001b[0m         \u001b[0;32mif\u001b[0m \u001b[0mdtype\u001b[0m \u001b[0;32mis\u001b[0m \u001b[0;32mNone\u001b[0m\u001b[0;34m:\u001b[0m\u001b[0;34m\u001b[0m\u001b[0;34m\u001b[0m\u001b[0m\n\u001b[0;32m--> 187\u001b[0;31m             \u001b[0;32mraise\u001b[0m \u001b[0mNotImplementedError\u001b[0m\u001b[0;34m\u001b[0m\u001b[0;34m\u001b[0m\u001b[0m\n\u001b[0m\u001b[1;32m    188\u001b[0m \u001b[0;34m\u001b[0m\u001b[0m\n\u001b[1;32m    189\u001b[0m         \u001b[0;32mif\u001b[0m \u001b[0;32mnot\u001b[0m \u001b[0misinstance\u001b[0m\u001b[0;34m(\u001b[0m\u001b[0mdtype\u001b[0m\u001b[0;34m,\u001b[0m \u001b[0mPintType\u001b[0m\u001b[0;34m)\u001b[0m\u001b[0;34m:\u001b[0m\u001b[0;34m\u001b[0m\u001b[0;34m\u001b[0m\u001b[0m\n",
      "\u001b[0;31mNotImplementedError\u001b[0m: "
     ]
    }
   ],
   "source": [
    "pd.Series(PA_(np.arange(10)*m))"
   ]
  },
  {
   "cell_type": "code",
   "execution_count": 9,
   "id": "f3b07c8c-5404-4400-a2b9-3a63fc44e0f6",
   "metadata": {},
   "outputs": [
    {
     "ename": "NotImplementedError",
     "evalue": "",
     "output_type": "error",
     "traceback": [
      "\u001b[0;31m---------------------------------------------------------------------------\u001b[0m",
      "\u001b[0;31mNotImplementedError\u001b[0m                       Traceback (most recent call last)",
      "\u001b[0;32m<ipython-input-9-77085fbf3409>\u001b[0m in \u001b[0;36m<module>\u001b[0;34m\u001b[0m\n\u001b[0;32m----> 1\u001b[0;31m \u001b[0mpd\u001b[0m\u001b[0;34m.\u001b[0m\u001b[0mSeries\u001b[0m\u001b[0;34m(\u001b[0m\u001b[0mPA_\u001b[0m\u001b[0;34m(\u001b[0m\u001b[0mnp\u001b[0m\u001b[0;34m.\u001b[0m\u001b[0marange\u001b[0m\u001b[0;34m(\u001b[0m\u001b[0;36m10\u001b[0m\u001b[0;34m)\u001b[0m\u001b[0;34m*\u001b[0m\u001b[0mm\u001b[0m\u001b[0;34m)\u001b[0m\u001b[0;34m,\u001b[0m \u001b[0mdtype\u001b[0m\u001b[0;34m=\u001b[0m\u001b[0mPintType\u001b[0m\u001b[0;34m(\u001b[0m\u001b[0mm\u001b[0m\u001b[0;34m)\u001b[0m\u001b[0;34m)\u001b[0m\u001b[0;34m\u001b[0m\u001b[0;34m\u001b[0m\u001b[0m\n\u001b[0m",
      "\u001b[0;32m/opt/anaconda3/lib/python3.8/site-packages/pint_pandas/pint_array.py\u001b[0m in \u001b[0;36m__init__\u001b[0;34m(self, values, dtype, copy)\u001b[0m\n\u001b[1;32m    185\u001b[0m     \u001b[0;32mdef\u001b[0m \u001b[0m__init__\u001b[0m\u001b[0;34m(\u001b[0m\u001b[0mself\u001b[0m\u001b[0;34m,\u001b[0m \u001b[0mvalues\u001b[0m\u001b[0;34m,\u001b[0m \u001b[0mdtype\u001b[0m\u001b[0;34m=\u001b[0m\u001b[0;32mNone\u001b[0m\u001b[0;34m,\u001b[0m \u001b[0mcopy\u001b[0m\u001b[0;34m=\u001b[0m\u001b[0;32mFalse\u001b[0m\u001b[0;34m)\u001b[0m\u001b[0;34m:\u001b[0m\u001b[0;34m\u001b[0m\u001b[0;34m\u001b[0m\u001b[0m\n\u001b[1;32m    186\u001b[0m         \u001b[0;32mif\u001b[0m \u001b[0mdtype\u001b[0m \u001b[0;32mis\u001b[0m \u001b[0;32mNone\u001b[0m\u001b[0;34m:\u001b[0m\u001b[0;34m\u001b[0m\u001b[0;34m\u001b[0m\u001b[0m\n\u001b[0;32m--> 187\u001b[0;31m             \u001b[0;32mraise\u001b[0m \u001b[0mNotImplementedError\u001b[0m\u001b[0;34m\u001b[0m\u001b[0;34m\u001b[0m\u001b[0m\n\u001b[0m\u001b[1;32m    188\u001b[0m \u001b[0;34m\u001b[0m\u001b[0m\n\u001b[1;32m    189\u001b[0m         \u001b[0;32mif\u001b[0m \u001b[0;32mnot\u001b[0m \u001b[0misinstance\u001b[0m\u001b[0;34m(\u001b[0m\u001b[0mdtype\u001b[0m\u001b[0;34m,\u001b[0m \u001b[0mPintType\u001b[0m\u001b[0;34m)\u001b[0m\u001b[0;34m:\u001b[0m\u001b[0;34m\u001b[0m\u001b[0;34m\u001b[0m\u001b[0m\n",
      "\u001b[0;31mNotImplementedError\u001b[0m: "
     ]
    }
   ],
   "source": [
    "pd.Series(PA_(np.arange(10)*m), dtype=PintType(m))"
   ]
  },
  {
   "cell_type": "code",
   "execution_count": 10,
   "id": "41b6317c-8be7-47e2-b10c-624a93744b9b",
   "metadata": {},
   "outputs": [
    {
     "ename": "NotImplementedError",
     "evalue": "",
     "output_type": "error",
     "traceback": [
      "\u001b[0;31m---------------------------------------------------------------------------\u001b[0m",
      "\u001b[0;31mNotImplementedError\u001b[0m                       Traceback (most recent call last)",
      "\u001b[0;32m<ipython-input-10-279ee8ba0c8a>\u001b[0m in \u001b[0;36m<module>\u001b[0;34m\u001b[0m\n\u001b[0;32m----> 1\u001b[0;31m pd.Series(PA_(np.arange(10)*ureg.m), \n\u001b[0m\u001b[1;32m      2\u001b[0m          dtype=\"pint[m]\")\n",
      "\u001b[0;32m/opt/anaconda3/lib/python3.8/site-packages/pint_pandas/pint_array.py\u001b[0m in \u001b[0;36m__init__\u001b[0;34m(self, values, dtype, copy)\u001b[0m\n\u001b[1;32m    185\u001b[0m     \u001b[0;32mdef\u001b[0m \u001b[0m__init__\u001b[0m\u001b[0;34m(\u001b[0m\u001b[0mself\u001b[0m\u001b[0;34m,\u001b[0m \u001b[0mvalues\u001b[0m\u001b[0;34m,\u001b[0m \u001b[0mdtype\u001b[0m\u001b[0;34m=\u001b[0m\u001b[0;32mNone\u001b[0m\u001b[0;34m,\u001b[0m \u001b[0mcopy\u001b[0m\u001b[0;34m=\u001b[0m\u001b[0;32mFalse\u001b[0m\u001b[0;34m)\u001b[0m\u001b[0;34m:\u001b[0m\u001b[0;34m\u001b[0m\u001b[0;34m\u001b[0m\u001b[0m\n\u001b[1;32m    186\u001b[0m         \u001b[0;32mif\u001b[0m \u001b[0mdtype\u001b[0m \u001b[0;32mis\u001b[0m \u001b[0;32mNone\u001b[0m\u001b[0;34m:\u001b[0m\u001b[0;34m\u001b[0m\u001b[0;34m\u001b[0m\u001b[0m\n\u001b[0;32m--> 187\u001b[0;31m             \u001b[0;32mraise\u001b[0m \u001b[0mNotImplementedError\u001b[0m\u001b[0;34m\u001b[0m\u001b[0;34m\u001b[0m\u001b[0m\n\u001b[0m\u001b[1;32m    188\u001b[0m \u001b[0;34m\u001b[0m\u001b[0m\n\u001b[1;32m    189\u001b[0m         \u001b[0;32mif\u001b[0m \u001b[0;32mnot\u001b[0m \u001b[0misinstance\u001b[0m\u001b[0;34m(\u001b[0m\u001b[0mdtype\u001b[0m\u001b[0;34m,\u001b[0m \u001b[0mPintType\u001b[0m\u001b[0;34m)\u001b[0m\u001b[0;34m:\u001b[0m\u001b[0;34m\u001b[0m\u001b[0;34m\u001b[0m\u001b[0m\n",
      "\u001b[0;31mNotImplementedError\u001b[0m: "
     ]
    }
   ],
   "source": [
    "pd.Series(PA_(np.arange(10)*ureg.m), \n",
    "         dtype=\"pint[m]\")"
   ]
  },
  {
   "cell_type": "code",
   "execution_count": 2,
   "id": "ff436119-654c-44bd-bad6-8a0442dd6ba3",
   "metadata": {},
   "outputs": [
    {
     "name": "stdout",
     "output_type": "stream",
     "text": [
      "  torque angular_velocity power\n",
      "0    1.2              1.0   1.2\n",
      "1    2.0              2.0   4.0\n",
      "2    2.0              2.0   4.0\n",
      "3    3.0              3.0   9.0\n",
      "torque                                       pint[foot * force_pound]\n",
      "angular_velocity                         pint[revolutions_per_minute]\n",
      "power               pint[foot * force_pound * revolutions_per_minute]\n",
      "dtype: object\n",
      "  length width distance height depth\n",
      "0    1.0   2.0      2.0    2.0   2.0\n",
      "1    2.0   0.3      3.0    0.3   0.3\n",
      "0    1.0\n",
      "1    2.0\n",
      "Name: length, dtype: pint[meter]\n"
     ]
    },
    {
     "name": "stderr",
     "output_type": "stream",
     "text": [
      "/opt/anaconda3/lib/python3.8/site-packages/pint_pandas/pint_array.py:648: UnitStrippedWarning: The unit of the quantity is stripped when downcasting to ndarray.\n",
      "  return np.array(qtys, dtype=\"object\", copy=copy)\n",
      "/opt/anaconda3/lib/python3.8/site-packages/pint_pandas/pint_array.py:648: UnitStrippedWarning: The unit of the quantity is stripped when downcasting to ndarray.\n",
      "  return np.array(qtys, dtype=\"object\", copy=copy)\n",
      "/opt/anaconda3/lib/python3.8/site-packages/pint_pandas/pint_array.py:648: UnitStrippedWarning: The unit of the quantity is stripped when downcasting to ndarray.\n",
      "  return np.array(qtys, dtype=\"object\", copy=copy)\n"
     ]
    }
   ],
   "source": [
    "df = pd.DataFrame({\n",
    "    \"torque\": pd.Series([1.2, 2, 2, 3], dtype=\"pint[lbf ft]\"),\n",
    "    \"angular_velocity\": pd.Series([1, 2., 2, 3], dtype=\"pint[rpm]\"),\n",
    "})\n",
    "df['power'] = df['torque'] * df['angular_velocity']\n",
    "print(df)\n",
    "print(df.dtypes)\n",
    "\n",
    "df.power\n",
    "\n",
    "df.power.values\n",
    "\n",
    "df.power.values.quantity\n",
    "\n",
    "df = pd.DataFrame({\n",
    "        \"length\" : pd.Series([1.,2], dtype=\"pint[m]\"),\n",
    "        \"width\" : PA_([2,.3], dtype=\"pint[m]\"),\n",
    "        \"distance\" : PA_([2.,3], dtype=\"m\"),\n",
    "        \"height\" : PA_([2,.3], dtype=ureg.m),\n",
    "        \"depth\" : PA_.from_1darray_quantity(Q_([2,.3],ureg.m)),\n",
    "    })\n",
    "print(df)\n",
    "print(df[\"length\"])"
   ]
  },
  {
   "cell_type": "code",
   "execution_count": 3,
   "id": "2d7735bf-a638-4c02-953b-7d1367a720d2",
   "metadata": {},
   "outputs": [
    {
     "name": "stdout",
     "output_type": "stream",
     "text": [
      "0    1.2\n",
      "1    2.0\n",
      "2    2.0\n",
      "3    3.0\n",
      "dtype: pint[foot * force_pound]\n"
     ]
    }
   ],
   "source": [
    "print(pd.Series([1.2, 2, 2, 3], dtype=\"pint[lbf ft]\"))"
   ]
  },
  {
   "cell_type": "code",
   "execution_count": 2,
   "id": "a0dca0db-b017-4cb9-91a8-cf7504b9d573",
   "metadata": {},
   "outputs": [
    {
     "name": "stderr",
     "output_type": "stream",
     "text": [
      "/opt/anaconda3/lib/python3.8/site-packages/pint_pandas/pint_array.py:194: RuntimeWarning: pint-pandas does not support magnitudes of <class 'numpy.int64'>. Converting magnitudes to float.\n",
      "  warnings.warn(\n",
      "/opt/anaconda3/lib/python3.8/site-packages/pint_pandas/pint_array.py:648: UnitStrippedWarning: The unit of the quantity is stripped when downcasting to ndarray.\n",
      "  return np.array(qtys, dtype=\"object\", copy=copy)\n"
     ]
    },
    {
     "data": {
      "text/plain": [
       "0    1.0\n",
       "1    2.0\n",
       "2    3.0\n",
       "dtype: pint[foot * force_pound]"
      ]
     },
     "execution_count": 2,
     "metadata": {},
     "output_type": "execute_result"
    }
   ],
   "source": [
    "pd.Series([1, 2, 3]).astype(\"pint[lbf ft]\")"
   ]
  },
  {
   "cell_type": "code",
   "execution_count": 5,
   "id": "8f2426c6-fbb3-4f60-a4e4-a85e98f1d2d7",
   "metadata": {},
   "outputs": [
    {
     "data": {
      "text/html": [
       "<table><tbody><tr><th>Magnitude</th><td style='text-align:left;'><pre>[2.0 0.3]</pre></td></tr><tr><th>Units</th><td style='text-align:left;'>meter</td></tr></tbody></table>"
      ],
      "text/latex": [
       "$\\begin{pmatrix}2.0 & 0.3\\end{pmatrix}\\ \\mathrm{meter}$"
      ],
      "text/plain": [
       "array([2. , 0.3]) <Unit('meter')>"
      ]
     },
     "execution_count": 5,
     "metadata": {},
     "output_type": "execute_result"
    }
   ],
   "source": [
    "Q_([2,.3],ureg.m)"
   ]
  },
  {
   "cell_type": "code",
   "execution_count": 5,
   "id": "0add2633-4dd4-49d6-856d-de4e81149963",
   "metadata": {},
   "outputs": [
    {
     "name": "stderr",
     "output_type": "stream",
     "text": [
      "/opt/anaconda3/lib/python3.8/site-packages/pandas/core/dtypes/cast.py:1302: UnitStrippedWarning: The unit of the quantity is stripped when downcasting to ndarray.\n",
      "  v = np.array(v, copy=False)\n",
      "/opt/anaconda3/lib/python3.8/site-packages/pandas/core/dtypes/cast.py:1672: UnitStrippedWarning: The unit of the quantity is stripped when downcasting to ndarray.\n",
      "  subarr = np.array(values, dtype=dtype, copy=copy)\n"
     ]
    },
    {
     "data": {
      "text/plain": [
       "0    4.0\n",
       "1    0.6\n",
       "dtype: float64"
      ]
     },
     "execution_count": 5,
     "metadata": {},
     "output_type": "execute_result"
    }
   ],
   "source": [
    "a = pd.Series(Q_([2,.3],ureg.m)) # downcast to float\n",
    "b = pd.Series(Q_([2,.3],ureg.m), dtype=\"pint[m]\") # ok\n",
    "#pd.Series(Q_([2,.3],ureg.m), dtype=\"pint[s]\") # fails to convert units\n",
    "a + a"
   ]
  },
  {
   "cell_type": "code",
   "execution_count": null,
   "id": "cdd8579d-4709-4018-93ef-afe172a92828",
   "metadata": {},
   "outputs": [],
   "source": []
  },
  {
   "cell_type": "code",
   "execution_count": 6,
   "id": "4ffaa30d-9ed4-4b1b-89cb-d0ca8efeeef2",
   "metadata": {},
   "outputs": [
    {
     "data": {
      "text/html": [
       "<div>\n",
       "<style scoped>\n",
       "    .dataframe tbody tr th:only-of-type {\n",
       "        vertical-align: middle;\n",
       "    }\n",
       "\n",
       "    .dataframe tbody tr th {\n",
       "        vertical-align: top;\n",
       "    }\n",
       "\n",
       "    .dataframe thead th {\n",
       "        text-align: right;\n",
       "    }\n",
       "</style>\n",
       "<table border=\"1\" class=\"dataframe\">\n",
       "  <thead>\n",
       "    <tr style=\"text-align: right;\">\n",
       "      <th></th>\n",
       "      <th>test</th>\n",
       "    </tr>\n",
       "  </thead>\n",
       "  <tbody>\n",
       "    <tr>\n",
       "      <th>0</th>\n",
       "      <td>2.0</td>\n",
       "    </tr>\n",
       "    <tr>\n",
       "      <th>1</th>\n",
       "      <td>0.3</td>\n",
       "    </tr>\n",
       "  </tbody>\n",
       "</table>\n",
       "</div>"
      ],
      "text/plain": [
       "   test\n",
       "0   2.0\n",
       "1   0.3"
      ]
     },
     "execution_count": 6,
     "metadata": {},
     "output_type": "execute_result"
    }
   ],
   "source": [
    "df = pd.DataFrame({\n",
    "    \"test\":Q_([2,.3],ureg.m),\n",
    "})\n",
    "df"
   ]
  },
  {
   "cell_type": "code",
   "execution_count": 10,
   "id": "1937fb0b-c6ff-4814-9d5d-d3876b5e85bd",
   "metadata": {},
   "outputs": [
    {
     "name": "stdout",
     "output_type": "stream",
     "text": [
      "[2 3] meter\n"
     ]
    }
   ],
   "source": [
    "a = [2,3]*ureg.m\n",
    "print(a)"
   ]
  },
  {
   "cell_type": "code",
   "execution_count": 11,
   "id": "da02edf5-6980-4628-bbc0-576dadb8544e",
   "metadata": {},
   "outputs": [
    {
     "name": "stderr",
     "output_type": "stream",
     "text": [
      "/opt/anaconda3/lib/python3.8/site-packages/pandas/core/dtypes/cast.py:1302: UnitStrippedWarning: The unit of the quantity is stripped when downcasting to ndarray.\n",
      "  v = np.array(v, copy=False)\n",
      "/opt/anaconda3/lib/python3.8/site-packages/pandas/core/dtypes/cast.py:1672: UnitStrippedWarning: The unit of the quantity is stripped when downcasting to ndarray.\n",
      "  subarr = np.array(values, dtype=dtype, copy=copy)\n"
     ]
    },
    {
     "data": {
      "text/plain": [
       "0    2\n",
       "1    3\n",
       "dtype: int64"
      ]
     },
     "execution_count": 11,
     "metadata": {},
     "output_type": "execute_result"
    }
   ],
   "source": [
    "pd.Series(a)"
   ]
  },
  {
   "cell_type": "code",
   "execution_count": null,
   "id": "a3f886f0-0850-4cb9-ad1b-227384619ea0",
   "metadata": {},
   "outputs": [],
   "source": []
  },
  {
   "cell_type": "code",
   "execution_count": null,
   "id": "71ba3601-fabd-47a5-85b6-ffd2ba1cab00",
   "metadata": {},
   "outputs": [],
   "source": []
  },
  {
   "cell_type": "code",
   "execution_count": null,
   "id": "e7df3098-cd06-40b6-865c-b40c56aba82a",
   "metadata": {},
   "outputs": [],
   "source": []
  },
  {
   "cell_type": "markdown",
   "id": "86ae6dcc-6822-4fc8-8e4a-f8bacf17cf52",
   "metadata": {},
   "source": [
    "# Categorical examples"
   ]
  },
  {
   "cell_type": "code",
   "execution_count": 3,
   "id": "c17c0c87-60d6-43c1-9167-5dd475a371cc",
   "metadata": {},
   "outputs": [
    {
     "name": "stdout",
     "output_type": "stream",
     "text": [
      "0    a\n",
      "1    b\n",
      "2    c\n",
      "3    a\n",
      "dtype: category\n",
      "Categories (3, object): ['a', 'b', 'c']\n",
      "0    a\n",
      "1    b\n",
      "2    c\n",
      "3    a\n",
      "Name: B, dtype: category\n",
      "Categories (3, object): ['a', 'b', 'c']\n",
      "0    NaN\n",
      "1      b\n",
      "2      c\n",
      "3    NaN\n",
      "dtype: category\n",
      "Categories (3, object): ['b', 'c', 'd']\n",
      "0    a\n",
      "1    b\n",
      "2    c\n",
      "3    a\n",
      "dtype: category\n",
      "Categories (3, object): ['a', 'b', 'c']\n",
      "4\n",
      "category\n",
      "<class 'pandas.core.series.Series'> <class 'pandas.core.arrays.categorical.Categorical'>\n",
      "a\n",
      "<class 'str'>\n"
     ]
    }
   ],
   "source": [
    "import pandas as pd\n",
    "import numpy as np\n",
    "\n",
    "a = pd.Series([\"a\", \"b\", \"c\", \"a\"],\n",
    "              dtype=\"category\")\n",
    "\n",
    "df = pd.DataFrame({\"A\": [\"a\", \"b\", \"c\", \"a\"]})\n",
    "df[\"B\"] = df[\"A\"].astype(\"category\")\n",
    "b = df[\"B\"]\n",
    "\n",
    "raw_cat = pd.Categorical(\n",
    "     [\"a\", \"b\", \"c\", \"a\"], categories=[\"b\", \"c\", \"d\"], ordered=False\n",
    ")\n",
    "\n",
    "c = pd.Series(raw_cat)\n",
    "\n",
    "print(a)\n",
    "print(b)\n",
    "print(c)\n",
    "\n",
    "print(a)\n",
    "print(len(a))\n",
    "print(a.dtype)\n",
    "print(type(a), type(a.values))\n",
    "print(a[0])\n",
    "print(type(a[0]))"
   ]
  },
  {
   "cell_type": "code",
   "execution_count": null,
   "id": "8e6a3075-73af-4614-ac9d-6d840c7728a0",
   "metadata": {},
   "outputs": [],
   "source": []
  },
  {
   "cell_type": "code",
   "execution_count": null,
   "id": "24c04858-16a8-48be-bc11-1aecfccf4a21",
   "metadata": {},
   "outputs": [],
   "source": []
  },
  {
   "cell_type": "markdown",
   "id": "60c8654b-b0dd-4018-a6d4-4c6cb45e18c6",
   "metadata": {},
   "source": [
    "# Decimals"
   ]
  },
  {
   "cell_type": "markdown",
   "id": "ff9534bc-6785-4149-b78c-94931c2e6d44",
   "metadata": {},
   "source": [
    "A simple example with decimal.Decimal\n",
    "\n",
    "From : https://github.com/tomharvey/pandas-extension-dtype  \n",
    "For a heavier implementation : https://github.com/pandas-dev/pandas/tree/e246c3b05924ac1fe083565a765ce847fcad3d91/pandas/tests/extension/decimal"
   ]
  },
  {
   "cell_type": "code",
   "execution_count": 1,
   "id": "c4143d13-3865-4b56-9f7a-fa00e6aa57b8",
   "metadata": {},
   "outputs": [],
   "source": [
    "import pandas as pd\n",
    "import numpy as np\n",
    "import decimal\n",
    "\n",
    "from pandas.core.arrays import ExtensionArray\n",
    "from pandas.core.dtypes.base import ExtensionDtype\n",
    "\n",
    "\n",
    "class DecimalDtype(ExtensionDtype):\n",
    "    \"\"\"A custom data type, to be paired with an ExtensionArray.\"\"\"\n",
    "\n",
    "    type = decimal.Decimal\n",
    "    name = \"decimal\"\n",
    "    na_value = decimal.Decimal(\"NaN\")\n",
    "\n",
    "    @classmethod\n",
    "    def construct_array_type(cls):\n",
    "        \"\"\"Return the array type associated with this dtype.\"\"\"\n",
    "        return DecimalArray\n",
    "\n",
    "\n",
    "\n",
    "class DecimalArray(ExtensionArray):\n",
    "    \"\"\"Abstract base class for custom 1-D array types.\"\"\"\n",
    "\n",
    "    def __init__(self, values, dtype=None, copy=False):\n",
    "        \"\"\"Instantiate the array.\n",
    "        If you're doing any type coercion in here, you will also need\n",
    "        that in an overwritten __settiem__ method.\n",
    "        But, here we coerce the input values into Decimals.\n",
    "        \"\"\"\n",
    "        values = [decimal.Decimal(val) for val in values]\n",
    "        self._data = np.asarray(values, dtype=object)\n",
    "        self._dtype = DecimalDtype()\n",
    "\n",
    "    @classmethod\n",
    "    def _from_sequence(cls, scalars, dtype=None, copy=False):\n",
    "        \"\"\"Construct a new ExtensionArray from a sequence of scalars.\"\"\"\n",
    "        return cls(scalars, dtype=dtype)\n",
    "\n",
    "    @classmethod\n",
    "    def _from_factorized(cls, values, original):\n",
    "        \"\"\"Reconstruct an ExtensionArray after factorization.\"\"\"\n",
    "        return cls(values)\n",
    "\n",
    "    def __getitem__(self, item):\n",
    "        \"\"\"Select a subset of self.\"\"\"\n",
    "        return self._data[item]\n",
    "\n",
    "    def __len__(self) -> int:\n",
    "        \"\"\"Length of this array.\"\"\"\n",
    "        return len(self._data)\n",
    "\n",
    "    @property\n",
    "    def nbytes(self):\n",
    "        \"\"\"The byte size of the data.\"\"\"\n",
    "        return self._itemsize * len(self)\n",
    "\n",
    "    @property\n",
    "    def dtype(self):\n",
    "        \"\"\"An instance of 'ExtensionDtype'.\"\"\"\n",
    "        return self._dtype\n",
    "\n",
    "    def isna(self):\n",
    "        \"\"\"A 1-D array indicating if each value is missing.\"\"\"\n",
    "        return np.array([x.is_nan() for x in self._data], dtype=bool)\n",
    "\n",
    "    def take(self, indexer, allow_fill=False, fill_value=None):\n",
    "        \"\"\"Take elements from an array.\n",
    "        Relies on the take method defined in pandas:\n",
    "        https://github.com/pandas-dev/pandas/blob/e246c3b05924ac1fe083565a765ce847fcad3d91/pandas/core/algorithms.py#L1483\n",
    "        \"\"\"\n",
    "        from pandas.api.extensions import take\n",
    "\n",
    "        data = self._data\n",
    "        if allow_fill and fill_value is None:\n",
    "            fill_value = self.dtype.na_value\n",
    "\n",
    "        result = take(\n",
    "            data, indexer, fill_value=fill_value, allow_fill=allow_fill)\n",
    "        return self._from_sequence(result)\n",
    "\n",
    "    def copy(self):\n",
    "        \"\"\"Return a copy of the array.\"\"\"\n",
    "        return type(self)(self._data.copy())\n",
    "\n",
    "    @classmethod\n",
    "    def _concat_same_type(cls, to_concat):\n",
    "        \"\"\"Concatenate multiple arrays.\"\"\"\n",
    "        return cls(np.concatenate([x._data for x in to_concat]))\n"
   ]
  },
  {
   "cell_type": "code",
   "execution_count": 3,
   "id": "7b08c755-5a64-4f66-81bb-5e390d885635",
   "metadata": {},
   "outputs": [
    {
     "name": "stdout",
     "output_type": "stream",
     "text": [
      "0    0.10000000000000000555111512312578270211815834...\n",
      "1    0.20000000000000001110223024625156540423631668...\n",
      "2    0.29999999999999998889776975374843459576368331...\n",
      "dtype: decimal\n"
     ]
    },
    {
     "data": {
      "text/plain": [
       "0    0.10000000000000000555111512312578270211815834...\n",
       "1    0.20000000000000001110223024625156540423631668...\n",
       "2    0.29999999999999998889776975374843459576368331...\n",
       "dtype: decimal"
      ]
     },
     "execution_count": 3,
     "metadata": {},
     "output_type": "execute_result"
    }
   ],
   "source": [
    "decimal_series = pd.Series(DecimalArray([0.1, 0.2, 0.3]))\n",
    "print(decimal_series)\n",
    "decimal_series"
   ]
  },
  {
   "cell_type": "code",
   "execution_count": 4,
   "id": "f434ae05-6f61-4bc8-a024-cebe40ec97dd",
   "metadata": {},
   "outputs": [
    {
     "data": {
      "text/html": [
       "<div>\n",
       "<style scoped>\n",
       "    .dataframe tbody tr th:only-of-type {\n",
       "        vertical-align: middle;\n",
       "    }\n",
       "\n",
       "    .dataframe tbody tr th {\n",
       "        vertical-align: top;\n",
       "    }\n",
       "\n",
       "    .dataframe thead th {\n",
       "        text-align: right;\n",
       "    }\n",
       "</style>\n",
       "<table border=\"1\" class=\"dataframe\">\n",
       "  <thead>\n",
       "    <tr style=\"text-align: right;\">\n",
       "      <th></th>\n",
       "      <th>first_dec</th>\n",
       "      <th>second</th>\n",
       "    </tr>\n",
       "  </thead>\n",
       "  <tbody>\n",
       "    <tr>\n",
       "      <th>0</th>\n",
       "      <td>0.10000000000000000555111512312578270211815834...</td>\n",
       "      <td>1.10000000000000008881784197001252323389053344...</td>\n",
       "    </tr>\n",
       "    <tr>\n",
       "      <th>1</th>\n",
       "      <td>0.20000000000000001110223024625156540423631668...</td>\n",
       "      <td>2</td>\n",
       "    </tr>\n",
       "    <tr>\n",
       "      <th>2</th>\n",
       "      <td>0.29999999999999998889776975374843459576368331...</td>\n",
       "      <td>3</td>\n",
       "    </tr>\n",
       "  </tbody>\n",
       "</table>\n",
       "</div>"
      ],
      "text/plain": [
       "                                           first_dec  \\\n",
       "0  0.10000000000000000555111512312578270211815834...   \n",
       "1  0.20000000000000001110223024625156540423631668...   \n",
       "2  0.29999999999999998889776975374843459576368331...   \n",
       "\n",
       "                                              second  \n",
       "0  1.10000000000000008881784197001252323389053344...  \n",
       "1                                                  2  \n",
       "2                                                  3  "
      ]
     },
     "execution_count": 4,
     "metadata": {},
     "output_type": "execute_result"
    }
   ],
   "source": [
    "df = pd.DataFrame({\n",
    "    \"first_dec\":decimal_series,\n",
    "    \"second\":pd.Series(DecimalArray([1.10, 2, 3]))\n",
    "})\n",
    "df"
   ]
  },
  {
   "cell_type": "markdown",
   "id": "3e6b381f-c389-4631-b26d-e0fb77e874ea",
   "metadata": {},
   "source": [
    "## Full Decimal extentsion from pandas\n",
    "see https://github.com/pandas-dev/pandas/tree/e246c3b05924ac1fe083565a765ce847fcad3d91/pandas/tests/extension/decimal"
   ]
  },
  {
   "cell_type": "code",
   "execution_count": null,
   "id": "50438350-ae76-48cd-b165-32a90b5c05e0",
   "metadata": {},
   "outputs": [],
   "source": [
    "import decimal\n",
    "import numbers\n",
    "import random\n",
    "import sys\n",
    "\n",
    "import numpy as np\n",
    "\n",
    "from pandas.core.dtypes.base import ExtensionDtype\n",
    "\n",
    "import pandas as pd\n",
    "from pandas.api.extensions import register_extension_dtype\n",
    "from pandas.core.arrays import ExtensionArray, ExtensionScalarOpsMixin\n",
    "\n",
    "\n",
    "@register_extension_dtype\n",
    "class DecimalDtype(ExtensionDtype):\n",
    "    type = decimal.Decimal\n",
    "    name = \"decimal\"\n",
    "    na_value = decimal.Decimal(\"NaN\")\n",
    "    _metadata = (\"context\",)\n",
    "\n",
    "    def __init__(self, context=None):\n",
    "        self.context = context or decimal.getcontext()\n",
    "\n",
    "    def __repr__(self) -> str:\n",
    "        return \"DecimalDtype(context={})\".format(self.context)\n",
    "\n",
    "    @classmethod\n",
    "    def construct_array_type(cls):\n",
    "        \"\"\"Return the array type associated with this dtype\n",
    "\n",
    "        Returns\n",
    "        -------\n",
    "        type\n",
    "        \"\"\"\n",
    "        return DecimalArray\n",
    "\n",
    "    @classmethod\n",
    "    def construct_from_string(cls, string):\n",
    "        if string == cls.name:\n",
    "            return cls()\n",
    "        else:\n",
    "            raise TypeError(\"Cannot construct a '{}' from '{}'\".format(cls, string))\n",
    "\n",
    "    @property\n",
    "    def _is_numeric(self):\n",
    "        return True\n",
    "\n",
    "\n",
    "class DecimalArray(ExtensionArray, ExtensionScalarOpsMixin):\n",
    "    __array_priority__ = 1000\n",
    "\n",
    "    def __init__(self, values, dtype=None, copy=False, context=None):\n",
    "        for val in values:\n",
    "            if not isinstance(val, decimal.Decimal):\n",
    "                raise TypeError(\"All values must be of type \" + str(decimal.Decimal))\n",
    "        values = np.asarray(values, dtype=object)\n",
    "\n",
    "        self._data = values\n",
    "        # Some aliases for common attribute names to ensure pandas supports\n",
    "        # these\n",
    "        self._items = self.data = self._data\n",
    "        # those aliases are currently not working due to assumptions\n",
    "        # in internal code (GH-20735)\n",
    "        # self._values = self.values = self.data\n",
    "        self._dtype = DecimalDtype(context)\n",
    "\n",
    "    @property\n",
    "    def dtype(self):\n",
    "        return self._dtype\n",
    "\n",
    "    @classmethod\n",
    "    def _from_sequence(cls, scalars, dtype=None, copy=False):\n",
    "        return cls(scalars)\n",
    "\n",
    "    @classmethod\n",
    "    def _from_sequence_of_strings(cls, strings, dtype=None, copy=False):\n",
    "        return cls._from_sequence([decimal.Decimal(x) for x in strings], dtype, copy)\n",
    "\n",
    "    @classmethod\n",
    "    def _from_factorized(cls, values, original):\n",
    "        return cls(values)\n",
    "\n",
    "    _HANDLED_TYPES = (decimal.Decimal, numbers.Number, np.ndarray)\n",
    "\n",
    "    def __array_ufunc__(self, ufunc, method, *inputs, **kwargs):\n",
    "        #\n",
    "        if not all(\n",
    "            isinstance(t, self._HANDLED_TYPES + (DecimalArray,)) for t in inputs\n",
    "        ):\n",
    "            return NotImplemented\n",
    "\n",
    "        inputs = tuple(x._data if isinstance(x, DecimalArray) else x for x in inputs)\n",
    "        result = getattr(ufunc, method)(*inputs, **kwargs)\n",
    "\n",
    "        def reconstruct(x):\n",
    "            if isinstance(x, (decimal.Decimal, numbers.Number)):\n",
    "                return x\n",
    "            else:\n",
    "                return DecimalArray._from_sequence(x)\n",
    "\n",
    "        if isinstance(result, tuple):\n",
    "            return tuple(reconstruct(x) for x in result)\n",
    "        else:\n",
    "            return reconstruct(result)\n",
    "\n",
    "    def __getitem__(self, item):\n",
    "        if isinstance(item, numbers.Integral):\n",
    "            return self._data[item]\n",
    "        else:\n",
    "            return type(self)(self._data[item])\n",
    "\n",
    "    def take(self, indexer, allow_fill=False, fill_value=None):\n",
    "        from pandas.api.extensions import take\n",
    "\n",
    "        data = self._data\n",
    "        if allow_fill and fill_value is None:\n",
    "            fill_value = self.dtype.na_value\n",
    "\n",
    "        result = take(data, indexer, fill_value=fill_value, allow_fill=allow_fill)\n",
    "        return self._from_sequence(result)\n",
    "\n",
    "    def copy(self):\n",
    "        return type(self)(self._data.copy())\n",
    "\n",
    "    def astype(self, dtype, copy=True):\n",
    "        if isinstance(dtype, type(self.dtype)):\n",
    "            return type(self)(self._data, context=dtype.context)\n",
    "        return np.asarray(self, dtype=dtype)\n",
    "\n",
    "    def __setitem__(self, key, value):\n",
    "        if pd.api.types.is_list_like(value):\n",
    "            if pd.api.types.is_scalar(key):\n",
    "                raise ValueError(\"setting an array element with a sequence.\")\n",
    "            value = [decimal.Decimal(v) for v in value]\n",
    "        else:\n",
    "            value = decimal.Decimal(value)\n",
    "        self._data[key] = value\n",
    "\n",
    "    def __len__(self) -> int:\n",
    "        return len(self._data)\n",
    "\n",
    "    @property\n",
    "    def nbytes(self) -> int:\n",
    "        n = len(self)\n",
    "        if n:\n",
    "            return n * sys.getsizeof(self[0])\n",
    "        return 0\n",
    "\n",
    "    def isna(self):\n",
    "        return np.array([x.is_nan() for x in self._data], dtype=bool)\n",
    "\n",
    "    @property\n",
    "    def _na_value(self):\n",
    "        return decimal.Decimal(\"NaN\")\n",
    "\n",
    "    def _formatter(self, boxed=False):\n",
    "        if boxed:\n",
    "            return \"Decimal: {0}\".format\n",
    "        return repr\n",
    "\n",
    "    @classmethod\n",
    "    def _concat_same_type(cls, to_concat):\n",
    "        return cls(np.concatenate([x._data for x in to_concat]))\n",
    "\n",
    "    def _reduce(self, name, skipna=True, **kwargs):\n",
    "\n",
    "        if skipna:\n",
    "            # If we don't have any NAs, we can ignore skipna\n",
    "            if self.isna().any():\n",
    "                other = self[~self.isna()]\n",
    "                return other._reduce(name, **kwargs)\n",
    "\n",
    "        if name == \"sum\" and len(self) == 0:\n",
    "            # GH#29630 avoid returning int 0 or np.bool_(False) on old numpy\n",
    "            return decimal.Decimal(0)\n",
    "\n",
    "        try:\n",
    "            op = getattr(self.data, name)\n",
    "        except AttributeError:\n",
    "            raise NotImplementedError(\n",
    "                \"decimal does not support the {} operation\".format(name)\n",
    "            )\n",
    "        return op(axis=0)\n",
    "\n",
    "\n",
    "def to_decimal(values, context=None):\n",
    "    return DecimalArray([decimal.Decimal(x) for x in values], context=context)\n",
    "\n",
    "\n",
    "def make_data():\n",
    "    return [decimal.Decimal(random.random()) for _ in range(100)]\n",
    "\n",
    "\n",
    "DecimalArray._add_arithmetic_ops()\n",
    "DecimalArray._add_comparison_ops()\n"
   ]
  },
  {
   "cell_type": "code",
   "execution_count": null,
   "id": "5d055137-0f8e-48a5-9f75-37117536a2cd",
   "metadata": {},
   "outputs": [],
   "source": []
  }
 ],
 "metadata": {
  "kernelspec": {
   "display_name": "Python 3 (ipykernel)",
   "language": "python",
   "name": "python3"
  },
  "language_info": {
   "codemirror_mode": {
    "name": "ipython",
    "version": 3
   },
   "file_extension": ".py",
   "mimetype": "text/x-python",
   "name": "python",
   "nbconvert_exporter": "python",
   "pygments_lexer": "ipython3",
   "version": "3.9.7"
  }
 },
 "nbformat": 4,
 "nbformat_minor": 5
}
