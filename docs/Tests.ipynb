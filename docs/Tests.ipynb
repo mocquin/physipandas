{
 "cells": [
  {
   "cell_type": "code",
   "execution_count": 1,
   "id": "4986315f-d7e2-4227-a966-14af8da09971",
   "metadata": {},
   "outputs": [
    {
     "name": "stdout",
     "output_type": "stream",
     "text": [
      "<class 'pandas.core.series.Series'>\n",
      "L\n",
      "4.5 m\n"
     ]
    },
    {
     "data": {
      "text/plain": [
       "0    0\n",
       "1    1\n",
       "2    2\n",
       "3    3\n",
       "4    4\n",
       "5    5\n",
       "6    6\n",
       "7    7\n",
       "8    8\n",
       "9    9\n",
       "dtype: physipy[m]"
      ]
     },
     "execution_count": 1,
     "metadata": {},
     "output_type": "execute_result"
    }
   ],
   "source": [
    "import pandas as pd\n",
    "import numpy as np\n",
    "from physipy import m\n",
    "from physipandas import QuantityDtype, QuantityArray\n",
    "\n",
    "c = pd.Series(QuantityArray(np.arange(10)*m), \n",
    "              dtype=QuantityDtype(m))\n",
    "\n",
    "print(type(c))\n",
    "# <class 'pandas.core.series.Series'>\n",
    "print(c.physipy.dimension)     # --> : L\n",
    "print(c.physipy.values.mean()) # --> : 4.5 m\n",
    "c"
   ]
  },
  {
   "cell_type": "code",
   "execution_count": null,
   "id": "41ab3ce6-bc86-4ff5-b5ee-5e0effdd442f",
   "metadata": {},
   "outputs": [],
   "source": []
  },
  {
   "cell_type": "code",
   "execution_count": null,
   "id": "f55c7718-d858-410c-a639-fee6be550bf7",
   "metadata": {},
   "outputs": [],
   "source": []
  },
  {
   "cell_type": "code",
   "execution_count": 2,
   "id": "12e84c19-44b5-496c-b98f-a813f8b62f54",
   "metadata": {},
   "outputs": [],
   "source": [
    "import numpy as np\n",
    "import physipandas\n",
    "from physipy import m\n",
    "import pandas as pd"
   ]
  },
  {
   "cell_type": "code",
   "execution_count": 3,
   "id": "1f27fceb-c241-46ed-8a20-a393ee359504",
   "metadata": {},
   "outputs": [],
   "source": [
    "arr = np.arange(10)\n",
    "arr[0]=2\n",
    "qarr = arr*m\n",
    "s = pd.Series(arr)\n",
    "sq = pd.Series(qarr, dtype='physipy[m]')"
   ]
  },
  {
   "cell_type": "code",
   "execution_count": 4,
   "id": "66efb99c-a130-41f6-9194-207c5dc7b89f",
   "metadata": {},
   "outputs": [
    {
     "data": {
      "text/plain": [
       "pandas.core.series.Series"
      ]
     },
     "execution_count": 4,
     "metadata": {},
     "output_type": "execute_result"
    }
   ],
   "source": [
    "import numpy as np\n",
    "import pandas as pd\n",
    "s = pd.Series(np.arange(10))\n",
    "type(s.nsmallest(1))"
   ]
  },
  {
   "cell_type": "code",
   "execution_count": 5,
   "id": "370bdcce-056c-424a-8e4a-f3407f85dfb7",
   "metadata": {},
   "outputs": [
    {
     "data": {
      "text/plain": [
       "False"
      ]
     },
     "execution_count": 5,
     "metadata": {},
     "output_type": "execute_result"
    }
   ],
   "source": [
    "np.nan == np.nan"
   ]
  },
  {
   "cell_type": "code",
   "execution_count": 6,
   "id": "1635bc45-83ca-4c77-a5aa-6aa1496677c8",
   "metadata": {},
   "outputs": [],
   "source": [
    "from physipandas import QuantityDtype"
   ]
  },
  {
   "cell_type": "code",
   "execution_count": 7,
   "id": "85da222e-2e00-4861-b76c-4722ef0f4586",
   "metadata": {},
   "outputs": [],
   "source": [
    "QuantityDtype().names"
   ]
  },
  {
   "cell_type": "code",
   "execution_count": 8,
   "id": "5ce1b0d5-a8a4-4402-9adf-2ff04494f109",
   "metadata": {},
   "outputs": [
    {
     "data": {
      "text/plain": [
       "'2.1.1'"
      ]
     },
     "execution_count": 8,
     "metadata": {},
     "output_type": "execute_result"
    }
   ],
   "source": [
    "pd.__version__"
   ]
  },
  {
   "cell_type": "code",
   "execution_count": 9,
   "id": "d6b3d202-2623-4aee-9911-87f67f6882aa",
   "metadata": {},
   "outputs": [
    {
     "name": "stderr",
     "output_type": "stream",
     "text": [
      "/Users/mocquin/Documents/CLE/Optique/Python/JUPYTER/MYLIB10/MODULES/physipandas/physipandas/extension.py:598: FutureWarning: pd.api.extensions.take accepting non-standard inputs is deprecated and will raise in a future version. Pass either a numpy.ndarray, ExtensionArray, Index, or Series instead.\n",
      "  np_res = take(self._data,\n"
     ]
    },
    {
     "ename": "TypeError",
     "evalue": "take() got an unexpected keyword argument 'fill_value'",
     "output_type": "error",
     "traceback": [
      "\u001b[0;31m---------------------------------------------------------------------------\u001b[0m",
      "\u001b[0;31mTypeError\u001b[0m                                 Traceback (most recent call last)",
      "\u001b[1;32m/Users/mocquin/Documents/CLE/Optique/Python/JUPYTER/MYLIB10/MODULES/physipandas/docs/Tests.ipynb Cell 11\u001b[0m line \u001b[0;36m6\n\u001b[1;32m      <a href='vscode-notebook-cell:/Users/mocquin/Documents/CLE/Optique/Python/JUPYTER/MYLIB10/MODULES/physipandas/docs/Tests.ipynb#X13sZmlsZQ%3D%3D?line=3'>4</a>\u001b[0m \u001b[39mimport\u001b[39;00m \u001b[39mpandas\u001b[39;00m \u001b[39mas\u001b[39;00m \u001b[39mpd\u001b[39;00m\n\u001b[1;32m      <a href='vscode-notebook-cell:/Users/mocquin/Documents/CLE/Optique/Python/JUPYTER/MYLIB10/MODULES/physipandas/docs/Tests.ipynb#X13sZmlsZQ%3D%3D?line=4'>5</a>\u001b[0m sq \u001b[39m=\u001b[39m pd\u001b[39m.\u001b[39mSeries(np\u001b[39m.\u001b[39marange(\u001b[39m10\u001b[39m)\u001b[39m*\u001b[39mm, dtype\u001b[39m=\u001b[39m\u001b[39m'\u001b[39m\u001b[39mphysipy[m]\u001b[39m\u001b[39m'\u001b[39m)\n\u001b[0;32m----> <a href='vscode-notebook-cell:/Users/mocquin/Documents/CLE/Optique/Python/JUPYTER/MYLIB10/MODULES/physipandas/docs/Tests.ipynb#X13sZmlsZQ%3D%3D?line=5'>6</a>\u001b[0m sq\u001b[39m.\u001b[39;49mnsmallest(\u001b[39m1\u001b[39;49m)\n",
      "File \u001b[0;32m/Library/Frameworks/Python.framework/Versions/3.12/lib/python3.12/site-packages/pandas/core/series.py:4203\u001b[0m, in \u001b[0;36mSeries.nsmallest\u001b[0;34m(self, n, keep)\u001b[0m\n\u001b[1;32m   4106\u001b[0m \u001b[39mdef\u001b[39;00m \u001b[39mnsmallest\u001b[39m(\n\u001b[1;32m   4107\u001b[0m     \u001b[39mself\u001b[39m, n: \u001b[39mint\u001b[39m \u001b[39m=\u001b[39m \u001b[39m5\u001b[39m, keep: Literal[\u001b[39m\"\u001b[39m\u001b[39mfirst\u001b[39m\u001b[39m\"\u001b[39m, \u001b[39m\"\u001b[39m\u001b[39mlast\u001b[39m\u001b[39m\"\u001b[39m, \u001b[39m\"\u001b[39m\u001b[39mall\u001b[39m\u001b[39m\"\u001b[39m] \u001b[39m=\u001b[39m \u001b[39m\"\u001b[39m\u001b[39mfirst\u001b[39m\u001b[39m\"\u001b[39m\n\u001b[1;32m   4108\u001b[0m ) \u001b[39m-\u001b[39m\u001b[39m>\u001b[39m Series:\n\u001b[1;32m   4109\u001b[0m \u001b[39m    \u001b[39m\u001b[39m\"\"\"\u001b[39;00m\n\u001b[1;32m   4110\u001b[0m \u001b[39m    Return the smallest `n` elements.\u001b[39;00m\n\u001b[1;32m   4111\u001b[0m \n\u001b[0;32m   (...)\u001b[0m\n\u001b[1;32m   4201\u001b[0m \u001b[39m    dtype: int64\u001b[39;00m\n\u001b[1;32m   4202\u001b[0m \u001b[39m    \"\"\"\u001b[39;00m\n\u001b[0;32m-> 4203\u001b[0m     \u001b[39mreturn\u001b[39;00m selectn\u001b[39m.\u001b[39;49mSelectNSeries(\u001b[39mself\u001b[39;49m, n\u001b[39m=\u001b[39;49mn, keep\u001b[39m=\u001b[39;49mkeep)\u001b[39m.\u001b[39;49mnsmallest()\n",
      "File \u001b[0;32m/Library/Frameworks/Python.framework/Versions/3.12/lib/python3.12/site-packages/pandas/core/methods/selectn.py:61\u001b[0m, in \u001b[0;36mSelectN.nsmallest\u001b[0;34m(self)\u001b[0m\n\u001b[1;32m     59\u001b[0m \u001b[39m@final\u001b[39m\n\u001b[1;32m     60\u001b[0m \u001b[39mdef\u001b[39;00m \u001b[39mnsmallest\u001b[39m(\u001b[39mself\u001b[39m):\n\u001b[0;32m---> 61\u001b[0m     \u001b[39mreturn\u001b[39;00m \u001b[39mself\u001b[39;49m\u001b[39m.\u001b[39;49mcompute(\u001b[39m\"\u001b[39;49m\u001b[39mnsmallest\u001b[39;49m\u001b[39m\"\u001b[39;49m)\n",
      "File \u001b[0;32m/Library/Frameworks/Python.framework/Versions/3.12/lib/python3.12/site-packages/pandas/core/methods/selectn.py:102\u001b[0m, in \u001b[0;36mSelectNSeries.compute\u001b[0;34m(self, method)\u001b[0m\n\u001b[1;32m     99\u001b[0m     \u001b[39mreturn\u001b[39;00m \u001b[39mself\u001b[39m\u001b[39m.\u001b[39mobj[[]]\n\u001b[1;32m    101\u001b[0m dropped \u001b[39m=\u001b[39m \u001b[39mself\u001b[39m\u001b[39m.\u001b[39mobj\u001b[39m.\u001b[39mdropna()\n\u001b[0;32m--> 102\u001b[0m nan_index \u001b[39m=\u001b[39m \u001b[39mself\u001b[39;49m\u001b[39m.\u001b[39;49mobj\u001b[39m.\u001b[39;49mdrop(dropped\u001b[39m.\u001b[39;49mindex)\n\u001b[1;32m    104\u001b[0m \u001b[39m# slow method\u001b[39;00m\n\u001b[1;32m    105\u001b[0m \u001b[39mif\u001b[39;00m n \u001b[39m>\u001b[39m\u001b[39m=\u001b[39m \u001b[39mlen\u001b[39m(\u001b[39mself\u001b[39m\u001b[39m.\u001b[39mobj):\n",
      "File \u001b[0;32m/Library/Frameworks/Python.framework/Versions/3.12/lib/python3.12/site-packages/pandas/core/series.py:5144\u001b[0m, in \u001b[0;36mSeries.drop\u001b[0;34m(self, labels, axis, index, columns, level, inplace, errors)\u001b[0m\n\u001b[1;32m   5047\u001b[0m \u001b[39mdef\u001b[39;00m \u001b[39mdrop\u001b[39m(\n\u001b[1;32m   5048\u001b[0m     \u001b[39mself\u001b[39m,\n\u001b[1;32m   5049\u001b[0m     labels: IndexLabel \u001b[39m|\u001b[39m \u001b[39mNone\u001b[39;00m \u001b[39m=\u001b[39m \u001b[39mNone\u001b[39;00m,\n\u001b[0;32m   (...)\u001b[0m\n\u001b[1;32m   5056\u001b[0m     errors: IgnoreRaise \u001b[39m=\u001b[39m \u001b[39m\"\u001b[39m\u001b[39mraise\u001b[39m\u001b[39m\"\u001b[39m,\n\u001b[1;32m   5057\u001b[0m ) \u001b[39m-\u001b[39m\u001b[39m>\u001b[39m Series \u001b[39m|\u001b[39m \u001b[39mNone\u001b[39;00m:\n\u001b[1;32m   5058\u001b[0m \u001b[39m    \u001b[39m\u001b[39m\"\"\"\u001b[39;00m\n\u001b[1;32m   5059\u001b[0m \u001b[39m    Return Series with specified index labels removed.\u001b[39;00m\n\u001b[1;32m   5060\u001b[0m \n\u001b[0;32m   (...)\u001b[0m\n\u001b[1;32m   5142\u001b[0m \u001b[39m    dtype: float64\u001b[39;00m\n\u001b[1;32m   5143\u001b[0m \u001b[39m    \"\"\"\u001b[39;00m\n\u001b[0;32m-> 5144\u001b[0m     \u001b[39mreturn\u001b[39;00m \u001b[39msuper\u001b[39;49m()\u001b[39m.\u001b[39;49mdrop(\n\u001b[1;32m   5145\u001b[0m         labels\u001b[39m=\u001b[39;49mlabels,\n\u001b[1;32m   5146\u001b[0m         axis\u001b[39m=\u001b[39;49maxis,\n\u001b[1;32m   5147\u001b[0m         index\u001b[39m=\u001b[39;49mindex,\n\u001b[1;32m   5148\u001b[0m         columns\u001b[39m=\u001b[39;49mcolumns,\n\u001b[1;32m   5149\u001b[0m         level\u001b[39m=\u001b[39;49mlevel,\n\u001b[1;32m   5150\u001b[0m         inplace\u001b[39m=\u001b[39;49minplace,\n\u001b[1;32m   5151\u001b[0m         errors\u001b[39m=\u001b[39;49merrors,\n\u001b[1;32m   5152\u001b[0m     )\n",
      "File \u001b[0;32m/Library/Frameworks/Python.framework/Versions/3.12/lib/python3.12/site-packages/pandas/core/generic.py:4711\u001b[0m, in \u001b[0;36mNDFrame.drop\u001b[0;34m(self, labels, axis, index, columns, level, inplace, errors)\u001b[0m\n\u001b[1;32m   4709\u001b[0m \u001b[39mfor\u001b[39;00m axis, labels \u001b[39min\u001b[39;00m axes\u001b[39m.\u001b[39mitems():\n\u001b[1;32m   4710\u001b[0m     \u001b[39mif\u001b[39;00m labels \u001b[39mis\u001b[39;00m \u001b[39mnot\u001b[39;00m \u001b[39mNone\u001b[39;00m:\n\u001b[0;32m-> 4711\u001b[0m         obj \u001b[39m=\u001b[39m obj\u001b[39m.\u001b[39;49m_drop_axis(labels, axis, level\u001b[39m=\u001b[39;49mlevel, errors\u001b[39m=\u001b[39;49merrors)\n\u001b[1;32m   4713\u001b[0m \u001b[39mif\u001b[39;00m inplace:\n\u001b[1;32m   4714\u001b[0m     \u001b[39mself\u001b[39m\u001b[39m.\u001b[39m_update_inplace(obj)\n",
      "File \u001b[0;32m/Library/Frameworks/Python.framework/Versions/3.12/lib/python3.12/site-packages/pandas/core/generic.py:4792\u001b[0m, in \u001b[0;36mNDFrame._drop_axis\u001b[0;34m(self, labels, axis, level, errors, only_slice)\u001b[0m\n\u001b[1;32m   4789\u001b[0m     new_axis \u001b[39m=\u001b[39m axis\u001b[39m.\u001b[39mtake(indexer)\n\u001b[1;32m   4791\u001b[0m bm_axis \u001b[39m=\u001b[39m \u001b[39mself\u001b[39m\u001b[39m.\u001b[39mndim \u001b[39m-\u001b[39m axis_num \u001b[39m-\u001b[39m \u001b[39m1\u001b[39m\n\u001b[0;32m-> 4792\u001b[0m new_mgr \u001b[39m=\u001b[39m \u001b[39mself\u001b[39;49m\u001b[39m.\u001b[39;49m_mgr\u001b[39m.\u001b[39;49mreindex_indexer(\n\u001b[1;32m   4793\u001b[0m     new_axis,\n\u001b[1;32m   4794\u001b[0m     indexer,\n\u001b[1;32m   4795\u001b[0m     axis\u001b[39m=\u001b[39;49mbm_axis,\n\u001b[1;32m   4796\u001b[0m     allow_dups\u001b[39m=\u001b[39;49m\u001b[39mTrue\u001b[39;49;00m,\n\u001b[1;32m   4797\u001b[0m     copy\u001b[39m=\u001b[39;49m\u001b[39mNone\u001b[39;49;00m,\n\u001b[1;32m   4798\u001b[0m     only_slice\u001b[39m=\u001b[39;49monly_slice,\n\u001b[1;32m   4799\u001b[0m )\n\u001b[1;32m   4800\u001b[0m result \u001b[39m=\u001b[39m \u001b[39mself\u001b[39m\u001b[39m.\u001b[39m_constructor_from_mgr(new_mgr, axes\u001b[39m=\u001b[39mnew_mgr\u001b[39m.\u001b[39maxes)\n\u001b[1;32m   4801\u001b[0m \u001b[39mif\u001b[39;00m \u001b[39mself\u001b[39m\u001b[39m.\u001b[39mndim \u001b[39m==\u001b[39m \u001b[39m1\u001b[39m:\n",
      "File \u001b[0;32m/Library/Frameworks/Python.framework/Versions/3.12/lib/python3.12/site-packages/pandas/core/internals/managers.py:663\u001b[0m, in \u001b[0;36mBaseBlockManager.reindex_indexer\u001b[0;34m(self, new_axis, indexer, axis, fill_value, allow_dups, copy, only_slice, use_na_proxy)\u001b[0m\n\u001b[1;32m    660\u001b[0m     \u001b[39mraise\u001b[39;00m \u001b[39mIndexError\u001b[39;00m(\u001b[39m\"\u001b[39m\u001b[39mRequested axis not found in manager\u001b[39m\u001b[39m\"\u001b[39m)\n\u001b[1;32m    662\u001b[0m \u001b[39mif\u001b[39;00m axis \u001b[39m==\u001b[39m \u001b[39m0\u001b[39m:\n\u001b[0;32m--> 663\u001b[0m     new_blocks \u001b[39m=\u001b[39m \u001b[39mself\u001b[39;49m\u001b[39m.\u001b[39;49m_slice_take_blocks_ax0(\n\u001b[1;32m    664\u001b[0m         indexer,\n\u001b[1;32m    665\u001b[0m         fill_value\u001b[39m=\u001b[39;49mfill_value,\n\u001b[1;32m    666\u001b[0m         only_slice\u001b[39m=\u001b[39;49monly_slice,\n\u001b[1;32m    667\u001b[0m         use_na_proxy\u001b[39m=\u001b[39;49muse_na_proxy,\n\u001b[1;32m    668\u001b[0m     )\n\u001b[1;32m    669\u001b[0m \u001b[39melse\u001b[39;00m:\n\u001b[1;32m    670\u001b[0m     new_blocks \u001b[39m=\u001b[39m [\n\u001b[1;32m    671\u001b[0m         blk\u001b[39m.\u001b[39mtake_nd(\n\u001b[1;32m    672\u001b[0m             indexer,\n\u001b[0;32m   (...)\u001b[0m\n\u001b[1;32m    678\u001b[0m         \u001b[39mfor\u001b[39;00m blk \u001b[39min\u001b[39;00m \u001b[39mself\u001b[39m\u001b[39m.\u001b[39mblocks\n\u001b[1;32m    679\u001b[0m     ]\n",
      "File \u001b[0;32m/Library/Frameworks/Python.framework/Versions/3.12/lib/python3.12/site-packages/pandas/core/internals/managers.py:756\u001b[0m, in \u001b[0;36mBaseBlockManager._slice_take_blocks_ax0\u001b[0;34m(self, slice_or_indexer, fill_value, only_slice, use_na_proxy, ref_inplace_op)\u001b[0m\n\u001b[1;32m    753\u001b[0m         \u001b[39melse\u001b[39;00m:\n\u001b[1;32m    754\u001b[0m             bp \u001b[39m=\u001b[39m BlockPlacement(\u001b[39mslice\u001b[39m(\u001b[39m0\u001b[39m, sllen))\n\u001b[1;32m    755\u001b[0m             \u001b[39mreturn\u001b[39;00m [\n\u001b[0;32m--> 756\u001b[0m                 blk\u001b[39m.\u001b[39;49mtake_nd(\n\u001b[1;32m    757\u001b[0m                     slobj,\n\u001b[1;32m    758\u001b[0m                     axis\u001b[39m=\u001b[39;49m\u001b[39m0\u001b[39;49m,\n\u001b[1;32m    759\u001b[0m                     new_mgr_locs\u001b[39m=\u001b[39;49mbp,\n\u001b[1;32m    760\u001b[0m                     fill_value\u001b[39m=\u001b[39;49mfill_value,\n\u001b[1;32m    761\u001b[0m                 )\n\u001b[1;32m    762\u001b[0m             ]\n\u001b[1;32m    764\u001b[0m \u001b[39mif\u001b[39;00m sl_type \u001b[39m==\u001b[39m \u001b[39m\"\u001b[39m\u001b[39mslice\u001b[39m\u001b[39m\"\u001b[39m:\n\u001b[1;32m    765\u001b[0m     blknos \u001b[39m=\u001b[39m \u001b[39mself\u001b[39m\u001b[39m.\u001b[39mblknos[slobj]\n",
      "File \u001b[0;32m/Library/Frameworks/Python.framework/Versions/3.12/lib/python3.12/site-packages/pandas/core/internals/blocks.py:1061\u001b[0m, in \u001b[0;36mBlock.take_nd\u001b[0;34m(self, indexer, axis, new_mgr_locs, fill_value)\u001b[0m\n\u001b[1;32m   1058\u001b[0m     allow_fill \u001b[39m=\u001b[39m \u001b[39mTrue\u001b[39;00m\n\u001b[1;32m   1060\u001b[0m \u001b[39m# Note: algos.take_nd has upcast logic similar to coerce_to_target_dtype\u001b[39;00m\n\u001b[0;32m-> 1061\u001b[0m new_values \u001b[39m=\u001b[39m algos\u001b[39m.\u001b[39;49mtake_nd(\n\u001b[1;32m   1062\u001b[0m     values, indexer, axis\u001b[39m=\u001b[39;49maxis, allow_fill\u001b[39m=\u001b[39;49mallow_fill, fill_value\u001b[39m=\u001b[39;49mfill_value\n\u001b[1;32m   1063\u001b[0m )\n\u001b[1;32m   1065\u001b[0m \u001b[39m# Called from three places in managers, all of which satisfy\u001b[39;00m\n\u001b[1;32m   1066\u001b[0m \u001b[39m#  these assertions\u001b[39;00m\n\u001b[1;32m   1067\u001b[0m \u001b[39mif\u001b[39;00m \u001b[39misinstance\u001b[39m(\u001b[39mself\u001b[39m, ExtensionBlock):\n\u001b[1;32m   1068\u001b[0m     \u001b[39m# NB: in this case, the 'axis' kwarg will be ignored in the\u001b[39;00m\n\u001b[1;32m   1069\u001b[0m     \u001b[39m#  algos.take_nd call above.\u001b[39;00m\n",
      "File \u001b[0;32m/Library/Frameworks/Python.framework/Versions/3.12/lib/python3.12/site-packages/pandas/core/array_algos/take.py:115\u001b[0m, in \u001b[0;36mtake_nd\u001b[0;34m(arr, indexer, axis, fill_value, allow_fill)\u001b[0m\n\u001b[1;32m    110\u001b[0m         arr \u001b[39m=\u001b[39m cast(\u001b[39m\"\u001b[39m\u001b[39mNDArrayBackedExtensionArray\u001b[39m\u001b[39m\"\u001b[39m, arr)\n\u001b[1;32m    111\u001b[0m         \u001b[39mreturn\u001b[39;00m arr\u001b[39m.\u001b[39mtake(\n\u001b[1;32m    112\u001b[0m             indexer, fill_value\u001b[39m=\u001b[39mfill_value, allow_fill\u001b[39m=\u001b[39mallow_fill, axis\u001b[39m=\u001b[39maxis\n\u001b[1;32m    113\u001b[0m         )\n\u001b[0;32m--> 115\u001b[0m     \u001b[39mreturn\u001b[39;00m arr\u001b[39m.\u001b[39;49mtake(indexer, fill_value\u001b[39m=\u001b[39;49mfill_value, allow_fill\u001b[39m=\u001b[39;49mallow_fill)\n\u001b[1;32m    117\u001b[0m arr \u001b[39m=\u001b[39m np\u001b[39m.\u001b[39masarray(arr)\n\u001b[1;32m    118\u001b[0m \u001b[39mreturn\u001b[39;00m _take_nd_ndarray(arr, indexer, axis, fill_value, allow_fill)\n",
      "File \u001b[0;32m~/Documents/CLE/Optique/Python/JUPYTER/MYLIB10/MODULES/physipandas/physipandas/extension.py:598\u001b[0m, in \u001b[0;36mQuantityArray.take\u001b[0;34m(self, indices, allow_fill, fill_value)\u001b[0m\n\u001b[1;32m    596\u001b[0m     fill_value \u001b[39m=\u001b[39m \u001b[39mself\u001b[39m\u001b[39m.\u001b[39mdtype\u001b[39m.\u001b[39mna_value\n\u001b[1;32m    597\u001b[0m \u001b[39m# raw numpy array\u001b[39;00m\n\u001b[0;32m--> 598\u001b[0m np_res \u001b[39m=\u001b[39m take(\u001b[39mself\u001b[39;49m\u001b[39m.\u001b[39;49m_data,\n\u001b[1;32m    599\u001b[0m                           indices, \n\u001b[1;32m    600\u001b[0m                           fill_value\u001b[39m=\u001b[39;49mfill_value,\n\u001b[1;32m    601\u001b[0m                           allow_fill\u001b[39m=\u001b[39;49mallow_fill,\n\u001b[1;32m    602\u001b[0m                          )\n\u001b[1;32m    603\u001b[0m \u001b[39m# add back unit and cast into QuantityArray\u001b[39;00m\n\u001b[1;32m    604\u001b[0m \u001b[39mreturn\u001b[39;00m QuantityArray(np_res\u001b[39m*\u001b[39m\u001b[39mself\u001b[39m\u001b[39m.\u001b[39mdtype\u001b[39m.\u001b[39munit)\n",
      "File \u001b[0;32m/Library/Frameworks/Python.framework/Versions/3.12/lib/python3.12/site-packages/pandas/core/algorithms.py:1314\u001b[0m, in \u001b[0;36mtake\u001b[0;34m(arr, indices, axis, allow_fill, fill_value)\u001b[0m\n\u001b[1;32m   1311\u001b[0m \u001b[39mif\u001b[39;00m allow_fill:\n\u001b[1;32m   1312\u001b[0m     \u001b[39m# Pandas style, -1 means NA\u001b[39;00m\n\u001b[1;32m   1313\u001b[0m     validate_indices(indices, arr\u001b[39m.\u001b[39mshape[axis])\n\u001b[0;32m-> 1314\u001b[0m     result \u001b[39m=\u001b[39m take_nd(\n\u001b[1;32m   1315\u001b[0m         arr, indices, axis\u001b[39m=\u001b[39;49maxis, allow_fill\u001b[39m=\u001b[39;49m\u001b[39mTrue\u001b[39;49;00m, fill_value\u001b[39m=\u001b[39;49mfill_value\n\u001b[1;32m   1316\u001b[0m     )\n\u001b[1;32m   1317\u001b[0m \u001b[39melse\u001b[39;00m:\n\u001b[1;32m   1318\u001b[0m     \u001b[39m# NumPy style\u001b[39;00m\n\u001b[1;32m   1319\u001b[0m     result \u001b[39m=\u001b[39m arr\u001b[39m.\u001b[39mtake(indices, axis\u001b[39m=\u001b[39maxis)\n",
      "File \u001b[0;32m/Library/Frameworks/Python.framework/Versions/3.12/lib/python3.12/site-packages/pandas/core/array_algos/take.py:111\u001b[0m, in \u001b[0;36mtake_nd\u001b[0;34m(arr, indexer, axis, fill_value, allow_fill)\u001b[0m\n\u001b[1;32m    108\u001b[0m     \u001b[39mif\u001b[39;00m \u001b[39mnot\u001b[39;00m is_1d_only_ea_dtype(arr\u001b[39m.\u001b[39mdtype):\n\u001b[1;32m    109\u001b[0m         \u001b[39m# i.e. DatetimeArray, TimedeltaArray\u001b[39;00m\n\u001b[1;32m    110\u001b[0m         arr \u001b[39m=\u001b[39m cast(\u001b[39m\"\u001b[39m\u001b[39mNDArrayBackedExtensionArray\u001b[39m\u001b[39m\"\u001b[39m, arr)\n\u001b[0;32m--> 111\u001b[0m         \u001b[39mreturn\u001b[39;00m arr\u001b[39m.\u001b[39;49mtake(\n\u001b[1;32m    112\u001b[0m             indexer, fill_value\u001b[39m=\u001b[39;49mfill_value, allow_fill\u001b[39m=\u001b[39;49mallow_fill, axis\u001b[39m=\u001b[39;49maxis\n\u001b[1;32m    113\u001b[0m         )\n\u001b[1;32m    115\u001b[0m     \u001b[39mreturn\u001b[39;00m arr\u001b[39m.\u001b[39mtake(indexer, fill_value\u001b[39m=\u001b[39mfill_value, allow_fill\u001b[39m=\u001b[39mallow_fill)\n\u001b[1;32m    117\u001b[0m arr \u001b[39m=\u001b[39m np\u001b[39m.\u001b[39masarray(arr)\n",
      "\u001b[0;31mTypeError\u001b[0m: take() got an unexpected keyword argument 'fill_value'"
     ]
    }
   ],
   "source": [
    "import numpy as np\n",
    "import physipandas\n",
    "from physipy import m\n",
    "import pandas as pd\n",
    "sq = pd.Series(np.arange(10)*m, dtype='physipy[m]')\n",
    "sq.nsmallest(1)"
   ]
  },
  {
   "cell_type": "code",
   "execution_count": 10,
   "id": "34e77295-c375-48a4-9401-fa131dd38e1a",
   "metadata": {},
   "outputs": [
    {
     "data": {
      "text/plain": [
       "physipy[m]"
      ]
     },
     "execution_count": 10,
     "metadata": {},
     "output_type": "execute_result"
    }
   ],
   "source": [
    "sq.dtype"
   ]
  },
  {
   "cell_type": "code",
   "execution_count": 11,
   "id": "6f1b2547-7723-41d1-9c12-db93121f7738",
   "metadata": {},
   "outputs": [
    {
     "data": {
      "text/plain": [
       "True"
      ]
     },
     "execution_count": 11,
     "metadata": {},
     "output_type": "execute_result"
    }
   ],
   "source": [
    "pd.core.dtypes.common.is_numeric_dtype(sq.dtype)"
   ]
  },
  {
   "cell_type": "code",
   "execution_count": 12,
   "id": "a78a3729-5059-413b-bdb8-b57192034920",
   "metadata": {},
   "outputs": [
    {
     "data": {
      "text/plain": [
       "False"
      ]
     },
     "execution_count": 12,
     "metadata": {},
     "output_type": "execute_result"
    }
   ],
   "source": [
    "isinstance(np.dtype(sq.dtype.type).type, np.number)"
   ]
  },
  {
   "cell_type": "code",
   "execution_count": 13,
   "id": "8dad8c9c-2460-4213-88b3-3b63151c2209",
   "metadata": {},
   "outputs": [
    {
     "data": {
      "text/plain": [
       "False"
      ]
     },
     "execution_count": 13,
     "metadata": {},
     "output_type": "execute_result"
    }
   ],
   "source": [
    "isinstance(np.dtype(sq.dtype.type), np.number)"
   ]
  },
  {
   "cell_type": "code",
   "execution_count": 14,
   "id": "6e7fe2d9-8214-4b3f-b62f-3f5a6cf736de",
   "metadata": {},
   "outputs": [
    {
     "ename": "NameError",
     "evalue": "name '_is_dtype_type' is not defined",
     "output_type": "error",
     "traceback": [
      "\u001b[0;31m---------------------------------------------------------------------------\u001b[0m",
      "\u001b[0;31mNameError\u001b[0m                                 Traceback (most recent call last)",
      "\u001b[1;32m/Users/mocquin/Documents/CLE/Optique/Python/JUPYTER/MYLIB10/MODULES/physipandas/docs/Tests.ipynb Cell 16\u001b[0m line \u001b[0;36m1\n\u001b[0;32m----> <a href='vscode-notebook-cell:/Users/mocquin/Documents/CLE/Optique/Python/JUPYTER/MYLIB10/MODULES/physipandas/docs/Tests.ipynb#X21sZmlsZQ%3D%3D?line=0'>1</a>\u001b[0m _is_dtype_type(\n\u001b[1;32m      <a href='vscode-notebook-cell:/Users/mocquin/Documents/CLE/Optique/Python/JUPYTER/MYLIB10/MODULES/physipandas/docs/Tests.ipynb#X21sZmlsZQ%3D%3D?line=1'>2</a>\u001b[0m         sq\u001b[39m.\u001b[39mdtype, classes_and_not_datetimelike(np\u001b[39m.\u001b[39mnumber, np\u001b[39m.\u001b[39mbool_)\n\u001b[1;32m      <a href='vscode-notebook-cell:/Users/mocquin/Documents/CLE/Optique/Python/JUPYTER/MYLIB10/MODULES/physipandas/docs/Tests.ipynb#X21sZmlsZQ%3D%3D?line=2'>3</a>\u001b[0m     )\n",
      "\u001b[0;31mNameError\u001b[0m: name '_is_dtype_type' is not defined"
     ]
    }
   ],
   "source": [
    "_is_dtype_type(\n",
    "        sq.dtype, classes_and_not_datetimelike(np.number, np.bool_)\n",
    "    )"
   ]
  },
  {
   "cell_type": "code",
   "execution_count": 15,
   "id": "eced05fd-6e70-4d70-b86c-5b549b54159a",
   "metadata": {},
   "outputs": [
    {
     "ename": "TypeError",
     "evalue": "Cannot interpret 'physipy[m]' as a data type",
     "output_type": "error",
     "traceback": [
      "\u001b[0;31m---------------------------------------------------------------------------\u001b[0m",
      "\u001b[0;31mTypeError\u001b[0m                                 Traceback (most recent call last)",
      "\u001b[1;32m/Users/mocquin/Documents/CLE/Optique/Python/JUPYTER/MYLIB10/MODULES/physipandas/docs/Tests.ipynb Cell 17\u001b[0m line \u001b[0;36m1\n\u001b[0;32m----> <a href='vscode-notebook-cell:/Users/mocquin/Documents/CLE/Optique/Python/JUPYTER/MYLIB10/MODULES/physipandas/docs/Tests.ipynb#X22sZmlsZQ%3D%3D?line=0'>1</a>\u001b[0m np\u001b[39m.\u001b[39;49mdtype(sq\u001b[39m.\u001b[39;49mdtype)\u001b[39m.\u001b[39mtype\n",
      "\u001b[0;31mTypeError\u001b[0m: Cannot interpret 'physipy[m]' as a data type"
     ]
    }
   ],
   "source": [
    "np.dtype(sq.dtype).type"
   ]
  },
  {
   "cell_type": "code",
   "execution_count": 16,
   "id": "95385b58-0563-4d96-ab11-c227b3732b27",
   "metadata": {},
   "outputs": [
    {
     "data": {
      "text/plain": [
       "<function __main__.<lambda>(tipo)>"
      ]
     },
     "execution_count": 16,
     "metadata": {},
     "output_type": "execute_result"
    }
   ],
   "source": [
    "lambda tipo: (\n",
    "        issubclass(tipo, (np.number, np.bool))\n",
    "        and not issubclass(tipo, (np.datetime64, np.timedelta64))\n",
    "    )"
   ]
  },
  {
   "cell_type": "code",
   "execution_count": 17,
   "id": "35121da5-043b-492b-aebe-2e8fe93115b9",
   "metadata": {},
   "outputs": [
    {
     "ename": "NameError",
     "evalue": "name 'is_numeric_dtype' is not defined",
     "output_type": "error",
     "traceback": [
      "\u001b[0;31m---------------------------------------------------------------------------\u001b[0m",
      "\u001b[0;31mNameError\u001b[0m                                 Traceback (most recent call last)",
      "\u001b[1;32m/Users/mocquin/Documents/CLE/Optique/Python/JUPYTER/MYLIB10/MODULES/physipandas/docs/Tests.ipynb Cell 19\u001b[0m line \u001b[0;36m1\n\u001b[0;32m----> <a href='vscode-notebook-cell:/Users/mocquin/Documents/CLE/Optique/Python/JUPYTER/MYLIB10/MODULES/physipandas/docs/Tests.ipynb#X24sZmlsZQ%3D%3D?line=0'>1</a>\u001b[0m is_numeric_dtype(dtype) \u001b[39mand\u001b[39;00m \u001b[39mnot\u001b[39;00m is_complex_dtype(dtype)\n",
      "\u001b[0;31mNameError\u001b[0m: name 'is_numeric_dtype' is not defined"
     ]
    }
   ],
   "source": [
    "is_numeric_dtype(dtype) and not is_complex_dtype(dtype)"
   ]
  },
  {
   "cell_type": "code",
   "execution_count": 18,
   "id": "46647b39-c36c-4d98-bd41-bd94cf597cab",
   "metadata": {},
   "outputs": [
    {
     "ename": "TypeError",
     "evalue": "take() got an unexpected keyword argument 'fill_value'",
     "output_type": "error",
     "traceback": [
      "\u001b[0;31m---------------------------------------------------------------------------\u001b[0m",
      "\u001b[0;31mTypeError\u001b[0m                                 Traceback (most recent call last)",
      "\u001b[1;32m/Users/mocquin/Documents/CLE/Optique/Python/JUPYTER/MYLIB10/MODULES/physipandas/docs/Tests.ipynb Cell 20\u001b[0m line \u001b[0;36m1\n\u001b[0;32m----> <a href='vscode-notebook-cell:/Users/mocquin/Documents/CLE/Optique/Python/JUPYTER/MYLIB10/MODULES/physipandas/docs/Tests.ipynb#X25sZmlsZQ%3D%3D?line=0'>1</a>\u001b[0m sq\u001b[39m.\u001b[39;49mnlargest()\n",
      "File \u001b[0;32m/Library/Frameworks/Python.framework/Versions/3.12/lib/python3.12/site-packages/pandas/core/series.py:4104\u001b[0m, in \u001b[0;36mSeries.nlargest\u001b[0;34m(self, n, keep)\u001b[0m\n\u001b[1;32m   4006\u001b[0m \u001b[39mdef\u001b[39;00m \u001b[39mnlargest\u001b[39m(\n\u001b[1;32m   4007\u001b[0m     \u001b[39mself\u001b[39m, n: \u001b[39mint\u001b[39m \u001b[39m=\u001b[39m \u001b[39m5\u001b[39m, keep: Literal[\u001b[39m\"\u001b[39m\u001b[39mfirst\u001b[39m\u001b[39m\"\u001b[39m, \u001b[39m\"\u001b[39m\u001b[39mlast\u001b[39m\u001b[39m\"\u001b[39m, \u001b[39m\"\u001b[39m\u001b[39mall\u001b[39m\u001b[39m\"\u001b[39m] \u001b[39m=\u001b[39m \u001b[39m\"\u001b[39m\u001b[39mfirst\u001b[39m\u001b[39m\"\u001b[39m\n\u001b[1;32m   4008\u001b[0m ) \u001b[39m-\u001b[39m\u001b[39m>\u001b[39m Series:\n\u001b[1;32m   4009\u001b[0m \u001b[39m    \u001b[39m\u001b[39m\"\"\"\u001b[39;00m\n\u001b[1;32m   4010\u001b[0m \u001b[39m    Return the largest `n` elements.\u001b[39;00m\n\u001b[1;32m   4011\u001b[0m \n\u001b[0;32m   (...)\u001b[0m\n\u001b[1;32m   4102\u001b[0m \u001b[39m    dtype: int64\u001b[39;00m\n\u001b[1;32m   4103\u001b[0m \u001b[39m    \"\"\"\u001b[39;00m\n\u001b[0;32m-> 4104\u001b[0m     \u001b[39mreturn\u001b[39;00m selectn\u001b[39m.\u001b[39;49mSelectNSeries(\u001b[39mself\u001b[39;49m, n\u001b[39m=\u001b[39;49mn, keep\u001b[39m=\u001b[39;49mkeep)\u001b[39m.\u001b[39;49mnlargest()\n",
      "File \u001b[0;32m/Library/Frameworks/Python.framework/Versions/3.12/lib/python3.12/site-packages/pandas/core/methods/selectn.py:57\u001b[0m, in \u001b[0;36mSelectN.nlargest\u001b[0;34m(self)\u001b[0m\n\u001b[1;32m     55\u001b[0m \u001b[39m@final\u001b[39m\n\u001b[1;32m     56\u001b[0m \u001b[39mdef\u001b[39;00m \u001b[39mnlargest\u001b[39m(\u001b[39mself\u001b[39m):\n\u001b[0;32m---> 57\u001b[0m     \u001b[39mreturn\u001b[39;00m \u001b[39mself\u001b[39;49m\u001b[39m.\u001b[39;49mcompute(\u001b[39m\"\u001b[39;49m\u001b[39mnlargest\u001b[39;49m\u001b[39m\"\u001b[39;49m)\n",
      "File \u001b[0;32m/Library/Frameworks/Python.framework/Versions/3.12/lib/python3.12/site-packages/pandas/core/methods/selectn.py:102\u001b[0m, in \u001b[0;36mSelectNSeries.compute\u001b[0;34m(self, method)\u001b[0m\n\u001b[1;32m     99\u001b[0m     \u001b[39mreturn\u001b[39;00m \u001b[39mself\u001b[39m\u001b[39m.\u001b[39mobj[[]]\n\u001b[1;32m    101\u001b[0m dropped \u001b[39m=\u001b[39m \u001b[39mself\u001b[39m\u001b[39m.\u001b[39mobj\u001b[39m.\u001b[39mdropna()\n\u001b[0;32m--> 102\u001b[0m nan_index \u001b[39m=\u001b[39m \u001b[39mself\u001b[39;49m\u001b[39m.\u001b[39;49mobj\u001b[39m.\u001b[39;49mdrop(dropped\u001b[39m.\u001b[39;49mindex)\n\u001b[1;32m    104\u001b[0m \u001b[39m# slow method\u001b[39;00m\n\u001b[1;32m    105\u001b[0m \u001b[39mif\u001b[39;00m n \u001b[39m>\u001b[39m\u001b[39m=\u001b[39m \u001b[39mlen\u001b[39m(\u001b[39mself\u001b[39m\u001b[39m.\u001b[39mobj):\n",
      "File \u001b[0;32m/Library/Frameworks/Python.framework/Versions/3.12/lib/python3.12/site-packages/pandas/core/series.py:5144\u001b[0m, in \u001b[0;36mSeries.drop\u001b[0;34m(self, labels, axis, index, columns, level, inplace, errors)\u001b[0m\n\u001b[1;32m   5047\u001b[0m \u001b[39mdef\u001b[39;00m \u001b[39mdrop\u001b[39m(\n\u001b[1;32m   5048\u001b[0m     \u001b[39mself\u001b[39m,\n\u001b[1;32m   5049\u001b[0m     labels: IndexLabel \u001b[39m|\u001b[39m \u001b[39mNone\u001b[39;00m \u001b[39m=\u001b[39m \u001b[39mNone\u001b[39;00m,\n\u001b[0;32m   (...)\u001b[0m\n\u001b[1;32m   5056\u001b[0m     errors: IgnoreRaise \u001b[39m=\u001b[39m \u001b[39m\"\u001b[39m\u001b[39mraise\u001b[39m\u001b[39m\"\u001b[39m,\n\u001b[1;32m   5057\u001b[0m ) \u001b[39m-\u001b[39m\u001b[39m>\u001b[39m Series \u001b[39m|\u001b[39m \u001b[39mNone\u001b[39;00m:\n\u001b[1;32m   5058\u001b[0m \u001b[39m    \u001b[39m\u001b[39m\"\"\"\u001b[39;00m\n\u001b[1;32m   5059\u001b[0m \u001b[39m    Return Series with specified index labels removed.\u001b[39;00m\n\u001b[1;32m   5060\u001b[0m \n\u001b[0;32m   (...)\u001b[0m\n\u001b[1;32m   5142\u001b[0m \u001b[39m    dtype: float64\u001b[39;00m\n\u001b[1;32m   5143\u001b[0m \u001b[39m    \"\"\"\u001b[39;00m\n\u001b[0;32m-> 5144\u001b[0m     \u001b[39mreturn\u001b[39;00m \u001b[39msuper\u001b[39;49m()\u001b[39m.\u001b[39;49mdrop(\n\u001b[1;32m   5145\u001b[0m         labels\u001b[39m=\u001b[39;49mlabels,\n\u001b[1;32m   5146\u001b[0m         axis\u001b[39m=\u001b[39;49maxis,\n\u001b[1;32m   5147\u001b[0m         index\u001b[39m=\u001b[39;49mindex,\n\u001b[1;32m   5148\u001b[0m         columns\u001b[39m=\u001b[39;49mcolumns,\n\u001b[1;32m   5149\u001b[0m         level\u001b[39m=\u001b[39;49mlevel,\n\u001b[1;32m   5150\u001b[0m         inplace\u001b[39m=\u001b[39;49minplace,\n\u001b[1;32m   5151\u001b[0m         errors\u001b[39m=\u001b[39;49merrors,\n\u001b[1;32m   5152\u001b[0m     )\n",
      "File \u001b[0;32m/Library/Frameworks/Python.framework/Versions/3.12/lib/python3.12/site-packages/pandas/core/generic.py:4711\u001b[0m, in \u001b[0;36mNDFrame.drop\u001b[0;34m(self, labels, axis, index, columns, level, inplace, errors)\u001b[0m\n\u001b[1;32m   4709\u001b[0m \u001b[39mfor\u001b[39;00m axis, labels \u001b[39min\u001b[39;00m axes\u001b[39m.\u001b[39mitems():\n\u001b[1;32m   4710\u001b[0m     \u001b[39mif\u001b[39;00m labels \u001b[39mis\u001b[39;00m \u001b[39mnot\u001b[39;00m \u001b[39mNone\u001b[39;00m:\n\u001b[0;32m-> 4711\u001b[0m         obj \u001b[39m=\u001b[39m obj\u001b[39m.\u001b[39;49m_drop_axis(labels, axis, level\u001b[39m=\u001b[39;49mlevel, errors\u001b[39m=\u001b[39;49merrors)\n\u001b[1;32m   4713\u001b[0m \u001b[39mif\u001b[39;00m inplace:\n\u001b[1;32m   4714\u001b[0m     \u001b[39mself\u001b[39m\u001b[39m.\u001b[39m_update_inplace(obj)\n",
      "File \u001b[0;32m/Library/Frameworks/Python.framework/Versions/3.12/lib/python3.12/site-packages/pandas/core/generic.py:4792\u001b[0m, in \u001b[0;36mNDFrame._drop_axis\u001b[0;34m(self, labels, axis, level, errors, only_slice)\u001b[0m\n\u001b[1;32m   4789\u001b[0m     new_axis \u001b[39m=\u001b[39m axis\u001b[39m.\u001b[39mtake(indexer)\n\u001b[1;32m   4791\u001b[0m bm_axis \u001b[39m=\u001b[39m \u001b[39mself\u001b[39m\u001b[39m.\u001b[39mndim \u001b[39m-\u001b[39m axis_num \u001b[39m-\u001b[39m \u001b[39m1\u001b[39m\n\u001b[0;32m-> 4792\u001b[0m new_mgr \u001b[39m=\u001b[39m \u001b[39mself\u001b[39;49m\u001b[39m.\u001b[39;49m_mgr\u001b[39m.\u001b[39;49mreindex_indexer(\n\u001b[1;32m   4793\u001b[0m     new_axis,\n\u001b[1;32m   4794\u001b[0m     indexer,\n\u001b[1;32m   4795\u001b[0m     axis\u001b[39m=\u001b[39;49mbm_axis,\n\u001b[1;32m   4796\u001b[0m     allow_dups\u001b[39m=\u001b[39;49m\u001b[39mTrue\u001b[39;49;00m,\n\u001b[1;32m   4797\u001b[0m     copy\u001b[39m=\u001b[39;49m\u001b[39mNone\u001b[39;49;00m,\n\u001b[1;32m   4798\u001b[0m     only_slice\u001b[39m=\u001b[39;49monly_slice,\n\u001b[1;32m   4799\u001b[0m )\n\u001b[1;32m   4800\u001b[0m result \u001b[39m=\u001b[39m \u001b[39mself\u001b[39m\u001b[39m.\u001b[39m_constructor_from_mgr(new_mgr, axes\u001b[39m=\u001b[39mnew_mgr\u001b[39m.\u001b[39maxes)\n\u001b[1;32m   4801\u001b[0m \u001b[39mif\u001b[39;00m \u001b[39mself\u001b[39m\u001b[39m.\u001b[39mndim \u001b[39m==\u001b[39m \u001b[39m1\u001b[39m:\n",
      "File \u001b[0;32m/Library/Frameworks/Python.framework/Versions/3.12/lib/python3.12/site-packages/pandas/core/internals/managers.py:663\u001b[0m, in \u001b[0;36mBaseBlockManager.reindex_indexer\u001b[0;34m(self, new_axis, indexer, axis, fill_value, allow_dups, copy, only_slice, use_na_proxy)\u001b[0m\n\u001b[1;32m    660\u001b[0m     \u001b[39mraise\u001b[39;00m \u001b[39mIndexError\u001b[39;00m(\u001b[39m\"\u001b[39m\u001b[39mRequested axis not found in manager\u001b[39m\u001b[39m\"\u001b[39m)\n\u001b[1;32m    662\u001b[0m \u001b[39mif\u001b[39;00m axis \u001b[39m==\u001b[39m \u001b[39m0\u001b[39m:\n\u001b[0;32m--> 663\u001b[0m     new_blocks \u001b[39m=\u001b[39m \u001b[39mself\u001b[39;49m\u001b[39m.\u001b[39;49m_slice_take_blocks_ax0(\n\u001b[1;32m    664\u001b[0m         indexer,\n\u001b[1;32m    665\u001b[0m         fill_value\u001b[39m=\u001b[39;49mfill_value,\n\u001b[1;32m    666\u001b[0m         only_slice\u001b[39m=\u001b[39;49monly_slice,\n\u001b[1;32m    667\u001b[0m         use_na_proxy\u001b[39m=\u001b[39;49muse_na_proxy,\n\u001b[1;32m    668\u001b[0m     )\n\u001b[1;32m    669\u001b[0m \u001b[39melse\u001b[39;00m:\n\u001b[1;32m    670\u001b[0m     new_blocks \u001b[39m=\u001b[39m [\n\u001b[1;32m    671\u001b[0m         blk\u001b[39m.\u001b[39mtake_nd(\n\u001b[1;32m    672\u001b[0m             indexer,\n\u001b[0;32m   (...)\u001b[0m\n\u001b[1;32m    678\u001b[0m         \u001b[39mfor\u001b[39;00m blk \u001b[39min\u001b[39;00m \u001b[39mself\u001b[39m\u001b[39m.\u001b[39mblocks\n\u001b[1;32m    679\u001b[0m     ]\n",
      "File \u001b[0;32m/Library/Frameworks/Python.framework/Versions/3.12/lib/python3.12/site-packages/pandas/core/internals/managers.py:756\u001b[0m, in \u001b[0;36mBaseBlockManager._slice_take_blocks_ax0\u001b[0;34m(self, slice_or_indexer, fill_value, only_slice, use_na_proxy, ref_inplace_op)\u001b[0m\n\u001b[1;32m    753\u001b[0m         \u001b[39melse\u001b[39;00m:\n\u001b[1;32m    754\u001b[0m             bp \u001b[39m=\u001b[39m BlockPlacement(\u001b[39mslice\u001b[39m(\u001b[39m0\u001b[39m, sllen))\n\u001b[1;32m    755\u001b[0m             \u001b[39mreturn\u001b[39;00m [\n\u001b[0;32m--> 756\u001b[0m                 blk\u001b[39m.\u001b[39;49mtake_nd(\n\u001b[1;32m    757\u001b[0m                     slobj,\n\u001b[1;32m    758\u001b[0m                     axis\u001b[39m=\u001b[39;49m\u001b[39m0\u001b[39;49m,\n\u001b[1;32m    759\u001b[0m                     new_mgr_locs\u001b[39m=\u001b[39;49mbp,\n\u001b[1;32m    760\u001b[0m                     fill_value\u001b[39m=\u001b[39;49mfill_value,\n\u001b[1;32m    761\u001b[0m                 )\n\u001b[1;32m    762\u001b[0m             ]\n\u001b[1;32m    764\u001b[0m \u001b[39mif\u001b[39;00m sl_type \u001b[39m==\u001b[39m \u001b[39m\"\u001b[39m\u001b[39mslice\u001b[39m\u001b[39m\"\u001b[39m:\n\u001b[1;32m    765\u001b[0m     blknos \u001b[39m=\u001b[39m \u001b[39mself\u001b[39m\u001b[39m.\u001b[39mblknos[slobj]\n",
      "File \u001b[0;32m/Library/Frameworks/Python.framework/Versions/3.12/lib/python3.12/site-packages/pandas/core/internals/blocks.py:1061\u001b[0m, in \u001b[0;36mBlock.take_nd\u001b[0;34m(self, indexer, axis, new_mgr_locs, fill_value)\u001b[0m\n\u001b[1;32m   1058\u001b[0m     allow_fill \u001b[39m=\u001b[39m \u001b[39mTrue\u001b[39;00m\n\u001b[1;32m   1060\u001b[0m \u001b[39m# Note: algos.take_nd has upcast logic similar to coerce_to_target_dtype\u001b[39;00m\n\u001b[0;32m-> 1061\u001b[0m new_values \u001b[39m=\u001b[39m algos\u001b[39m.\u001b[39;49mtake_nd(\n\u001b[1;32m   1062\u001b[0m     values, indexer, axis\u001b[39m=\u001b[39;49maxis, allow_fill\u001b[39m=\u001b[39;49mallow_fill, fill_value\u001b[39m=\u001b[39;49mfill_value\n\u001b[1;32m   1063\u001b[0m )\n\u001b[1;32m   1065\u001b[0m \u001b[39m# Called from three places in managers, all of which satisfy\u001b[39;00m\n\u001b[1;32m   1066\u001b[0m \u001b[39m#  these assertions\u001b[39;00m\n\u001b[1;32m   1067\u001b[0m \u001b[39mif\u001b[39;00m \u001b[39misinstance\u001b[39m(\u001b[39mself\u001b[39m, ExtensionBlock):\n\u001b[1;32m   1068\u001b[0m     \u001b[39m# NB: in this case, the 'axis' kwarg will be ignored in the\u001b[39;00m\n\u001b[1;32m   1069\u001b[0m     \u001b[39m#  algos.take_nd call above.\u001b[39;00m\n",
      "File \u001b[0;32m/Library/Frameworks/Python.framework/Versions/3.12/lib/python3.12/site-packages/pandas/core/array_algos/take.py:115\u001b[0m, in \u001b[0;36mtake_nd\u001b[0;34m(arr, indexer, axis, fill_value, allow_fill)\u001b[0m\n\u001b[1;32m    110\u001b[0m         arr \u001b[39m=\u001b[39m cast(\u001b[39m\"\u001b[39m\u001b[39mNDArrayBackedExtensionArray\u001b[39m\u001b[39m\"\u001b[39m, arr)\n\u001b[1;32m    111\u001b[0m         \u001b[39mreturn\u001b[39;00m arr\u001b[39m.\u001b[39mtake(\n\u001b[1;32m    112\u001b[0m             indexer, fill_value\u001b[39m=\u001b[39mfill_value, allow_fill\u001b[39m=\u001b[39mallow_fill, axis\u001b[39m=\u001b[39maxis\n\u001b[1;32m    113\u001b[0m         )\n\u001b[0;32m--> 115\u001b[0m     \u001b[39mreturn\u001b[39;00m arr\u001b[39m.\u001b[39;49mtake(indexer, fill_value\u001b[39m=\u001b[39;49mfill_value, allow_fill\u001b[39m=\u001b[39;49mallow_fill)\n\u001b[1;32m    117\u001b[0m arr \u001b[39m=\u001b[39m np\u001b[39m.\u001b[39masarray(arr)\n\u001b[1;32m    118\u001b[0m \u001b[39mreturn\u001b[39;00m _take_nd_ndarray(arr, indexer, axis, fill_value, allow_fill)\n",
      "File \u001b[0;32m~/Documents/CLE/Optique/Python/JUPYTER/MYLIB10/MODULES/physipandas/physipandas/extension.py:598\u001b[0m, in \u001b[0;36mQuantityArray.take\u001b[0;34m(self, indices, allow_fill, fill_value)\u001b[0m\n\u001b[1;32m    596\u001b[0m     fill_value \u001b[39m=\u001b[39m \u001b[39mself\u001b[39m\u001b[39m.\u001b[39mdtype\u001b[39m.\u001b[39mna_value\n\u001b[1;32m    597\u001b[0m \u001b[39m# raw numpy array\u001b[39;00m\n\u001b[0;32m--> 598\u001b[0m np_res \u001b[39m=\u001b[39m take(\u001b[39mself\u001b[39;49m\u001b[39m.\u001b[39;49m_data,\n\u001b[1;32m    599\u001b[0m                           indices, \n\u001b[1;32m    600\u001b[0m                           fill_value\u001b[39m=\u001b[39;49mfill_value,\n\u001b[1;32m    601\u001b[0m                           allow_fill\u001b[39m=\u001b[39;49mallow_fill,\n\u001b[1;32m    602\u001b[0m                          )\n\u001b[1;32m    603\u001b[0m \u001b[39m# add back unit and cast into QuantityArray\u001b[39;00m\n\u001b[1;32m    604\u001b[0m \u001b[39mreturn\u001b[39;00m QuantityArray(np_res\u001b[39m*\u001b[39m\u001b[39mself\u001b[39m\u001b[39m.\u001b[39mdtype\u001b[39m.\u001b[39munit)\n",
      "File \u001b[0;32m/Library/Frameworks/Python.framework/Versions/3.12/lib/python3.12/site-packages/pandas/core/algorithms.py:1314\u001b[0m, in \u001b[0;36mtake\u001b[0;34m(arr, indices, axis, allow_fill, fill_value)\u001b[0m\n\u001b[1;32m   1311\u001b[0m \u001b[39mif\u001b[39;00m allow_fill:\n\u001b[1;32m   1312\u001b[0m     \u001b[39m# Pandas style, -1 means NA\u001b[39;00m\n\u001b[1;32m   1313\u001b[0m     validate_indices(indices, arr\u001b[39m.\u001b[39mshape[axis])\n\u001b[0;32m-> 1314\u001b[0m     result \u001b[39m=\u001b[39m take_nd(\n\u001b[1;32m   1315\u001b[0m         arr, indices, axis\u001b[39m=\u001b[39;49maxis, allow_fill\u001b[39m=\u001b[39;49m\u001b[39mTrue\u001b[39;49;00m, fill_value\u001b[39m=\u001b[39;49mfill_value\n\u001b[1;32m   1316\u001b[0m     )\n\u001b[1;32m   1317\u001b[0m \u001b[39melse\u001b[39;00m:\n\u001b[1;32m   1318\u001b[0m     \u001b[39m# NumPy style\u001b[39;00m\n\u001b[1;32m   1319\u001b[0m     result \u001b[39m=\u001b[39m arr\u001b[39m.\u001b[39mtake(indices, axis\u001b[39m=\u001b[39maxis)\n",
      "File \u001b[0;32m/Library/Frameworks/Python.framework/Versions/3.12/lib/python3.12/site-packages/pandas/core/array_algos/take.py:111\u001b[0m, in \u001b[0;36mtake_nd\u001b[0;34m(arr, indexer, axis, fill_value, allow_fill)\u001b[0m\n\u001b[1;32m    108\u001b[0m     \u001b[39mif\u001b[39;00m \u001b[39mnot\u001b[39;00m is_1d_only_ea_dtype(arr\u001b[39m.\u001b[39mdtype):\n\u001b[1;32m    109\u001b[0m         \u001b[39m# i.e. DatetimeArray, TimedeltaArray\u001b[39;00m\n\u001b[1;32m    110\u001b[0m         arr \u001b[39m=\u001b[39m cast(\u001b[39m\"\u001b[39m\u001b[39mNDArrayBackedExtensionArray\u001b[39m\u001b[39m\"\u001b[39m, arr)\n\u001b[0;32m--> 111\u001b[0m         \u001b[39mreturn\u001b[39;00m arr\u001b[39m.\u001b[39;49mtake(\n\u001b[1;32m    112\u001b[0m             indexer, fill_value\u001b[39m=\u001b[39;49mfill_value, allow_fill\u001b[39m=\u001b[39;49mallow_fill, axis\u001b[39m=\u001b[39;49maxis\n\u001b[1;32m    113\u001b[0m         )\n\u001b[1;32m    115\u001b[0m     \u001b[39mreturn\u001b[39;00m arr\u001b[39m.\u001b[39mtake(indexer, fill_value\u001b[39m=\u001b[39mfill_value, allow_fill\u001b[39m=\u001b[39mallow_fill)\n\u001b[1;32m    117\u001b[0m arr \u001b[39m=\u001b[39m np\u001b[39m.\u001b[39masarray(arr)\n",
      "\u001b[0;31mTypeError\u001b[0m: take() got an unexpected keyword argument 'fill_value'"
     ]
    }
   ],
   "source": [
    "sq.nlargest()"
   ]
  },
  {
   "cell_type": "code",
   "execution_count": 19,
   "id": "d4563eb9-a085-4069-8d3d-f8e4281d1dbc",
   "metadata": {},
   "outputs": [
    {
     "ename": "AttributeError",
     "evalue": "'dict' object has no attribute 'dimension'",
     "output_type": "error",
     "traceback": [
      "\u001b[0;31m---------------------------------------------------------------------------\u001b[0m",
      "\u001b[0;31mAttributeError\u001b[0m                            Traceback (most recent call last)",
      "File \u001b[0;32m~/Library/Python/3.12/lib/python/site-packages/IPython/core/formatters.py:344\u001b[0m, in \u001b[0;36mBaseFormatter.__call__\u001b[0;34m(self, obj)\u001b[0m\n\u001b[1;32m    342\u001b[0m     method \u001b[39m=\u001b[39m get_real_method(obj, \u001b[39mself\u001b[39m\u001b[39m.\u001b[39mprint_method)\n\u001b[1;32m    343\u001b[0m     \u001b[39mif\u001b[39;00m method \u001b[39mis\u001b[39;00m \u001b[39mnot\u001b[39;00m \u001b[39mNone\u001b[39;00m:\n\u001b[0;32m--> 344\u001b[0m         \u001b[39mreturn\u001b[39;00m method()\n\u001b[1;32m    345\u001b[0m     \u001b[39mreturn\u001b[39;00m \u001b[39mNone\u001b[39;00m\n\u001b[1;32m    346\u001b[0m \u001b[39melse\u001b[39;00m:\n",
      "File \u001b[0;32m~/Documents/CLE/Optique/Python/JUPYTER/MYLIB10/MODULES/physipy/physipy/quantity/quantity.py:428\u001b[0m, in \u001b[0;36mQuantity._repr_latex_\u001b[0;34m(self)\u001b[0m\n\u001b[1;32m    425\u001b[0m \u001b[39m# to set a favunit for display purpose\u001b[39;00m\n\u001b[1;32m    426\u001b[0m \u001b[39m# only change the favunit if not already defined\u001b[39;00m\n\u001b[1;32m    427\u001b[0m \u001b[39mif\u001b[39;00m q\u001b[39m.\u001b[39mfavunit \u001b[39mis\u001b[39;00m \u001b[39mNone\u001b[39;00m:\n\u001b[0;32m--> 428\u001b[0m     q\u001b[39m.\u001b[39mfavunit \u001b[39m=\u001b[39m \u001b[39mself\u001b[39;49m\u001b[39m.\u001b[39;49m_pick_smart_favunit()\n\u001b[1;32m    429\u001b[0m formatted_value \u001b[39m=\u001b[39m q\u001b[39m.\u001b[39m_format_value()\n\u001b[1;32m    430\u001b[0m complemented \u001b[39m=\u001b[39m q\u001b[39m.\u001b[39m_compute_complement_value()\n",
      "File \u001b[0;32m~/Documents/CLE/Optique/Python/JUPYTER/MYLIB10/MODULES/physipy/physipy/quantity/quantity.py:456\u001b[0m, in \u001b[0;36mQuantity._pick_smart_favunit\u001b[0;34m(self, array_to_scal)\u001b[0m\n\u001b[1;32m    453\u001b[0m \u001b[39mfrom\u001b[39;00m \u001b[39m.\u001b[39;00m\u001b[39m_units\u001b[39;00m \u001b[39mimport\u001b[39;00m units\n\u001b[1;32m    454\u001b[0m \u001b[39mfrom\u001b[39;00m \u001b[39m.\u001b[39;00m\u001b[39mutils\u001b[39;00m \u001b[39mimport\u001b[39;00m asqarray\n\u001b[1;32m    455\u001b[0m same_dim_unit_list \u001b[39m=\u001b[39m [\n\u001b[0;32m--> 456\u001b[0m     value \u001b[39mfor\u001b[39;00m value \u001b[39min\u001b[39;00m units\u001b[39m.\u001b[39mvalues() \u001b[39mif\u001b[39;00m \u001b[39mself\u001b[39m\u001b[39m.\u001b[39mdimension \u001b[39m==\u001b[39m value\u001b[39m.\u001b[39;49mdimension]\n\u001b[1;32m    457\u001b[0m \u001b[39m# if no unit with same dim already exists\u001b[39;00m\n\u001b[1;32m    458\u001b[0m \u001b[39mif\u001b[39;00m \u001b[39mlen\u001b[39m(same_dim_unit_list) \u001b[39m==\u001b[39m \u001b[39m0\u001b[39m:\n",
      "\u001b[0;31mAttributeError\u001b[0m: 'dict' object has no attribute 'dimension'"
     ]
    },
    {
     "data": {
      "text/plain": [
       "<Quantity : 4 m>"
      ]
     },
     "execution_count": 19,
     "metadata": {},
     "output_type": "execute_result"
    }
   ],
   "source": [
    "sq.values[4]"
   ]
  },
  {
   "cell_type": "code",
   "execution_count": null,
   "id": "18d63d7d-270b-4479-bca7-de7fd83b7245",
   "metadata": {},
   "outputs": [],
   "source": []
  },
  {
   "cell_type": "code",
   "execution_count": 20,
   "id": "c36d0512-0bfb-4f1c-9272-dabaa92547fa",
   "metadata": {},
   "outputs": [
    {
     "data": {
      "text/plain": [
       "0    2\n",
       "1    2\n",
       "2    2\n",
       "3    3\n",
       "4    4\n",
       "5    5\n",
       "6    5\n",
       "7    5\n",
       "8    5\n",
       "9    5\n",
       "dtype: int64"
      ]
     },
     "execution_count": 20,
     "metadata": {},
     "output_type": "execute_result"
    }
   ],
   "source": [
    "s.clip(2, 5)"
   ]
  },
  {
   "cell_type": "code",
   "execution_count": 21,
   "id": "7735b9ae-b41e-40c1-9798-5bf0023a9bb1",
   "metadata": {},
   "outputs": [
    {
     "data": {
      "text/plain": [
       "0    NaN\n",
       "1    NaN\n",
       "2    0.0\n",
       "3    1.0\n",
       "4    2.0\n",
       "5    3.0\n",
       "6    4.0\n",
       "7    5.0\n",
       "8    6.0\n",
       "9    7.0\n",
       "dtype: physipy[m]"
      ]
     },
     "execution_count": 21,
     "metadata": {},
     "output_type": "execute_result"
    }
   ],
   "source": [
    "sq.shift(2)"
   ]
  },
  {
   "cell_type": "code",
   "execution_count": 22,
   "id": "44f914ef-652a-49a1-808e-b15f34742b21",
   "metadata": {},
   "outputs": [
    {
     "name": "stdout",
     "output_type": "stream",
     "text": [
      "False\n",
      "False\n",
      "False\n",
      "True\n",
      "True\n",
      "True\n",
      "True\n"
     ]
    },
    {
     "name": "stderr",
     "output_type": "stream",
     "text": [
      "/Users/mocquin/Documents/CLE/Optique/Python/JUPYTER/MYLIB10/MODULES/physipy/physipy/quantity/quantity.py:760: UserWarning: The unit of the quantity is stripped for __array__\n",
      "  warnings.warn(f\"The unit of the quantity is stripped for {item}\")\n",
      "/Users/mocquin/Documents/CLE/Optique/Python/JUPYTER/MYLIB10/MODULES/physipy/physipy/quantity/quantity.py:760: UserWarning: The unit of the quantity is stripped for __array_struct__\n",
      "  warnings.warn(f\"The unit of the quantity is stripped for {item}\")\n",
      "/Users/mocquin/Documents/CLE/Optique/Python/JUPYTER/MYLIB10/MODULES/physipy/physipy/quantity/quantity.py:760: UserWarning: The unit of the quantity is stripped for __array__\n",
      "  warnings.warn(f\"The unit of the quantity is stripped for {item}\")\n",
      "/Users/mocquin/Documents/CLE/Optique/Python/JUPYTER/MYLIB10/MODULES/physipy/physipy/quantity/quantity.py:760: UserWarning: The unit of the quantity is stripped for __array_struct__\n",
      "  warnings.warn(f\"The unit of the quantity is stripped for {item}\")\n",
      "/Users/mocquin/Documents/CLE/Optique/Python/JUPYTER/MYLIB10/MODULES/physipy/physipy/quantity/quantity.py:760: UserWarning: The unit of the quantity is stripped for __array__\n",
      "  warnings.warn(f\"The unit of the quantity is stripped for {item}\")\n",
      "/Users/mocquin/Documents/CLE/Optique/Python/JUPYTER/MYLIB10/MODULES/physipy/physipy/quantity/quantity.py:760: UserWarning: The unit of the quantity is stripped for __array_struct__\n",
      "  warnings.warn(f\"The unit of the quantity is stripped for {item}\")\n"
     ]
    },
    {
     "ename": "DimensionError",
     "evalue": "Dimension error : dimensions of operands are no-dimension and L**2, and are differents (dimensionless vs area).",
     "output_type": "error",
     "traceback": [
      "\u001b[0;31m---------------------------------------------------------------------------\u001b[0m",
      "\u001b[0;31mDimensionError\u001b[0m                            Traceback (most recent call last)",
      "\u001b[1;32m/Users/mocquin/Documents/CLE/Optique/Python/JUPYTER/MYLIB10/MODULES/physipandas/docs/Tests.ipynb Cell 25\u001b[0m line \u001b[0;36m4\n\u001b[1;32m     <a href='vscode-notebook-cell:/Users/mocquin/Documents/CLE/Optique/Python/JUPYTER/MYLIB10/MODULES/physipandas/docs/Tests.ipynb#X33sZmlsZQ%3D%3D?line=43'>44</a>\u001b[0m exp \u001b[39m=\u001b[39m s\u001b[39m.\u001b[39mdot(s)\u001b[39m*\u001b[39mm\u001b[39m*\u001b[39m\u001b[39m*\u001b[39m\u001b[39m2\u001b[39m\n\u001b[1;32m     <a href='vscode-notebook-cell:/Users/mocquin/Documents/CLE/Optique/Python/JUPYTER/MYLIB10/MODULES/physipandas/docs/Tests.ipynb#X33sZmlsZQ%3D%3D?line=44'>45</a>\u001b[0m res \u001b[39m=\u001b[39m sq\u001b[39m.\u001b[39mdot(sq)\n\u001b[0;32m---> <a href='vscode-notebook-cell:/Users/mocquin/Documents/CLE/Optique/Python/JUPYTER/MYLIB10/MODULES/physipandas/docs/Tests.ipynb#X33sZmlsZQ%3D%3D?line=45'>46</a>\u001b[0m \u001b[39mprint\u001b[39m(\u001b[39m\"\u001b[39m\u001b[39mdot\u001b[39m\u001b[39m\"\u001b[39m, res\u001b[39m==\u001b[39;49mexp, \u001b[39mtype\u001b[39m(res), \u001b[39mtype\u001b[39m(exp))\n\u001b[1;32m     <a href='vscode-notebook-cell:/Users/mocquin/Documents/CLE/Optique/Python/JUPYTER/MYLIB10/MODULES/physipandas/docs/Tests.ipynb#X33sZmlsZQ%3D%3D?line=46'>47</a>\u001b[0m exp \u001b[39m=\u001b[39m s\u001b[39m.\u001b[39mdot(s)\u001b[39m*\u001b[39mm\n\u001b[1;32m     <a href='vscode-notebook-cell:/Users/mocquin/Documents/CLE/Optique/Python/JUPYTER/MYLIB10/MODULES/physipandas/docs/Tests.ipynb#X33sZmlsZQ%3D%3D?line=47'>48</a>\u001b[0m res \u001b[39m=\u001b[39m sq\u001b[39m.\u001b[39mdot(s)\n",
      "File \u001b[0;32m~/Documents/CLE/Optique/Python/JUPYTER/MYLIB10/MODULES/physipy/physipy/quantity/quantity.py:809\u001b[0m, in \u001b[0;36mQuantity.__array_ufunc__\u001b[0;34m(self, ufunc, method, *args, **kwargs)\u001b[0m\n\u001b[1;32m    796\u001b[0m \u001b[39m\u001b[39m\u001b[39m\"\"\"\u001b[39;00m\n\u001b[1;32m    797\u001b[0m \u001b[39mhttps://numpy.org/doc/1.18/user/basics.dispatch.html?highlight=array%20interface\u001b[39;00m\n\u001b[1;32m    798\u001b[0m \n\u001b[0;32m   (...)\u001b[0m\n\u001b[1;32m    806\u001b[0m \n\u001b[1;32m    807\u001b[0m \u001b[39m\"\"\"\u001b[39;00m\n\u001b[1;32m    808\u001b[0m \u001b[39mif\u001b[39;00m method \u001b[39m==\u001b[39m \u001b[39m\"\u001b[39m\u001b[39m__call__\u001b[39m\u001b[39m\"\u001b[39m:\n\u001b[0;32m--> 809\u001b[0m     \u001b[39mreturn\u001b[39;00m \u001b[39mself\u001b[39;49m\u001b[39m.\u001b[39;49m_ufunc_call(ufunc, method, \u001b[39m*\u001b[39;49margs, \u001b[39m*\u001b[39;49m\u001b[39m*\u001b[39;49mkwargs)\n\u001b[1;32m    810\u001b[0m \u001b[39melif\u001b[39;00m method \u001b[39m==\u001b[39m \u001b[39m\"\u001b[39m\u001b[39mreduce\u001b[39m\u001b[39m\"\u001b[39m:\n\u001b[1;32m    811\u001b[0m     \u001b[39mreturn\u001b[39;00m \u001b[39mself\u001b[39m\u001b[39m.\u001b[39m_ufunc_reduce(ufunc, method, \u001b[39m*\u001b[39margs, \u001b[39m*\u001b[39m\u001b[39m*\u001b[39mkwargs)\n",
      "File \u001b[0;32m~/Documents/CLE/Optique/Python/JUPYTER/MYLIB10/MODULES/physipy/physipy/quantity/quantity.py:945\u001b[0m, in \u001b[0;36mQuantity._ufunc_call\u001b[0;34m(self, ufunc, method, *args, **kwargs)\u001b[0m\n\u001b[1;32m    943\u001b[0m other \u001b[39m=\u001b[39m quantify(args[\u001b[39m1\u001b[39m])\n\u001b[1;32m    944\u001b[0m \u001b[39mif\u001b[39;00m \u001b[39mnot\u001b[39;00m left\u001b[39m.\u001b[39mdimension \u001b[39m==\u001b[39m other\u001b[39m.\u001b[39mdimension:\n\u001b[0;32m--> 945\u001b[0m     \u001b[39mraise\u001b[39;00m DimensionError(left\u001b[39m.\u001b[39mdimension, other\u001b[39m.\u001b[39mdimension)\n\u001b[1;32m    946\u001b[0m res \u001b[39m=\u001b[39m ufunc\u001b[39m.\u001b[39m\u001b[39m__call__\u001b[39m(left\u001b[39m.\u001b[39mvalue, other\u001b[39m.\u001b[39mvalue)\n\u001b[1;32m    947\u001b[0m \u001b[39mreturn\u001b[39;00m res\n",
      "\u001b[0;31mDimensionError\u001b[0m: Dimension error : dimensions of operands are no-dimension and L**2, and are differents (dimensionless vs area)."
     ]
    }
   ],
   "source": [
    "# add\n",
    "res = sq.add(1*m)\n",
    "exp = s.add(1)*m\n",
    "print(all(res==exp))\n",
    "\n",
    "res = sq.add(sq)\n",
    "exp = s.add(s)*m\n",
    "print(all(res==exp))\n",
    "\n",
    "res = sq.add(np.arange(10)*m)\n",
    "exp = s.add(np.arange(10))*m\n",
    "print(all(res==exp))\n",
    "\n",
    "# any\n",
    "exp = s.any()\n",
    "res = sq.any()\n",
    "print(res==exp)\n",
    "\n",
    "# append\n",
    "#exp = s.append(s)*m\n",
    "#res = sq.append(sq)\n",
    "#print(all(res==exp))\n",
    "\n",
    "# all elements are True\n",
    "res = s.all()\n",
    "exp = sq.all()\n",
    "print(res == exp)\n",
    "\n",
    "# position of max value\n",
    "res = s.argmax()\n",
    "exp = sq.argmax()\n",
    "print(res == exp)\n",
    "\n",
    "# position of min value\n",
    "res = s.argmin()\n",
    "exp = sq.argmin()\n",
    "print(res == exp)\n",
    "\n",
    "# autocorrelation\n",
    "# res = sq.autocorr()\n",
    "exp = s.autocorr()\n",
    "\n",
    "# dot\n",
    "exp = s.dot(s)*m**2\n",
    "res = sq.dot(sq)\n",
    "print(\"dot\", res==exp, type(res), type(exp))\n",
    "exp = s.dot(s)*m\n",
    "res = sq.dot(s)\n",
    "print(\"dot\", res==exp, type(res), type(exp))\n",
    "exp = s.dot(s)*m\n",
    "res = s.dot(sq)\n",
    "print(\"dot\", res==exp, type(res), type(exp))\n",
    "\n",
    "# drop\n",
    "exp = s.drop_duplicates()*m\n",
    "res = sq.drop_duplicates()\n",
    "print(\"drop_duplicates\", all(exp==res))\n",
    "\n",
    "# sort index\n",
    "res = s.argsort()\n",
    "exp = sq.argsort()\n",
    "print(all(res == exp))\n",
    "\n",
    "# clip\n",
    "res = sq.clip()\n",
    "exp = s.clip()*m\n",
    "print(all(res == exp))\n",
    "\n",
    "#res = sq.clip(3*m, 6*m)\n",
    "#exp = s.clip(3, 6)*m\n",
    "#print(all(res == exp))\n",
    "\n",
    "# correlation\n",
    "exp = s.corr(s)\n",
    "res = sq.corr(sq)\n",
    "print(res == exp)\n",
    "\n",
    "res = s.corr(sq)\n",
    "exp = s.corr(s)\n",
    "print(res == exp)\n",
    "\n",
    "# count\n",
    "res = sq.count()\n",
    "exp = s.count()\n",
    "print(res == exp)\n",
    "\n",
    "\n",
    "# covariance\n",
    "#res = sq.cov(sq)\n",
    "#exp = s.cov(s)\n",
    "#\n",
    "#res = sq.cov(s)\n",
    "#exp = s.cov(s)\n",
    "\n",
    "\n",
    "# cummax : rolling max\n",
    "# exp = s.cummax()*m\n",
    "# res = sq.cummax()\n",
    "\n",
    "# cummin : rolling min\n",
    "# exp = s.cummin()*m\n",
    "# res = sq.cummin()\n",
    "\n",
    "# cumprod : rolling prod\n",
    "# exp = Fails because would lead to dimension (m, m**2, ...) in an array\n",
    "# res = sq.cumprod()\n",
    "\n",
    "# cumsum : rolling sum\n",
    "# exp = s.cumsum()*m\n",
    "# res = sq.cumsum()\n",
    "\n",
    "\n",
    "#sq.diff()\n",
    "\n",
    "exp = s.eq(3)\n",
    "res = sq.eq(3*m)\n",
    "print(\"eq\", all(exp==res))\n",
    "\n",
    "exp = s.equals(s)\n",
    "res = sq.equals(sq)\n",
    "print(\"equals\", exp==res)\n",
    "exp = s.equals(s)\n",
    "res = sq.equals(s*m)\n",
    "print(exp==res) # fails because s*m returns a series of objects, not a QuantityArray\n",
    "\n",
    "\n",
    "exp = s.floordiv(2)*m\n",
    "res = sq.floordiv(2*m)\n",
    "print(\"floordiv\", all(exp==res))\n",
    "\n",
    "exp = s.ge(2)\n",
    "res = sq.ge(2*m)\n",
    "print(\"ge\", all(res==exp))\n",
    "\n",
    "exp = s.gt(2)\n",
    "res = sq.gt(2*m)\n",
    "print(\"gt\", all(res==exp))\n",
    "\n",
    "exp = s.iat[0]*m\n",
    "res = sq.iat[0]\n",
    "print(\"iat\", res==exp)\n",
    "\n",
    "exp = s.iat[0]*m\n",
    "res = sq.iat[0]\n",
    "print(\"iloc\", res==exp)\n",
    "\n",
    "\n",
    "res = sq.idxmax()\n",
    "exp = s.idxmax()\n",
    "print(\"idxmax\", res==exp)\n",
    "\n",
    "res = sq.idxmin()\n",
    "exp = s.idxmin()\n",
    "print(\"idxmin\", res==exp)\n",
    "\n",
    "res = sq.is_monotonic\n",
    "exp = s.is_monotonic\n",
    "print(\"is_monotonic\", res==exp)\n",
    "\n",
    "res = sq.is_monotonic_decreasing\n",
    "exp = s.is_monotonic_decreasing\n",
    "print(\"is_monotonic_decreasing\", res==exp)\n",
    "\n",
    "res = sq.is_monotonic_increasing\n",
    "exp = s.is_monotonic_increasing\n",
    "print(\"is_monotonic_increasing\", res==exp)\n",
    "\n",
    "res = sq.is_unique\n",
    "exp = s.is_unique\n",
    "print(\"is_unique\", res==exp)\n",
    "\n",
    "\n",
    "\n",
    "#exp = s.kurt()\n",
    "#res = sq.kurt()\n",
    "#print(res == exp)\n",
    "\n",
    "#exp = s.kurtosis()\n",
    "#res = sq.kurtosis()\n",
    "#print(res == exp)\n",
    "\n",
    "\n",
    "exp = s.le(2)\n",
    "res = sq.le(2*m)\n",
    "print(\"le\", all(res==exp))\n",
    "\n",
    "res = sq.loc[3:5]\n",
    "exp = s.loc[3:5]*m\n",
    "print(\"loc\", all(res==exp))\n",
    "\n",
    "exp = s.lt(2)\n",
    "res = sq.lt(2*m)\n",
    "print(\"lt\", all(res==exp))\n",
    "\n",
    "exp = s.mad()*m\n",
    "res = sq.mad()\n",
    "print(\"mad\", res == exp)\n",
    "\n",
    "\n",
    "exp = s.max()*m\n",
    "res = sq.max()\n",
    "print(\"max\", res == exp)\n",
    "\n",
    "\n",
    "exp = s.mean()*m\n",
    "res = sq.mean()\n",
    "print(\"mean\", res == exp)\n",
    "\n",
    "exp = s.median()*m\n",
    "res = sq.median()\n",
    "print(\"median\", res == exp)\n",
    "\n",
    "exp = s.min()*m\n",
    "res = sq.min()\n",
    "print(\"min\", res == exp)\n",
    "\n",
    "exp = s.mod(3)*m\n",
    "res = sq.mod(3*m)\n",
    "print(\"mod\", all(res==exp))\n",
    "\n",
    "\n",
    "#exp = s.mode(3)*m\n",
    "#res = sq.mode(3*m)\n",
    "#print(\"mode\", all(res==exp))\n",
    "\n",
    "exp = s.nunique()\n",
    "res = sq.nunique()\n",
    "print(\"nunique\", res==exp)\n",
    "\n",
    "\n",
    "#exp = s.nsmallest()\n",
    "#res = sq.nsmallest()\n",
    "#print(\"nsmallest\", exp==res)\n",
    "\n",
    "#exp = s.nlargest()*m\n",
    "#res = sq.nlargest()\n",
    "#print(\"nlargest\", exp==res)\n",
    "\n",
    "#exp = s.pct_change()\n",
    "#res = sq.pct_change()\n",
    "#print(\"pct_change\", res==exp)\n",
    "\n",
    "\n",
    "#scopy = s.copy()\n",
    "#exp = scopy.pop(5)\n",
    "#sq_copy = sq.copy()\n",
    "#res = sq_copy.pop(5*m)\n",
    "\n",
    "res = sq.pow(2)\n",
    "exp = s.pow(2)*m\n",
    "print(\"pow\", all(res==exp))\n",
    "\n",
    "\n",
    "res = sq.prod()\n",
    "exp = s.prod()*m**(len(s))\n",
    "print(\"prod\", res==exp)\n",
    "\n",
    "res = sq.product()\n",
    "exp = s.product()*m**(len(s))\n",
    "print(\"product\", res==exp)\n",
    "\n",
    "\n",
    "#res = sq.quantile()\n",
    "#exp = s.quantile()*m\n",
    "#print(\"percentile\", res==exp)\n",
    "\n",
    "\n",
    "#res = sq.radd(1*m)\n",
    "#exp = s.radd(1)*m\n",
    "#print(\"radd\", all(res==exp))\n",
    "res = sq.radd(sq)\n",
    "exp = s.radd(s)*m\n",
    "print(\"radd\", all(res==exp))\n",
    "\n",
    "\n",
    "res = sq.rank()\n",
    "exp = s.rank()\n",
    "print(\"rank\", all(res==exp))\n",
    "\n",
    "\n",
    "res = sq.ravel()\n",
    "exp = s.ravel()*m\n",
    "print(\"ravel\", all(res==exp))\n",
    "\n",
    "\n",
    "res = sq.rdiv(2)\n",
    "exp = s.rdiv(2)/m\n",
    "print(\"rdiv\", all(res==exp), type(res)==type(exp))\n",
    "\n",
    "#exp = s.repeat(2)*m\n",
    "#res = sq.repeat(2)\n",
    "#print(all(res==exp))\n",
    "\n",
    "#exp = s.round()*m\n",
    "#res = sq.round()\n",
    "#print(\"round\", all(res==exp))\n",
    "\n",
    "#exp = s.searchsorted(5)\n",
    "#res = sq.searchsorted(5*m)\n",
    "#print(\"searchsortd\", res==exp)\n",
    "\n",
    "#res = sq.sem()\n",
    "#exp = s.sem()\n",
    "#print(\"sem\", res==exp)\n",
    "\n",
    "#res = sq.shift()\n",
    "#exp = s.shif()*m\n",
    "#print('shift', all(res==exp))\n",
    "\n",
    "\n",
    "#res = sq.skew()\n",
    "#exp = s.skew()\n",
    "#print(\"skew\", res == exo)\n",
    "\n",
    "res = sq.sort_values()\n",
    "exp = s.sort_values()*m\n",
    "print(\"sort_values\", all(res==exp))\n",
    "\n",
    "res = sq.sort_index()\n",
    "exp = s.sort_index()*m\n",
    "print(\"sort_index\", all(res==exp))\n",
    "\n",
    "res = sq.std()\n",
    "exp = s.std()*m\n",
    "print(\"std\", res==exp)\n",
    "\n",
    "\n",
    "#res = sq.sum()\n",
    "#exp = s.sum()\n",
    "#print(\"sum\", res==exp)\n",
    "\n",
    "res = sq.tail()\n",
    "exp = s.tail()*m\n",
    "print(\"tail\", all(res==exp))\n",
    "\n",
    "\n",
    "res = sq.truncate(2, 8)\n",
    "exp = s.truncate(2, 8)*m\n",
    "print(\"truncate\", all(res==exp))\n",
    "\n",
    "\n",
    "res = sq.unique()\n",
    "exp = s.unique()*m\n",
    "print(\"unique\", all(res==exp))\n",
    "\n",
    "#res = sq.value_counts()\n",
    "#exp = s.value_counts()\n",
    "#print(\"value_counts\", res==exp)\n",
    "\n",
    "res = sq.var()\n",
    "exp = s.var()*m**2\n",
    "print(\"var\", res==exp)\n",
    "\n",
    "exp = s.xs(3)*m\n",
    "res = sq.xs(3)\n",
    "print(\"xs\", res==exp)\n",
    "\n",
    "#res = sq.where(sq>4*m)\n",
    "#exp = s.where(s>4)*m\n",
    "#print(\"where\", res==exp)\n",
    "\n",
    "# asbolute value\n",
    "res = sq.abs()\n",
    "exp = pd.Series(s.abs()*m, dtype='physipy[m]')\n",
    "print(\"abs\", all(res == exp))"
   ]
  },
  {
   "cell_type": "code",
   "execution_count": null,
   "id": "144682d8-b0a5-40b4-8d71-5003a9ac5da5",
   "metadata": {},
   "outputs": [],
   "source": []
  }
 ],
 "metadata": {
  "kernelspec": {
   "display_name": "Python 3 (ipykernel)",
   "language": "python",
   "name": "python3"
  },
  "language_info": {
   "codemirror_mode": {
    "name": "ipython",
    "version": 3
   },
   "file_extension": ".py",
   "mimetype": "text/x-python",
   "name": "python",
   "nbconvert_exporter": "python",
   "pygments_lexer": "ipython3",
   "version": "3.12.0"
  }
 },
 "nbformat": 4,
 "nbformat_minor": 5
}
