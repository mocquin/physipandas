{
 "cells": [
  {
   "cell_type": "code",
   "execution_count": 16,
   "id": "12e84c19-44b5-496c-b98f-a813f8b62f54",
   "metadata": {},
   "outputs": [],
   "source": [
    "import numpy as np\n",
    "import physipandas\n",
    "from physipy import m\n",
    "import pandas as pd"
   ]
  },
  {
   "cell_type": "code",
   "execution_count": 17,
   "id": "1f27fceb-c241-46ed-8a20-a393ee359504",
   "metadata": {},
   "outputs": [],
   "source": [
    "arr = np.arange(10)\n",
    "arr[0]=2\n",
    "qarr = arr*m\n",
    "s = pd.Series(arr)\n",
    "sq = pd.Series(qarr, dtype='physipy[m]')"
   ]
  },
  {
   "cell_type": "code",
   "execution_count": 18,
   "id": "66efb99c-a130-41f6-9194-207c5dc7b89f",
   "metadata": {},
   "outputs": [
    {
     "data": {
      "text/plain": [
       "pandas.core.series.Series"
      ]
     },
     "execution_count": 18,
     "metadata": {},
     "output_type": "execute_result"
    }
   ],
   "source": [
    "import numpy as np\n",
    "import pandas as pd\n",
    "s = pd.Series(np.arange(10))\n",
    "type(s.nsmallest(1))"
   ]
  },
  {
   "cell_type": "code",
   "execution_count": 22,
   "id": "5ce1b0d5-a8a4-4402-9adf-2ff04494f109",
   "metadata": {},
   "outputs": [
    {
     "data": {
      "text/plain": [
       "'1.3.0'"
      ]
     },
     "execution_count": 22,
     "metadata": {},
     "output_type": "execute_result"
    }
   ],
   "source": [
    "pd.__version__"
   ]
  },
  {
   "cell_type": "code",
   "execution_count": 21,
   "id": "d6b3d202-2623-4aee-9911-87f67f6882aa",
   "metadata": {},
   "outputs": [
    {
     "ename": "TypeError",
     "evalue": "Cannot use method 'nsmallest' with dtype physipy[m]",
     "output_type": "error",
     "traceback": [
      "\u001b[0;31m---------------------------------------------------------------------------\u001b[0m",
      "\u001b[0;31mTypeError\u001b[0m                                 Traceback (most recent call last)",
      "\u001b[0;32m/var/folders/5k/bf4syt7x1zjbhc6b28srzzym0000gn/T/ipykernel_72417/2048250381.py\u001b[0m in \u001b[0;36m<module>\u001b[0;34m\u001b[0m\n\u001b[1;32m      4\u001b[0m \u001b[0;32mimport\u001b[0m \u001b[0mpandas\u001b[0m \u001b[0;32mas\u001b[0m \u001b[0mpd\u001b[0m\u001b[0;34m\u001b[0m\u001b[0;34m\u001b[0m\u001b[0m\n\u001b[1;32m      5\u001b[0m \u001b[0msq\u001b[0m \u001b[0;34m=\u001b[0m \u001b[0mpd\u001b[0m\u001b[0;34m.\u001b[0m\u001b[0mSeries\u001b[0m\u001b[0;34m(\u001b[0m\u001b[0mnp\u001b[0m\u001b[0;34m.\u001b[0m\u001b[0marange\u001b[0m\u001b[0;34m(\u001b[0m\u001b[0;36m10\u001b[0m\u001b[0;34m)\u001b[0m\u001b[0;34m*\u001b[0m\u001b[0mm\u001b[0m\u001b[0;34m,\u001b[0m \u001b[0mdtype\u001b[0m\u001b[0;34m=\u001b[0m\u001b[0;34m'physipy[m]'\u001b[0m\u001b[0;34m)\u001b[0m\u001b[0;34m\u001b[0m\u001b[0;34m\u001b[0m\u001b[0m\n\u001b[0;32m----> 6\u001b[0;31m \u001b[0msq\u001b[0m\u001b[0;34m.\u001b[0m\u001b[0mnsmallest\u001b[0m\u001b[0;34m(\u001b[0m\u001b[0;36m1\u001b[0m\u001b[0;34m)\u001b[0m\u001b[0;34m\u001b[0m\u001b[0;34m\u001b[0m\u001b[0m\n\u001b[0m",
      "\u001b[0;32m/opt/anaconda3/lib/python3.8/site-packages/pandas/core/series.py\u001b[0m in \u001b[0;36mnsmallest\u001b[0;34m(self, n, keep)\u001b[0m\n\u001b[1;32m   3861\u001b[0m         \u001b[0mdtype\u001b[0m\u001b[0;34m:\u001b[0m \u001b[0mint64\u001b[0m\u001b[0;34m\u001b[0m\u001b[0;34m\u001b[0m\u001b[0m\n\u001b[1;32m   3862\u001b[0m         \"\"\"\n\u001b[0;32m-> 3863\u001b[0;31m         \u001b[0;32mreturn\u001b[0m \u001b[0malgorithms\u001b[0m\u001b[0;34m.\u001b[0m\u001b[0mSelectNSeries\u001b[0m\u001b[0;34m(\u001b[0m\u001b[0mself\u001b[0m\u001b[0;34m,\u001b[0m \u001b[0mn\u001b[0m\u001b[0;34m=\u001b[0m\u001b[0mn\u001b[0m\u001b[0;34m,\u001b[0m \u001b[0mkeep\u001b[0m\u001b[0;34m=\u001b[0m\u001b[0mkeep\u001b[0m\u001b[0;34m)\u001b[0m\u001b[0;34m.\u001b[0m\u001b[0mnsmallest\u001b[0m\u001b[0;34m(\u001b[0m\u001b[0;34m)\u001b[0m\u001b[0;34m\u001b[0m\u001b[0;34m\u001b[0m\u001b[0m\n\u001b[0m\u001b[1;32m   3864\u001b[0m \u001b[0;34m\u001b[0m\u001b[0m\n\u001b[1;32m   3865\u001b[0m     @doc(\n",
      "\u001b[0;32m/opt/anaconda3/lib/python3.8/site-packages/pandas/core/algorithms.py\u001b[0m in \u001b[0;36mnsmallest\u001b[0;34m(self)\u001b[0m\n\u001b[1;32m   1220\u001b[0m \u001b[0;34m\u001b[0m\u001b[0m\n\u001b[1;32m   1221\u001b[0m     \u001b[0;32mdef\u001b[0m \u001b[0mnsmallest\u001b[0m\u001b[0;34m(\u001b[0m\u001b[0mself\u001b[0m\u001b[0;34m)\u001b[0m\u001b[0;34m:\u001b[0m\u001b[0;34m\u001b[0m\u001b[0;34m\u001b[0m\u001b[0m\n\u001b[0;32m-> 1222\u001b[0;31m         \u001b[0;32mreturn\u001b[0m \u001b[0mself\u001b[0m\u001b[0;34m.\u001b[0m\u001b[0mcompute\u001b[0m\u001b[0;34m(\u001b[0m\u001b[0;34m\"nsmallest\"\u001b[0m\u001b[0;34m)\u001b[0m\u001b[0;34m\u001b[0m\u001b[0;34m\u001b[0m\u001b[0m\n\u001b[0m\u001b[1;32m   1223\u001b[0m \u001b[0;34m\u001b[0m\u001b[0m\n\u001b[1;32m   1224\u001b[0m     \u001b[0;34m@\u001b[0m\u001b[0mstaticmethod\u001b[0m\u001b[0;34m\u001b[0m\u001b[0;34m\u001b[0m\u001b[0m\n",
      "\u001b[0;32m/opt/anaconda3/lib/python3.8/site-packages/pandas/core/algorithms.py\u001b[0m in \u001b[0;36mcompute\u001b[0;34m(self, method)\u001b[0m\n\u001b[1;32m   1253\u001b[0m         \u001b[0mdtype\u001b[0m \u001b[0;34m=\u001b[0m \u001b[0mself\u001b[0m\u001b[0;34m.\u001b[0m\u001b[0mobj\u001b[0m\u001b[0;34m.\u001b[0m\u001b[0mdtype\u001b[0m\u001b[0;34m\u001b[0m\u001b[0;34m\u001b[0m\u001b[0m\n\u001b[1;32m   1254\u001b[0m         \u001b[0;32mif\u001b[0m \u001b[0;32mnot\u001b[0m \u001b[0mself\u001b[0m\u001b[0;34m.\u001b[0m\u001b[0mis_valid_dtype_n_method\u001b[0m\u001b[0;34m(\u001b[0m\u001b[0mdtype\u001b[0m\u001b[0;34m)\u001b[0m\u001b[0;34m:\u001b[0m\u001b[0;34m\u001b[0m\u001b[0;34m\u001b[0m\u001b[0m\n\u001b[0;32m-> 1255\u001b[0;31m             \u001b[0;32mraise\u001b[0m \u001b[0mTypeError\u001b[0m\u001b[0;34m(\u001b[0m\u001b[0;34mf\"Cannot use method '{method}' with dtype {dtype}\"\u001b[0m\u001b[0;34m)\u001b[0m\u001b[0;34m\u001b[0m\u001b[0;34m\u001b[0m\u001b[0m\n\u001b[0m\u001b[1;32m   1256\u001b[0m \u001b[0;34m\u001b[0m\u001b[0m\n\u001b[1;32m   1257\u001b[0m         \u001b[0;32mif\u001b[0m \u001b[0mn\u001b[0m \u001b[0;34m<=\u001b[0m \u001b[0;36m0\u001b[0m\u001b[0;34m:\u001b[0m\u001b[0;34m\u001b[0m\u001b[0;34m\u001b[0m\u001b[0m\n",
      "\u001b[0;31mTypeError\u001b[0m: Cannot use method 'nsmallest' with dtype physipy[m]"
     ]
    }
   ],
   "source": [
    "import numpy as np\n",
    "import physipandas\n",
    "from physipy import m\n",
    "import pandas as pd\n",
    "sq = pd.Series(np.arange(10)*m, dtype='physipy[m]')\n",
    "sq.nsmallest(1)"
   ]
  },
  {
   "cell_type": "code",
   "execution_count": 27,
   "id": "34e77295-c375-48a4-9401-fa131dd38e1a",
   "metadata": {},
   "outputs": [
    {
     "data": {
      "text/plain": [
       "physipy[m]"
      ]
     },
     "execution_count": 27,
     "metadata": {},
     "output_type": "execute_result"
    }
   ],
   "source": [
    "sq.dtype"
   ]
  },
  {
   "cell_type": "code",
   "execution_count": 28,
   "id": "6f1b2547-7723-41d1-9c12-db93121f7738",
   "metadata": {},
   "outputs": [
    {
     "data": {
      "text/plain": [
       "False"
      ]
     },
     "execution_count": 28,
     "metadata": {},
     "output_type": "execute_result"
    }
   ],
   "source": [
    "pd.core.dtypes.common.is_numeric_dtype(sq.dtype)"
   ]
  },
  {
   "cell_type": "code",
   "execution_count": 40,
   "id": "a78a3729-5059-413b-bdb8-b57192034920",
   "metadata": {},
   "outputs": [
    {
     "data": {
      "text/plain": [
       "False"
      ]
     },
     "execution_count": 40,
     "metadata": {},
     "output_type": "execute_result"
    }
   ],
   "source": [
    "isinstance(np.dtype(sq.dtype.type).type, np.number)"
   ]
  },
  {
   "cell_type": "code",
   "execution_count": 35,
   "id": "8dad8c9c-2460-4213-88b3-3b63151c2209",
   "metadata": {},
   "outputs": [
    {
     "data": {
      "text/plain": [
       "False"
      ]
     },
     "execution_count": 35,
     "metadata": {},
     "output_type": "execute_result"
    }
   ],
   "source": [
    "isinstance(np.dtype(sq.dtype.type), np.number)"
   ]
  },
  {
   "cell_type": "code",
   "execution_count": null,
   "id": "6e7fe2d9-8214-4b3f-b62f-3f5a6cf736de",
   "metadata": {},
   "outputs": [],
   "source": [
    "_is_dtype_type(\n",
    "        sq.dtype, classes_and_not_datetimelike(np.number, np.bool_)\n",
    "    )"
   ]
  },
  {
   "cell_type": "code",
   "execution_count": 30,
   "id": "eced05fd-6e70-4d70-b86c-5b549b54159a",
   "metadata": {},
   "outputs": [
    {
     "ename": "TypeError",
     "evalue": "Cannot interpret 'physipy[m]' as a data type",
     "output_type": "error",
     "traceback": [
      "\u001b[0;31m---------------------------------------------------------------------------\u001b[0m",
      "\u001b[0;31mTypeError\u001b[0m                                 Traceback (most recent call last)",
      "\u001b[0;32m/var/folders/5k/bf4syt7x1zjbhc6b28srzzym0000gn/T/ipykernel_72417/1998103169.py\u001b[0m in \u001b[0;36m<module>\u001b[0;34m\u001b[0m\n\u001b[0;32m----> 1\u001b[0;31m \u001b[0mnp\u001b[0m\u001b[0;34m.\u001b[0m\u001b[0mdtype\u001b[0m\u001b[0;34m(\u001b[0m\u001b[0msq\u001b[0m\u001b[0;34m.\u001b[0m\u001b[0mdtype\u001b[0m\u001b[0;34m)\u001b[0m\u001b[0;34m.\u001b[0m\u001b[0mtype\u001b[0m\u001b[0;34m\u001b[0m\u001b[0;34m\u001b[0m\u001b[0m\n\u001b[0m",
      "\u001b[0;31mTypeError\u001b[0m: Cannot interpret 'physipy[m]' as a data type"
     ]
    }
   ],
   "source": [
    "np.dtype(sq.dtype).type"
   ]
  },
  {
   "cell_type": "code",
   "execution_count": null,
   "id": "95385b58-0563-4d96-ab11-c227b3732b27",
   "metadata": {},
   "outputs": [],
   "source": [
    "lambda tipo: (\n",
    "        issubclass(tipo, (np.number, np.bool))\n",
    "        and not issubclass(tipo, (np.datetime64, np.timedelta64))\n",
    "    )"
   ]
  },
  {
   "cell_type": "code",
   "execution_count": null,
   "id": "35121da5-043b-492b-aebe-2e8fe93115b9",
   "metadata": {},
   "outputs": [],
   "source": [
    "is_numeric_dtype(dtype) and not is_complex_dtype(dtype)"
   ]
  },
  {
   "cell_type": "code",
   "execution_count": 11,
   "id": "46647b39-c36c-4d98-bd41-bd94cf597cab",
   "metadata": {},
   "outputs": [
    {
     "ename": "TypeError",
     "evalue": "Cannot use method 'nlargest' with dtype physipy[m]",
     "output_type": "error",
     "traceback": [
      "\u001b[0;31m---------------------------------------------------------------------------\u001b[0m",
      "\u001b[0;31mTypeError\u001b[0m                                 Traceback (most recent call last)",
      "\u001b[0;32m/var/folders/5k/bf4syt7x1zjbhc6b28srzzym0000gn/T/ipykernel_72417/1978530729.py\u001b[0m in \u001b[0;36m<module>\u001b[0;34m\u001b[0m\n\u001b[0;32m----> 1\u001b[0;31m \u001b[0msq\u001b[0m\u001b[0;34m.\u001b[0m\u001b[0mnlargest\u001b[0m\u001b[0;34m(\u001b[0m\u001b[0;34m)\u001b[0m\u001b[0;34m\u001b[0m\u001b[0;34m\u001b[0m\u001b[0m\n\u001b[0m",
      "\u001b[0;32m/opt/anaconda3/lib/python3.8/site-packages/pandas/core/series.py\u001b[0m in \u001b[0;36mnlargest\u001b[0;34m(self, n, keep)\u001b[0m\n\u001b[1;32m   3764\u001b[0m         \u001b[0mdtype\u001b[0m\u001b[0;34m:\u001b[0m \u001b[0mint64\u001b[0m\u001b[0;34m\u001b[0m\u001b[0;34m\u001b[0m\u001b[0m\n\u001b[1;32m   3765\u001b[0m         \"\"\"\n\u001b[0;32m-> 3766\u001b[0;31m         \u001b[0;32mreturn\u001b[0m \u001b[0malgorithms\u001b[0m\u001b[0;34m.\u001b[0m\u001b[0mSelectNSeries\u001b[0m\u001b[0;34m(\u001b[0m\u001b[0mself\u001b[0m\u001b[0;34m,\u001b[0m \u001b[0mn\u001b[0m\u001b[0;34m=\u001b[0m\u001b[0mn\u001b[0m\u001b[0;34m,\u001b[0m \u001b[0mkeep\u001b[0m\u001b[0;34m=\u001b[0m\u001b[0mkeep\u001b[0m\u001b[0;34m)\u001b[0m\u001b[0;34m.\u001b[0m\u001b[0mnlargest\u001b[0m\u001b[0;34m(\u001b[0m\u001b[0;34m)\u001b[0m\u001b[0;34m\u001b[0m\u001b[0;34m\u001b[0m\u001b[0m\n\u001b[0m\u001b[1;32m   3767\u001b[0m \u001b[0;34m\u001b[0m\u001b[0m\n\u001b[1;32m   3768\u001b[0m     \u001b[0;32mdef\u001b[0m \u001b[0mnsmallest\u001b[0m\u001b[0;34m(\u001b[0m\u001b[0mself\u001b[0m\u001b[0;34m,\u001b[0m \u001b[0mn\u001b[0m\u001b[0;34m:\u001b[0m \u001b[0mint\u001b[0m \u001b[0;34m=\u001b[0m \u001b[0;36m5\u001b[0m\u001b[0;34m,\u001b[0m \u001b[0mkeep\u001b[0m\u001b[0;34m:\u001b[0m \u001b[0mstr\u001b[0m \u001b[0;34m=\u001b[0m \u001b[0;34m\"first\"\u001b[0m\u001b[0;34m)\u001b[0m \u001b[0;34m->\u001b[0m \u001b[0mSeries\u001b[0m\u001b[0;34m:\u001b[0m\u001b[0;34m\u001b[0m\u001b[0;34m\u001b[0m\u001b[0m\n",
      "\u001b[0;32m/opt/anaconda3/lib/python3.8/site-packages/pandas/core/algorithms.py\u001b[0m in \u001b[0;36mnlargest\u001b[0;34m(self)\u001b[0m\n\u001b[1;32m   1217\u001b[0m \u001b[0;34m\u001b[0m\u001b[0m\n\u001b[1;32m   1218\u001b[0m     \u001b[0;32mdef\u001b[0m \u001b[0mnlargest\u001b[0m\u001b[0;34m(\u001b[0m\u001b[0mself\u001b[0m\u001b[0;34m)\u001b[0m\u001b[0;34m:\u001b[0m\u001b[0;34m\u001b[0m\u001b[0;34m\u001b[0m\u001b[0m\n\u001b[0;32m-> 1219\u001b[0;31m         \u001b[0;32mreturn\u001b[0m \u001b[0mself\u001b[0m\u001b[0;34m.\u001b[0m\u001b[0mcompute\u001b[0m\u001b[0;34m(\u001b[0m\u001b[0;34m\"nlargest\"\u001b[0m\u001b[0;34m)\u001b[0m\u001b[0;34m\u001b[0m\u001b[0;34m\u001b[0m\u001b[0m\n\u001b[0m\u001b[1;32m   1220\u001b[0m \u001b[0;34m\u001b[0m\u001b[0m\n\u001b[1;32m   1221\u001b[0m     \u001b[0;32mdef\u001b[0m \u001b[0mnsmallest\u001b[0m\u001b[0;34m(\u001b[0m\u001b[0mself\u001b[0m\u001b[0;34m)\u001b[0m\u001b[0;34m:\u001b[0m\u001b[0;34m\u001b[0m\u001b[0;34m\u001b[0m\u001b[0m\n",
      "\u001b[0;32m/opt/anaconda3/lib/python3.8/site-packages/pandas/core/algorithms.py\u001b[0m in \u001b[0;36mcompute\u001b[0;34m(self, method)\u001b[0m\n\u001b[1;32m   1253\u001b[0m         \u001b[0mdtype\u001b[0m \u001b[0;34m=\u001b[0m \u001b[0mself\u001b[0m\u001b[0;34m.\u001b[0m\u001b[0mobj\u001b[0m\u001b[0;34m.\u001b[0m\u001b[0mdtype\u001b[0m\u001b[0;34m\u001b[0m\u001b[0;34m\u001b[0m\u001b[0m\n\u001b[1;32m   1254\u001b[0m         \u001b[0;32mif\u001b[0m \u001b[0;32mnot\u001b[0m \u001b[0mself\u001b[0m\u001b[0;34m.\u001b[0m\u001b[0mis_valid_dtype_n_method\u001b[0m\u001b[0;34m(\u001b[0m\u001b[0mdtype\u001b[0m\u001b[0;34m)\u001b[0m\u001b[0;34m:\u001b[0m\u001b[0;34m\u001b[0m\u001b[0;34m\u001b[0m\u001b[0m\n\u001b[0;32m-> 1255\u001b[0;31m             \u001b[0;32mraise\u001b[0m \u001b[0mTypeError\u001b[0m\u001b[0;34m(\u001b[0m\u001b[0;34mf\"Cannot use method '{method}' with dtype {dtype}\"\u001b[0m\u001b[0;34m)\u001b[0m\u001b[0;34m\u001b[0m\u001b[0;34m\u001b[0m\u001b[0m\n\u001b[0m\u001b[1;32m   1256\u001b[0m \u001b[0;34m\u001b[0m\u001b[0m\n\u001b[1;32m   1257\u001b[0m         \u001b[0;32mif\u001b[0m \u001b[0mn\u001b[0m \u001b[0;34m<=\u001b[0m \u001b[0;36m0\u001b[0m\u001b[0;34m:\u001b[0m\u001b[0;34m\u001b[0m\u001b[0;34m\u001b[0m\u001b[0m\n",
      "\u001b[0;31mTypeError\u001b[0m: Cannot use method 'nlargest' with dtype physipy[m]"
     ]
    }
   ],
   "source": [
    "sq.nlargest()"
   ]
  },
  {
   "cell_type": "code",
   "execution_count": 7,
   "id": "d4563eb9-a085-4069-8d3d-f8e4281d1dbc",
   "metadata": {},
   "outputs": [
    {
     "data": {
      "text/latex": [
       "$4.0\\,m$"
      ],
      "text/plain": [
       "<Quantity : 4 m>"
      ]
     },
     "execution_count": 7,
     "metadata": {},
     "output_type": "execute_result"
    }
   ],
   "source": [
    "sq.values[4]"
   ]
  },
  {
   "cell_type": "code",
   "execution_count": null,
   "id": "18d63d7d-270b-4479-bca7-de7fd83b7245",
   "metadata": {},
   "outputs": [],
   "source": []
  },
  {
   "cell_type": "code",
   "execution_count": 18,
   "id": "c36d0512-0bfb-4f1c-9272-dabaa92547fa",
   "metadata": {},
   "outputs": [
    {
     "data": {
      "text/plain": [
       "0    2\n",
       "1    2\n",
       "2    2\n",
       "3    3\n",
       "4    4\n",
       "5    5\n",
       "6    5\n",
       "7    5\n",
       "8    5\n",
       "9    5\n",
       "dtype: int64"
      ]
     },
     "execution_count": 18,
     "metadata": {},
     "output_type": "execute_result"
    }
   ],
   "source": [
    "s.clip(2, 5)"
   ]
  },
  {
   "cell_type": "code",
   "execution_count": 8,
   "id": "7735b9ae-b41e-40c1-9798-5bf0023a9bb1",
   "metadata": {},
   "outputs": [
    {
     "name": "stdout",
     "output_type": "stream",
     "text": [
      "____ from sequence [nan nan] physipy[m]\n"
     ]
    },
    {
     "ename": "DimensionError",
     "evalue": "Dimension error : dimensions of operands are L and no-dimension, and are differents.",
     "output_type": "error",
     "traceback": [
      "\u001b[0;31m---------------------------------------------------------------------------\u001b[0m",
      "\u001b[0;31mDimensionError\u001b[0m                            Traceback (most recent call last)",
      "\u001b[0;32m/var/folders/5k/bf4syt7x1zjbhc6b28srzzym0000gn/T/ipykernel_66945/3788628590.py\u001b[0m in \u001b[0;36m<module>\u001b[0;34m\u001b[0m\n\u001b[0;32m----> 1\u001b[0;31m \u001b[0msq\u001b[0m\u001b[0;34m.\u001b[0m\u001b[0mshift\u001b[0m\u001b[0;34m(\u001b[0m\u001b[0;36m2\u001b[0m\u001b[0;34m)\u001b[0m\u001b[0;34m\u001b[0m\u001b[0;34m\u001b[0m\u001b[0m\n\u001b[0m",
      "\u001b[0;32m/opt/anaconda3/lib/python3.8/site-packages/pandas/core/series.py\u001b[0m in \u001b[0;36mshift\u001b[0;34m(self, periods, freq, axis, fill_value)\u001b[0m\n\u001b[1;32m   4902\u001b[0m     \u001b[0;34m@\u001b[0m\u001b[0mdoc\u001b[0m\u001b[0;34m(\u001b[0m\u001b[0mNDFrame\u001b[0m\u001b[0;34m.\u001b[0m\u001b[0mshift\u001b[0m\u001b[0;34m,\u001b[0m \u001b[0mklass\u001b[0m\u001b[0;34m=\u001b[0m\u001b[0m_shared_doc_kwargs\u001b[0m\u001b[0;34m[\u001b[0m\u001b[0;34m\"klass\"\u001b[0m\u001b[0;34m]\u001b[0m\u001b[0;34m)\u001b[0m  \u001b[0;31m# type: ignore[has-type]\u001b[0m\u001b[0;34m\u001b[0m\u001b[0;34m\u001b[0m\u001b[0m\n\u001b[1;32m   4903\u001b[0m     \u001b[0;32mdef\u001b[0m \u001b[0mshift\u001b[0m\u001b[0;34m(\u001b[0m\u001b[0mself\u001b[0m\u001b[0;34m,\u001b[0m \u001b[0mperiods\u001b[0m\u001b[0;34m=\u001b[0m\u001b[0;36m1\u001b[0m\u001b[0;34m,\u001b[0m \u001b[0mfreq\u001b[0m\u001b[0;34m=\u001b[0m\u001b[0;32mNone\u001b[0m\u001b[0;34m,\u001b[0m \u001b[0maxis\u001b[0m\u001b[0;34m=\u001b[0m\u001b[0;36m0\u001b[0m\u001b[0;34m,\u001b[0m \u001b[0mfill_value\u001b[0m\u001b[0;34m=\u001b[0m\u001b[0;32mNone\u001b[0m\u001b[0;34m)\u001b[0m \u001b[0;34m->\u001b[0m \u001b[0mSeries\u001b[0m\u001b[0;34m:\u001b[0m\u001b[0;34m\u001b[0m\u001b[0;34m\u001b[0m\u001b[0m\n\u001b[0;32m-> 4904\u001b[0;31m         return super().shift(\n\u001b[0m\u001b[1;32m   4905\u001b[0m             \u001b[0mperiods\u001b[0m\u001b[0;34m=\u001b[0m\u001b[0mperiods\u001b[0m\u001b[0;34m,\u001b[0m \u001b[0mfreq\u001b[0m\u001b[0;34m=\u001b[0m\u001b[0mfreq\u001b[0m\u001b[0;34m,\u001b[0m \u001b[0maxis\u001b[0m\u001b[0;34m=\u001b[0m\u001b[0maxis\u001b[0m\u001b[0;34m,\u001b[0m \u001b[0mfill_value\u001b[0m\u001b[0;34m=\u001b[0m\u001b[0mfill_value\u001b[0m\u001b[0;34m\u001b[0m\u001b[0;34m\u001b[0m\u001b[0m\n\u001b[1;32m   4906\u001b[0m         )\n",
      "\u001b[0;32m/opt/anaconda3/lib/python3.8/site-packages/pandas/core/generic.py\u001b[0m in \u001b[0;36mshift\u001b[0;34m(self, periods, freq, axis, fill_value)\u001b[0m\n\u001b[1;32m   9177\u001b[0m             \u001b[0;31m# when freq is None, data is shifted, index is not\u001b[0m\u001b[0;34m\u001b[0m\u001b[0;34m\u001b[0m\u001b[0;34m\u001b[0m\u001b[0m\n\u001b[1;32m   9178\u001b[0m             \u001b[0maxis\u001b[0m \u001b[0;34m=\u001b[0m \u001b[0mself\u001b[0m\u001b[0;34m.\u001b[0m\u001b[0m_get_axis_number\u001b[0m\u001b[0;34m(\u001b[0m\u001b[0maxis\u001b[0m\u001b[0;34m)\u001b[0m\u001b[0;34m\u001b[0m\u001b[0;34m\u001b[0m\u001b[0m\n\u001b[0;32m-> 9179\u001b[0;31m             new_data = self._mgr.shift(\n\u001b[0m\u001b[1;32m   9180\u001b[0m                 \u001b[0mperiods\u001b[0m\u001b[0;34m=\u001b[0m\u001b[0mperiods\u001b[0m\u001b[0;34m,\u001b[0m \u001b[0maxis\u001b[0m\u001b[0;34m=\u001b[0m\u001b[0maxis\u001b[0m\u001b[0;34m,\u001b[0m \u001b[0mfill_value\u001b[0m\u001b[0;34m=\u001b[0m\u001b[0mfill_value\u001b[0m\u001b[0;34m\u001b[0m\u001b[0;34m\u001b[0m\u001b[0m\n\u001b[1;32m   9181\u001b[0m             )\n",
      "\u001b[0;32m/opt/anaconda3/lib/python3.8/site-packages/pandas/core/internals/managers.py\u001b[0m in \u001b[0;36mshift\u001b[0;34m(self, periods, axis, fill_value)\u001b[0m\n\u001b[1;32m    401\u001b[0m             \u001b[0;32mreturn\u001b[0m \u001b[0mresult\u001b[0m\u001b[0;34m\u001b[0m\u001b[0;34m\u001b[0m\u001b[0m\n\u001b[1;32m    402\u001b[0m \u001b[0;34m\u001b[0m\u001b[0m\n\u001b[0;32m--> 403\u001b[0;31m         \u001b[0;32mreturn\u001b[0m \u001b[0mself\u001b[0m\u001b[0;34m.\u001b[0m\u001b[0mapply\u001b[0m\u001b[0;34m(\u001b[0m\u001b[0;34m\"shift\"\u001b[0m\u001b[0;34m,\u001b[0m \u001b[0mperiods\u001b[0m\u001b[0;34m=\u001b[0m\u001b[0mperiods\u001b[0m\u001b[0;34m,\u001b[0m \u001b[0maxis\u001b[0m\u001b[0;34m=\u001b[0m\u001b[0maxis\u001b[0m\u001b[0;34m,\u001b[0m \u001b[0mfill_value\u001b[0m\u001b[0;34m=\u001b[0m\u001b[0mfill_value\u001b[0m\u001b[0;34m)\u001b[0m\u001b[0;34m\u001b[0m\u001b[0;34m\u001b[0m\u001b[0m\n\u001b[0m\u001b[1;32m    404\u001b[0m \u001b[0;34m\u001b[0m\u001b[0m\n\u001b[1;32m    405\u001b[0m     \u001b[0;32mdef\u001b[0m \u001b[0mfillna\u001b[0m\u001b[0;34m(\u001b[0m\u001b[0mself\u001b[0m\u001b[0;34m:\u001b[0m \u001b[0mT\u001b[0m\u001b[0;34m,\u001b[0m \u001b[0mvalue\u001b[0m\u001b[0;34m,\u001b[0m \u001b[0mlimit\u001b[0m\u001b[0;34m,\u001b[0m \u001b[0minplace\u001b[0m\u001b[0;34m:\u001b[0m \u001b[0mbool\u001b[0m\u001b[0;34m,\u001b[0m \u001b[0mdowncast\u001b[0m\u001b[0;34m)\u001b[0m \u001b[0;34m->\u001b[0m \u001b[0mT\u001b[0m\u001b[0;34m:\u001b[0m\u001b[0;34m\u001b[0m\u001b[0;34m\u001b[0m\u001b[0m\n",
      "\u001b[0;32m/opt/anaconda3/lib/python3.8/site-packages/pandas/core/internals/managers.py\u001b[0m in \u001b[0;36mapply\u001b[0;34m(self, f, align_keys, ignore_failures, **kwargs)\u001b[0m\n\u001b[1;32m    325\u001b[0m                     \u001b[0mapplied\u001b[0m \u001b[0;34m=\u001b[0m \u001b[0mb\u001b[0m\u001b[0;34m.\u001b[0m\u001b[0mapply\u001b[0m\u001b[0;34m(\u001b[0m\u001b[0mf\u001b[0m\u001b[0;34m,\u001b[0m \u001b[0;34m**\u001b[0m\u001b[0mkwargs\u001b[0m\u001b[0;34m)\u001b[0m\u001b[0;34m\u001b[0m\u001b[0;34m\u001b[0m\u001b[0m\n\u001b[1;32m    326\u001b[0m                 \u001b[0;32melse\u001b[0m\u001b[0;34m:\u001b[0m\u001b[0;34m\u001b[0m\u001b[0;34m\u001b[0m\u001b[0m\n\u001b[0;32m--> 327\u001b[0;31m                     \u001b[0mapplied\u001b[0m \u001b[0;34m=\u001b[0m \u001b[0mgetattr\u001b[0m\u001b[0;34m(\u001b[0m\u001b[0mb\u001b[0m\u001b[0;34m,\u001b[0m \u001b[0mf\u001b[0m\u001b[0;34m)\u001b[0m\u001b[0;34m(\u001b[0m\u001b[0;34m**\u001b[0m\u001b[0mkwargs\u001b[0m\u001b[0;34m)\u001b[0m\u001b[0;34m\u001b[0m\u001b[0;34m\u001b[0m\u001b[0m\n\u001b[0m\u001b[1;32m    328\u001b[0m             \u001b[0;32mexcept\u001b[0m \u001b[0;34m(\u001b[0m\u001b[0mTypeError\u001b[0m\u001b[0;34m,\u001b[0m \u001b[0mNotImplementedError\u001b[0m\u001b[0;34m)\u001b[0m\u001b[0;34m:\u001b[0m\u001b[0;34m\u001b[0m\u001b[0;34m\u001b[0m\u001b[0m\n\u001b[1;32m    329\u001b[0m                 \u001b[0;32mif\u001b[0m \u001b[0;32mnot\u001b[0m \u001b[0mignore_failures\u001b[0m\u001b[0;34m:\u001b[0m\u001b[0;34m\u001b[0m\u001b[0;34m\u001b[0m\u001b[0m\n",
      "\u001b[0;32m/opt/anaconda3/lib/python3.8/site-packages/pandas/core/internals/blocks.py\u001b[0m in \u001b[0;36mshift\u001b[0;34m(self, periods, axis, fill_value)\u001b[0m\n\u001b[1;32m   1584\u001b[0m         \u001b[0mExtensionBlock\u001b[0m\u001b[0;34m.\u001b[0m\u001b[0;34m\u001b[0m\u001b[0;34m\u001b[0m\u001b[0m\n\u001b[1;32m   1585\u001b[0m         \"\"\"\n\u001b[0;32m-> 1586\u001b[0;31m         \u001b[0mnew_values\u001b[0m \u001b[0;34m=\u001b[0m \u001b[0mself\u001b[0m\u001b[0;34m.\u001b[0m\u001b[0mvalues\u001b[0m\u001b[0;34m.\u001b[0m\u001b[0mshift\u001b[0m\u001b[0;34m(\u001b[0m\u001b[0mperiods\u001b[0m\u001b[0;34m=\u001b[0m\u001b[0mperiods\u001b[0m\u001b[0;34m,\u001b[0m \u001b[0mfill_value\u001b[0m\u001b[0;34m=\u001b[0m\u001b[0mfill_value\u001b[0m\u001b[0;34m)\u001b[0m\u001b[0;34m\u001b[0m\u001b[0;34m\u001b[0m\u001b[0m\n\u001b[0m\u001b[1;32m   1587\u001b[0m         \u001b[0;32mreturn\u001b[0m \u001b[0;34m[\u001b[0m\u001b[0mself\u001b[0m\u001b[0;34m.\u001b[0m\u001b[0mmake_block_same_class\u001b[0m\u001b[0;34m(\u001b[0m\u001b[0mnew_values\u001b[0m\u001b[0;34m)\u001b[0m\u001b[0;34m]\u001b[0m\u001b[0;34m\u001b[0m\u001b[0;34m\u001b[0m\u001b[0m\n\u001b[1;32m   1588\u001b[0m \u001b[0;34m\u001b[0m\u001b[0m\n",
      "\u001b[0;32m/opt/anaconda3/lib/python3.8/site-packages/pandas/core/arrays/base.py\u001b[0m in \u001b[0;36mshift\u001b[0;34m(self, periods, fill_value)\u001b[0m\n\u001b[1;32m    786\u001b[0m             \u001b[0mfill_value\u001b[0m \u001b[0;34m=\u001b[0m \u001b[0mself\u001b[0m\u001b[0;34m.\u001b[0m\u001b[0mdtype\u001b[0m\u001b[0;34m.\u001b[0m\u001b[0mna_value\u001b[0m\u001b[0;34m\u001b[0m\u001b[0;34m\u001b[0m\u001b[0m\n\u001b[1;32m    787\u001b[0m \u001b[0;34m\u001b[0m\u001b[0m\n\u001b[0;32m--> 788\u001b[0;31m         empty = self._from_sequence(\n\u001b[0m\u001b[1;32m    789\u001b[0m             \u001b[0;34m[\u001b[0m\u001b[0mfill_value\u001b[0m\u001b[0;34m]\u001b[0m \u001b[0;34m*\u001b[0m \u001b[0mmin\u001b[0m\u001b[0;34m(\u001b[0m\u001b[0mabs\u001b[0m\u001b[0;34m(\u001b[0m\u001b[0mperiods\u001b[0m\u001b[0;34m)\u001b[0m\u001b[0;34m,\u001b[0m \u001b[0mlen\u001b[0m\u001b[0;34m(\u001b[0m\u001b[0mself\u001b[0m\u001b[0;34m)\u001b[0m\u001b[0;34m)\u001b[0m\u001b[0;34m,\u001b[0m \u001b[0mdtype\u001b[0m\u001b[0;34m=\u001b[0m\u001b[0mself\u001b[0m\u001b[0;34m.\u001b[0m\u001b[0mdtype\u001b[0m\u001b[0;34m\u001b[0m\u001b[0;34m\u001b[0m\u001b[0m\n\u001b[1;32m    790\u001b[0m         )\n",
      "\u001b[0;32m~/MYLIB10/MODULES/physipandas/physipandas/extension.py\u001b[0m in \u001b[0;36m_from_sequence\u001b[0;34m(cls, scalars, dtype, copy)\u001b[0m\n\u001b[1;32m    354\u001b[0m         \u001b[0;32mif\u001b[0m \u001b[0mdtype\u001b[0m \u001b[0;32mis\u001b[0m \u001b[0;32mNone\u001b[0m \u001b[0;32mand\u001b[0m \u001b[0misinstance\u001b[0m\u001b[0;34m(\u001b[0m\u001b[0mvalues\u001b[0m\u001b[0;34m,\u001b[0m \u001b[0mQuantity\u001b[0m\u001b[0;34m)\u001b[0m\u001b[0;34m:\u001b[0m\u001b[0;34m\u001b[0m\u001b[0;34m\u001b[0m\u001b[0m\n\u001b[1;32m    355\u001b[0m             \u001b[0mdtype\u001b[0m \u001b[0;34m=\u001b[0m \u001b[0mQuantityDtype\u001b[0m\u001b[0;34m(\u001b[0m\u001b[0mvalues\u001b[0m\u001b[0;34m)\u001b[0m\u001b[0;34m\u001b[0m\u001b[0;34m\u001b[0m\u001b[0m\n\u001b[0;32m--> 356\u001b[0;31m         \u001b[0;32mreturn\u001b[0m \u001b[0mcls\u001b[0m\u001b[0;34m(\u001b[0m\u001b[0mvalues\u001b[0m\u001b[0;34m,\u001b[0m \u001b[0mdtype\u001b[0m\u001b[0;34m=\u001b[0m\u001b[0mdtype\u001b[0m\u001b[0;34m)\u001b[0m\u001b[0;34m\u001b[0m\u001b[0;34m\u001b[0m\u001b[0m\n\u001b[0m\u001b[1;32m    357\u001b[0m \u001b[0;34m\u001b[0m\u001b[0m\n\u001b[1;32m    358\u001b[0m \u001b[0;34m\u001b[0m\u001b[0m\n",
      "\u001b[0;32m~/MYLIB10/MODULES/physipandas/physipandas/extension.py\u001b[0m in \u001b[0;36m__init__\u001b[0;34m(self, values, dtype, copy)\u001b[0m\n\u001b[1;32m    280\u001b[0m             \u001b[0;32mif\u001b[0m \u001b[0misinstance\u001b[0m\u001b[0;34m(\u001b[0m\u001b[0mdtype\u001b[0m\u001b[0;34m,\u001b[0m \u001b[0mQuantityDtype\u001b[0m\u001b[0;34m)\u001b[0m \u001b[0;32mor\u001b[0m \u001b[0misinstance\u001b[0m\u001b[0;34m(\u001b[0m\u001b[0mdtype\u001b[0m\u001b[0;34m,\u001b[0m \u001b[0mQuantity\u001b[0m\u001b[0;34m)\u001b[0m\u001b[0;34m:\u001b[0m\u001b[0;34m\u001b[0m\u001b[0;34m\u001b[0m\u001b[0m\n\u001b[1;32m    281\u001b[0m                 \u001b[0;32mif\u001b[0m \u001b[0mdtype\u001b[0m\u001b[0;34m.\u001b[0m\u001b[0mdimension\u001b[0m \u001b[0;34m!=\u001b[0m \u001b[0mvalues\u001b[0m\u001b[0;34m.\u001b[0m\u001b[0mdimension\u001b[0m\u001b[0;34m:\u001b[0m\u001b[0;34m\u001b[0m\u001b[0;34m\u001b[0m\u001b[0m\n\u001b[0;32m--> 282\u001b[0;31m                     \u001b[0;32mraise\u001b[0m \u001b[0mDimensionError\u001b[0m\u001b[0;34m(\u001b[0m\u001b[0mdtype\u001b[0m\u001b[0;34m.\u001b[0m\u001b[0mdimension\u001b[0m\u001b[0;34m,\u001b[0m \u001b[0mvalues\u001b[0m\u001b[0;34m.\u001b[0m\u001b[0mdimension\u001b[0m\u001b[0;34m)\u001b[0m\u001b[0;34m\u001b[0m\u001b[0;34m\u001b[0m\u001b[0m\n\u001b[0m\u001b[1;32m    283\u001b[0m             \u001b[0mdtype\u001b[0m \u001b[0;34m=\u001b[0m \u001b[0mQuantityDtype\u001b[0m\u001b[0;34m(\u001b[0m\u001b[0mvalues\u001b[0m\u001b[0;34m.\u001b[0m\u001b[0m_SI_unitary_quantity\u001b[0m\u001b[0;34m)\u001b[0m\u001b[0;34m\u001b[0m\u001b[0;34m\u001b[0m\u001b[0m\n\u001b[1;32m    284\u001b[0m         \u001b[0mself\u001b[0m\u001b[0;34m.\u001b[0m\u001b[0m_dtype\u001b[0m \u001b[0;34m=\u001b[0m \u001b[0mdtype\u001b[0m\u001b[0;34m\u001b[0m\u001b[0;34m\u001b[0m\u001b[0m\n",
      "\u001b[0;31mDimensionError\u001b[0m: Dimension error : dimensions of operands are L and no-dimension, and are differents."
     ]
    }
   ],
   "source": [
    "sq.shift(2)"
   ]
  },
  {
   "cell_type": "code",
   "execution_count": 6,
   "id": "44f914ef-652a-49a1-808e-b15f34742b21",
   "metadata": {},
   "outputs": [
    {
     "name": "stdout",
     "output_type": "stream",
     "text": [
      "True\n",
      "True\n",
      "True\n",
      "True\n",
      "True\n",
      "True\n",
      "True\n",
      "dot False <class 'numpy.int64'> <class 'physipy.quantity.quantity.Quantity'>\n",
      "dot False <class 'numpy.int64'> <class 'physipy.quantity.quantity.Quantity'>\n",
      "dot False <class 'numpy.int64'> <class 'physipy.quantity.quantity.Quantity'>\n",
      "drop_duplicates True\n",
      "True\n",
      "True\n",
      "True\n",
      "True\n",
      "True\n",
      "eq True\n",
      "equals True\n",
      "False\n",
      "floordiv True\n",
      "ge True\n",
      "gt True\n",
      "iat True\n",
      "iloc True\n",
      "idxmax True\n",
      "idxmin True\n",
      "is_monotonic True\n",
      "is_monotonic_decreasing True\n",
      "is_monotonic_increasing True\n",
      "is_unique True\n",
      "le True\n",
      "loc True\n",
      "lt True\n",
      "mad False\n",
      "max True\n",
      "mean True\n",
      "median True\n",
      "min True\n",
      "mod True\n",
      "nunique True\n",
      "pow False\n",
      "prod True\n",
      "product True\n",
      "radd True\n",
      "rank True\n",
      "ravel True\n",
      "rdiv True True\n",
      "sort_values True\n",
      "sort_index True\n",
      "std False\n",
      "tail True\n",
      "truncate True\n",
      "unique True\n",
      "var False\n",
      "xs True\n",
      "abs True\n"
     ]
    },
    {
     "name": "stderr",
     "output_type": "stream",
     "text": [
      "/Users/mocquin/MYLIB10/MODULES/physipy/physipy/quantity/quantity.py:669: UserWarning: The unit of the quantity is stripped.\n",
      "  warnings.warn(\"The unit of the quantity is stripped.\")\n",
      "/var/folders/5k/bf4syt7x1zjbhc6b28srzzym0000gn/T/ipykernel_63393/1865889788.py:52: DeprecationWarning: elementwise comparison failed; this will raise an error in the future.\n",
      "  print(\"dot\", res==exp, type(res), type(exp))\n",
      "/var/folders/5k/bf4syt7x1zjbhc6b28srzzym0000gn/T/ipykernel_63393/1865889788.py:55: DeprecationWarning: elementwise comparison failed; this will raise an error in the future.\n",
      "  print(\"dot\", res==exp, type(res), type(exp))\n",
      "/var/folders/5k/bf4syt7x1zjbhc6b28srzzym0000gn/T/ipykernel_63393/1865889788.py:58: DeprecationWarning: elementwise comparison failed; this will raise an error in the future.\n",
      "  print(\"dot\", res==exp, type(res), type(exp))\n"
     ]
    }
   ],
   "source": [
    "# add\n",
    "res = sq.add(1*m)\n",
    "exp = s.add(1)*m\n",
    "print(all(res==exp))\n",
    "\n",
    "res = sq.add(sq)\n",
    "exp = s.add(s)*m\n",
    "print(all(res==exp))\n",
    "\n",
    "res = sq.add(np.arange(10)*m)\n",
    "exp = s.add(np.arange(10))*m\n",
    "print(all(res==exp))\n",
    "\n",
    "# any\n",
    "exp = s.any()\n",
    "res = sq.any()\n",
    "print(res==exp)\n",
    "\n",
    "# append\n",
    "#exp = s.append(s)*m\n",
    "#res = sq.append(sq)\n",
    "#print(all(res==exp))\n",
    "\n",
    "# all elements are True\n",
    "res = s.all()\n",
    "exp = sq.all()\n",
    "print(res == exp)\n",
    "\n",
    "# position of max value\n",
    "res = s.argmax()\n",
    "exp = sq.argmax()\n",
    "print(res == exp)\n",
    "\n",
    "# position of min value\n",
    "res = s.argmin()\n",
    "exp = sq.argmin()\n",
    "print(res == exp)\n",
    "\n",
    "# autocorrelation\n",
    "# res = sq.autocorr()\n",
    "exp = s.autocorr()\n",
    "\n",
    "# dot\n",
    "exp = s.dot(s)*m**2\n",
    "res = sq.dot(sq)\n",
    "print(\"dot\", res==exp, type(res), type(exp))\n",
    "exp = s.dot(s)*m\n",
    "res = sq.dot(s)\n",
    "print(\"dot\", res==exp, type(res), type(exp))\n",
    "exp = s.dot(s)*m\n",
    "res = s.dot(sq)\n",
    "print(\"dot\", res==exp, type(res), type(exp))\n",
    "\n",
    "# drop\n",
    "exp = s.drop_duplicates()*m\n",
    "res = sq.drop_duplicates()\n",
    "print(\"drop_duplicates\", all(exp==res))\n",
    "\n",
    "# sort index\n",
    "res = s.argsort()\n",
    "exp = sq.argsort()\n",
    "print(all(res == exp))\n",
    "\n",
    "# clip\n",
    "res = sq.clip()\n",
    "exp = s.clip()*m\n",
    "print(all(res == exp))\n",
    "\n",
    "#res = sq.clip(3*m, 6*m)\n",
    "#exp = s.clip(3, 6)*m\n",
    "#print(all(res == exp))\n",
    "\n",
    "# correlation\n",
    "exp = s.corr(s)\n",
    "res = sq.corr(sq)\n",
    "print(res == exp)\n",
    "\n",
    "res = s.corr(sq)\n",
    "exp = s.corr(s)\n",
    "print(res == exp)\n",
    "\n",
    "# count\n",
    "res = sq.count()\n",
    "exp = s.count()\n",
    "print(res == exp)\n",
    "\n",
    "\n",
    "# covariance\n",
    "#res = sq.cov(sq)\n",
    "#exp = s.cov(s)\n",
    "#\n",
    "#res = sq.cov(s)\n",
    "#exp = s.cov(s)\n",
    "\n",
    "\n",
    "# cummax : rolling max\n",
    "# exp = s.cummax()*m\n",
    "# res = sq.cummax()\n",
    "\n",
    "# cummin : rolling min\n",
    "# exp = s.cummin()*m\n",
    "# res = sq.cummin()\n",
    "\n",
    "# cumprod : rolling prod\n",
    "# exp = Fails because would lead to dimension (m, m**2, ...) in an array\n",
    "# res = sq.cumprod()\n",
    "\n",
    "# cumsum : rolling sum\n",
    "# exp = s.cumsum()*m\n",
    "# res = sq.cumsum()\n",
    "\n",
    "\n",
    "#sq.diff()\n",
    "\n",
    "exp = s.eq(3)\n",
    "res = sq.eq(3*m)\n",
    "print(\"eq\", all(exp==res))\n",
    "\n",
    "exp = s.equals(s)\n",
    "res = sq.equals(sq)\n",
    "print(\"equals\", exp==res)\n",
    "exp = s.equals(s)\n",
    "res = sq.equals(s*m)\n",
    "print(exp==res) # fails because s*m returns a series of objects, not a QuantityArray\n",
    "\n",
    "\n",
    "exp = s.floordiv(2)*m\n",
    "res = sq.floordiv(2*m)\n",
    "print(\"floordiv\", all(exp==res))\n",
    "\n",
    "exp = s.ge(2)\n",
    "res = sq.ge(2*m)\n",
    "print(\"ge\", all(res==exp))\n",
    "\n",
    "exp = s.gt(2)\n",
    "res = sq.gt(2*m)\n",
    "print(\"gt\", all(res==exp))\n",
    "\n",
    "exp = s.iat[0]*m\n",
    "res = sq.iat[0]\n",
    "print(\"iat\", res==exp)\n",
    "\n",
    "exp = s.iat[0]*m\n",
    "res = sq.iat[0]\n",
    "print(\"iloc\", res==exp)\n",
    "\n",
    "\n",
    "res = sq.idxmax()\n",
    "exp = s.idxmax()\n",
    "print(\"idxmax\", res==exp)\n",
    "\n",
    "res = sq.idxmin()\n",
    "exp = s.idxmin()\n",
    "print(\"idxmin\", res==exp)\n",
    "\n",
    "res = sq.is_monotonic\n",
    "exp = s.is_monotonic\n",
    "print(\"is_monotonic\", res==exp)\n",
    "\n",
    "res = sq.is_monotonic_decreasing\n",
    "exp = s.is_monotonic_decreasing\n",
    "print(\"is_monotonic_decreasing\", res==exp)\n",
    "\n",
    "res = sq.is_monotonic_increasing\n",
    "exp = s.is_monotonic_increasing\n",
    "print(\"is_monotonic_increasing\", res==exp)\n",
    "\n",
    "res = sq.is_unique\n",
    "exp = s.is_unique\n",
    "print(\"is_unique\", res==exp)\n",
    "\n",
    "\n",
    "\n",
    "#exp = s.kurt()\n",
    "#res = sq.kurt()\n",
    "#print(res == exp)\n",
    "\n",
    "#exp = s.kurtosis()\n",
    "#res = sq.kurtosis()\n",
    "#print(res == exp)\n",
    "\n",
    "\n",
    "exp = s.le(2)\n",
    "res = sq.le(2*m)\n",
    "print(\"le\", all(res==exp))\n",
    "\n",
    "res = sq.loc[3:5]\n",
    "exp = s.loc[3:5]*m\n",
    "print(\"loc\", all(res==exp))\n",
    "\n",
    "exp = s.lt(2)\n",
    "res = sq.lt(2*m)\n",
    "print(\"lt\", all(res==exp))\n",
    "\n",
    "exp = s.mad()*m\n",
    "res = sq.mad()\n",
    "print(\"mad\", res == exp)\n",
    "\n",
    "\n",
    "exp = s.max()*m\n",
    "res = sq.max()\n",
    "print(\"max\", res == exp)\n",
    "\n",
    "\n",
    "exp = s.mean()*m\n",
    "res = sq.mean()\n",
    "print(\"mean\", res == exp)\n",
    "\n",
    "exp = s.median()*m\n",
    "res = sq.median()\n",
    "print(\"median\", res == exp)\n",
    "\n",
    "exp = s.min()*m\n",
    "res = sq.min()\n",
    "print(\"min\", res == exp)\n",
    "\n",
    "exp = s.mod(3)*m\n",
    "res = sq.mod(3*m)\n",
    "print(\"mod\", all(res==exp))\n",
    "\n",
    "\n",
    "#exp = s.mode(3)*m\n",
    "#res = sq.mode(3*m)\n",
    "#print(\"mode\", all(res==exp))\n",
    "\n",
    "exp = s.nunique()\n",
    "res = sq.nunique()\n",
    "print(\"nunique\", res==exp)\n",
    "\n",
    "\n",
    "#exp = s.nsmallest()\n",
    "#res = sq.nsmallest()\n",
    "#print(\"nsmallest\", exp==res)\n",
    "\n",
    "#exp = s.nlargest()*m\n",
    "#res = sq.nlargest()\n",
    "#print(\"nlargest\", exp==res)\n",
    "\n",
    "#exp = s.pct_change()\n",
    "#res = sq.pct_change()\n",
    "#print(\"pct_change\", res==exp)\n",
    "\n",
    "\n",
    "#scopy = s.copy()\n",
    "#exp = scopy.pop(5)\n",
    "#sq_copy = sq.copy()\n",
    "#res = sq_copy.pop(5*m)\n",
    "\n",
    "res = sq.pow(2)\n",
    "exp = s.pow(2)*m\n",
    "print(\"pow\", all(res==exp))\n",
    "\n",
    "\n",
    "res = sq.prod()\n",
    "exp = s.prod()*m**(len(s))\n",
    "print(\"prod\", res==exp)\n",
    "\n",
    "res = sq.product()\n",
    "exp = s.product()*m**(len(s))\n",
    "print(\"product\", res==exp)\n",
    "\n",
    "\n",
    "#res = sq.quantile()\n",
    "#exp = s.quantile()*m\n",
    "#print(\"percentile\", res==exp)\n",
    "\n",
    "\n",
    "#res = sq.radd(1*m)\n",
    "#exp = s.radd(1)*m\n",
    "#print(\"radd\", all(res==exp))\n",
    "res = sq.radd(sq)\n",
    "exp = s.radd(s)*m\n",
    "print(\"radd\", all(res==exp))\n",
    "\n",
    "\n",
    "res = sq.rank()\n",
    "exp = s.rank()\n",
    "print(\"rank\", all(res==exp))\n",
    "\n",
    "\n",
    "res = sq.ravel()\n",
    "exp = s.ravel()*m\n",
    "print(\"ravel\", all(res==exp))\n",
    "\n",
    "\n",
    "res = sq.rdiv(2)\n",
    "exp = s.rdiv(2)/m\n",
    "print(\"rdiv\", all(res==exp), type(res)==type(exp))\n",
    "\n",
    "#exp = s.repeat(2)*m\n",
    "#res = sq.repeat(2)\n",
    "#print(all(res==exp))\n",
    "\n",
    "#exp = s.round()*m\n",
    "#res = sq.round()\n",
    "#print(\"round\", all(res==exp))\n",
    "\n",
    "#exp = s.searchsorted(5)\n",
    "#res = sq.searchsorted(5*m)\n",
    "#print(\"searchsortd\", res==exp)\n",
    "\n",
    "#res = sq.sem()\n",
    "#exp = s.sem()\n",
    "#print(\"sem\", res==exp)\n",
    "\n",
    "#res = sq.shift()\n",
    "#exp = s.shif()*m\n",
    "#print('shift', all(res==exp))\n",
    "\n",
    "\n",
    "#res = sq.skew()\n",
    "#exp = s.skew()\n",
    "#print(\"skew\", res == exo)\n",
    "\n",
    "res = sq.sort_values()\n",
    "exp = s.sort_values()*m\n",
    "print(\"sort_values\", all(res==exp))\n",
    "\n",
    "res = sq.sort_index()\n",
    "exp = s.sort_index()*m\n",
    "print(\"sort_index\", all(res==exp))\n",
    "\n",
    "res = sq.std()\n",
    "exp = s.std()*m\n",
    "print(\"std\", res==exp)\n",
    "\n",
    "\n",
    "#res = sq.sum()\n",
    "#exp = s.sum()\n",
    "#print(\"sum\", res==exp)\n",
    "\n",
    "res = sq.tail()\n",
    "exp = s.tail()*m\n",
    "print(\"tail\", all(res==exp))\n",
    "\n",
    "\n",
    "res = sq.truncate(2, 8)\n",
    "exp = s.truncate(2, 8)*m\n",
    "print(\"truncate\", all(res==exp))\n",
    "\n",
    "\n",
    "res = sq.unique()\n",
    "exp = s.unique()*m\n",
    "print(\"unique\", all(res==exp))\n",
    "\n",
    "#res = sq.value_counts()\n",
    "#exp = s.value_counts()\n",
    "#print(\"value_counts\", res==exp)\n",
    "\n",
    "res = sq.var()\n",
    "exp = s.var()*m**2\n",
    "print(\"var\", res==exp)\n",
    "\n",
    "exp = s.xs(3)*m\n",
    "res = sq.xs(3)\n",
    "print(\"xs\", res==exp)\n",
    "\n",
    "#res = sq.where(sq>4*m)\n",
    "#exp = s.where(s>4)*m\n",
    "#print(\"where\", res==exp)\n",
    "\n",
    "# asbolute value\n",
    "res = sq.abs()\n",
    "exp = pd.Series(s.abs()*m, dtype='physipy[m]')\n",
    "print(\"abs\", all(res == exp))"
   ]
  },
  {
   "cell_type": "code",
   "execution_count": null,
   "id": "144682d8-b0a5-40b4-8d71-5003a9ac5da5",
   "metadata": {},
   "outputs": [],
   "source": []
  }
 ],
 "metadata": {
  "kernelspec": {
   "display_name": "Python 3 (ipykernel)",
   "language": "python",
   "name": "python3"
  },
  "language_info": {
   "codemirror_mode": {
    "name": "ipython",
    "version": 3
   },
   "file_extension": ".py",
   "mimetype": "text/x-python",
   "name": "python",
   "nbconvert_exporter": "python",
   "pygments_lexer": "ipython3",
   "version": "3.9.7"
  }
 },
 "nbformat": 4,
 "nbformat_minor": 5
}
