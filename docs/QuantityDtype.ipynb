{
 "cells": [
  {
   "cell_type": "code",
   "execution_count": 4,
   "id": "dd82af6e-c798-4dd9-a470-9f9635e3e246",
   "metadata": {},
   "outputs": [],
   "source": [
    "from physipandas import QuantityDtype\n",
    "from physipy import m"
   ]
  },
  {
   "cell_type": "markdown",
   "id": "48902ce7",
   "metadata": {},
   "source": [
    "# Introduction to QuantityDtype\n",
    "The QuantityDtype is a parametrizable dtype. It can be created from the following ways:"
   ]
  },
  {
   "cell_type": "code",
   "execution_count": 6,
   "id": "e08c464e",
   "metadata": {},
   "outputs": [
    {
     "name": "stdout",
     "output_type": "stream",
     "text": [
      "physipy[]\n",
      "physipy[]\n",
      "physipy[m]\n",
      "physipy[m]\n",
      "physipy[m]\n"
     ]
    }
   ],
   "source": [
    "print(QuantityDtype()) # from nothing: dimension-less quantity dtype\n",
    "print(QuantityDtype(\"physipy[]\"))  # from a string formatted as 'physipy[X]', \n",
    "print(QuantityDtype(\"physipy[m]\")) # where X is the str representation of a unit in physipy.units\n",
    "print(QuantityDtype(m)) # from a Quantity, in which case only the associated dimension will be used\n",
    "print(QuantityDtype(2.345*m)) # from a Quantity, in which case only the associated dimension will be used"
   ]
  },
  {
   "cell_type": "markdown",
   "id": "fbe4c09e",
   "metadata": {},
   "source": [
    "Behind the scene, a QuantityDtype just uses a `.unit` attribute that is a Quantity,object, but only the dimension of that quantity is used:"
   ]
  },
  {
   "cell_type": "code",
   "execution_count": 9,
   "id": "f61ad752",
   "metadata": {},
   "outputs": [
    {
     "ename": "AttributeError",
     "evalue": "'dict' object has no attribute 'dimension'",
     "output_type": "error",
     "traceback": [
      "\u001b[0;31m---------------------------------------------------------------------------\u001b[0m",
      "\u001b[0;31mAttributeError\u001b[0m                            Traceback (most recent call last)",
      "File \u001b[0;32m~/Library/Python/3.12/lib/python/site-packages/IPython/core/formatters.py:344\u001b[0m, in \u001b[0;36mBaseFormatter.__call__\u001b[0;34m(self, obj)\u001b[0m\n\u001b[1;32m    342\u001b[0m     method \u001b[39m=\u001b[39m get_real_method(obj, \u001b[39mself\u001b[39m\u001b[39m.\u001b[39mprint_method)\n\u001b[1;32m    343\u001b[0m     \u001b[39mif\u001b[39;00m method \u001b[39mis\u001b[39;00m \u001b[39mnot\u001b[39;00m \u001b[39mNone\u001b[39;00m:\n\u001b[0;32m--> 344\u001b[0m         \u001b[39mreturn\u001b[39;00m method()\n\u001b[1;32m    345\u001b[0m     \u001b[39mreturn\u001b[39;00m \u001b[39mNone\u001b[39;00m\n\u001b[1;32m    346\u001b[0m \u001b[39melse\u001b[39;00m:\n",
      "File \u001b[0;32m~/Documents/CLE/Optique/Python/JUPYTER/MYLIB10/MODULES/physipy/physipy/quantity/quantity.py:428\u001b[0m, in \u001b[0;36mQuantity._repr_latex_\u001b[0;34m(self)\u001b[0m\n\u001b[1;32m    425\u001b[0m \u001b[39m# to set a favunit for display purpose\u001b[39;00m\n\u001b[1;32m    426\u001b[0m \u001b[39m# only change the favunit if not already defined\u001b[39;00m\n\u001b[1;32m    427\u001b[0m \u001b[39mif\u001b[39;00m q\u001b[39m.\u001b[39mfavunit \u001b[39mis\u001b[39;00m \u001b[39mNone\u001b[39;00m:\n\u001b[0;32m--> 428\u001b[0m     q\u001b[39m.\u001b[39mfavunit \u001b[39m=\u001b[39m \u001b[39mself\u001b[39;49m\u001b[39m.\u001b[39;49m_pick_smart_favunit()\n\u001b[1;32m    429\u001b[0m formatted_value \u001b[39m=\u001b[39m q\u001b[39m.\u001b[39m_format_value()\n\u001b[1;32m    430\u001b[0m complemented \u001b[39m=\u001b[39m q\u001b[39m.\u001b[39m_compute_complement_value()\n",
      "File \u001b[0;32m~/Documents/CLE/Optique/Python/JUPYTER/MYLIB10/MODULES/physipy/physipy/quantity/quantity.py:456\u001b[0m, in \u001b[0;36mQuantity._pick_smart_favunit\u001b[0;34m(self, array_to_scal)\u001b[0m\n\u001b[1;32m    453\u001b[0m \u001b[39mfrom\u001b[39;00m \u001b[39m.\u001b[39;00m\u001b[39m_units\u001b[39;00m \u001b[39mimport\u001b[39;00m units\n\u001b[1;32m    454\u001b[0m \u001b[39mfrom\u001b[39;00m \u001b[39m.\u001b[39;00m\u001b[39mutils\u001b[39;00m \u001b[39mimport\u001b[39;00m asqarray\n\u001b[1;32m    455\u001b[0m same_dim_unit_list \u001b[39m=\u001b[39m [\n\u001b[0;32m--> 456\u001b[0m     value \u001b[39mfor\u001b[39;00m value \u001b[39min\u001b[39;00m units\u001b[39m.\u001b[39mvalues() \u001b[39mif\u001b[39;00m \u001b[39mself\u001b[39m\u001b[39m.\u001b[39mdimension \u001b[39m==\u001b[39m value\u001b[39m.\u001b[39;49mdimension]\n\u001b[1;32m    457\u001b[0m \u001b[39m# if no unit with same dim already exists\u001b[39;00m\n\u001b[1;32m    458\u001b[0m \u001b[39mif\u001b[39;00m \u001b[39mlen\u001b[39m(same_dim_unit_list) \u001b[39m==\u001b[39m \u001b[39m0\u001b[39m:\n",
      "\u001b[0;31mAttributeError\u001b[0m: 'dict' object has no attribute 'dimension'"
     ]
    },
    {
     "data": {
      "text/plain": [
       "<Quantity : 2.345 m, symbol=m*UndefinedSymbol>"
      ]
     },
     "execution_count": 9,
     "metadata": {},
     "output_type": "execute_result"
    }
   ],
   "source": [
    "QuantityDtype(2.345*m).unit"
   ]
  },
  {
   "cell_type": "code",
   "execution_count": 1,
   "id": "c2530552",
   "metadata": {},
   "outputs": [
    {
     "name": "stdout",
     "output_type": "stream",
     "text": [
      "2.345 m\n",
      "physipy[]\n",
      "physipy[]\n",
      "physipy[m]\n",
      "physipy[m]\n",
      "physipy[m]\n",
      "2.345 m\n"
     ]
    },
    {
     "ename": "AttributeError",
     "evalue": "'dict' object has no attribute 'dimension'",
     "output_type": "error",
     "traceback": [
      "\u001b[0;31m---------------------------------------------------------------------------\u001b[0m",
      "\u001b[0;31mAttributeError\u001b[0m                            Traceback (most recent call last)",
      "File \u001b[0;32m~/Library/Python/3.12/lib/python/site-packages/IPython/core/formatters.py:344\u001b[0m, in \u001b[0;36mBaseFormatter.__call__\u001b[0;34m(self, obj)\u001b[0m\n\u001b[1;32m    342\u001b[0m     method \u001b[39m=\u001b[39m get_real_method(obj, \u001b[39mself\u001b[39m\u001b[39m.\u001b[39mprint_method)\n\u001b[1;32m    343\u001b[0m     \u001b[39mif\u001b[39;00m method \u001b[39mis\u001b[39;00m \u001b[39mnot\u001b[39;00m \u001b[39mNone\u001b[39;00m:\n\u001b[0;32m--> 344\u001b[0m         \u001b[39mreturn\u001b[39;00m method()\n\u001b[1;32m    345\u001b[0m     \u001b[39mreturn\u001b[39;00m \u001b[39mNone\u001b[39;00m\n\u001b[1;32m    346\u001b[0m \u001b[39melse\u001b[39;00m:\n",
      "File \u001b[0;32m~/Documents/CLE/Optique/Python/JUPYTER/MYLIB10/MODULES/physipy/physipy/quantity/quantity.py:428\u001b[0m, in \u001b[0;36mQuantity._repr_latex_\u001b[0;34m(self)\u001b[0m\n\u001b[1;32m    425\u001b[0m \u001b[39m# to set a favunit for display purpose\u001b[39;00m\n\u001b[1;32m    426\u001b[0m \u001b[39m# only change the favunit if not already defined\u001b[39;00m\n\u001b[1;32m    427\u001b[0m \u001b[39mif\u001b[39;00m q\u001b[39m.\u001b[39mfavunit \u001b[39mis\u001b[39;00m \u001b[39mNone\u001b[39;00m:\n\u001b[0;32m--> 428\u001b[0m     q\u001b[39m.\u001b[39mfavunit \u001b[39m=\u001b[39m \u001b[39mself\u001b[39;49m\u001b[39m.\u001b[39;49m_pick_smart_favunit()\n\u001b[1;32m    429\u001b[0m formatted_value \u001b[39m=\u001b[39m q\u001b[39m.\u001b[39m_format_value()\n\u001b[1;32m    430\u001b[0m complemented \u001b[39m=\u001b[39m q\u001b[39m.\u001b[39m_compute_complement_value()\n",
      "File \u001b[0;32m~/Documents/CLE/Optique/Python/JUPYTER/MYLIB10/MODULES/physipy/physipy/quantity/quantity.py:456\u001b[0m, in \u001b[0;36mQuantity._pick_smart_favunit\u001b[0;34m(self, array_to_scal)\u001b[0m\n\u001b[1;32m    453\u001b[0m \u001b[39mfrom\u001b[39;00m \u001b[39m.\u001b[39;00m\u001b[39m_units\u001b[39;00m \u001b[39mimport\u001b[39;00m units\n\u001b[1;32m    454\u001b[0m \u001b[39mfrom\u001b[39;00m \u001b[39m.\u001b[39;00m\u001b[39mutils\u001b[39;00m \u001b[39mimport\u001b[39;00m asqarray\n\u001b[1;32m    455\u001b[0m same_dim_unit_list \u001b[39m=\u001b[39m [\n\u001b[0;32m--> 456\u001b[0m     value \u001b[39mfor\u001b[39;00m value \u001b[39min\u001b[39;00m units\u001b[39m.\u001b[39mvalues() \u001b[39mif\u001b[39;00m \u001b[39mself\u001b[39m\u001b[39m.\u001b[39mdimension \u001b[39m==\u001b[39m value\u001b[39m.\u001b[39;49mdimension]\n\u001b[1;32m    457\u001b[0m \u001b[39m# if no unit with same dim already exists\u001b[39;00m\n\u001b[1;32m    458\u001b[0m \u001b[39mif\u001b[39;00m \u001b[39mlen\u001b[39m(same_dim_unit_list) \u001b[39m==\u001b[39m \u001b[39m0\u001b[39m:\n",
      "\u001b[0;31mAttributeError\u001b[0m: 'dict' object has no attribute 'dimension'"
     ]
    },
    {
     "data": {
      "text/plain": [
       "<Quantity : 2.345 m, symbol=m*UndefinedSymbol>"
      ]
     },
     "execution_count": 1,
     "metadata": {},
     "output_type": "execute_result"
    }
   ],
   "source": [
    "# alone works\n",
    "from physipy import m\n",
    "print(2.345*m)\n",
    "2.345*m\n",
    "# if the following is executed, fails\n",
    "from physipandas import QuantityDtype\n",
    "from physipy import m\n",
    "print(QuantityDtype()) # from nothing: dimension-less quantity dtype\n",
    "print(QuantityDtype(\"physipy[]\"))  # from a string formatted as 'physipy[X]', \n",
    "print(QuantityDtype(\"physipy[m]\")) # where X is the str representation of a unit in physipy.units\n",
    "print(QuantityDtype(m)) # from a Quantity, in which case only the associated dimension will be used\n",
    "print(QuantityDtype(2.345*m)) # from a Quantity, in which case only the associated dimension will be used\n",
    "print(2.345*m)\n",
    "2.345*m\n"
   ]
  },
  {
   "cell_type": "markdown",
   "id": "0ae00fe5-2ac3-4a2a-b5b4-e6186a811426",
   "metadata": {},
   "source": [
    "# Writing an extension Dtype for pandas"
   ]
  },
  {
   "cell_type": "markdown",
   "id": "900ec72e-54b1-4a29-98e8-cb4e3dde4fcc",
   "metadata": {},
   "source": [
    "## Subclass from ExtensionDtype\n",
    "We subclass from https://github.com/pandas-dev/pandas/blob/06d230151e6f18fdb8139d09abf539867a8cd481/pandas/core/dtypes/base.py#L39.  \n",
    "The base class describes most of the needed internals."
   ]
  },
  {
   "cell_type": "code",
   "execution_count": 4,
   "id": "b0ffc258-0dd5-432d-a066-ce62c502101a",
   "metadata": {},
   "outputs": [],
   "source": [
    "qd = QuantityDtype()"
   ]
  },
  {
   "cell_type": "markdown",
   "id": "697a7380-e559-469f-a93d-edda8f274dae",
   "metadata": {},
   "source": [
    "## Mandatory methods\n",
    "The interface includes the following abstract methods that must be implemented by subclasses:\n",
    " - `type` : The scalar type for the array, it’s expected `ExtensionArray[item]` returns an instance of ExtensionDtype.type for scalar item : hence we use Quantity, for example : `QuantityArray(..)[3] -> Quantity`\n",
    " - `name`: What to print below the content of the following call `df[\"quanti\"].values` or `df[\"quanti\"].dtype`, hence we use for example `physipy[m]` when the dimension of the dtype is `Dimension('L')`\n",
    " - `construct_array_type`: Return the array type associated with this dtype, in our case `QuantityArray`"
   ]
  },
  {
   "cell_type": "code",
   "execution_count": 20,
   "id": "0d6154e4-eafc-481c-b7a7-af560e7cd69c",
   "metadata": {},
   "outputs": [
    {
     "name": "stdout",
     "output_type": "stream",
     "text": [
      "<class 'physipy.quantity.quantity.Quantity'>\n",
      "physipy[]\n",
      "<class 'physipandas.extension.QuantityArray'>\n"
     ]
    }
   ],
   "source": [
    "print(qd.type)\n",
    "print(qd.name)\n",
    "print(qd.construct_array_type())"
   ]
  },
  {
   "cell_type": "markdown",
   "id": "6e38c8e2",
   "metadata": {},
   "source": [
    "## Optionnal methods"
   ]
  },
  {
   "cell_type": "markdown",
   "id": "1bf9e265-03b9-4e6a-9685-7460f4be079e",
   "metadata": {},
   "source": [
    "The following attributes and methods can be overloaded, and  influence the behavior of the dtype in pandas operations\n",
    " - [X] : `_is_numeric` : returns True for now, but should it since we are not a plain number ?\n",
    " - [ ] : `_is_boolean` : returns False by inheritance of ExtensionDtype\n",
    " - [ ] : `_get_common_dtype(dtypes)`"
   ]
  },
  {
   "cell_type": "code",
   "execution_count": 25,
   "id": "0a5f9cc9-b59d-4230-8d22-e5ca639a7280",
   "metadata": {},
   "outputs": [
    {
     "name": "stdout",
     "output_type": "stream",
     "text": [
      "True\n",
      "False\n",
      "None\n"
     ]
    }
   ],
   "source": [
    "print(qd._is_numeric)\n",
    "print(qd._is_boolean)\n",
    "print(qd._get_common_dtype([qd, float]))"
   ]
  },
  {
   "cell_type": "markdown",
   "id": "4ef1bea5-0470-44c2-be56-ffdbc527a5a6",
   "metadata": {},
   "source": [
    "The na_value class attribute can be used to set the default NA value for this type. numpy.nan is used by default.\n",
    " - [X] : we overide this with `na_value = Quantity(np.nan, self.dimension)`"
   ]
  },
  {
   "cell_type": "code",
   "execution_count": 29,
   "id": "e639b966-91c4-43ed-afd8-8b3ddc238640",
   "metadata": {},
   "outputs": [
    {
     "name": "stdout",
     "output_type": "stream",
     "text": [
      "nan <class 'physipy.quantity.quantity.Quantity'>\n",
      "nan m <class 'physipy.quantity.quantity.Quantity'>\n"
     ]
    }
   ],
   "source": [
    "print(qd.na_value, type(qd.na_value))\n",
    "qdtype_m = QuantityDtype(m)\n",
    "print(qdtype_m.na_value, type(qdtype_m.na_value))"
   ]
  },
  {
   "cell_type": "markdown",
   "id": "ab868a43-f84d-49ea-9e9a-fec36580ace0",
   "metadata": {},
   "source": [
    "## Hashability\n",
    "ExtensionDtypes are required to be hashable. The base class provides a default implementation, which relies on the `_metadata` class attribute. `_metadata` should be a tuple containing the strings that define your data type. For example, with `PeriodDtype` that’s the `freq` attribute.\n",
    "If you have a parametrized dtype you should set the `_metadata` class property. Ideally, the attributes in `_metadata` will match the parameters to your `ExtensionDtype.__init__` (if any). If any of the attributes in `_metadata` don’t implement the standard `__eq__` or `__hash__`, the default implementations here will not work.\n",
    "- [X] : `_metadata` : `QuantityDtype` are parametrized by a physical quantity, so we rely on the hash of the quantity to hash the Dtype."
   ]
  },
  {
   "cell_type": "code",
   "execution_count": 31,
   "id": "7c88a9cb-1f49-464d-be49-4ee55121f34f",
   "metadata": {},
   "outputs": [
    {
     "name": "stdout",
     "output_type": "stream",
     "text": [
      "('unit',)\n",
      "3187536572\n"
     ]
    }
   ],
   "source": [
    "print(qd._metadata) # tuple of strings of attributes for hash\n",
    "print(hash(qd))"
   ]
  },
  {
   "cell_type": "markdown",
   "id": "3192ce61-59de-4706-bfc2-0adfe511cbad",
   "metadata": {},
   "source": [
    " - [X] : `construct_from_string(string)` : Construct this type from a string. See [the doc of ExtensionDtype.construct_from_string]( https://pandas.pydata.org/pandas-docs/stable/reference/api/pandas.api.extensions.ExtensionDtype.construct_from_string.html#pandas.api.extensions.ExtensionDtype.construct_from_string): this is useful mainly for data types that accept parameters. For example, a `period` dtype accepts a frequency parameter that can be set as `period[H]` (where H means hourly frequency). In our case we use a string parsing of the style `physipy[m]` for meter.\n",
    " - [ ] : `is_dtype(dtype)` : Check if we match ‘dtype’. For now we use the default behaviour given [here](https://pandas.pydata.org/pandas-docs/stable/reference/api/pandas.api.extensions.ExtensionDtype.is_dtype.html#pandas.api.extensions.ExtensionDtype.is_dtype)."
   ]
  },
  {
   "cell_type": "code",
   "execution_count": 33,
   "id": "e7295ac9-e221-4996-9796-5c8cf2c0bfb3",
   "metadata": {},
   "outputs": [
    {
     "name": "stdout",
     "output_type": "stream",
     "text": [
      "<class 'physipandas.extension.QuantityArray'>\n",
      "<class 'physipandas.extension.QuantityArray'>\n",
      "<class 'physipandas.extension.QuantityArray'>\n"
     ]
    }
   ],
   "source": [
    "print(QuantityDtype.construct_array_type())\n",
    "print(QuantityDtype().construct_array_type())\n",
    "print(QuantityDtype('physipy[m]').construct_array_type()) # should this return a dtyped array ?"
   ]
  },
  {
   "cell_type": "code",
   "execution_count": 35,
   "id": "9763b18e-ac46-4b37-a4eb-4cb5a565f636",
   "metadata": {},
   "outputs": [
    {
     "name": "stdout",
     "output_type": "stream",
     "text": [
      "physipy[m]\n",
      "physipy[m]\n",
      "physipy[m**2]\n"
     ]
    }
   ],
   "source": [
    "print(QuantityDtype.construct_from_string(\"physipy[m]\"))\n",
    "print(qd.construct_from_string(\"physipy[m]\"))\n",
    "print(qd.construct_from_string(\"physipy[m**2]\"))"
   ]
  },
  {
   "cell_type": "code",
   "execution_count": 36,
   "id": "3785a755-f3b4-46f1-841e-24e7de2937e9",
   "metadata": {},
   "outputs": [
    {
     "name": "stdout",
     "output_type": "stream",
     "text": [
      "True\n",
      "True\n",
      "False\n"
     ]
    }
   ],
   "source": [
    "print(qd.is_dtype(QuantityDtype()))\n",
    "print(qd.is_dtype(QuantityDtype(m)))\n",
    "print(qd.is_dtype(m))"
   ]
  }
 ],
 "metadata": {
  "kernelspec": {
   "display_name": "Python 3 (ipykernel)",
   "language": "python",
   "name": "python3"
  },
  "language_info": {
   "codemirror_mode": {
    "name": "ipython",
    "version": 3
   },
   "file_extension": ".py",
   "mimetype": "text/x-python",
   "name": "python",
   "nbconvert_exporter": "python",
   "pygments_lexer": "ipython3",
   "version": "3.12.0"
  }
 },
 "nbformat": 4,
 "nbformat_minor": 5
}
