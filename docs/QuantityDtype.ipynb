{
 "cells": [
  {
   "cell_type": "code",
   "execution_count": 3,
   "id": "dd82af6e-c798-4dd9-a470-9f9635e3e246",
   "metadata": {},
   "outputs": [],
   "source": [
    "from physipandas import QuantityDtype\n",
    "from physipy import m"
   ]
  },
  {
   "cell_type": "markdown",
   "id": "0ae00fe5-2ac3-4a2a-b5b4-e6186a811426",
   "metadata": {},
   "source": [
    "# Writing an extension Dtype for pandas"
   ]
  },
  {
   "cell_type": "markdown",
   "id": "900ec72e-54b1-4a29-98e8-cb4e3dde4fcc",
   "metadata": {},
   "source": [
    "We subclass from https://github.com/pandas-dev/pandas/blob/06d230151e6f18fdb8139d09abf539867a8cd481/pandas/core/dtypes/base.py#L39\n",
    "The base class describes most of the needed internals."
   ]
  },
  {
   "cell_type": "code",
   "execution_count": 4,
   "id": "b0ffc258-0dd5-432d-a066-ce62c502101a",
   "metadata": {},
   "outputs": [],
   "source": [
    "qd = QuantityDtype()"
   ]
  },
  {
   "cell_type": "markdown",
   "id": "697a7380-e559-469f-a93d-edda8f274dae",
   "metadata": {},
   "source": [
    "The interface includes the following abstract methods that must be implemented by subclasses:\n",
    "\n",
    "    type\n",
    "\n",
    "    name\n",
    "\n",
    "    construct_array_type\n"
   ]
  },
  {
   "cell_type": "code",
   "execution_count": 5,
   "id": "0d6154e4-eafc-481c-b7a7-af560e7cd69c",
   "metadata": {},
   "outputs": [
    {
     "name": "stdout",
     "output_type": "stream",
     "text": [
      "<class 'physipy.quantity.quantity.Quantity'>\n",
      "physipy[]\n",
      "<class 'physipandas.extension.QuantityArray'>\n"
     ]
    }
   ],
   "source": [
    "print(qd.type) # test OK\n",
    "print(qd.name)\n",
    "print(qd.construct_array_type())"
   ]
  },
  {
   "cell_type": "markdown",
   "id": "1bf9e265-03b9-4e6a-9685-7460f4be079e",
   "metadata": {},
   "source": [
    "The following attributes and methods influence the behavior of the dtype in pandas operations\n",
    " - [X] : _is_numeric : returns True for now, but should it since we are not a plain number ?\n",
    " - [X] : _is_boolean : returns False by inheritance of ExtensionDtype\n",
    " - [ ] : _get_common_dtype"
   ]
  },
  {
   "cell_type": "code",
   "execution_count": 7,
   "id": "0a5f9cc9-b59d-4230-8d22-e5ca639a7280",
   "metadata": {},
   "outputs": [
    {
     "name": "stdout",
     "output_type": "stream",
     "text": [
      "True\n",
      "False\n"
     ]
    }
   ],
   "source": [
    "print(qd._is_numeric)\n",
    "print(qd._is_boolean)\n",
    "#print(qd._get_common_dtype())"
   ]
  },
  {
   "cell_type": "markdown",
   "id": "4ef1bea5-0470-44c2-be56-ffdbc527a5a6",
   "metadata": {},
   "source": [
    "The na_value class attribute can be used to set the default NA value for this type. numpy.nan is used by default.\n",
    " - [X] : we overide this with na_value = Quantity(np.nan, Dimension(None))"
   ]
  },
  {
   "cell_type": "code",
   "execution_count": 9,
   "id": "e639b966-91c4-43ed-afd8-8b3ddc238640",
   "metadata": {},
   "outputs": [
    {
     "name": "stdout",
     "output_type": "stream",
     "text": [
      "nan <class 'physipy.quantity.quantity.Quantity'>\n"
     ]
    }
   ],
   "source": [
    "print(qd.na_value, type(qd.na_value))"
   ]
  },
  {
   "cell_type": "markdown",
   "id": "ab868a43-f84d-49ea-9e9a-fec36580ace0",
   "metadata": {},
   "source": [
    "ExtensionDtypes are required to be hashable. The base class provides a default implementation,\n",
    "which relies on the _metadata class attribute. _metadata should be a tuple containing the \n",
    "strings that define your data type. For example, with PeriodDtype that’s the freq attribute.\n",
    "If you have a parametrized dtype you should set the ``_metadata`` class property.\n",
    "Ideally, the attributes in _metadata will match the parameters to your ExtensionDtype.__init__ \n",
    "(if any). If any of the attributes in _metadata don’t implement the standard __eq__ or __hash__, \n",
    "the default implementations here will not work.\n",
    "- [X] : _metadata : QuantityDtype are parametrized by a physical quantity, so we rely on the hash of the\n",
    "quantity to hash the Dtype."
   ]
  },
  {
   "cell_type": "code",
   "execution_count": 10,
   "id": "7c88a9cb-1f49-464d-be49-4ee55121f34f",
   "metadata": {},
   "outputs": [
    {
     "name": "stdout",
     "output_type": "stream",
     "text": [
      "('unit',)\n"
     ]
    }
   ],
   "source": [
    "print(qd._metadata) # tuple of strings of attributes for hash"
   ]
  },
  {
   "cell_type": "code",
   "execution_count": 11,
   "id": "fdb7ebae-b25f-45ad-9550-b69672972c24",
   "metadata": {},
   "outputs": [
    {
     "name": "stdout",
     "output_type": "stream",
     "text": [
      "3187536572\n"
     ]
    }
   ],
   "source": [
    "print(hash(qd))"
   ]
  },
  {
   "cell_type": "markdown",
   "id": "3192ce61-59de-4706-bfc2-0adfe511cbad",
   "metadata": {},
   "source": [
    "Methods\n",
    " - [X] : construct_array_type() : Return the array type associated with this dtype : QuantityArray\n",
    " - [X] : construct_from_string(string) : Construct this type from a string. See [the doc of ExtensionDtype.construct_from_string]( https://pandas.pydata.org/pandas-docs/stable/reference/api/pandas.api.extensions.ExtensionDtype.construct_from_string.html#pandas.api.extensions.ExtensionDtype.construct_from_string.)\n",
    " \n",
    "```\n",
    "Construct this type from a string.\n",
    "\n",
    "This is useful mainly for data types that accept parameters. For example, a period dtype accepts a frequency parameter that can be set as period[H] (where H means hourly frequency).\n",
    "```\n",
    "For this we use a string parsing of the style `physipy[m]` for meter.\n",
    " - [X] : is_dtype(dtype) : Check if we match ‘dtype’. For now we use the default behaviour given [here](https://pandas.pydata.org/pandas-docs/stable/reference/api/pandas.api.extensions.ExtensionDtype.is_dtype.html#pandas.api.extensions.ExtensionDtype.is_dtype)."
   ]
  },
  {
   "cell_type": "code",
   "execution_count": 14,
   "id": "e7295ac9-e221-4996-9796-5c8cf2c0bfb3",
   "metadata": {},
   "outputs": [
    {
     "name": "stdout",
     "output_type": "stream",
     "text": [
      "<class 'physipandas.extension.QuantityArray'>\n",
      "<class 'physipandas.extension.QuantityArray'>\n",
      "<class 'physipandas.extension.QuantityArray'>\n"
     ]
    }
   ],
   "source": [
    "print(QuantityDtype.construct_array_type())\n",
    "print(QuantityDtype().construct_array_type())\n",
    "print(QuantityDtype('physipy[m]').construct_array_type())"
   ]
  },
  {
   "cell_type": "code",
   "execution_count": 17,
   "id": "9763b18e-ac46-4b37-a4eb-4cb5a565f636",
   "metadata": {},
   "outputs": [
    {
     "name": "stdout",
     "output_type": "stream",
     "text": [
      "physipy[m]\n",
      "physipy[m]\n",
      "physipy[m**2]\n"
     ]
    }
   ],
   "source": [
    "print(QuantityDtype.construct_from_string(\"physipy[m]\"))\n",
    "print(qd.construct_from_string(\"physipy[m]\"))\n",
    "print(qd.construct_from_string(\"physipy[m**2]\"))"
   ]
  },
  {
   "cell_type": "code",
   "execution_count": 18,
   "id": "3785a755-f3b4-46f1-841e-24e7de2937e9",
   "metadata": {},
   "outputs": [
    {
     "name": "stdout",
     "output_type": "stream",
     "text": [
      "True\n",
      "True\n",
      "False\n"
     ]
    }
   ],
   "source": [
    "print(qd.is_dtype(QuantityDtype()))\n",
    "print(qd.is_dtype(QuantityDtype(m)))\n",
    "print(qd.is_dtype(m))"
   ]
  },
  {
   "cell_type": "code",
   "execution_count": 19,
   "id": "6ba99f26-f0c9-40be-a6a7-9467829f38f0",
   "metadata": {},
   "outputs": [
    {
     "name": "stdout",
     "output_type": "stream",
     "text": [
      "None\n",
      "<class 'physipy.quantity.quantity.Quantity'>\n"
     ]
    }
   ],
   "source": [
    "print(qd.names)\n",
    "print(qd.type)"
   ]
  }
 ],
 "metadata": {
  "kernelspec": {
   "display_name": "Python 3 (ipykernel)",
   "language": "python",
   "name": "python3"
  },
  "language_info": {
   "codemirror_mode": {
    "name": "ipython",
    "version": 3
   },
   "file_extension": ".py",
   "mimetype": "text/x-python",
   "name": "python",
   "nbconvert_exporter": "python",
   "pygments_lexer": "ipython3",
   "version": "3.12.0"
  }
 },
 "nbformat": 4,
 "nbformat_minor": 5
}
