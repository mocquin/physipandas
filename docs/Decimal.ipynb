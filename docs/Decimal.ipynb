{
 "cells": [
  {
   "cell_type": "markdown",
   "metadata": {},
   "source": [
    "A simple example with decimal.Decimal\n",
    "From : https://github.com/tomharvey/pandas-extension-dtype"
   ]
  },
  {
   "cell_type": "code",
   "execution_count": 3,
   "metadata": {},
   "outputs": [],
   "source": [
    "import pandas as pd\n",
    "import numpy as np\n",
    "import decimal\n",
    "\n",
    "from pandas.core.arrays import ExtensionArray\n",
    "from pandas.core.dtypes.base import ExtensionDtype\n",
    "\n",
    "\n",
    "class DecimalDtype(ExtensionDtype):\n",
    "    \"\"\"A custom data type, to be paired with an ExtensionArray.\"\"\"\n",
    "\n",
    "    type = decimal.Decimal\n",
    "    name = \"decimal\"\n",
    "    na_value = decimal.Decimal(\"NaN\")\n",
    "\n",
    "    @classmethod\n",
    "    def construct_array_type(cls):\n",
    "        \"\"\"Return the array type associated with this dtype.\"\"\"\n",
    "        return DecimalArray\n",
    "\n",
    "\n",
    "\n",
    "class DecimalArray(ExtensionArray):\n",
    "    \"\"\"Abstract base class for custom 1-D array types.\"\"\"\n",
    "\n",
    "    def __init__(self, values, dtype=None, copy=False):\n",
    "        \"\"\"Instantiate the array.\n",
    "        If you're doing any type coercion in here, you will also need\n",
    "        that in an overwritten __settiem__ method.\n",
    "        But, here we coerce the input values into Decimals.\n",
    "        \"\"\"\n",
    "        values = [decimal.Decimal(val) for val in values]\n",
    "        self._data = np.asarray(values, dtype=object)\n",
    "        self._dtype = DecimalDtype()\n",
    "\n",
    "    @classmethod\n",
    "    def _from_sequence(cls, scalars, dtype=None, copy=False):\n",
    "        \"\"\"Construct a new ExtensionArray from a sequence of scalars.\"\"\"\n",
    "        return cls(scalars, dtype=dtype)\n",
    "\n",
    "    @classmethod\n",
    "    def _from_factorized(cls, values, original):\n",
    "        \"\"\"Reconstruct an ExtensionArray after factorization.\"\"\"\n",
    "        return cls(values)\n",
    "\n",
    "    def __getitem__(self, item):\n",
    "        \"\"\"Select a subset of self.\"\"\"\n",
    "        return self._data[item]\n",
    "\n",
    "    def __len__(self) -> int:\n",
    "        \"\"\"Length of this array.\"\"\"\n",
    "        return len(self._data)\n",
    "\n",
    "    @property\n",
    "    def nbytes(self):\n",
    "        \"\"\"The byte size of the data.\"\"\"\n",
    "        return self._itemsize * len(self)\n",
    "\n",
    "    @property\n",
    "    def dtype(self):\n",
    "        \"\"\"An instance of 'ExtensionDtype'.\"\"\"\n",
    "        return self._dtype\n",
    "\n",
    "    def isna(self):\n",
    "        \"\"\"A 1-D array indicating if each value is missing.\"\"\"\n",
    "        return np.array([x.is_nan() for x in self._data], dtype=bool)\n",
    "\n",
    "    def take(self, indexer, allow_fill=False, fill_value=None):\n",
    "        \"\"\"Take elements from an array.\n",
    "        Relies on the take method defined in pandas:\n",
    "        https://github.com/pandas-dev/pandas/blob/e246c3b05924ac1fe083565a765ce847fcad3d91/pandas/core/algorithms.py#L1483\n",
    "        \"\"\"\n",
    "        from pandas.api.extensions import take\n",
    "\n",
    "        data = self._data\n",
    "        if allow_fill and fill_value is None:\n",
    "            fill_value = self.dtype.na_value\n",
    "\n",
    "        result = take(\n",
    "            data, indexer, fill_value=fill_value, allow_fill=allow_fill)\n",
    "        return self._from_sequence(result)\n",
    "\n",
    "    def copy(self):\n",
    "        \"\"\"Return a copy of the array.\"\"\"\n",
    "        return type(self)(self._data.copy())\n",
    "\n",
    "    @classmethod\n",
    "    def _concat_same_type(cls, to_concat):\n",
    "        \"\"\"Concatenate multiple arrays.\"\"\"\n",
    "        return cls(np.concatenate([x._data for x in to_concat]))\n"
   ]
  },
  {
   "cell_type": "code",
   "execution_count": 4,
   "metadata": {},
   "outputs": [
    {
     "name": "stdout",
     "output_type": "stream",
     "text": [
      "0    0.10000000000000000555111512312578270211815834...\n",
      "1    0.20000000000000001110223024625156540423631668...\n",
      "2    0.29999999999999998889776975374843459576368331...\n",
      "dtype: decimal\n"
     ]
    }
   ],
   "source": [
    "decimal_series = pd.Series(DecimalArray([0.1, 0.2, 0.3]))\n",
    "print(decimal_series)\n",
    "dec"
   ]
  },
  {
   "cell_type": "code",
   "execution_count": 10,
   "metadata": {},
   "outputs": [
    {
     "data": {
      "text/html": [
       "<div>\n",
       "<style scoped>\n",
       "    .dataframe tbody tr th:only-of-type {\n",
       "        vertical-align: middle;\n",
       "    }\n",
       "\n",
       "    .dataframe tbody tr th {\n",
       "        vertical-align: top;\n",
       "    }\n",
       "\n",
       "    .dataframe thead th {\n",
       "        text-align: right;\n",
       "    }\n",
       "</style>\n",
       "<table border=\"1\" class=\"dataframe\">\n",
       "  <thead>\n",
       "    <tr style=\"text-align: right;\">\n",
       "      <th></th>\n",
       "      <th>first_dec</th>\n",
       "      <th>second</th>\n",
       "    </tr>\n",
       "  </thead>\n",
       "  <tbody>\n",
       "    <tr>\n",
       "      <th>0</th>\n",
       "      <td>0.10000000000000000555111512312578270211815834...</td>\n",
       "      <td>1.10000000000000008881784197001252323389053344...</td>\n",
       "    </tr>\n",
       "    <tr>\n",
       "      <th>1</th>\n",
       "      <td>0.20000000000000001110223024625156540423631668...</td>\n",
       "      <td>2</td>\n",
       "    </tr>\n",
       "    <tr>\n",
       "      <th>2</th>\n",
       "      <td>0.29999999999999998889776975374843459576368331...</td>\n",
       "      <td>3</td>\n",
       "    </tr>\n",
       "  </tbody>\n",
       "</table>\n",
       "</div>"
      ],
      "text/plain": [
       "                                           first_dec  \\\n",
       "0  0.10000000000000000555111512312578270211815834...   \n",
       "1  0.20000000000000001110223024625156540423631668...   \n",
       "2  0.29999999999999998889776975374843459576368331...   \n",
       "\n",
       "                                              second  \n",
       "0  1.10000000000000008881784197001252323389053344...  \n",
       "1                                                  2  \n",
       "2                                                  3  "
      ]
     },
     "execution_count": 10,
     "metadata": {},
     "output_type": "execute_result"
    }
   ],
   "source": [
    "df = pd.DataFrame({\n",
    "    \"first_dec\":decimal_series,\n",
    "    \"second\":pd.Series(DecimalArray([1.10, 2, 3]))\n",
    "})\n",
    "df"
   ]
  },
  {
   "cell_type": "code",
   "execution_count": null,
   "metadata": {},
   "outputs": [],
   "source": []
  }
 ],
 "metadata": {
  "kernelspec": {
   "display_name": "Python 3",
   "language": "python",
   "name": "python3"
  },
  "language_info": {
   "codemirror_mode": {
    "name": "ipython",
    "version": 3
   },
   "file_extension": ".py",
   "mimetype": "text/x-python",
   "name": "python",
   "nbconvert_exporter": "python",
   "pygments_lexer": "ipython3",
   "version": "3.8.5"
  }
 },
 "nbformat": 4,
 "nbformat_minor": 4
}
