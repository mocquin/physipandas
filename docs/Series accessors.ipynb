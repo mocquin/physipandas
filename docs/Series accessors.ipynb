{
 "cells": [
  {
   "cell_type": "markdown",
   "metadata": {},
   "source": [
    "# Registering custom accessors\n",
    "\n",
    "The acessors allow to add features/methods to regular dataframe : IT DOES NOT SUBCLASS OR WRAP Dataframe : they are still dataframe.\n",
    "\n",
    "https://pandas.pydata.org/pandas-docs/stable/development/extending.html#registering-custom-accessors\n",
    "\n",
    "\n",
    " - https://towardsdatascience.com/pandas-dtype-specific-operations-accessors-c749bafb30a4\n",
    " - https://pandas.pydata.org/pandas-docs/stable/user_guide/basics.html#dt-accessor\n",
    " - https://towardsdatascience.com/ready-the-easy-way-to-extend-pandas-api-dcf4f6612615\n",
    " - https://pandas.pydata.org/pandas-docs/stable/reference/series.html#string-handling\n",
    " - https://pandas.pydata.org/pandas-docs/stable/reference/series.html#accessors\n",
    " - https://realpython.com/python-pandas-tricks/#3-take-advantage-of-accessor-methods\n",
    " - https://github.com/pandas-dev/pandas/blob/3e4839301fc2927646889b194c9eb41c62b76bda/pandas/core/arrays/categorical.py#L2356\n",
    " - https://github.com/pandas-dev/pandas/blob/3e4839301fc2927646889b194c9eb41c62b76bda/pandas/core/strings.py#L1766\n",
    " - https://github.com/hgrecco/pint-pandas/blob/master/pint_pandas/pint_array.py\n"
   ]
  },
  {
   "cell_type": "code",
   "execution_count": 1,
   "metadata": {},
   "outputs": [],
   "source": [
    "import pandas as pd\n",
    "import numpy as np\n",
    "\n",
    "@pd.api.extensions.register_dataframe_accessor(\"geo\")\n",
    "class GeoAccessor:\n",
    "    def __init__(self, pandas_obj):\n",
    "        self._validate(pandas_obj)\n",
    "        self._obj = pandas_obj\n",
    "\n",
    "    @staticmethod\n",
    "    def _validate(obj):\n",
    "        # verify there is a column latitude and a column longitude\n",
    "        if \"latitude\" not in obj.columns or \"longitude\" not in obj.columns:\n",
    "            raise AttributeError(\"Must have 'latitude' and 'longitude'.\")\n",
    "\n",
    "    @property\n",
    "    def center(self):\n",
    "        # return the geographic center point of this DataFrame\n",
    "        lat = self._obj.latitude\n",
    "        lon = self._obj.longitude\n",
    "        return (float(lon.mean()), float(lat.mean()))\n",
    "\n",
    "    def plot(self):\n",
    "        # plot this array's data on a map, e.g., using Cartopy\n",
    "        print(self.center)"
   ]
  },
  {
   "cell_type": "code",
   "execution_count": 2,
   "metadata": {},
   "outputs": [
    {
     "name": "stdout",
     "output_type": "stream",
     "text": [
      "(5.0, 10.0)\n",
      "(5.0, 10.0)\n"
     ]
    }
   ],
   "source": [
    "ds = pd.DataFrame(\n",
    "    {\"longitude\": np.linspace(0, 10), \"latitude\": np.linspace(0, 20)}\n",
    ")\n",
    "print(ds.geo.center)\n",
    "\n",
    "ds.geo.plot()\n",
    "# plots data on a map\n"
   ]
  },
  {
   "cell_type": "markdown",
   "metadata": {},
   "source": [
    "# Physipy series accessor"
   ]
  },
  {
   "cell_type": "code",
   "execution_count": 1,
   "metadata": {},
   "outputs": [
    {
     "name": "stdout",
     "output_type": "stream",
     "text": [
      "QDTYPE : new with 1 m of type <class 'physipy.quantity.quantity.Quantity'>\n",
      "returning  physipy[m] with .unit 1 m\n",
      "QARRAY : init with [0 1 2 3 4 5 6 7 8 9] m of type <class 'physipy.quantity.quantity.Quantity'>\n",
      "QARRAY : init quantified values  [0 1 2 3 4 5 6 7 8 9] m with len 10\n",
      "QDTYPE : new with 1 m of type <class 'physipy.quantity.quantity.Quantity'>\n",
      "returning  physipy[m] with .unit 1 m\n",
      "Raised  'Series' object has no attribute 'dimension'\n",
      "L\n",
      "Raised  'Series' object has no attribute '_SI_unitary_quantity'\n",
      "1 m\n",
      "Raised  cannot perform mean with type physipy[m]\n",
      "4.5 m\n"
     ]
    },
    {
     "data": {
      "text/plain": [
       "True"
      ]
     },
     "execution_count": 1,
     "metadata": {},
     "output_type": "execute_result"
    }
   ],
   "source": [
    "import pandas as pd\n",
    "import numpy as np\n",
    "from physipy import m\n",
    "from physipandas import QuantityDtype\n",
    "\n",
    "c = pd.Series(np.arange(10)*m, \n",
    "              dtype=QuantityDtype(m))\n",
    "\n",
    "try:\n",
    "    print(c.dimension)\n",
    "except Exception as e:\n",
    "    print(\"Raised \", e)\n",
    "    print(c.physipy.dimension)\n",
    "    \n",
    "try:\n",
    "    print(c._SI_unitary_quantity)\n",
    "except Exception as e:\n",
    "    print(\"Raised \", e)\n",
    "    print(c.physipy._SI_unitary_quantity)\n",
    "    \n",
    "try:\n",
    "    print(c.mean())\n",
    "except Exception as e:\n",
    "    print(\"Raised \", e)\n",
    "    print(c.physipy.values.mean())\n",
    "    \n",
    "c.physipy.values.is_length()\n",
    "    "
   ]
  },
  {
   "cell_type": "code",
   "execution_count": 2,
   "metadata": {},
   "outputs": [
    {
     "data": {
      "text/plain": [
       "True"
      ]
     },
     "execution_count": 2,
     "metadata": {},
     "output_type": "execute_result"
    }
   ],
   "source": [
    "type(c.physipy.values) == type(np.arange(10)*m)"
   ]
  },
  {
   "cell_type": "code",
   "execution_count": null,
   "metadata": {},
   "outputs": [],
   "source": []
  }
 ],
 "metadata": {
  "kernelspec": {
   "display_name": "Python 3",
   "language": "python",
   "name": "python3"
  },
  "language_info": {
   "codemirror_mode": {
    "name": "ipython",
    "version": 3
   },
   "file_extension": ".py",
   "mimetype": "text/x-python",
   "name": "python",
   "nbconvert_exporter": "python",
   "pygments_lexer": "ipython3",
   "version": "3.8.5"
  }
 },
 "nbformat": 4,
 "nbformat_minor": 4
}
