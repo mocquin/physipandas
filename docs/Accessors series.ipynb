{
 "cells": [
  {
   "cell_type": "markdown",
   "metadata": {},
   "source": [
    "# physipandas series accessor"
   ]
  },
  {
   "cell_type": "code",
   "execution_count": 2,
   "metadata": {},
   "outputs": [
    {
     "data": {
      "text/plain": [
       "0    0\n",
       "1    1\n",
       "2    2\n",
       "3    3\n",
       "4    4\n",
       "5    5\n",
       "6    6\n",
       "7    7\n",
       "8    8\n",
       "9    9\n",
       "dtype: physipy[m]"
      ]
     },
     "execution_count": 2,
     "metadata": {},
     "output_type": "execute_result"
    }
   ],
   "source": [
    "# create series\n",
    "import pandas as pd\n",
    "from physipy import m\n",
    "import numpy as np\n",
    "from physipandas import QuantityDtype, QuantityArray\n",
    "\n",
    "c = pd.Series(QuantityArray(np.arange(10)*m), \n",
    "              dtype=QuantityDtype(m))\n",
    "c"
   ]
  },
  {
   "cell_type": "markdown",
   "metadata": {},
   "source": [
    "Without using the accessors, there are already 3 levels to access the data : \n",
    " - as a pandas.Series\n",
    " - as a physipandas.QuantityArray using `c.values`\n",
    " - as a physipy.Quantity using `c.values.quantity`"
   ]
  },
  {
   "cell_type": "code",
   "execution_count": 3,
   "metadata": {},
   "outputs": [
    {
     "name": "stdout",
     "output_type": "stream",
     "text": [
      "<class 'pandas.core.series.Series'>\n",
      "<class 'physipandas.extension.QuantityArray'>\n",
      "<class 'physipy.quantity.quantity.Quantity'>\n"
     ]
    }
   ],
   "source": [
    "print(type(c))\n",
    "print(type(c.values))\n",
    "print(type(c.values.quantity))"
   ]
  },
  {
   "cell_type": "markdown",
   "metadata": {},
   "source": [
    "Now using the physipy accessor of the Series allows to access several methods and attributes"
   ]
  },
  {
   "cell_type": "code",
   "execution_count": 4,
   "metadata": {},
   "outputs": [
    {
     "name": "stdout",
     "output_type": "stream",
     "text": [
      "Physipy dimension : L\n",
      "Physipy SI unitary quantity : 1 m\n"
     ]
    }
   ],
   "source": [
    "print(f\"Physipy dimension : {c.physipy.dimension}\")\n",
    "print(f\"Physipy SI unitary quantity : {c.physipy._SI_unitary_quantity}\")"
   ]
  },
  {
   "cell_type": "markdown",
   "metadata": {},
   "source": [
    "For now it doesn't do much, but lots of attributes or methods could be provided, see the delegated methods and attributes in pint for example."
   ]
  },
  {
   "cell_type": "markdown",
   "metadata": {},
   "source": [
    "For comparison, an example with categorical extension : "
   ]
  },
  {
   "cell_type": "code",
   "execution_count": 5,
   "metadata": {},
   "outputs": [
    {
     "name": "stdout",
     "output_type": "stream",
     "text": [
      "0    a\n",
      "1    b\n",
      "2    c\n",
      "dtype: category\n",
      "Categories (3, object): ['a', 'b', 'c']\n",
      "<class 'pandas.core.arrays.categorical.Categorical'>\n",
      "<class 'pandas.core.series.Series'>\n"
     ]
    }
   ],
   "source": [
    "cs = pd.Series([\"a\", \"b\", \"c\"], dtype=pd.CategoricalDtype([\"a\", \"b\", \"c\"]))\n",
    "print(cs)\n",
    "print(type(cs.values))\n",
    "print(type(cs.cat.codes))"
   ]
  },
  {
   "cell_type": "markdown",
   "metadata": {
    "tags": []
   },
   "source": [
    "# Ressources on Series accessors"
   ]
  },
  {
   "cell_type": "markdown",
   "metadata": {},
   "source": [
    "- Pandas string accessor definition : https://github.com/pandas-dev/pandas/blob/ad190575aa75962d2d0eade2de81a5fe5a2e285b/pandas/core/strings/accessor.py#L143\n",
    "\n",
    " - The doc for Pint is https://pint.readthedocs.io/en/0.10.1/pint-pandas.html. \n",
    " - The source code for pint is at https://github.com/hgrecco/pint-pandas/blob/cf527e48557a1e028c6f2d4e628aa7a6cd1b30d4/pint_pandas/pint_array.py#L851\n",
    " - The source code for cyberpandas is at https://github.com/ContinuumIO/cyberpandas/blob/dbce13f94a75145a59d7a7981a8a07571a2e5eb6/cyberpandas/ip_array.py#L667\n",
    " - The source code for pdvega is at https://github.com/altair-viz/pdvega/blob/e3f1fc9730f8cd9ad70e7ba0f0a557f41279839a/pdvega/_core.py#L58\n",
    " - realpython intro to standard accessors : https://realpython.com/python-pandas-tricks/#3-take-advantage-of-accessor-methods\n",
    "\n",
    "- List of custom accessors : https://pandas.pydata.org/docs/ecosystem.html#accessors\n",
    "- Pandzs has builtin accessors for various dtype like datetime as dt or string as str. See the intro at :  https://pandas.pydata.org/pandas-docs/stable/reference/series.html#accessors\n",
    "\n",
    "- Pandas intro to registering accessors : https://pandas.pydata.org/pandas-docs/stable/development/extending.html#registering-custom-accessors\n",
    "\n",
    "- Doc for `pandas.api.extensions.register_series_accessor` : https://pandas.pydata.org/pandas-docs/stable/reference/api/pandas.api.extensions.register_series_accessor.html#pandas.api.extensions.register_series_accessor. This is used as : \n",
    "\n",
    "```python\n",
    "from pandas.api.extensions import register_series_accessor\n",
    "\n",
    "@register_series_accessor(\"physipy\")\n",
    "class PhysipySeriesAccessor(object):\n",
    "    #...\n",
    "```"
   ]
  },
  {
   "cell_type": "markdown",
   "metadata": {},
   "source": [
    "You can see the available accesors using : \n"
   ]
  },
  {
   "cell_type": "code",
   "execution_count": 6,
   "metadata": {},
   "outputs": [
    {
     "name": "stdout",
     "output_type": "stream",
     "text": [
      "{'cat', 'dt', 'str', 'physipy', 'sparse'}\n"
     ]
    }
   ],
   "source": [
    "print(pd.Series._accessors)"
   ]
  },
  {
   "cell_type": "markdown",
   "metadata": {
    "tags": []
   },
   "source": [
    "# Registering custom accessors\n",
    "\n",
    "The acessors allow to add features/methods to regular dataframe : IT DOES NOT SUBCLASS OR WRAP Dataframe : they are still dataframe.\n",
    "\n",
    "https://pandas.pydata.org/pandas-docs/stable/development/extending.html#registering-custom-accessors\n",
    "\n",
    "\n",
    " - https://towardsdatascience.com/pandas-dtype-specific-operations-accessors-c749bafb30a4\n",
    " - https://pandas.pydata.org/pandas-docs/stable/user_guide/basics.html#dt-accessor\n",
    " - https://towardsdatascience.com/ready-the-easy-way-to-extend-pandas-api-dcf4f6612615\n",
    " - https://pandas.pydata.org/pandas-docs/stable/reference/series.html#string-handling\n",
    " - https://pandas.pydata.org/pandas-docs/stable/reference/series.html#accessors\n",
    " - https://realpython.com/python-pandas-tricks/#3-take-advantage-of-accessor-methods\n",
    " - https://github.com/pandas-dev/pandas/blob/3e4839301fc2927646889b194c9eb41c62b76bda/pandas/core/arrays/categorical.py#L2356\n",
    " - https://github.com/pandas-dev/pandas/blob/3e4839301fc2927646889b194c9eb41c62b76bda/pandas/core/strings.py#L1766\n",
    " - https://github.com/hgrecco/pint-pandas/blob/master/pint_pandas/pint_array.py\n"
   ]
  },
  {
   "cell_type": "code",
   "execution_count": 7,
   "metadata": {},
   "outputs": [],
   "source": [
    "import pandas as pd\n",
    "import numpy as np\n",
    "\n",
    "@pd.api.extensions.register_dataframe_accessor(\"geo\")\n",
    "class GeoAccessor:\n",
    "    def __init__(self, pandas_obj):\n",
    "        self._validate(pandas_obj)\n",
    "        self._obj = pandas_obj\n",
    "\n",
    "    @staticmethod\n",
    "    def _validate(obj):\n",
    "        # verify there is a column latitude and a column longitude\n",
    "        if \"latitude\" not in obj.columns or \"longitude\" not in obj.columns:\n",
    "            raise AttributeError(\"Must have 'latitude' and 'longitude'.\")\n",
    "\n",
    "    @property\n",
    "    def center(self):\n",
    "        # return the geographic center point of this DataFrame\n",
    "        lat = self._obj.latitude\n",
    "        lon = self._obj.longitude\n",
    "        return (float(lon.mean()), float(lat.mean()))\n",
    "\n",
    "    def plot(self):\n",
    "        # plot this array's data on a map, e.g., using Cartopy\n",
    "        print(self.center)"
   ]
  },
  {
   "cell_type": "code",
   "execution_count": 8,
   "metadata": {},
   "outputs": [
    {
     "name": "stdout",
     "output_type": "stream",
     "text": [
      "(5.0, 10.0)\n",
      "(5.0, 10.0)\n"
     ]
    }
   ],
   "source": [
    "ds = pd.DataFrame(\n",
    "    {\"longitude\": np.linspace(0, 10), \"latitude\": np.linspace(0, 20)}\n",
    ")\n",
    "print(ds.geo.center)\n",
    "\n",
    "ds.geo.plot()\n",
    "# plots data on a map\n"
   ]
  },
  {
   "cell_type": "markdown",
   "metadata": {},
   "source": [
    "# Physipy series accessor"
   ]
  },
  {
   "cell_type": "code",
   "execution_count": 9,
   "metadata": {},
   "outputs": [
    {
     "name": "stdout",
     "output_type": "stream",
     "text": [
      "<class 'pandas.core.series.Series'>\n",
      "-------- Use the physipy accessor\n",
      "Raised  'Series' object has no attribute 'dimension'\n",
      "L\n",
      "Raised  'Series' object has no attribute '_SI_unitary_quantity'\n",
      "1 m\n",
      "4.5 m\n"
     ]
    },
    {
     "data": {
      "text/plain": [
       "True"
      ]
     },
     "execution_count": 9,
     "metadata": {},
     "output_type": "execute_result"
    }
   ],
   "source": [
    "import pandas as pd\n",
    "import numpy as np\n",
    "from physipy import m\n",
    "from physipandas import QuantityDtype, QuantityArray\n",
    "\n",
    "c = pd.Series(QuantityArray(np.arange(10)*m), \n",
    "              dtype=QuantityDtype(m))\n",
    "print(type(c))\n",
    "\n",
    "print(\"-------- Use the physipy accessor\")\n",
    "try:\n",
    "    print(c.dimension)\n",
    "except Exception as e:\n",
    "    print(\"Raised \", e)\n",
    "    print(c.physipy.dimension)\n",
    "    \n",
    "try:\n",
    "    print(c._SI_unitary_quantity)\n",
    "except Exception as e:\n",
    "    print(\"Raised \", e)\n",
    "    print(c.physipy._SI_unitary_quantity)\n",
    "    \n",
    "try:\n",
    "    print(c.mean())\n",
    "except Exception as e:\n",
    "    print(\"Raised \", e)\n",
    "    print(c.physipy.values.mean())\n",
    "    \n",
    "c.physipy.values.is_length()"
   ]
  },
  {
   "cell_type": "code",
   "execution_count": 10,
   "metadata": {},
   "outputs": [
    {
     "data": {
      "text/plain": [
       "True"
      ]
     },
     "execution_count": 10,
     "metadata": {},
     "output_type": "execute_result"
    }
   ],
   "source": [
    "type(c.physipy.values) == type(np.arange(10)*m)"
   ]
  },
  {
   "cell_type": "code",
   "execution_count": 11,
   "metadata": {},
   "outputs": [
    {
     "name": "stdout",
     "output_type": "stream",
     "text": [
      "<QuantityArray>\n",
      "[0 m, 1 m, 2 m, 3 m, 4 m, 5 m, 6 m, 7 m, 8 m, 9 m]\n",
      "Length: 10, dtype: physipy[m] <class 'pandas.core.series.Series'> <class 'physipandas.extension.QuantityArray'>\n"
     ]
    }
   ],
   "source": [
    "print(c.values, type(c), type(c.values))"
   ]
  },
  {
   "cell_type": "code",
   "execution_count": 12,
   "metadata": {},
   "outputs": [
    {
     "name": "stdout",
     "output_type": "stream",
     "text": [
      "10\n",
      "(10,)\n",
      "1\n"
     ]
    }
   ],
   "source": [
    "print(len(c))\n",
    "print(c.shape)\n",
    "print(c.ndim)"
   ]
  },
  {
   "cell_type": "code",
   "execution_count": 13,
   "metadata": {},
   "outputs": [
    {
     "name": "stdout",
     "output_type": "stream",
     "text": [
      "10\n",
      "(10,)\n",
      "1\n"
     ]
    }
   ],
   "source": [
    "arr = pd.Series(np.arange(10))\n",
    "print(len(arr))\n",
    "print(arr.shape)\n",
    "print(arr.ndim)"
   ]
  }
 ],
 "metadata": {
  "kernelspec": {
   "display_name": "Python 3 (ipykernel)",
   "language": "python",
   "name": "python3"
  },
  "language_info": {
   "codemirror_mode": {
    "name": "ipython",
    "version": 3
   },
   "file_extension": ".py",
   "mimetype": "text/x-python",
   "name": "python",
   "nbconvert_exporter": "python",
   "pygments_lexer": "ipython3",
   "version": "3.12.0"
  }
 },
 "nbformat": 4,
 "nbformat_minor": 4
}
