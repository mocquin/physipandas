{
 "cells": [
  {
   "cell_type": "markdown",
   "metadata": {},
   "source": [
    "# Registering custom accessors\n",
    "\n",
    "The acessors allow to add features/methods to regular dataframe : IT DOES NOT SUBCLASS OR WRAP Dataframe : they are still dataframe.\n",
    "\n",
    "https://pandas.pydata.org/pandas-docs/stable/development/extending.html#registering-custom-accessors\n",
    "\n",
    "\n",
    " - https://towardsdatascience.com/pandas-dtype-specific-operations-accessors-c749bafb30a4\n",
    " - https://pandas.pydata.org/pandas-docs/stable/user_guide/basics.html#dt-accessor\n",
    " - https://towardsdatascience.com/ready-the-easy-way-to-extend-pandas-api-dcf4f6612615\n",
    " - https://pandas.pydata.org/pandas-docs/stable/reference/series.html#string-handling\n",
    " - https://pandas.pydata.org/pandas-docs/stable/reference/series.html#accessors\n",
    " - https://realpython.com/python-pandas-tricks/#3-take-advantage-of-accessor-methods\n",
    " - https://github.com/pandas-dev/pandas/blob/3e4839301fc2927646889b194c9eb41c62b76bda/pandas/core/arrays/categorical.py#L2356\n",
    " - https://github.com/pandas-dev/pandas/blob/3e4839301fc2927646889b194c9eb41c62b76bda/pandas/core/strings.py#L1766\n",
    " - https://github.com/hgrecco/pint-pandas/blob/master/pint_pandas/pint_array.py\n"
   ]
  },
  {
   "cell_type": "code",
   "execution_count": 1,
   "metadata": {},
   "outputs": [],
   "source": [
    "import pandas as pd\n",
    "import numpy as np\n",
    "\n",
    "@pd.api.extensions.register_dataframe_accessor(\"geo\")\n",
    "class GeoAccessor:\n",
    "    def __init__(self, pandas_obj):\n",
    "        self._validate(pandas_obj)\n",
    "        self._obj = pandas_obj\n",
    "\n",
    "    @staticmethod\n",
    "    def _validate(obj):\n",
    "        # verify there is a column latitude and a column longitude\n",
    "        if \"latitude\" not in obj.columns or \"longitude\" not in obj.columns:\n",
    "            raise AttributeError(\"Must have 'latitude' and 'longitude'.\")\n",
    "\n",
    "    @property\n",
    "    def center(self):\n",
    "        # return the geographic center point of this DataFrame\n",
    "        lat = self._obj.latitude\n",
    "        lon = self._obj.longitude\n",
    "        return (float(lon.mean()), float(lat.mean()))\n",
    "\n",
    "    def plot(self):\n",
    "        # plot this array's data on a map, e.g., using Cartopy\n",
    "        print(self.center)"
   ]
  },
  {
   "cell_type": "code",
   "execution_count": 2,
   "metadata": {},
   "outputs": [
    {
     "name": "stdout",
     "output_type": "stream",
     "text": [
      "(5.0, 10.0)\n",
      "(5.0, 10.0)\n"
     ]
    }
   ],
   "source": [
    "ds = pd.DataFrame(\n",
    "    {\"longitude\": np.linspace(0, 10), \"latitude\": np.linspace(0, 20)}\n",
    ")\n",
    "print(ds.geo.center)\n",
    "\n",
    "ds.geo.plot()\n",
    "# plots data on a map\n"
   ]
  },
  {
   "cell_type": "markdown",
   "metadata": {},
   "source": [
    "# Physipy series accessor"
   ]
  },
  {
   "cell_type": "code",
   "execution_count": 4,
   "metadata": {},
   "outputs": [
    {
     "name": "stdout",
     "output_type": "stream",
     "text": [
      "QDTYPE : new with 1 m of type <class 'physipy.quantity.quantity.Quantity'>\n",
      "returning  physipy[m] with .unit 1 m\n",
      "calling qARRY with ()\n",
      "trying from sequence  [<Quantity : 0 m>, <Quantity : 1 m>, <Quantity : 2 m>, <Quantity : 3 m>, <Quantity : 4 m>, <Quantity : 5 m>, <Quantity : 6 m>, <Quantity : 7 m>, <Quantity : 8 m>, <Quantity : 9 m>] 10 physipy[m]\n",
      "ENTERING QARRAY with [0 1 2 3 4 5 6 7 8 9] m physipy[m] False\n",
      "QARRAY : init with [0 1 2 3 4 5 6 7 8 9] m of type <class 'physipy.quantity.quantity.Quantity'>\n",
      "data is set to [0 1 2 3 4 5 6 7 8 9] m with len 10 10 <class 'physipy.quantity.quantity.Quantity'>\n",
      "len values 10\n",
      "QDTYPE : new with 1 m of type <class 'physipy.quantity.quantity.Quantity'>\n",
      "returning  physipy[m] with .unit 1 m\n",
      "dtype is then set to  physipy[m]\n",
      "Length of QuantityArray 10\n",
      "-------- Use the physipy accessor\n",
      "Raised  'Series' object has no attribute 'dimension'\n",
      "L\n",
      "Raised  'Series' object has no attribute '_SI_unitary_quantity'\n",
      "1 m\n",
      "Raised  cannot perform mean with type physipy[m]\n",
      "4.5 m\n"
     ]
    },
    {
     "data": {
      "text/plain": [
       "True"
      ]
     },
     "execution_count": 4,
     "metadata": {},
     "output_type": "execute_result"
    }
   ],
   "source": [
    "import pandas as pd\n",
    "import numpy as np\n",
    "from physipy import m\n",
    "from physipandas import QuantityDtype\n",
    "\n",
    "c = pd.Series(np.arange(10)*m, \n",
    "              dtype=QuantityDtype(m))\n",
    "\n",
    "\n",
    "print(\"-------- Use the physipy accessor\")\n",
    "try:\n",
    "    print(c.dimension)\n",
    "except Exception as e:\n",
    "    print(\"Raised \", e)\n",
    "    print(c.physipy.dimension)\n",
    "    \n",
    "try:\n",
    "    print(c._SI_unitary_quantity)\n",
    "except Exception as e:\n",
    "    print(\"Raised \", e)\n",
    "    print(c.physipy._SI_unitary_quantity)\n",
    "    \n",
    "try:\n",
    "    print(c.mean())\n",
    "except Exception as e:\n",
    "    print(\"Raised \", e)\n",
    "    print(c.physipy.values.mean())\n",
    "    \n",
    "c.physipy.values.is_length()"
   ]
  },
  {
   "cell_type": "code",
   "execution_count": 2,
   "metadata": {},
   "outputs": [
    {
     "data": {
      "text/plain": [
       "True"
      ]
     },
     "execution_count": 2,
     "metadata": {},
     "output_type": "execute_result"
    }
   ],
   "source": [
    "type(c.physipy.values) == type(np.arange(10)*m)"
   ]
  },
  {
   "cell_type": "code",
   "execution_count": 7,
   "metadata": {},
   "outputs": [
    {
     "name": "stdout",
     "output_type": "stream",
     "text": [
      "Length of QuantityArray 10\n",
      "Length of QuantityArray 10\n",
      "Length of QuantityArray 10\n",
      "<QuantityArray>\n",
      "[0 m, 1 m, 2 m, 3 m, 4 m, 5 m, 6 m, 7 m, 8 m, 9 m]\n",
      "Length: 10, dtype: physipy[m] <class 'pandas.core.series.Series'> <class 'physipandas.extension.QuantityArray'>\n"
     ]
    }
   ],
   "source": [
    "print(c.values, type(c), type(c.values))"
   ]
  },
  {
   "cell_type": "code",
   "execution_count": 10,
   "metadata": {},
   "outputs": [
    {
     "name": "stdout",
     "output_type": "stream",
     "text": [
      "10\n",
      "Length of QuantityArray 10\n",
      "(10,)\n",
      "1\n"
     ]
    }
   ],
   "source": [
    "print(len(c))\n",
    "print(c.shape)\n",
    "print(c.ndim)"
   ]
  },
  {
   "cell_type": "code",
   "execution_count": 13,
   "metadata": {},
   "outputs": [
    {
     "name": "stdout",
     "output_type": "stream",
     "text": [
      "10\n",
      "(10,)\n",
      "1\n"
     ]
    }
   ],
   "source": [
    "arr = pd.Series(np.arange(10))\n",
    "print(len(arr))\n",
    "print(arr.shape)\n",
    "print(arr.ndim)"
   ]
  },
  {
   "cell_type": "code",
   "execution_count": null,
   "metadata": {},
   "outputs": [],
   "source": []
  },
  {
   "cell_type": "code",
   "execution_count": null,
   "metadata": {},
   "outputs": [],
   "source": []
  }
 ],
 "metadata": {
  "kernelspec": {
   "display_name": "Python 3",
   "language": "python",
   "name": "python3"
  },
  "language_info": {
   "codemirror_mode": {
    "name": "ipython",
    "version": 3
   },
   "file_extension": ".py",
   "mimetype": "text/x-python",
   "name": "python",
   "nbconvert_exporter": "python",
   "pygments_lexer": "ipython3",
   "version": "3.8.5"
  }
 },
 "nbformat": 4,
 "nbformat_minor": 4
}
