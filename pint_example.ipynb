{
 "cells": [
  {
   "cell_type": "markdown",
   "metadata": {},
   "source": [
    "https://github.com/hgrecco/pint-pandas/blob/master/pint_pandas/pint_array.py"
   ]
  },
  {
   "cell_type": "code",
   "execution_count": 1,
   "metadata": {
    "jupyter": {
     "source_hidden": true
    }
   },
   "outputs": [],
   "source": [
    "import pandas as pd\n",
    "import pint\n",
    "import pint_pandas"
   ]
  },
  {
   "cell_type": "code",
   "execution_count": 2,
   "metadata": {},
   "outputs": [
    {
     "name": "stdout",
     "output_type": "stream",
     "text": [
      "  torque angular_velocity power\n",
      "0    1.2              1.0   1.2\n",
      "1    2.0              2.0   4.0\n",
      "2    2.0              2.0   4.0\n",
      "3    3.0              3.0   9.0\n",
      "torque                                       pint[foot * force_pound]\n",
      "angular_velocity                         pint[revolutions_per_minute]\n",
      "power               pint[foot * force_pound * revolutions_per_minute]\n",
      "dtype: object\n",
      "  length width distance height depth\n",
      "0    1.0   2.0      2.0    2.0   2.0\n",
      "1    2.0   0.3      3.0    0.3   0.3\n",
      "0    1.0\n",
      "1    2.0\n",
      "Name: length, dtype: pint[meter]\n"
     ]
    },
    {
     "name": "stderr",
     "output_type": "stream",
     "text": [
      "/opt/anaconda3/lib/python3.8/site-packages/pint_pandas/pint_array.py:648: UnitStrippedWarning: The unit of the quantity is stripped when downcasting to ndarray.\n",
      "  return np.array(qtys, dtype=\"object\", copy=copy)\n",
      "/opt/anaconda3/lib/python3.8/site-packages/pint_pandas/pint_array.py:648: UnitStrippedWarning: The unit of the quantity is stripped when downcasting to ndarray.\n",
      "  return np.array(qtys, dtype=\"object\", copy=copy)\n",
      "/opt/anaconda3/lib/python3.8/site-packages/pint_pandas/pint_array.py:648: UnitStrippedWarning: The unit of the quantity is stripped when downcasting to ndarray.\n",
      "  return np.array(qtys, dtype=\"object\", copy=copy)\n"
     ]
    }
   ],
   "source": [
    "PA_ = pint_pandas.PintArray\n",
    "ureg = pint.UnitRegistry()\n",
    "Q_=ureg.Quantity\n",
    "\n",
    "df = pd.DataFrame({\n",
    "    \"torque\": pd.Series([1.2, 2, 2, 3], dtype=\"pint[lbf ft]\"),\n",
    "    \"angular_velocity\": pd.Series([1, 2., 2, 3], dtype=\"pint[rpm]\"),\n",
    "})\n",
    "df['power'] = df['torque'] * df['angular_velocity']\n",
    "print(df)\n",
    "print(df.dtypes)\n",
    "\n",
    "df.power\n",
    "\n",
    "df.power.values\n",
    "\n",
    "df.power.values.quantity\n",
    "\n",
    "df = pd.DataFrame({\n",
    "        \"length\" : pd.Series([1.,2], dtype=\"pint[m]\"),\n",
    "        \"width\" : PA_([2,.3], dtype=\"pint[m]\"),\n",
    "        \"distance\" : PA_([2.,3], dtype=\"m\"),\n",
    "        \"height\" : PA_([2,.3], dtype=ureg.m),\n",
    "        \"depth\" : PA_.from_1darray_quantity(Q_([2,.3],ureg.m)),\n",
    "    })\n",
    "print(df)\n",
    "print(df[\"length\"])"
   ]
  },
  {
   "cell_type": "code",
   "execution_count": 3,
   "metadata": {},
   "outputs": [
    {
     "name": "stdout",
     "output_type": "stream",
     "text": [
      "0    1.2\n",
      "1    2.0\n",
      "2    2.0\n",
      "3    3.0\n",
      "dtype: pint[foot * force_pound]\n"
     ]
    }
   ],
   "source": [
    "print(pd.Series([1.2, 2, 2, 3], dtype=\"pint[lbf ft]\"))"
   ]
  },
  {
   "cell_type": "code",
   "execution_count": null,
   "metadata": {},
   "outputs": [],
   "source": []
  },
  {
   "cell_type": "code",
   "execution_count": 4,
   "metadata": {},
   "outputs": [
    {
     "data": {
      "text/html": [
       "<table><tbody><tr><th>Magnitude</th><td style='text-align:left;'><pre>[2.0 0.3]</pre></td></tr><tr><th>Units</th><td style='text-align:left;'>meter</td></tr></tbody></table>"
      ],
      "text/latex": [
       "$\\begin{pmatrix}2.0 & 0.3\\end{pmatrix}\\ \\mathrm{meter}$"
      ],
      "text/plain": [
       "array([2. , 0.3]) <Unit('meter')>"
      ]
     },
     "execution_count": 4,
     "metadata": {},
     "output_type": "execute_result"
    }
   ],
   "source": [
    "Q_([2,.3],ureg.m)"
   ]
  },
  {
   "cell_type": "code",
   "execution_count": 5,
   "metadata": {},
   "outputs": [
    {
     "name": "stderr",
     "output_type": "stream",
     "text": [
      "/opt/anaconda3/lib/python3.8/site-packages/pandas/core/dtypes/cast.py:1302: UnitStrippedWarning: The unit of the quantity is stripped when downcasting to ndarray.\n",
      "  v = np.array(v, copy=False)\n",
      "/opt/anaconda3/lib/python3.8/site-packages/pandas/core/dtypes/cast.py:1672: UnitStrippedWarning: The unit of the quantity is stripped when downcasting to ndarray.\n",
      "  subarr = np.array(values, dtype=dtype, copy=copy)\n"
     ]
    },
    {
     "data": {
      "text/plain": [
       "0    4.0\n",
       "1    0.6\n",
       "dtype: float64"
      ]
     },
     "execution_count": 5,
     "metadata": {},
     "output_type": "execute_result"
    }
   ],
   "source": [
    "a = pd.Series(Q_([2,.3],ureg.m)) # downcast to float\n",
    "b = pd.Series(Q_([2,.3],ureg.m), dtype=\"pint[m]\") # ok\n",
    "#pd.Series(Q_([2,.3],ureg.m), dtype=\"pint[s]\") # fails to convert units\n",
    "a + a"
   ]
  },
  {
   "cell_type": "code",
   "execution_count": null,
   "metadata": {},
   "outputs": [],
   "source": []
  },
  {
   "cell_type": "code",
   "execution_count": 6,
   "metadata": {},
   "outputs": [
    {
     "data": {
      "text/html": [
       "<div>\n",
       "<style scoped>\n",
       "    .dataframe tbody tr th:only-of-type {\n",
       "        vertical-align: middle;\n",
       "    }\n",
       "\n",
       "    .dataframe tbody tr th {\n",
       "        vertical-align: top;\n",
       "    }\n",
       "\n",
       "    .dataframe thead th {\n",
       "        text-align: right;\n",
       "    }\n",
       "</style>\n",
       "<table border=\"1\" class=\"dataframe\">\n",
       "  <thead>\n",
       "    <tr style=\"text-align: right;\">\n",
       "      <th></th>\n",
       "      <th>test</th>\n",
       "    </tr>\n",
       "  </thead>\n",
       "  <tbody>\n",
       "    <tr>\n",
       "      <th>0</th>\n",
       "      <td>2.0</td>\n",
       "    </tr>\n",
       "    <tr>\n",
       "      <th>1</th>\n",
       "      <td>0.3</td>\n",
       "    </tr>\n",
       "  </tbody>\n",
       "</table>\n",
       "</div>"
      ],
      "text/plain": [
       "   test\n",
       "0   2.0\n",
       "1   0.3"
      ]
     },
     "execution_count": 6,
     "metadata": {},
     "output_type": "execute_result"
    }
   ],
   "source": [
    "df = pd.DataFrame({\n",
    "    \"test\":Q_([2,.3],ureg.m),\n",
    "})\n",
    "df"
   ]
  },
  {
   "cell_type": "code",
   "execution_count": 10,
   "metadata": {},
   "outputs": [
    {
     "name": "stdout",
     "output_type": "stream",
     "text": [
      "[2 3] meter\n"
     ]
    }
   ],
   "source": [
    "a = [2,3]*ureg.m\n",
    "print(a)"
   ]
  },
  {
   "cell_type": "code",
   "execution_count": 11,
   "metadata": {},
   "outputs": [
    {
     "name": "stderr",
     "output_type": "stream",
     "text": [
      "/opt/anaconda3/lib/python3.8/site-packages/pandas/core/dtypes/cast.py:1302: UnitStrippedWarning: The unit of the quantity is stripped when downcasting to ndarray.\n",
      "  v = np.array(v, copy=False)\n",
      "/opt/anaconda3/lib/python3.8/site-packages/pandas/core/dtypes/cast.py:1672: UnitStrippedWarning: The unit of the quantity is stripped when downcasting to ndarray.\n",
      "  subarr = np.array(values, dtype=dtype, copy=copy)\n"
     ]
    },
    {
     "data": {
      "text/plain": [
       "0    2\n",
       "1    3\n",
       "dtype: int64"
      ]
     },
     "execution_count": 11,
     "metadata": {},
     "output_type": "execute_result"
    }
   ],
   "source": [
    "pd.Series(a)"
   ]
  },
  {
   "cell_type": "code",
   "execution_count": null,
   "metadata": {},
   "outputs": [],
   "source": []
  }
 ],
 "metadata": {
  "kernelspec": {
   "display_name": "Python 3",
   "language": "python",
   "name": "python3"
  },
  "language_info": {
   "codemirror_mode": {
    "name": "ipython",
    "version": 3
   },
   "file_extension": ".py",
   "mimetype": "text/x-python",
   "name": "python",
   "nbconvert_exporter": "python",
   "pygments_lexer": "ipython3",
   "version": "3.8.5"
  }
 },
 "nbformat": 4,
 "nbformat_minor": 4
}
