{
 "cells": [
  {
   "cell_type": "code",
   "execution_count": null,
   "metadata": {},
   "outputs": [],
   "source": []
  },
  {
   "cell_type": "code",
   "execution_count": 1,
   "metadata": {},
   "outputs": [],
   "source": [
    "import physipy\n",
    "from physipy import m, s, DimensionError\n",
    "\n",
    "import numpy as np\n",
    "import pandas as pd\n",
    "\n",
    "from physipandas import QuantityDtype, QuantityArray"
   ]
  },
  {
   "cell_type": "code",
   "execution_count": 2,
   "metadata": {},
   "outputs": [
    {
     "data": {
      "text/plain": [
       "<property at 0x118361ea0>"
      ]
     },
     "execution_count": 2,
     "metadata": {},
     "output_type": "execute_result"
    }
   ],
   "source": [
    "QuantityDtype.name"
   ]
  },
  {
   "cell_type": "code",
   "execution_count": 3,
   "metadata": {},
   "outputs": [
    {
     "name": "stdout",
     "output_type": "stream",
     "text": [
      "New dtype with :1 m\n",
      "unit is 1 m <class 'physipy.quantity.quantity.Quantity'>\n"
     ]
    },
    {
     "data": {
      "text/plain": [
       "'physipy[m]'"
      ]
     },
     "execution_count": 3,
     "metadata": {},
     "output_type": "execute_result"
    }
   ],
   "source": [
    "QuantityDtype(m).name"
   ]
  },
  {
   "cell_type": "code",
   "execution_count": 4,
   "metadata": {},
   "outputs": [
    {
     "name": "stdout",
     "output_type": "stream",
     "text": [
      "trying to parse  physipy[m]\n",
      "_parsing_dtype_struct with  physipy[m]\n",
      "parsed into quantity : 1 m\n",
      "actual unit  1 m\n",
      "New dtype with :1 m\n",
      "unit is 1 m <class 'physipy.quantity.quantity.Quantity'>\n",
      "trying to parse  physipy[m]\n",
      "_parsing_dtype_struct with  physipy[m]\n",
      "parsed into quantity : 1 m\n",
      "actual unit  1 m\n",
      "New dtype with :1 m\n",
      "unit is 1 m <class 'physipy.quantity.quantity.Quantity'>\n",
      "Constructing QuantityArray with  [1] dtype= physipy[m]\n",
      "New dtype with :1 \n",
      "unit is 1 <class 'physipy.quantity.quantity.Quantity'>\n",
      "into QArray__array__ with dtypeNone\n"
     ]
    },
    {
     "name": "stderr",
     "output_type": "stream",
     "text": [
      "/Users/mocquin/MYLIB10/MODULES/physipy/physipy/quantity/quantity.py:656: UserWarning: The unit of the quantity is stripped.\n",
      "  warnings.warn(\"The unit of the quantity is stripped.\")\n"
     ]
    },
    {
     "data": {
      "text/plain": [
       "0   1\n",
       "dtype: physipy[]"
      ]
     },
     "execution_count": 4,
     "metadata": {},
     "output_type": "execute_result"
    }
   ],
   "source": [
    "pd.Series([1]*m).astype(\"physipy[m]\")"
   ]
  },
  {
   "cell_type": "code",
   "execution_count": 5,
   "metadata": {},
   "outputs": [],
   "source": [
    "import physipy\n",
    "from physipy import m, s, DimensionError\n",
    "\n",
    "import numpy as np\n",
    "import pandas as pd\n",
    "\n",
    "from physipandas import QuantityDtype, QuantityArray"
   ]
  },
  {
   "cell_type": "markdown",
   "metadata": {},
   "source": [
    "# This works"
   ]
  },
  {
   "cell_type": "code",
   "execution_count": 6,
   "metadata": {},
   "outputs": [
    {
     "name": "stdout",
     "output_type": "stream",
     "text": [
      "trying to parse  physipy[m]\n",
      "_parsing_dtype_struct with  physipy[m]\n",
      "parsed into quantity : 1 m\n",
      "actual unit  1 m\n",
      "New dtype with :1 m\n",
      "unit is 1 m <class 'physipy.quantity.quantity.Quantity'>\n",
      "Constructing QuantityArray with  [2 3 4 5 6 7 8 9] m dtype= physipy[m]\n",
      "New dtype with :1 m\n",
      "unit is 1 m <class 'physipy.quantity.quantity.Quantity'>\n",
      "New dtype with :1 m\n",
      "unit is 1 m <class 'physipy.quantity.quantity.Quantity'>\n",
      "Constructing QuantityArray with  [2 3 4 5 6 7 8 9] m dtype= physipy[m]\n",
      "New dtype with :1 m\n",
      "unit is 1 m <class 'physipy.quantity.quantity.Quantity'>\n",
      "Constructing QuantityArray with  [2 3 4 5 6 7 8 9] m dtype= None\n",
      "QuantityArray: dtype is None, using values SI unitary quantity 1 m\n",
      "New dtype with :1 m\n",
      "unit is 1 m <class 'physipy.quantity.quantity.Quantity'>\n",
      "in getitiem\n",
      "in getitiem\n",
      "in getitiem\n",
      "in getitiem\n",
      "in getitiem\n",
      "in getitiem\n",
      "in getitiem\n",
      "in getitiem\n",
      "<QuantityArray>\n",
      "[2 m, 3 m, 4 m, 5 m, 6 m, 7 m, 8 m, 9 m]\n",
      "Length: 8, dtype: physipy[m]\n",
      "Constructing QuantityArray with  [2 3 4 5 6 7 8 9] s dtype= None\n",
      "QuantityArray: dtype is None, using values SI unitary quantity 1 s\n",
      "New dtype with :1 s\n",
      "unit is 1 s <class 'physipy.quantity.quantity.Quantity'>\n",
      "0    True\n",
      "1    True\n",
      "2    True\n",
      "3    True\n",
      "4    True\n",
      "5    True\n",
      "6    True\n",
      "7    True\n",
      "dtype: bool\n",
      "in getitiem\n",
      "<class 'physipy.quantity.quantity.Quantity'>\n",
      "in getitiem\n",
      "2 m\n",
      "into QArray__array__ with dtypeNone\n",
      "0   2\n",
      "1   3\n",
      "2   4\n",
      "3   5\n",
      "4   6\n",
      "5   7\n",
      "6   8\n",
      "7   9\n",
      "dtype: physipy[m]\n",
      "into QArray__array__ with dtypeNone\n",
      "0   2\n",
      "1   3\n",
      "2   4\n",
      "3   5\n",
      "4   6\n",
      "5   7\n",
      "6   8\n",
      "7   9\n",
      "dtype: physipy[m]\n",
      "in from_1darray_quantity\n",
      "Constructing QuantityArray with  [ 4  6  8 10 12 14 16 18] m dtype= None\n",
      "QuantityArray: dtype is None, using values SI unitary quantity 1 m\n",
      "New dtype with :1 m\n",
      "unit is 1 m <class 'physipy.quantity.quantity.Quantity'>\n",
      "into QArray__array__ with dtypeNone\n",
      "0    4\n",
      "1    6\n",
      "2    8\n",
      "3   10\n",
      "4   12\n",
      "5   14\n",
      "6   16\n",
      "7   18\n",
      "dtype: physipy[m]\n",
      "in getitiem\n",
      "4 m\n",
      "in getitiem\n",
      "Constructing QuantityArray with  [4 5 6] m dtype= physipy[m]\n",
      "New dtype with :1 m\n",
      "unit is 1 m <class 'physipy.quantity.quantity.Quantity'>\n",
      "into QArray__array__ with dtypeNone\n",
      "2   4\n",
      "3   5\n",
      "4   6\n",
      "dtype: physipy[m]\n",
      "in getitiem\n",
      "3 m\n",
      "in getitiem\n",
      "Constructing QuantityArray with  [3 4] m dtype= physipy[m]\n",
      "New dtype with :1 m\n",
      "unit is 1 m <class 'physipy.quantity.quantity.Quantity'>\n",
      "into QArray__array__ with dtypeNone\n",
      "1   3\n",
      "2   4\n",
      "dtype: physipy[m]\n"
     ]
    }
   ],
   "source": [
    "#a = pd.Series(np.arange(2, 10)*m, \n",
    "#              dtype=QuantityDtype(m))\n",
    "\n",
    "a = pd.Series(np.arange(2, 10)*m, \n",
    "              dtype=\"physipy[m]\")\n",
    "\n",
    "b = pd.Series(np.arange(2, 10)*m, \n",
    "              dtype=QuantityDtype(m))\n",
    "\n",
    "\n",
    "cc = QuantityArray(np.arange(2, 10)*m)\n",
    "print(cc)\n",
    "\n",
    "c = pd.Series(cc)\n",
    "d = pd.Series(QuantityArray(np.arange(2, 10)*s))\n",
    "print(a == b)\n",
    "\n",
    "print(type(a[0]))\n",
    "print(a[0])\n",
    "print(a)\n",
    "print(b)\n",
    "\n",
    "print(a+b)\n",
    "\n",
    "print(a[2])\n",
    "print(a[2:5])\n",
    "print(a.iloc[1])\n",
    "print(a.iloc[1:3])\n",
    "\n",
    "#df = pd.DataFrame({\"a\":QuantityArray(a), \n",
    "#                   \"b\":QuantityArray(b)})\n",
    "#df"
   ]
  },
  {
   "cell_type": "code",
   "execution_count": 7,
   "metadata": {},
   "outputs": [
    {
     "name": "stdout",
     "output_type": "stream",
     "text": [
      "into QArray__array__ with dtypeNone\n",
      "0   2\n",
      "1   3\n",
      "2   4\n",
      "3   5\n",
      "4   6\n",
      "5   7\n",
      "6   8\n",
      "7   9\n",
      "Name: a, dtype: physipy[m]\n",
      "L\n",
      "into QArray__array__ with dtypeNone\n",
      "0   2\n",
      "1   3\n",
      "2   4\n",
      "3   5\n",
      "4   6\n",
      "5   7\n",
      "6   8\n",
      "7   9\n",
      "Name: b, dtype: physipy[s]\n"
     ]
    }
   ],
   "source": [
    "df = pd.DataFrame({\"a\":c, \"b\":d})\n",
    "\n",
    "print(df[\"a\"])\n",
    "print(df[\"a\"].values.dimension)\n",
    "print(df[\"b\"])"
   ]
  },
  {
   "cell_type": "code",
   "execution_count": 8,
   "metadata": {},
   "outputs": [
    {
     "name": "stdout",
     "output_type": "stream",
     "text": [
      "in from_1darray_quantity\n",
      "Constructing QuantityArray with  [ 4  9 16 25 36 49 64 81] m*s dtype= None\n",
      "QuantityArray: dtype is None, using values SI unitary quantity 1 m*s\n",
      "New dtype with :1 m*s\n",
      "unit is 1 m*s <class 'physipy.quantity.quantity.Quantity'>\n",
      "into QArray__array__ with dtypeNone\n",
      "0    4\n",
      "1    9\n",
      "2   16\n",
      "3   25\n",
      "4   36\n",
      "5   49\n",
      "6   64\n",
      "7   81\n",
      "dtype: physipy[m*s]\n",
      "<class 'pandas.core.series.Series'>\n",
      "physipy[m*s]\n",
      "\n",
      "copy quantityarray\n",
      "Constructing QuantityArray with  [ 4  9 16 25 36 49 64 81] dtype= None\n",
      "QuantityArray: dtype is None, using values SI unitary quantity 1 \n",
      "New dtype with :1 \n",
      "unit is 1 <class 'physipy.quantity.quantity.Quantity'>\n"
     ]
    },
    {
     "data": {
      "text/latex": [
       "$1$"
      ],
      "text/plain": [
       "<Dimension : {'L': 0, 'M': 0, 'T': 0, 'I': 0, 'theta': 0, 'N': 0, 'J': 0, 'RAD': 0, 'SR': 0}>"
      ]
     },
     "execution_count": 8,
     "metadata": {},
     "output_type": "execute_result"
    }
   ],
   "source": [
    "res = df[\"a\"]*df[\"b\"]\n",
    "print(res)\n",
    "print(type(res))\n",
    "print(res.dtype)\n",
    "print()\n",
    "df[\"c\"] = res\n",
    "df[\"c\"].values.dimension"
   ]
  },
  {
   "cell_type": "markdown",
   "metadata": {},
   "source": [
    "# This works : should fail and does"
   ]
  },
  {
   "cell_type": "code",
   "execution_count": 9,
   "metadata": {},
   "outputs": [
    {
     "name": "stdout",
     "output_type": "stream",
     "text": [
      "New dtype with :1 s\n",
      "unit is 1 s <class 'physipy.quantity.quantity.Quantity'>\n",
      "Constructing QuantityArray with  [0 1 2 3 4 5 6 7 8 9] m dtype= physipy[s]\n",
      "New dtype with :1 m\n",
      "unit is 1 m <class 'physipy.quantity.quantity.Quantity'>\n",
      "--\n",
      "<class 'physipy.quantity.quantity.Quantity'>\n",
      "0 m\n"
     ]
    }
   ],
   "source": [
    "try:\n",
    "    a=pd.Series(np.arange(10)*m,\n",
    "            dtype=QuantityDtype(s))\n",
    "    print(\"--\")\n",
    "    print(type(a[0]))\n",
    "    print((a[0]))\n",
    "except DimensionError as e:\n",
    "    print(e)\n",
    "    print(\"OK : trying to set second to m\")"
   ]
  },
  {
   "cell_type": "markdown",
   "metadata": {},
   "source": [
    "# This fails : should be 0 m"
   ]
  },
  {
   "cell_type": "code",
   "execution_count": 10,
   "metadata": {},
   "outputs": [
    {
     "name": "stdout",
     "output_type": "stream",
     "text": [
      "New dtype with :None\n",
      "unit is 1 <class 'physipy.quantity.quantity.Quantity'>\n",
      "Constructing QuantityArray with  [0 1 2 3 4 5 6 7 8 9] m dtype= physipy[]\n",
      "New dtype with :1 m\n",
      "unit is 1 m <class 'physipy.quantity.quantity.Quantity'>\n",
      "0 m\n"
     ]
    }
   ],
   "source": [
    "a = pd.Series(np.arange(10)*m,\n",
    "            dtype=QuantityDtype())\n",
    "print(a[0])"
   ]
  },
  {
   "cell_type": "markdown",
   "metadata": {},
   "source": [
    "# Should this work ?"
   ]
  },
  {
   "cell_type": "code",
   "execution_count": 11,
   "metadata": {},
   "outputs": [
    {
     "name": "stdout",
     "output_type": "stream",
     "text": [
      "New dtype with :1 s\n",
      "unit is 1 s <class 'physipy.quantity.quantity.Quantity'>\n",
      "Constructing QuantityArray with  [0 1 2 3 4 5 6 7 8 9] dtype= physipy[s]\n",
      "New dtype with :1 \n",
      "unit is 1 <class 'physipy.quantity.quantity.Quantity'>\n",
      "<class 'physipy.quantity.quantity.Quantity'>\n",
      "0\n",
      "no-dimension\n"
     ]
    }
   ],
   "source": [
    "a=pd.Series(np.arange(10), \n",
    "            dtype=QuantityDtype(s))\n",
    "print(type(a[0]))\n",
    "print(a[0])\n",
    "print(a.values.dimension)"
   ]
  },
  {
   "cell_type": "code",
   "execution_count": 12,
   "metadata": {},
   "outputs": [
    {
     "name": "stdout",
     "output_type": "stream",
     "text": [
      "<class 'numpy.int64'>\n",
      "0\n",
      "0    0\n",
      "1    1\n",
      "2    2\n",
      "3    3\n",
      "4    4\n",
      "5    5\n",
      "6    6\n",
      "7    7\n",
      "8    8\n",
      "9    9\n",
      "dtype: int64\n"
     ]
    }
   ],
   "source": [
    "a=pd.Series(np.arange(10)*m)\n",
    "print(type(a[0]))\n",
    "print((a[0]))\n",
    "print(a)"
   ]
  },
  {
   "cell_type": "code",
   "execution_count": null,
   "metadata": {},
   "outputs": [],
   "source": []
  },
  {
   "cell_type": "code",
   "execution_count": null,
   "metadata": {},
   "outputs": [],
   "source": []
  },
  {
   "cell_type": "code",
   "execution_count": null,
   "metadata": {},
   "outputs": [],
   "source": []
  },
  {
   "cell_type": "code",
   "execution_count": 13,
   "metadata": {},
   "outputs": [
    {
     "data": {
      "text/plain": [
       "0    a\n",
       "1    b\n",
       "2    c\n",
       "3    a\n",
       "dtype: category\n",
       "Categories (3, object): ['a', 'b', 'c']"
      ]
     },
     "execution_count": 13,
     "metadata": {},
     "output_type": "execute_result"
    }
   ],
   "source": [
    "s = pd.Series([\"a\", \"b\", \"c\", \"a\"], dtype=\"category\")\n",
    "s"
   ]
  },
  {
   "cell_type": "code",
   "execution_count": 16,
   "metadata": {},
   "outputs": [
    {
     "data": {
      "text/plain": [
       "0    a\n",
       "1    b\n",
       "2    c\n",
       "3    a\n",
       "dtype: object"
      ]
     },
     "execution_count": 16,
     "metadata": {},
     "output_type": "execute_result"
    }
   ],
   "source": [
    "pd.Series([\"a\", \"b\", \"c\", \"a\"])"
   ]
  },
  {
   "cell_type": "code",
   "execution_count": null,
   "metadata": {},
   "outputs": [],
   "source": []
  },
  {
   "cell_type": "code",
   "execution_count": 11,
   "metadata": {},
   "outputs": [
    {
     "data": {
      "text/plain": [
       "\u001b[0;31mSignature:\u001b[0m \u001b[0mregister_extension_dtype\u001b[0m\u001b[0;34m(\u001b[0m\u001b[0mcls\u001b[0m\u001b[0;34m:\u001b[0m \u001b[0mType\u001b[0m\u001b[0;34m[\u001b[0m\u001b[0mpandas\u001b[0m\u001b[0;34m.\u001b[0m\u001b[0mcore\u001b[0m\u001b[0;34m.\u001b[0m\u001b[0mdtypes\u001b[0m\u001b[0;34m.\u001b[0m\u001b[0mbase\u001b[0m\u001b[0;34m.\u001b[0m\u001b[0mExtensionDtype\u001b[0m\u001b[0;34m]\u001b[0m\u001b[0;34m)\u001b[0m \u001b[0;34m->\u001b[0m \u001b[0mType\u001b[0m\u001b[0;34m[\u001b[0m\u001b[0mpandas\u001b[0m\u001b[0;34m.\u001b[0m\u001b[0mcore\u001b[0m\u001b[0;34m.\u001b[0m\u001b[0mdtypes\u001b[0m\u001b[0;34m.\u001b[0m\u001b[0mbase\u001b[0m\u001b[0;34m.\u001b[0m\u001b[0mExtensionDtype\u001b[0m\u001b[0;34m]\u001b[0m\u001b[0;34m\u001b[0m\u001b[0;34m\u001b[0m\u001b[0m\n",
       "\u001b[0;31mDocstring:\u001b[0m\n",
       "Register an ExtensionType with pandas as class decorator.\n",
       "\n",
       ".. versionadded:: 0.24.0\n",
       "\n",
       "This enables operations like ``.astype(name)`` for the name\n",
       "of the ExtensionDtype.\n",
       "\n",
       "Returns\n",
       "-------\n",
       "callable\n",
       "    A class decorator.\n",
       "\n",
       "Examples\n",
       "--------\n",
       ">>> from pandas.api.extensions import register_extension_dtype\n",
       ">>> from pandas.api.extensions import ExtensionDtype\n",
       ">>> @register_extension_dtype\n",
       "... class MyExtensionDtype(ExtensionDtype):\n",
       "...     name = \"myextension\"\n",
       "\u001b[0;31mFile:\u001b[0m      /opt/anaconda3/lib/python3.8/site-packages/pandas/core/dtypes/base.py\n",
       "\u001b[0;31mType:\u001b[0m      function\n"
      ]
     },
     "metadata": {},
     "output_type": "display_data"
    }
   ],
   "source": [
    "from pandas.api.extensions import register_extension_dtype\n",
    "\n",
    "register_extension_dtype?"
   ]
  },
  {
   "cell_type": "code",
   "execution_count": null,
   "metadata": {},
   "outputs": [],
   "source": []
  }
 ],
 "metadata": {
  "kernelspec": {
   "display_name": "Python 3",
   "language": "python",
   "name": "python3"
  },
  "language_info": {
   "codemirror_mode": {
    "name": "ipython",
    "version": 3
   },
   "file_extension": ".py",
   "mimetype": "text/x-python",
   "name": "python",
   "nbconvert_exporter": "python",
   "pygments_lexer": "ipython3",
   "version": "3.8.5"
  }
 },
 "nbformat": 4,
 "nbformat_minor": 4
}
